{
 "cells": [
  {
   "cell_type": "code",
   "execution_count": null,
   "metadata": {},
   "outputs": [],
   "source": [
    "import networkx as nx\n",
    "from networkx import DiGraph\n",
    "from typing import *"
   ]
  },
  {
   "cell_type": "markdown",
   "metadata": {},
   "source": [
    "# Result Set\n",
    "The **Matcher** finds a list of mappings from LHS-pattern nodes' names to actual nodes' names. Each mapping represents a single match. Next, we convert this list of mappings into a ResultSet, a subview of the original graph, which allows users to get and set the attributes of the nodes and edges included in each match. Users also use this structure in the \"condition\" and \"apply\" parameters, in order to filter matches and specify appropriate RHSs, depending on the specific attribute values found in every match. We will eventually return this ResultSet to the user when rewrite is done, in order to allow imperative side effect as well as imperative changes to the graph."
   ]
  },
  {
   "cell_type": "markdown",
   "metadata": {},
   "source": [
    "### Edge names\n",
    "Edge (u,v) is represented in the ResultSet with the name \"u->v\"."
   ]
  },
  {
   "cell_type": "code",
   "execution_count": null,
   "metadata": {},
   "outputs": [],
   "source": [
    "def convert_to_edge_name(src: Hashable, dest: Hashable) -> str:\n",
    "    # return f\"{src}->{dest}\"\n",
    "    pass"
   ]
  },
  {
   "cell_type": "markdown",
   "metadata": {},
   "source": [
    "## Type Definitions"
   ]
  },
  {
   "cell_type": "markdown",
   "metadata": {},
   "source": [
    "### Match\n",
    "A **Match** is a subview of the original graph, limited to the nodes, edges and attributes specified in the pattern. It includes the original graph, dictionaries which map nodes\\edges to their related attributes in the pattern, and the mapping from pattern nodes to real ones."
   ]
  },
  {
   "cell_type": "code",
   "execution_count": null,
   "metadata": {},
   "outputs": [],
   "source": [
    "class Match:\n",
    "    def __init__(self, graph: DiGraph, nodes: Dict[str, List], edges: Dict[str, List], mapping: Dict[str, Hashable]):\n",
    "        # self.graph = graph\n",
    "        # self.nodes = nodes\n",
    "        # self.edges = edges\n",
    "        # self.mapping = mapping\n",
    "        pass\n",
    "\n",
    "    class DoesNotExist(Exception):\n",
    "        pass\n",
    "\n",
    "    def __get_node(self, pattern_node):\n",
    "        # return self.graph.nodes[self.mapping[pattern_node]]\n",
    "        pass\n",
    "\n",
    "    def __get_edge(self, pattern_src, pattern_dst):\n",
    "        # return self.graph.edges[self.mapping[pattern_src], self.mapping[pattern_dst]]\n",
    "        pass\n",
    "\n",
    "    def get_nodes(self):\n",
    "        # return {pattern_node: self.__get_node(pattern_node) for pattern_node in self.nodes}\n",
    "        pass\n",
    "\n",
    "    def get_edges(self):\n",
    "        # return {convert_to_edge_name(pattern_src, pattern_dest): self.__get_edge(pattern_src, pattern_dest) for (pattern_src, pattern_dest) in self.edges}\n",
    "        pass\n",
    "\n",
    "    def __getitem__(self, key: Hashable):\n",
    "        # try:\n",
    "        #     if str(key).__contains__(\"->\") and len(str(key).split) == 2:\n",
    "        #         end_nodes = str(key).split(\"->\")\n",
    "        #         return self.__get_edge(end_nodes[0], end_nodes[1])\n",
    "        #     else:\n",
    "        #         return self.__get_node(key)\n",
    "        # except:\n",
    "        #     raise self.DoesNotExist\n",
    "        pass"
   ]
  },
  {
   "cell_type": "markdown",
   "metadata": {},
   "source": [
    "### ResultSet\n",
    "A **ResultSet** contains all matches."
   ]
  },
  {
   "cell_type": "code",
   "execution_count": null,
   "metadata": {},
   "outputs": [],
   "source": [
    "class ResultSet:\n",
    "    def __init__(self, matches: List[Match]):\n",
    "        # self.matches = matches\n",
    "        pass\n",
    "\n",
    "    def __getitem__(self, index: int):\n",
    "        # return self.matches[index]\n",
    "        pass"
   ]
  },
  {
   "cell_type": "markdown",
   "metadata": {},
   "source": [
    "## Convert list of mappings to a ResultSet"
   ]
  },
  {
   "cell_type": "code",
   "execution_count": null,
   "metadata": {},
   "outputs": [],
   "source": [
    "def mapping_to_match(input: DiGraph, pattern: DiGraph, mapping: Dict[str, Hashable]) -> Match:\n",
    "    # initialize nodes_list and edges_list, empty dictionaries\n",
    "    # initialize cleared_mapping as a copy of mapping\n",
    "\n",
    "    # for pattern_node in mapping.keys:\n",
    "    #   if pattern_node is anonymous (has a special name defined in Parser):\n",
    "    #       remove key pattern_node from cleared_mapping\n",
    "    #       continue, as we don't want to include it in the Match\n",
    "    #   wanted_attr = list of names of attributes referenced for pattern_node in pattern\n",
    "    #   nodes_list[pattern_node] = wanted_attr\n",
    "\n",
    "    # for pattern edge (n1, n2) in pattern.edges:\n",
    "    #   if n1 or n2 is anonymous:\n",
    "    #       continue, as before\n",
    "    #   wanted_attr = list of names of attributes references for pattern edge (n1, n2) in pattern\n",
    "    #   edges_list[convert_to_edge_name(n1, n2)] = cur_attr_dict\n",
    "\n",
    "    # return Match(input, nodes_list, edges_list, cleared_mapping)\n",
    "    pass"
   ]
  },
  {
   "cell_type": "code",
   "execution_count": null,
   "metadata": {},
   "outputs": [],
   "source": [
    "def mappings_to_results_set(input: DiGraph, mappings: List[Tuple[Dict[str, Hashable], DiGraph]]) -> ResultSet:\n",
    "    # initialize matches, an empty list\n",
    "\n",
    "    # for (mapping, pattern) in mappings:\n",
    "    #   match = mapping_to_match(input, pattern, mapping)\n",
    "    #   append match to matches\n",
    "\n",
    "    # return ResultSet(matches)S\n",
    "    pass"
   ]
  }
 ],
 "metadata": {
  "kernelspec": {
   "display_name": "Python 3.6.3 64-bit",
   "language": "python",
   "name": "python3"
  },
  "language_info": {
   "codemirror_mode": {
    "name": "ipython",
    "version": 3
   },
   "file_extension": ".py",
   "mimetype": "text/x-python",
   "name": "python",
   "nbconvert_exporter": "python",
   "pygments_lexer": "ipython3",
   "version": "3.6.3"
  },
  "orig_nbformat": 4,
  "vscode": {
   "interpreter": {
    "hash": "f4e9cda46bb2d9d7fe6ecdff0f8336a934348bf06cb492f2f42f60739b3403b4"
   }
  }
 },
 "nbformat": 4,
 "nbformat_minor": 2
}
