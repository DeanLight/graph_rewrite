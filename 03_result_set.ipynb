{
 "cells": [
  {
   "cell_type": "code",
   "execution_count": 1,
   "metadata": {},
   "outputs": [],
   "source": [
    "import networkx as nx\n",
    "from networkx import DiGraph\n",
    "from typing import *"
   ]
  },
  {
   "cell_type": "markdown",
   "metadata": {},
   "source": [
    "# Result Set\n",
    "The **Matcher** finds a list of mappings from LHS-pattern nodes' names to actual nodes' names. Each mapping represents a single match. Next, we convert each of these name mappings into a read-only dictionary which represents the corresponding match in the actual input graph, and allows the user to read the actual values found in that match. This is done in order to server two main targets:\n",
    "1. The \"condition\" and \"apply\" parameters in the rewrite functions use this dictionary in order to filter matches and specify appropriate RHSs, depending on the specific attribute values found in every match.\n",
    "2. We will eventually return this dictionary to the user when rewrite is node, in order to allow imperative side effects inside the user's original code."
   ]
  },
  {
   "cell_type": "markdown",
   "metadata": {},
   "source": [
    "## Type Definitions"
   ]
  },
  {
   "cell_type": "markdown",
   "metadata": {},
   "source": [
    "### Match\n",
    "A **Match** is a dictionary whose keys are nodes/edges names which correspond to the named nodes/edges in the LHS template, and whose values are a dictionary of attributes that each of these nodes/edges has in the original networkx-subgraph."
   ]
  },
  {
   "cell_type": "code",
   "execution_count": 10,
   "metadata": {},
   "outputs": [],
   "source": [
    "Match = Dict[Hashable, Dict]"
   ]
  },
  {
   "cell_type": "markdown",
   "metadata": {},
   "source": [
    "### ResultSet\n",
    "A **ResultSet** is a tuple of two lists, one for nodes and one for edges. Each list consists of Matches (indices of both lists are coordinated).\n",
    "\n",
    "When rewrite is done, it returns a single **ResultSet**."
   ]
  },
  {
   "cell_type": "code",
   "execution_count": 9,
   "metadata": {},
   "outputs": [],
   "source": [
    "ResultSet = Tuple[List[Match], List[Match]]"
   ]
  },
  {
   "cell_type": "markdown",
   "metadata": {},
   "source": [
    "### Convert a single mapping into two Match instances\n",
    "Receives the input graph, the pattern graph and a single mapping (found by Matcher), from nodes\\edges pattern names to nodes\\edges actual input names. It converts it into two instances of Match, one for nodes and one for edges."
   ]
  },
  {
   "cell_type": "code",
   "execution_count": 14,
   "metadata": {},
   "outputs": [],
   "source": [
    "def mapping_to_match(input: DiGraph, pattern: DiGraph, mapping: Dict[Hashable, Hashable]) -> Tuple[Match, Match]:\n",
    "    # initialize nodes_match and edges_match, empty dictionaries\n",
    "\n",
    "    # for pattern_node in mapping.keys:\n",
    "    #   if pattern_node is anonymous (has a special name defined in Parser):\n",
    "    #       continue, as we don't want to include it in the Match\n",
    "    #   actual_attr = dict from attributes to values, of node mapping[pattern_node] in input\n",
    "    #   wanted_attr = names of attributes referenced for pattern_node in pattern\n",
    "    #   initialize cur_attr_dict, an empty dictionary\n",
    "    #   for attr in wanted_attr:\n",
    "    #       cur_attr_dict[attr] = actual_attr[attr]\n",
    "    #   nodes_match[pattern_node] = cur_attr_dict\n",
    "\n",
    "    # for pattern edge (n1, n2) in pattern.edges:\n",
    "    #   if n1 or n2 is unnamed:\n",
    "    #       continue, as before\n",
    "    #   actual_attr = dict from attributes to values, of edge (mapping[n1], mapping[n2]) in input\n",
    "    #   wanted_attr = names of attributes references for pattern edge (n1, n2) in pattern\n",
    "    #   initialize cur_attr_dict, an empty dictionary\n",
    "    #   for attr in wanted_attr:\n",
    "    #       cur_attr_dict[attr] = actual_attr[attr]\n",
    "    #   edges_match[(n1, n2)] = cur_attr_dict\n",
    "\n",
    "    # return (nodes_match, edges_match)\n",
    "    pass"
   ]
  },
  {
   "cell_type": "markdown",
   "metadata": {},
   "source": [
    "### Convert a list of mappings into a ResultSet\n",
    "Recieves the input graph, the pattern graph and a list of mappings (output of Matcher's find_matches function), and converts it into a ResultSet instance."
   ]
  },
  {
   "cell_type": "code",
   "execution_count": 13,
   "metadata": {},
   "outputs": [],
   "source": [
    "def mappings_to_results_set(input: DiGraph, pattern: DiGraph, mappings: List[Dict[Hashable, Hashable]]) -> ResultSet:\n",
    "    # initialize nodes_matches and edges_matches, empty lists\n",
    "\n",
    "    # for mapping in mappings:\n",
    "    #   cur_node_match, cur_edge_match = mapping_to_match(input, pattern, mapping)\n",
    "    #   append cur_node_match to nodes_matches\n",
    "    #   append cur_edge_match to edges_matches\n",
    "\n",
    "    # return (nodes_matches, edges_matches)\n",
    "    pass"
   ]
  }
 ],
 "metadata": {
  "kernelspec": {
   "display_name": "Python 3.6.3 64-bit",
   "language": "python",
   "name": "python3"
  },
  "language_info": {
   "codemirror_mode": {
    "name": "ipython",
    "version": 3
   },
   "file_extension": ".py",
   "mimetype": "text/x-python",
   "name": "python",
   "nbconvert_exporter": "python",
   "pygments_lexer": "ipython3",
   "version": "3.6.3"
  },
  "orig_nbformat": 4,
  "vscode": {
   "interpreter": {
    "hash": "f4e9cda46bb2d9d7fe6ecdff0f8336a934348bf06cb492f2f42f60739b3403b4"
   }
  }
 },
 "nbformat": 4,
 "nbformat_minor": 2
}
