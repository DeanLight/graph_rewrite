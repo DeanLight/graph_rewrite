{
 "cells": [
  {
   "attachments": {},
   "cell_type": "markdown",
   "metadata": {},
   "source": [
    "# Transform"
   ]
  },
  {
   "cell_type": "code",
   "execution_count": 1,
   "metadata": {},
   "outputs": [],
   "source": [
    "#| default_exp transform\n",
    "%load_ext autoreload\n",
    "%autoreload 2"
   ]
  },
  {
   "attachments": {},
   "cell_type": "markdown",
   "metadata": {},
   "source": [
    "**Important note**: as for now, we're not sure about the rule P serves and its structure in the library. Thus, we ignore the P attribute for now (give up on clones and merges) and assume accordingly that the homomorphisms p->lhs, p->rhs are the identity function.\n",
    "\n",
    "### Overview\n",
    "..."
   ]
  },
  {
   "attachments": {},
   "cell_type": "markdown",
   "metadata": {},
   "source": [
    "### Requirements"
   ]
  },
  {
   "cell_type": "code",
   "execution_count": 1,
   "metadata": {},
   "outputs": [],
   "source": [
    "#| export\n",
    "from networkx import DiGraph\n",
    "from graph_rewrite.result_set import *\n",
    "from typing import *"
   ]
  },
  {
   "attachments": {},
   "cell_type": "markdown",
   "metadata": {},
   "source": [
    "### Rules\n",
    "A rule, in the context of this module, is defined by three DiGraphs for the LHS, RHS and P components of the transformation.\n",
    "We follow the conventions of previous libraries in defining the following two maps:\n",
    "\n",
    "1. **A map from P to LHS**, which defines the nodes, edges and attributes existing in LHS which will (or will not) be preserved in the transformation. That is, a node/edge/attribute in LHS will be preserved if there's an equivalent object mapped to it in P. This notion does not only allow *preserving and deleting objects*, but also allows *cloning* (e.g., two nodes in P mapped to the same node in LHS define a cloning of that LHS node).\n",
    "\n",
    "2. **A map from P to RHS**, which defines the nodes, edges and attributes that will be *added* to P in the transformation. That is, a node in RHS that is not mapped by any node in P is added to P. This notion also allows *merging* (e.g., two nodes in P mapped to the same node in RHS define a merge of the two P nodes).\n",
    "\n",
    "The Rule class contains utility functions for extracting the different groups of nodes, edges and attribute that are about to be preserved / changed during the transformation. This class will be later used during the rewriting."
   ]
  },
  {
   "cell_type": "code",
   "execution_count": null,
   "metadata": {},
   "outputs": [],
   "source": [
    "#| export\n",
    "class Rule:\n",
    "    def __init__(self, lhs: DiGraph, rhs: DiGraph):\n",
    "        self.lhs = lhs\n",
    "        self.rhs = rhs\n",
    "        self.p = None # TODO: change\n",
    "\n",
    "        self.p_to_lhs = {}\n",
    "        self.p_to_rhs = {}\n",
    "\n",
    "    def nodes_to_add(self):\n",
    "        pass\n",
    "\n",
    "    def edges_to_add(self):\n",
    "        pass\n",
    "\n",
    "    def nodes_to_remove(self):\n",
    "        pass\n",
    "\n",
    "    def edges_to_remove(self):\n",
    "        pass\n",
    "\n",
    "    def nodes_to_clone(self):\n",
    "        pass\n",
    "\n",
    "    def nodes_to_merge(self):\n",
    "        pass"
   ]
  },
  {
   "attachments": {},
   "cell_type": "markdown",
   "metadata": {},
   "source": [
    "### Rewrite Graph"
   ]
  },
  {
   "cell_type": "code",
   "execution_count": 2,
   "metadata": {},
   "outputs": [],
   "source": [
    "#| export\n",
    "\n",
    "# check out regraph files: regraph/graphs.py, regraph/rules.py, regraph/utils.py\n",
    "\n",
    "def rewrite_match(match: Match, input: DiGraph, p_pattern: DiGraph, rhs_pattern: DiGraph):\n",
    "  # clone nodes (including their edges and attributes)\n",
    "  # delete nodes and preserve others\n",
    "  # delete edges\n",
    "  # remove node attributes\n",
    "  # remove edge attributes\n",
    "  # merge nodes\n",
    "  # add nodes\n",
    "  # add edges\n",
    "  # add node attributes\n",
    "  # add edge attributes\n",
    "  pass"
   ]
  },
  {
   "cell_type": "code",
   "execution_count": null,
   "metadata": {},
   "outputs": [],
   "source": [
    "# clone a (check that each x<index> appears in LHS as x)\n",
    "LHS = \"a->b\"\n",
    "P = \"a1->b a2->b\"\n",
    "RHS = \"a1->b a2->b\"\n",
    "\n",
    "# Merge a and b (check that a and b appear in P)\n",
    "LHS = \"a b\"\n",
    "P = \"a b\"\n",
    "RHS = \"a&b\"\n",
    "\n",
    "RHS = \"a[x = ]\"\n",
    "\n",
    "# otherwise, throw exception"
   ]
  }
 ],
 "metadata": {
  "kernelspec": {
   "display_name": "python3",
   "language": "python",
   "name": "python3"
  },
  "language_info": {
   "codemirror_mode": {
    "name": "ipython",
    "version": 3
   },
   "file_extension": ".py",
   "mimetype": "text/x-python",
   "name": "python",
   "nbconvert_exporter": "python",
   "pygments_lexer": "ipython3",
   "version": "3.9.15"
  }
 },
 "nbformat": 4,
 "nbformat_minor": 2
}
