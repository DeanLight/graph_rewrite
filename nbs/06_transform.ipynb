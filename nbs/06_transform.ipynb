{
 "cells": [
  {
   "attachments": {},
   "cell_type": "markdown",
   "metadata": {},
   "source": [
    "# Transform"
   ]
  },
  {
   "cell_type": "code",
   "execution_count": null,
   "metadata": {},
   "outputs": [],
   "source": [
    "#| default_exp transform\n",
    "%load_ext autoreload\n",
    "%autoreload 2"
   ]
  },
  {
   "attachments": {},
   "cell_type": "markdown",
   "metadata": {},
   "source": [
    "### Overview\n",
    "..."
   ]
  },
  {
   "attachments": {},
   "cell_type": "markdown",
   "metadata": {},
   "source": [
    "### Requirements"
   ]
  },
  {
   "cell_type": "code",
   "execution_count": null,
   "metadata": {},
   "outputs": [],
   "source": [
    "#| export\n",
    "from networkx import DiGraph\n",
    "from graph_rewrite.match_class import Match\n",
    "from graph_rewrite.rules import Rule\n",
    "from graph_rewrite.core import NodeName, EdgeName\n",
    "from typing import *"
   ]
  },
  {
   "attachments": {},
   "cell_type": "markdown",
   "metadata": {},
   "source": [
    "### Transformation Utilities"
   ]
  },
  {
   "cell_type": "code",
   "execution_count": null,
   "metadata": {},
   "outputs": [],
   "source": [
    "#| export\n",
    "def _clone_node(graph: DiGraph, node_to_clone: NodeName) -> NodeName:\n",
    "    pass"
   ]
  },
  {
   "cell_type": "code",
   "execution_count": null,
   "metadata": {},
   "outputs": [],
   "source": [
    "#| export\n",
    "def _remove_node(graph: DiGraph, node_to_remove: NodeName):\n",
    "    pass"
   ]
  },
  {
   "cell_type": "code",
   "execution_count": null,
   "metadata": {},
   "outputs": [],
   "source": [
    "#| export\n",
    "def _remove_edge(graph: DiGraph, edge_to_remove: EdgeName):\n",
    "    pass"
   ]
  },
  {
   "cell_type": "code",
   "execution_count": null,
   "metadata": {},
   "outputs": [],
   "source": [
    "#| export\n",
    "def _remove_node_attrs(graph: DiGraph, node: NodeName, attrs_to_remove: set):\n",
    "    pass"
   ]
  },
  {
   "cell_type": "code",
   "execution_count": null,
   "metadata": {},
   "outputs": [],
   "source": [
    "#| export\n",
    "def _remove_edge_attrs(graph: DiGraph, edge: EdgeName, attrs_to_remove: set):\n",
    "    pass"
   ]
  },
  {
   "cell_type": "code",
   "execution_count": null,
   "metadata": {},
   "outputs": [],
   "source": [
    "#| export\n",
    "def _merge_nodes(graph: DiGraph, nodes_to_merge: set[NodeName]) -> NodeName:\n",
    "    pass"
   ]
  },
  {
   "cell_type": "code",
   "execution_count": null,
   "metadata": {},
   "outputs": [],
   "source": [
    "#| export\n",
    "def _add_node(graph: DiGraph, node_to_add: NodeName):\n",
    "    pass"
   ]
  },
  {
   "cell_type": "code",
   "execution_count": null,
   "metadata": {},
   "outputs": [],
   "source": [
    "#| export\n",
    "def _add_edge(graph: DiGraph, edge_to_add: EdgeName):\n",
    "    pass"
   ]
  },
  {
   "cell_type": "code",
   "execution_count": null,
   "metadata": {},
   "outputs": [],
   "source": [
    "#| export\n",
    "def _add_node_attrs(graph: DiGraph, node: NodeName, attrs_to_add: dict):\n",
    "    pass"
   ]
  },
  {
   "cell_type": "code",
   "execution_count": null,
   "metadata": {},
   "outputs": [],
   "source": [
    "#| export\n",
    "def _add_edge_attrs(graph: DiGraph, edge: EdgeName, attrs_to_add: dict):\n",
    "    pass"
   ]
  },
  {
   "attachments": {},
   "cell_type": "markdown",
   "metadata": {},
   "source": [
    "### Rewrite Graph"
   ]
  },
  {
   "cell_type": "code",
   "execution_count": null,
   "metadata": {},
   "outputs": [],
   "source": [
    "#| export\n",
    "\n",
    "# check out regraph files: regraph/graphs.py, regraph/rules.py, regraph/utils.py\n",
    "\n",
    "def rewrite_match(input_graph: DiGraph, match: Match, rule: Rule):\n",
    "  mapping = match.mapping\n",
    "  mapping_p_graph = {}\n",
    "\n",
    "  # Start restrictive phase:\n",
    "  #   Initialize an empty mapping from P nodes to input_graph nodes.\n",
    "\n",
    "  # Clone nodes:\n",
    "  #   Find all LHS nodes that should be cloned (and what are their clones in P).\n",
    "  #   For each clone of an LHS node (apart from the first one), add it to the input graph \n",
    "  #   (clone with edges and attributes) and add the pair (clone_name, lhs_node_name) to the p->input mapping.\n",
    "\n",
    "  # Remove nodes, complete p->input mapping with preserved nodes which are not clones:\n",
    "  #   Find all LHS nodes that should be removed. \n",
    "  #   For each LHS node, if should be removed - remove it from input.\n",
    "  #                      otherwise, if it is not a clone, add to the mapping.\n",
    "\n",
    "  # Remove edges.\n",
    "\n",
    "  # Remove node attrs.\n",
    "\n",
    "  # Remove edge attrs.\n",
    "\n",
    "  # We now have an updated input graph, with clones added and after removing everything the rule\n",
    "  # should remove. The P->input mapping is now complete for all nodes in P.\n",
    "\n",
    "  # Start expansive phase:\n",
    "  #   Initialize an empty mapping from RHS nodes to input_graph nodes.\n",
    "\n",
    "  # Merge nodes:\n",
    "  #   Find all RHS nodes that are a merge of P nodes (and what P nodes they merge).\n",
    "  #   For each RHS node that is a merge, merge all of the relavant P node, add the resulting RHS node to the input.\n",
    "  #   Also removes from input the P nodes that were merged into a new node.\n",
    "  #   Save the new RHS merged node to the RHS->input mapping.\n",
    "\n",
    "  # Add nodes, complete RHS->input mapping with added (and preserved) nodes:\n",
    "  #   Find all RHS nodes that should be added to the input (not including nodes that are a merge of P noeds).\n",
    "  #   For each RHS node, if should be added - add it to input and to the RHS->input mapping.\n",
    "  #                      otherwise, if is not a merge - add to the mapping.\n",
    "\n",
    "  # Add edges.\n",
    "\n",
    "  # Add node attrs.\n",
    "\n",
    "  # Add edge attrs.\n",
    "  \n",
    "  pass"
   ]
  }
 ],
 "metadata": {
  "kernelspec": {
   "display_name": "python3",
   "language": "python",
   "name": "python3"
  }
 },
 "nbformat": 4,
 "nbformat_minor": 2
}
