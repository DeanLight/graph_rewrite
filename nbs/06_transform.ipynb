{
 "cells": [
  {
   "attachments": {},
   "cell_type": "markdown",
   "metadata": {},
   "source": [
    "# Transform"
   ]
  },
  {
   "cell_type": "code",
   "execution_count": null,
   "metadata": {},
   "outputs": [
    {
     "name": "stdout",
     "output_type": "stream",
     "text": [
      "The autoreload extension is already loaded. To reload it, use:\n",
      "  %reload_ext autoreload\n"
     ]
    }
   ],
   "source": [
    "#| default_exp transform\n",
    "%load_ext autoreload\n",
    "%autoreload 2"
   ]
  },
  {
   "attachments": {},
   "cell_type": "markdown",
   "metadata": {},
   "source": [
    "### Overview\n",
    "..."
   ]
  },
  {
   "attachments": {},
   "cell_type": "markdown",
   "metadata": {},
   "source": [
    "### Requirements"
   ]
  },
  {
   "cell_type": "code",
   "execution_count": null,
   "metadata": {},
   "outputs": [],
   "source": [
    "#| export\n",
    "from typing import *\n",
    "from networkx import DiGraph\n",
    "from copy import deepcopy\n",
    "\n",
    "from graph_rewrite.core import NodeName, EdgeName, _create_graph, _plot_graph, _graphs_equal, GraphRewriteException\n",
    "from graph_rewrite.lhs import lhs_to_graph\n",
    "from graph_rewrite.match_class import Match, mapping_to_match\n",
    "from graph_rewrite.matcher import find_matches, FilterFunc\n",
    "from graph_rewrite.p_rhs_parse import RenderFunc, p_to_graph, rhs_to_graph\n",
    "from graph_rewrite.rules import Rule, MergePolicy"
   ]
  },
  {
   "attachments": {},
   "cell_type": "markdown",
   "metadata": {},
   "source": [
    "### Transformation Utilities"
   ]
  },
  {
   "cell_type": "code",
   "execution_count": null,
   "metadata": {},
   "outputs": [],
   "source": [
    "#| export\n",
    "_exceptions = {\n",
    "    \"no_such_node\": lambda node: f\"Node {node} does not exist in the input graph.\",\n",
    "    \"no_such_edge\": lambda edge: f\"Edge {edge} does not exist in the input graph.\",\n",
    "    \"no_such_attr_in_node\": lambda attr, node: f\"Attribute {attr} does not exist in input graph's node {node}.\",\n",
    "    \"no_such_attr_in_edge\": lambda attr, edge: f\"Attribute {attr} does not exist in input graph's edge {edge}.\",\n",
    "    \"edge_exists\": lambda edge: f\"Edge {edge} already exists in the input graph.\",\n",
    "    \"not_enough_to_merge\": lambda: f\"Tried to merge less than one nodes.\"\n",
    "}"
   ]
  },
  {
   "cell_type": "code",
   "execution_count": null,
   "metadata": {},
   "outputs": [],
   "source": [
    "#| export\n",
    "def _generate_new_node_name(graph: DiGraph, base_name: NodeName) -> NodeName:\n",
    "    new_name = base_name\n",
    "    i = 0\n",
    "    while new_name in graph.nodes():\n",
    "        i += 1\n",
    "        new_name = f\"{base_name}_{i}\"\n",
    "    return new_name"
   ]
  },
  {
   "cell_type": "code",
   "execution_count": null,
   "metadata": {},
   "outputs": [],
   "source": [
    "#| export\n",
    "def _clone_node(graph: DiGraph, node_to_clone: NodeName) -> NodeName:\n",
    "    if node_to_clone not in graph.nodes:\n",
    "        raise GraphRewriteException(_exceptions[\"no_such_node\"](node_to_clone))\n",
    "\n",
    "    # Create a new node name\n",
    "    clone_name = _generate_new_node_name(graph, node_to_clone)\n",
    "\n",
    "    # Add this new node to graph\n",
    "    cloned_node_attrs = graph.nodes(data=True)[node_to_clone]\n",
    "    graph.add_node(clone_name, **cloned_node_attrs)\n",
    "\n",
    "    # Clone edges (connect the clone to all original edge endpoints + copy attrs)\n",
    "    for n, _ in graph.in_edges(node_to_clone):\n",
    "        if (n, clone_name) not in graph.edges():\n",
    "            cloned_edge_attrs = graph.edges[n, node_to_clone]\n",
    "            graph.add_edge(n, clone_name, **cloned_edge_attrs)\n",
    "    \n",
    "    for _, n in graph.out_edges(node_to_clone):\n",
    "        if (clone_name, n) not in graph.edges():\n",
    "            cloned_edge_attrs = graph.edges[node_to_clone, n]\n",
    "            graph.add_edge(clone_name, n, **cloned_edge_attrs)\n",
    " \n",
    "    return clone_name"
   ]
  },
  {
   "cell_type": "code",
   "execution_count": null,
   "metadata": {},
   "outputs": [],
   "source": [
    "#| export\n",
    "def _remove_node(graph: DiGraph, node_to_remove: NodeName):\n",
    "    if node_to_remove not in graph.nodes():\n",
    "        raise GraphRewriteException(_exceptions[\"no_such_node\"](node_to_remove))\n",
    "    graph.remove_node(node_to_remove)"
   ]
  },
  {
   "cell_type": "code",
   "execution_count": null,
   "metadata": {},
   "outputs": [],
   "source": [
    "#| export\n",
    "def _remove_edge(graph: DiGraph, edge_to_remove: EdgeName):\n",
    "    if edge_to_remove not in graph.edges():\n",
    "        raise GraphRewriteException(_exceptions[\"no_such_edge\"](edge_to_remove))\n",
    "    graph.remove_edge(*edge_to_remove)"
   ]
  },
  {
   "cell_type": "code",
   "execution_count": null,
   "metadata": {},
   "outputs": [],
   "source": [
    "#| export\n",
    "def _remove_node_attrs(graph: DiGraph, node: NodeName, attrs_to_remove: set):\n",
    "    if node not in graph.nodes():\n",
    "        raise GraphRewriteException(_exceptions[\"no_such_node\"](node))\n",
    "    for attr in attrs_to_remove:\n",
    "        if attr not in graph.nodes[node]:\n",
    "            raise GraphRewriteException(_exceptions[\"no_such_attr_in_node\"](attr, node))\n",
    "        del graph.nodes[node][attr]"
   ]
  },
  {
   "cell_type": "code",
   "execution_count": null,
   "metadata": {},
   "outputs": [],
   "source": [
    "#| export\n",
    "def _remove_edge_attrs(graph: DiGraph, edge: EdgeName, attrs_to_remove: set):\n",
    "    if edge not in graph.edges():\n",
    "        raise GraphRewriteException(_exceptions[\"no_such_edge\"](edge))\n",
    "    for attr in attrs_to_remove:\n",
    "        if attr not in graph.edges[edge]:\n",
    "            raise GraphRewriteException(_exceptions[\"no_such_attr_in_edge\"](attr, edge))\n",
    "        del graph.edges[edge][attr]"
   ]
  },
  {
   "cell_type": "code",
   "execution_count": null,
   "metadata": {},
   "outputs": [],
   "source": [
    "#| export\n",
    "def _merge_nodes(graph: DiGraph, nodes_to_merge: set[NodeName], merge_policy) -> NodeName:\n",
    "    if len(nodes_to_merge) < 1:\n",
    "        raise GraphRewriteException(_exceptions[\"not_enough_to_merge\"]())\n",
    "    elif len(nodes_to_merge) == 1:\n",
    "        return list(nodes_to_merge)[0]\n",
    "    for node_to_merge in nodes_to_merge:\n",
    "        if node_to_merge not in graph.nodes:\n",
    "            raise GraphRewriteException(_exceptions[\"no_such_node\"](node_to_merge))\n",
    "\n",
    "    merged_node_name = _generate_new_node_name(graph, \"&\".join(nodes_to_merge))\n",
    "    \n",
    "    merged_node_attrs = {}\n",
    "    merged_src_nodes, merged_target_nodes = set(), set()\n",
    "    merged_src_attrs, merged_target_attrs = {}, {} # map a src/target node to the edge's merged attrs\n",
    "    self_loop, self_loop_attrs = False, {}\n",
    "    \n",
    "    for node_to_merge in nodes_to_merge:\n",
    "        merged_node_attrs = merge_policy(merged_node_attrs, graph.nodes[node_to_merge])\n",
    "        \n",
    "        in_edges, out_edges = graph.in_edges(node_to_merge), graph.out_edges(node_to_merge)\n",
    "        merged_src_nodes.update({s if s not in nodes_to_merge else merged_node_name for s, _ in in_edges})\n",
    "        merged_target_nodes.update({t if t not in nodes_to_merge else merged_node_name for _, t in out_edges})\n",
    "\n",
    "        for edge in in_edges:\n",
    "            edge_attrs, src = graph.edges[edge], edge[0]\n",
    "            # Add to source attributes\n",
    "            if src not in merged_src_attrs.keys():\n",
    "                merged_src_attrs[src] = edge_attrs\n",
    "            else:\n",
    "                merged_src_attrs[src] = merge_policy(merged_src_attrs[src], edge_attrs)\n",
    "\n",
    "            # Handle selp loop\n",
    "            if src in nodes_to_merge:\n",
    "                self_loop = True\n",
    "                self_loop_attrs = merge_policy(self_loop_attrs, edge_attrs)\n",
    "            \n",
    "        for edge in out_edges:\n",
    "            edge_attrs, target = graph.edges[edge], edge[1]\n",
    "            # Add to source attributes\n",
    "            if target not in merged_target_attrs.keys():\n",
    "                merged_target_attrs[target] = edge_attrs\n",
    "            else:\n",
    "                merged_target_attrs[target] = merge_policy(merged_target_attrs[target], edge_attrs)\n",
    "\n",
    "            # Handle selp loop\n",
    "            if target in nodes_to_merge:\n",
    "                self_loop = True\n",
    "                self_loop_attrs = merge_policy(self_loop_attrs, edge_attrs)\n",
    "\n",
    "        graph.remove_node(node_to_merge)\n",
    "\n",
    "    # Add merged node to graph\n",
    "    graph.add_node(merged_node_name, **merged_node_attrs)\n",
    "\n",
    "    # Add merged source and target edges (including a new self loop)\n",
    "    if self_loop:\n",
    "        graph.add_edge(merged_node_name, merged_node_name, **self_loop_attrs)\n",
    "    for src_node in merged_src_nodes:\n",
    "        if (src_node, merged_node_name) not in graph.edges():\n",
    "            graph.add_edge(src_node, merged_node_name)\n",
    "    for target_node in merged_src_nodes:\n",
    "        if (merged_node_name, target_node) not in graph.edges():\n",
    "            graph.add_edge(merged_node_name, target_node)\n",
    "    \n",
    "    # Add edge attributes (other than selp loop)\n",
    "    for src_node, attrs in merged_src_attrs.items():\n",
    "        if src_node not in nodes_to_merge:\n",
    "            graph.update(edges=[(src_node, merged_node_name, merged_src_attrs[src_node])])\n",
    "            # graph.edges[(src_node, merged_node_name)] = merged_src_attrs[src_node]\n",
    "    for target_node, attrs in merged_target_attrs.items():\n",
    "        if target_node not in nodes_to_merge:\n",
    "            graph.update(edges=[(merged_node_name, target_node, merged_target_attrs[target_node])])\n",
    "            # graph.edges[(merged_node_name, target_node)] = merged_target_attrs[target_node]\n",
    "\n",
    "    return merged_node_name       "
   ]
  },
  {
   "cell_type": "code",
   "execution_count": null,
   "metadata": {},
   "outputs": [],
   "source": [
    "#| export\n",
    "def _add_node(graph: DiGraph, node_to_add: NodeName) -> NodeName:\n",
    "    # Create a new node name\n",
    "    new_name = _generate_new_node_name(graph, node_to_add)\n",
    "    graph.add_node(new_name)\n",
    "    return new_name"
   ]
  },
  {
   "cell_type": "code",
   "execution_count": null,
   "metadata": {},
   "outputs": [],
   "source": [
    "#| export\n",
    "def _add_edge(graph: DiGraph, edge_to_add: EdgeName):\n",
    "    src, target = edge_to_add\n",
    "    if src not in graph.nodes():\n",
    "        raise GraphRewriteException(_exceptions[\"no_such_node\"](src))\n",
    "    elif target not in graph.nodes():\n",
    "        raise GraphRewriteException(_exceptions[\"no_such_node\"](target))\n",
    "    elif edge_to_add in graph.edges():\n",
    "        raise GraphRewriteException(_exceptions[\"edge_exists\"](edge_to_add))\n",
    "    else:\n",
    "        graph.add_edge(src, target)"
   ]
  },
  {
   "cell_type": "code",
   "execution_count": null,
   "metadata": {},
   "outputs": [],
   "source": [
    "#| export\n",
    "def _add_node_attrs(graph: DiGraph, node: NodeName, attrs_to_add: dict):\n",
    "    if node not in graph.nodes():\n",
    "        raise GraphRewriteException(_exceptions[\"no_such_node\"](node))\n",
    "    for attr, val in attrs_to_add.items():\n",
    "        graph.nodes[node][attr] = val"
   ]
  },
  {
   "cell_type": "code",
   "execution_count": null,
   "metadata": {},
   "outputs": [],
   "source": [
    "#| export\n",
    "def _add_edge_attrs(graph: DiGraph, edge: EdgeName, attrs_to_add: dict):\n",
    "    if edge not in graph.edges():\n",
    "        raise GraphRewriteException(_exceptions[\"no_such_edge\"](edge))\n",
    "    for attr, val in attrs_to_add.items():\n",
    "        graph.edges[edge][attr] = val"
   ]
  },
  {
   "attachments": {},
   "cell_type": "markdown",
   "metadata": {},
   "source": [
    "### Rewrite Match"
   ]
  },
  {
   "cell_type": "code",
   "execution_count": null,
   "metadata": {},
   "outputs": [],
   "source": [
    "#| export\n",
    "_GREEN = '\\033[92m'\n",
    "_RED = '\\033[91m'\n",
    "_BLACK = '\\033[0m'\n",
    "\n",
    "def _log(msg, is_log: bool, color=_BLACK):\n",
    "    if is_log:\n",
    "        print(f\"{color}{msg}{_BLACK}\")"
   ]
  },
  {
   "cell_type": "code",
   "execution_count": null,
   "metadata": {},
   "outputs": [],
   "source": [
    "#| export\n",
    "def _rewrite_match_restrictive(input_graph: DiGraph, rule: Rule, lhs_input_map: dict[NodeName, NodeName], is_log: bool) -> dict[NodeName, NodeName]:\n",
    "    # Initialize an empty mapping from P nodes to input_graph nodes.\n",
    "    p_input_map = {}\n",
    "\n",
    "    \"\"\"Clone nodes:\n",
    "        Find all LHS nodes that should be cloned (and what are their clones in P).\n",
    "        For each clone of an LHS node (apart from the first one), add it to the input graph \n",
    "        (clone with edges and attributes) and add the pair (clone_name, lhs_node_name) to the p->input mapping.\n",
    "    \"\"\"\n",
    "    # Map each cloned lhs node to a flag, denoting whether the original node is reused with the same name in P.\n",
    "    # If not, the original node will be removed later\n",
    "    cloned_to_flags_map = {cloned_lhs_node: False for cloned_lhs_node in rule.nodes_to_clone().keys()}\n",
    "    for cloned_lhs_node, p_clones in rule.nodes_to_clone().items():\n",
    "        for p_clone in p_clones:\n",
    "            # Original cloned node is reused in P, preserve it\n",
    "            if p_clone == cloned_lhs_node:\n",
    "                _log(f\"Clone {lhs_input_map[cloned_lhs_node]}\", is_log)\n",
    "                cloned_to_flags_map[cloned_lhs_node] = True\n",
    "                p_input_map[p_clone] = lhs_input_map[cloned_lhs_node]\n",
    "            # All other clones require actual cloning (mapped to the new cloned node in input graph)\n",
    "            else:\n",
    "                new_clone_id = _clone_node(input_graph, lhs_input_map[cloned_lhs_node])\n",
    "                _log(f\"Clone {lhs_input_map[cloned_lhs_node]} as {new_clone_id}\", is_log)\n",
    "                p_input_map[p_clone] = new_clone_id\n",
    "\n",
    "    \"\"\"Remove nodes, complete p->input mapping with preserved nodes which are not clones:\n",
    "        Find all LHS nodes that should be removed. \n",
    "        For each LHS node, if should be removed - remove it from input.\n",
    "                            otherwise, if it is not a clone, add to the mapping.\n",
    "    \"\"\"\n",
    "    for lhs_node in rule.lhs.nodes():\n",
    "        # Cloned lhs nodes which weren't reused and so, should be deleted\n",
    "        if lhs_node in rule.nodes_to_remove() or (lhs_node in cloned_to_flags_map.keys() and cloned_to_flags_map[lhs_node] == False):\n",
    "            _log(f\"Remove node {lhs_input_map[lhs_node]}\", is_log)\n",
    "            _remove_node(input_graph, lhs_input_map[lhs_node])        \n",
    "        # Else, either a saved cloned node (already preserved) or a regular one (should preserve them)\n",
    "        elif lhs_node not in cloned_to_flags_map.keys():\n",
    "            p_node = list(rule._rev_p_lhs[lhs_node])[0]\n",
    "            p_input_map[p_node] = lhs_input_map[lhs_node]\n",
    "\n",
    "    # Remove edges.\n",
    "    for lhs_src, lhs_target in rule.edges_to_remove():\n",
    "        _log(f\"Remove edge ({p_input_map[lhs_src]}, {p_input_map[lhs_target]})\", is_log)\n",
    "        _remove_edge(input_graph, (p_input_map[lhs_src], p_input_map[lhs_target]))\n",
    "\n",
    "    # Remove node attrs.\n",
    "    for p_node, attrs_to_remove in rule.node_attrs_to_remove().items():\n",
    "        _log(f\"Remove attrs {attrs_to_remove} from node {p_input_map[p_node]}\", is_log)\n",
    "        _remove_node_attrs(input_graph, p_input_map[p_node], attrs_to_remove)\n",
    "\n",
    "    # Remove edge attrs.\n",
    "    for (p_src, p_target), attrs_to_remove in rule.edge_attrs_to_remove().items():\n",
    "        _log(f\"Remove attrs {attrs_to_remove} from edge {(p_input_map[p_src], p_input_map[p_target])}\", is_log)\n",
    "        _remove_edge_attrs(input_graph, (p_input_map[p_src], p_input_map[p_target]), attrs_to_remove)\n",
    "\n",
    "    return p_input_map"
   ]
  },
  {
   "cell_type": "code",
   "execution_count": null,
   "metadata": {},
   "outputs": [],
   "source": [
    "#| export\n",
    "def _rewrite_match_expansive(input_graph: DiGraph, rule: Rule, p_input_map: dict[NodeName, NodeName], is_log: bool):\n",
    "    # Initialize an empty mapping from RHS nodes to input_graph nodes.\n",
    "    rhs_input_map = {}\n",
    "\n",
    "    \"\"\"Merge nodes:\n",
    "        Find all RHS nodes that are a merge of P nodes (and what P nodes they merge).\n",
    "        For each RHS node that is a merge, merge all of the relavant P node, add the resulting RHS node to the input.\n",
    "        Also removes from input the P nodes that were merged into a new node.\n",
    "        Save the new RHS merged node to the RHS->input mapping.\n",
    "    \"\"\"\n",
    "    merge_rhs_nodes = rule.nodes_to_merge().keys()\n",
    "    for merge_rhs_node, p_merged in rule.nodes_to_merge().items():\n",
    "        input_nodes_to_merge = {p_input_map[p_node] for p_node in p_merged}\n",
    "        new_merged_id = _merge_nodes(input_graph, input_nodes_to_merge, rule.merge_policy)\n",
    "        _log(f\"Merge {input_nodes_to_merge} as {new_merged_id}\", is_log)\n",
    "        rhs_input_map[merge_rhs_node] = new_merged_id\n",
    "        \n",
    "    \"\"\"Add nodes, complete RHS->input mapping with added (and preserved) nodes:\n",
    "        Find all RHS nodes that should be added to the input (not including nodes that are a merge of P noeds).\n",
    "        For each RHS node, if should be added - add it to input and to the RHS->input mapping.\n",
    "                            otherwise, if is not a merge - add to the mapping.\n",
    "    \"\"\"\n",
    "    for rhs_node in rule.rhs.nodes():\n",
    "        if rhs_node in rule.nodes_to_add():\n",
    "            added_id = _add_node(input_graph, rhs_node)\n",
    "            _log(f\"Add node {rhs_node} as {added_id}\", is_log)\n",
    "            rhs_input_map[rhs_node] = added_id\n",
    "        elif rhs_node not in merge_rhs_nodes:\n",
    "            p_node = list(rule._rev_p_rhs[rhs_node])[0]\n",
    "            rhs_input_map[rhs_node] = p_input_map[p_node]\n",
    "\n",
    "    # Add edges.\n",
    "    for rhs_src, rhs_target in rule.edges_to_add():\n",
    "        _log(f\"Add edge ({rhs_input_map[rhs_src]}, {rhs_input_map[rhs_target]})\", is_log)\n",
    "        _add_edge(input_graph, (rhs_input_map[rhs_src], rhs_input_map[rhs_target]))\n",
    "\n",
    "    # Add node attrs.\n",
    "    for rhs_node, attrs_to_add in rule.node_attrs_to_add().items():\n",
    "        _log(f\"Added attrs {attrs_to_add} to node {rhs_input_map[rhs_node]}\", is_log)\n",
    "        _add_node_attrs(input_graph, rhs_input_map[rhs_node], attrs_to_add)\n",
    "\n",
    "    # Add edge attrs.\n",
    "    for (rhs_src, rhs_target), attrs_to_add in rule.edge_attrs_to_add().items():\n",
    "        _log(f\"Added attrs {attrs_to_add} to edge {(rhs_input_map[rhs_src], rhs_input_map[rhs_target])}\", is_log)\n",
    "        _add_edge_attrs(input_graph, (rhs_input_map[rhs_src], rhs_input_map[rhs_target]), attrs_to_add)"
   ]
  },
  {
   "cell_type": "code",
   "execution_count": null,
   "metadata": {},
   "outputs": [],
   "source": [
    "def _copy_graph(graph: DiGraph) -> DiGraph:\n",
    "    copied_nodes = [(node, deepcopy(attrs)) for node, attrs in graph.nodes(data=True)]\n",
    "    copied_edges = [(s, t, deepcopy(attrs)) for s, t, attrs in graph.edges(data=True)]\n",
    "    copy_graph = DiGraph()\n",
    "    copy_graph.update(nodes=copied_nodes, edges=copied_edges)\n",
    "    return copy_graph"
   ]
  },
  {
   "cell_type": "code",
   "execution_count": null,
   "metadata": {},
   "outputs": [],
   "source": [
    "def _restore_graph(graph: DiGraph, last_copy_graph: DiGraph):\n",
    "    graph.clear()\n",
    "    graph.update(nodes=last_copy_graph.nodes(data=True),\n",
    "                 edges=last_copy_graph.edges(data=True))"
   ]
  },
  {
   "cell_type": "code",
   "execution_count": null,
   "metadata": {},
   "outputs": [],
   "source": [
    "#| export\n",
    "def _rewrite_match(input_graph: DiGraph, match: Match,\n",
    "                   lhs_graph: DiGraph, p_graph: DiGraph, rhs: str,\n",
    "                   render_rhs: dict[str, RenderFunc],\n",
    "                   merge_policy,\n",
    "                   is_log: bool):\n",
    "\n",
    "    _log(f\"Transform match: {match.mapping}\", is_log, _GREEN)\n",
    "\n",
    "    # Save graph in current state for restoring, if needed\n",
    "    saved_graph = _copy_graph(input_graph)\n",
    "\n",
    "    try:\n",
    "        # Parse RHS according to current match (with render dictionary)\n",
    "        rhs_graph = rhs_to_graph(rhs, match, render_rhs) if rhs else None\n",
    "        rule = Rule(lhs_graph, p_graph, rhs_graph, merge_policy=merge_policy)\n",
    "        # Transform the graph\n",
    "        lhs_input_map = match.mapping\n",
    "        p_input_map = _rewrite_match_restrictive(input_graph, rule, lhs_input_map, is_log)\n",
    "        _rewrite_match_expansive(input_graph, rule, p_input_map, is_log)\n",
    "        _log(f\"Nodes: {input_graph.nodes(data=True)}\\nEdges: {input_graph.edges(data=True)}\\n\", is_log, _GREEN)\n",
    "        return match\n",
    "\n",
    "    except GraphRewriteException as e:\n",
    "        _log(f\"Failed to transform: {e.message}\", is_log, _RED)\n",
    "        _restore_graph(input_graph, saved_graph)\n",
    "        raise e\n"
   ]
  },
  {
   "cell_type": "markdown",
   "metadata": {},
   "source": [
    "### Rewrite Graph\n",
    "Our library's main function."
   ]
  },
  {
   "cell_type": "code",
   "execution_count": null,
   "metadata": {},
   "outputs": [],
   "source": [
    "#| export\n",
    "def rewrite(input_graph: DiGraph, lhs: str, p: str = None, rhs: str = None,\n",
    "                   condition: FilterFunc = lambda match: True,\n",
    "                   render_rhs: dict[str, RenderFunc] = {},\n",
    "                   merge_policy = MergePolicy.choose_last,\n",
    "                   is_log: bool = False,\n",
    "                   is_recursive: bool = False) -> List[Match]:\n",
    "        \n",
    "        _log(f\"Nodes: {input_graph.nodes(data=True)}\\nEdges: {input_graph.edges(data=True)}\\n\", is_log, _GREEN)\n",
    "\n",
    "        # Parse LHS and P (global for all matches)\n",
    "        lhs_graph, condition = lhs_to_graph(lhs, condition)\n",
    "        p_graph = p_to_graph(p) if p else None\n",
    "        \n",
    "        if is_recursive:\n",
    "            while True:\n",
    "                next_match = next(find_matches(input_graph, lhs_graph, condition=condition))\n",
    "                if not next_match:\n",
    "                    _log(\"No more matches.\", is_log, _GREEN)\n",
    "                    break\n",
    "                yield _rewrite_match(input_graph, next_match, lhs_graph, p_graph, rhs, render_rhs, merge_policy, is_log)\n",
    "\n",
    "        else:\n",
    "            # Create a duplication of the graph to find matches lazily (actual graph changes between matches)\n",
    "            copy_input_graph = _copy_graph(input_graph)\n",
    "\n",
    "            # Find matches lazily and transform\n",
    "            for match in find_matches(copy_input_graph, lhs_graph, condition=condition):\n",
    "                yield _rewrite_match(input_graph, match, lhs_graph, p_graph, rhs, render_rhs, merge_policy, is_log)"
   ]
  },
  {
   "attachments": {},
   "cell_type": "markdown",
   "metadata": {},
   "source": [
    "### Tests"
   ]
  },
  {
   "cell_type": "code",
   "execution_count": null,
   "metadata": {},
   "outputs": [],
   "source": [
    "def run_test(matches):\n",
    "    for match in matches:\n",
    "        continue\n",
    "    # try:\n",
    "    #     for match in matches:\n",
    "    #         continue\n",
    "    # except Exception as e:\n",
    "    #     print(e)\n",
    "    # _plot_graph(input_graph)"
   ]
  },
  {
   "cell_type": "code",
   "execution_count": null,
   "metadata": {},
   "outputs": [
    {
     "data": {
      "image/png": "[encoded data removed]",
      "text/plain": [
       "<Figure size 640x480 with 1 Axes>"
      ]
     },
     "metadata": {},
     "output_type": "display_data"
    }
   ],
   "source": [
    "input_graph = _create_graph(\n",
    "    [('x', {'val': 1}), ('y', {'val': 2}), ('z', {'val': 3}), 'res1', 'res2'],\n",
    "    [('res2','z'), ('res2','res1'), ('res1','x'), ('res1','y')]\n",
    ")\n",
    "_plot_graph(input_graph)"
   ]
  },
  {
   "cell_type": "code",
   "execution_count": null,
   "metadata": {},
   "outputs": [
    {
     "name": "stdout",
     "output_type": "stream",
     "text": [
      "{'2': 'x', '1': 'res1', '3': 'y'}\n",
      "{'2': 'z', '1': 'res2', '3': 'res1&x&y'}\n"
     ]
    },
    {
     "data": {
      "image/png": "[encoded data removed]",
      "text/plain": [
       "<Figure size 640x480 with 1 Axes>"
      ]
     },
     "metadata": {},
     "output_type": "display_data"
    }
   ],
   "source": [
    "lhs = '1->2[val]; 1->3[val]'\n",
    "p = '1;2;3'\n",
    "rhs = '1&2&3[val={{val}}]'\n",
    "matches = rewrite(input_graph, lhs, p, rhs, is_recursive=True,\n",
    "                  render_rhs={'val': lambda match: match['2']['val'] + match['3']['val']})\n",
    "try:\n",
    "    for match in matches:\n",
    "        print(match.mapping)\n",
    "except:\n",
    "    pass\n",
    "_plot_graph(input_graph)"
   ]
  },
  {
   "cell_type": "markdown",
   "metadata": {},
   "source": [
    "### Integration Tests"
   ]
  },
  {
   "cell_type": "markdown",
   "metadata": {},
   "source": [
    "#### RGXLOG AST string fix pass"
   ]
  },
  {
   "cell_type": "code",
   "execution_count": null,
   "metadata": {},
   "outputs": [
    {
     "name": "stdout",
     "output_type": "stream",
     "text": [
      "\u001b[92mNodes: [('1', {}), ('2', {'token': 'String'}), ('3', {'token': 'CHILD', 'val': 'a\\nstring'}), ('4', {'token': 'String'}), ('5', {'token': 'CHILD', 'val': 'another\\nstring'}), ('6', {'token': 'String'}), ('7', {'token': 'CHILD', 'val': 'regular string'})]\n",
      "Edges: [('1', '2', {}), ('1', '4', {}), ('1', '6', {}), ('2', '3', {}), ('4', '5', {}), ('6', '7', {})]\n",
      "\u001b[0m\n"
     ]
    },
    {
     "ename": "GraphRewriteException",
     "evalue": "Unable to convert P: Error trying to process rule \"attribute\":\n\nnot enough values to unpack (expected 3, got 1)",
     "output_type": "error",
     "traceback": [
      "\u001b[0;31m---------------------------------------------------------------------------\u001b[0m",
      "\u001b[0;31mValueError\u001b[0m                                Traceback (most recent call last)",
      "File \u001b[0;32m/opt/conda/lib/python3.9/site-packages/lark/visitors.py:124\u001b[0m, in \u001b[0;36mTransformer._call_userfunc\u001b[0;34m(self, tree, new_children)\u001b[0m\n\u001b[1;32m    123\u001b[0m     \u001b[39melse\u001b[39;00m:\n\u001b[0;32m--> 124\u001b[0m         \u001b[39mreturn\u001b[39;00m f(children)\n\u001b[1;32m    125\u001b[0m \u001b[39mexcept\u001b[39;00m GrammarError:\n",
      "File \u001b[0;32m/home/jovyan/graph_rewrite/graph_rewrite/lhs.py:101\u001b[0m, in \u001b[0;36mgraphRewriteTransformer.attribute\u001b[0;34m(self, args)\u001b[0m\n\u001b[1;32m     99\u001b[0m \u001b[39mdef\u001b[39;00m \u001b[39mattribute\u001b[39m(\u001b[39mself\u001b[39m, args): \n\u001b[1;32m    100\u001b[0m     \u001b[39m# if an optional token was not parsed, None is placed in the parse tree.\u001b[39;00m\n\u001b[0;32m--> 101\u001b[0m     attr_name, \u001b[39mtype\u001b[39m, value \u001b[39m=\u001b[39m args\n\u001b[1;32m    102\u001b[0m     \u001b[39m# pass a tuple of attr_name, required type, required value.\u001b[39;00m\n",
      "\u001b[0;31mValueError\u001b[0m: not enough values to unpack (expected 3, got 1)",
      "\nDuring handling of the above exception, another exception occurred:\n",
      "\u001b[0;31mVisitError\u001b[0m                                Traceback (most recent call last)",
      "File \u001b[0;32m/home/jovyan/graph_rewrite/graph_rewrite/p_rhs_parse.py:107\u001b[0m, in \u001b[0;36mp_to_graph\u001b[0;34m(p)\u001b[0m\n\u001b[1;32m    106\u001b[0m tree \u001b[39m=\u001b[39m p_parser\u001b[39m.\u001b[39mparse(p)\n\u001b[0;32m--> 107\u001b[0m p_graph, _ \u001b[39m=\u001b[39m graphRewriteTransformer(component\u001b[39m=\u001b[39;49m\u001b[39m\"\u001b[39;49m\u001b[39mP\u001b[39;49m\u001b[39m\"\u001b[39;49m)\u001b[39m.\u001b[39;49mtransform(tree)                \n\u001b[1;32m    108\u001b[0m \u001b[39mreturn\u001b[39;00m p_graph\n",
      "File \u001b[0;32m/opt/conda/lib/python3.9/site-packages/lark/visitors.py:161\u001b[0m, in \u001b[0;36mTransformer.transform\u001b[0;34m(self, tree)\u001b[0m\n\u001b[1;32m    160\u001b[0m \u001b[39m\"\u001b[39m\u001b[39mTransform the given tree, and return the final result\u001b[39m\u001b[39m\"\u001b[39m\n\u001b[0;32m--> 161\u001b[0m \u001b[39mreturn\u001b[39;00m \u001b[39mself\u001b[39;49m\u001b[39m.\u001b[39;49m_transform_tree(tree)\n",
      "File \u001b[0;32m/opt/conda/lib/python3.9/site-packages/lark/visitors.py:156\u001b[0m, in \u001b[0;36mTransformer._transform_tree\u001b[0;34m(self, tree)\u001b[0m\n\u001b[1;32m    155\u001b[0m \u001b[39mdef\u001b[39;00m \u001b[39m_transform_tree\u001b[39m(\u001b[39mself\u001b[39m, tree):\n\u001b[0;32m--> 156\u001b[0m     children \u001b[39m=\u001b[39m \u001b[39mlist\u001b[39;49m(\u001b[39mself\u001b[39;49m\u001b[39m.\u001b[39;49m_transform_children(tree\u001b[39m.\u001b[39;49mchildren))\n\u001b[1;32m    157\u001b[0m     \u001b[39mreturn\u001b[39;00m \u001b[39mself\u001b[39m\u001b[39m.\u001b[39m_call_userfunc(tree, children)\n",
      "File \u001b[0;32m/opt/conda/lib/python3.9/site-packages/lark/visitors.py:146\u001b[0m, in \u001b[0;36mTransformer._transform_children\u001b[0;34m(self, children)\u001b[0m\n\u001b[1;32m    145\u001b[0m \u001b[39mif\u001b[39;00m \u001b[39misinstance\u001b[39m(c, Tree):\n\u001b[0;32m--> 146\u001b[0m     res \u001b[39m=\u001b[39m \u001b[39mself\u001b[39;49m\u001b[39m.\u001b[39;49m_transform_tree(c)\n\u001b[1;32m    147\u001b[0m \u001b[39melif\u001b[39;00m \u001b[39mself\u001b[39m\u001b[39m.\u001b[39m__visit_tokens__ \u001b[39mand\u001b[39;00m \u001b[39misinstance\u001b[39m(c, Token):\n",
      "File \u001b[0;32m/opt/conda/lib/python3.9/site-packages/lark/visitors.py:156\u001b[0m, in \u001b[0;36mTransformer._transform_tree\u001b[0;34m(self, tree)\u001b[0m\n\u001b[1;32m    155\u001b[0m \u001b[39mdef\u001b[39;00m \u001b[39m_transform_tree\u001b[39m(\u001b[39mself\u001b[39m, tree):\n\u001b[0;32m--> 156\u001b[0m     children \u001b[39m=\u001b[39m \u001b[39mlist\u001b[39;49m(\u001b[39mself\u001b[39;49m\u001b[39m.\u001b[39;49m_transform_children(tree\u001b[39m.\u001b[39;49mchildren))\n\u001b[1;32m    157\u001b[0m     \u001b[39mreturn\u001b[39;00m \u001b[39mself\u001b[39m\u001b[39m.\u001b[39m_call_userfunc(tree, children)\n",
      "File \u001b[0;32m/opt/conda/lib/python3.9/site-packages/lark/visitors.py:146\u001b[0m, in \u001b[0;36mTransformer._transform_children\u001b[0;34m(self, children)\u001b[0m\n\u001b[1;32m    145\u001b[0m \u001b[39mif\u001b[39;00m \u001b[39misinstance\u001b[39m(c, Tree):\n\u001b[0;32m--> 146\u001b[0m     res \u001b[39m=\u001b[39m \u001b[39mself\u001b[39;49m\u001b[39m.\u001b[39;49m_transform_tree(c)\n\u001b[1;32m    147\u001b[0m \u001b[39melif\u001b[39;00m \u001b[39mself\u001b[39m\u001b[39m.\u001b[39m__visit_tokens__ \u001b[39mand\u001b[39;00m \u001b[39misinstance\u001b[39m(c, Token):\n",
      "    \u001b[0;31m[... skipping similar frames: Transformer._transform_children at line 146 (1 times), Transformer._transform_tree at line 156 (1 times)]\u001b[0m\n",
      "File \u001b[0;32m/opt/conda/lib/python3.9/site-packages/lark/visitors.py:156\u001b[0m, in \u001b[0;36mTransformer._transform_tree\u001b[0;34m(self, tree)\u001b[0m\n\u001b[1;32m    155\u001b[0m \u001b[39mdef\u001b[39;00m \u001b[39m_transform_tree\u001b[39m(\u001b[39mself\u001b[39m, tree):\n\u001b[0;32m--> 156\u001b[0m     children \u001b[39m=\u001b[39m \u001b[39mlist\u001b[39;49m(\u001b[39mself\u001b[39;49m\u001b[39m.\u001b[39;49m_transform_children(tree\u001b[39m.\u001b[39;49mchildren))\n\u001b[1;32m    157\u001b[0m     \u001b[39mreturn\u001b[39;00m \u001b[39mself\u001b[39m\u001b[39m.\u001b[39m_call_userfunc(tree, children)\n",
      "File \u001b[0;32m/opt/conda/lib/python3.9/site-packages/lark/visitors.py:146\u001b[0m, in \u001b[0;36mTransformer._transform_children\u001b[0;34m(self, children)\u001b[0m\n\u001b[1;32m    145\u001b[0m \u001b[39mif\u001b[39;00m \u001b[39misinstance\u001b[39m(c, Tree):\n\u001b[0;32m--> 146\u001b[0m     res \u001b[39m=\u001b[39m \u001b[39mself\u001b[39;49m\u001b[39m.\u001b[39;49m_transform_tree(c)\n\u001b[1;32m    147\u001b[0m \u001b[39melif\u001b[39;00m \u001b[39mself\u001b[39m\u001b[39m.\u001b[39m__visit_tokens__ \u001b[39mand\u001b[39;00m \u001b[39misinstance\u001b[39m(c, Token):\n",
      "File \u001b[0;32m/opt/conda/lib/python3.9/site-packages/lark/visitors.py:157\u001b[0m, in \u001b[0;36mTransformer._transform_tree\u001b[0;34m(self, tree)\u001b[0m\n\u001b[1;32m    156\u001b[0m children \u001b[39m=\u001b[39m \u001b[39mlist\u001b[39m(\u001b[39mself\u001b[39m\u001b[39m.\u001b[39m_transform_children(tree\u001b[39m.\u001b[39mchildren))\n\u001b[0;32m--> 157\u001b[0m \u001b[39mreturn\u001b[39;00m \u001b[39mself\u001b[39;49m\u001b[39m.\u001b[39;49m_call_userfunc(tree, children)\n",
      "File \u001b[0;32m/opt/conda/lib/python3.9/site-packages/lark/visitors.py:128\u001b[0m, in \u001b[0;36mTransformer._call_userfunc\u001b[0;34m(self, tree, new_children)\u001b[0m\n\u001b[1;32m    127\u001b[0m \u001b[39mexcept\u001b[39;00m \u001b[39mException\u001b[39;00m \u001b[39mas\u001b[39;00m e:\n\u001b[0;32m--> 128\u001b[0m     \u001b[39mraise\u001b[39;00m VisitError(tree\u001b[39m.\u001b[39mdata, tree, e)\n",
      "\u001b[0;31mVisitError\u001b[0m: Error trying to process rule \"attribute\":\n\nnot enough values to unpack (expected 3, got 1)",
      "\nDuring handling of the above exception, another exception occurred:\n",
      "\u001b[0;31mGraphRewriteException\u001b[0m                     Traceback (most recent call last)",
      "Cell \u001b[0;32mIn[254], line 7\u001b[0m\n\u001b[1;32m      1\u001b[0m input_graph \u001b[39m=\u001b[39m _create_graph([\u001b[39m\"\u001b[39m\u001b[39m1\u001b[39m\u001b[39m\"\u001b[39m,\n\u001b[1;32m      2\u001b[0m                             (\u001b[39m\"\u001b[39m\u001b[39m2\u001b[39m\u001b[39m\"\u001b[39m,{\u001b[39m'\u001b[39m\u001b[39mtoken\u001b[39m\u001b[39m'\u001b[39m: \u001b[39m\"\u001b[39m\u001b[39mString\u001b[39m\u001b[39m\"\u001b[39m}),(\u001b[39m\"\u001b[39m\u001b[39m3\u001b[39m\u001b[39m\"\u001b[39m,{\u001b[39m'\u001b[39m\u001b[39mtoken\u001b[39m\u001b[39m'\u001b[39m: \u001b[39m\"\u001b[39m\u001b[39mCHILD\u001b[39m\u001b[39m\"\u001b[39m,\u001b[39m'\u001b[39m\u001b[39mval\u001b[39m\u001b[39m'\u001b[39m: \u001b[39m\"\u001b[39m\u001b[39ma\u001b[39m\u001b[39m\\n\u001b[39;00m\u001b[39mstring\u001b[39m\u001b[39m\"\u001b[39m}),\n\u001b[1;32m      3\u001b[0m                             (\u001b[39m\"\u001b[39m\u001b[39m4\u001b[39m\u001b[39m\"\u001b[39m,{\u001b[39m'\u001b[39m\u001b[39mtoken\u001b[39m\u001b[39m'\u001b[39m: \u001b[39m\"\u001b[39m\u001b[39mString\u001b[39m\u001b[39m\"\u001b[39m}),(\u001b[39m\"\u001b[39m\u001b[39m5\u001b[39m\u001b[39m\"\u001b[39m,{\u001b[39m'\u001b[39m\u001b[39mtoken\u001b[39m\u001b[39m'\u001b[39m: \u001b[39m\"\u001b[39m\u001b[39mCHILD\u001b[39m\u001b[39m\"\u001b[39m,\u001b[39m'\u001b[39m\u001b[39mval\u001b[39m\u001b[39m'\u001b[39m: \u001b[39m\"\u001b[39m\u001b[39manother\u001b[39m\u001b[39m\\n\u001b[39;00m\u001b[39mstring\u001b[39m\u001b[39m\"\u001b[39m}),\n\u001b[1;32m      4\u001b[0m                             (\u001b[39m\"\u001b[39m\u001b[39m6\u001b[39m\u001b[39m\"\u001b[39m,{\u001b[39m'\u001b[39m\u001b[39mtoken\u001b[39m\u001b[39m'\u001b[39m: \u001b[39m\"\u001b[39m\u001b[39mString\u001b[39m\u001b[39m\"\u001b[39m}),(\u001b[39m\"\u001b[39m\u001b[39m7\u001b[39m\u001b[39m\"\u001b[39m,{\u001b[39m'\u001b[39m\u001b[39mtoken\u001b[39m\u001b[39m'\u001b[39m: \u001b[39m\"\u001b[39m\u001b[39mCHILD\u001b[39m\u001b[39m\"\u001b[39m,\u001b[39m'\u001b[39m\u001b[39mval\u001b[39m\u001b[39m'\u001b[39m: \u001b[39m\"\u001b[39m\u001b[39mregular string\u001b[39m\u001b[39m\"\u001b[39m})],\n\u001b[1;32m      5\u001b[0m                             [(\u001b[39m\"\u001b[39m\u001b[39m1\u001b[39m\u001b[39m\"\u001b[39m, \u001b[39m\"\u001b[39m\u001b[39m2\u001b[39m\u001b[39m\"\u001b[39m), (\u001b[39m\"\u001b[39m\u001b[39m1\u001b[39m\u001b[39m\"\u001b[39m, \u001b[39m\"\u001b[39m\u001b[39m4\u001b[39m\u001b[39m\"\u001b[39m), (\u001b[39m\"\u001b[39m\u001b[39m1\u001b[39m\u001b[39m\"\u001b[39m, \u001b[39m\"\u001b[39m\u001b[39m6\u001b[39m\u001b[39m\"\u001b[39m), (\u001b[39m\"\u001b[39m\u001b[39m2\u001b[39m\u001b[39m\"\u001b[39m, \u001b[39m\"\u001b[39m\u001b[39m3\u001b[39m\u001b[39m\"\u001b[39m), (\u001b[39m\"\u001b[39m\u001b[39m4\u001b[39m\u001b[39m\"\u001b[39m, \u001b[39m\"\u001b[39m\u001b[39m5\u001b[39m\u001b[39m\"\u001b[39m), (\u001b[39m\"\u001b[39m\u001b[39m6\u001b[39m\u001b[39m\"\u001b[39m, \u001b[39m\"\u001b[39m\u001b[39m7\u001b[39m\u001b[39m\"\u001b[39m)])\n\u001b[1;32m      6\u001b[0m \u001b[39m# Fix Strings\u001b[39;00m\n\u001b[0;32m----> 7\u001b[0m run_test(rewrite(\n\u001b[1;32m      8\u001b[0m     input_graph,\n\u001b[1;32m      9\u001b[0m     lhs \u001b[39m=\u001b[39;49m \u001b[39m'\u001b[39;49m\u001b[39ma[token=\u001b[39;49m\u001b[39m\"\u001b[39;49m\u001b[39mString\u001b[39;49m\u001b[39m\"\u001b[39;49m\u001b[39m] -> b[token=\u001b[39;49m\u001b[39m\"\u001b[39;49m\u001b[39mCHILD\u001b[39;49m\u001b[39m\"\u001b[39;49m\u001b[39m, val]\u001b[39;49m\u001b[39m'\u001b[39;49m,\n\u001b[1;32m     10\u001b[0m     p \u001b[39m=\u001b[39;49m \u001b[39m'\u001b[39;49m\u001b[39ma[token]\u001b[39;49m\u001b[39m'\u001b[39;49m,\n\u001b[1;32m     11\u001b[0m     rhs \u001b[39m=\u001b[39;49m \u001b[39m'\u001b[39;49m\u001b[39ma[token, val = \u001b[39;49m\u001b[39m{{\u001b[39;49m\u001b[39mnew_string}}]\u001b[39;49m\u001b[39m'\u001b[39;49m,\n\u001b[1;32m     12\u001b[0m     condition \u001b[39m=\u001b[39;49m \u001b[39mlambda\u001b[39;49;00m match: \u001b[39m'\u001b[39;49m\u001b[39m\\n\u001b[39;49;00m\u001b[39m'\u001b[39;49m \u001b[39min\u001b[39;49;00m match[\u001b[39m'\u001b[39;49m\u001b[39mb\u001b[39;49m\u001b[39m'\u001b[39;49m][\u001b[39m'\u001b[39;49m\u001b[39mval\u001b[39;49m\u001b[39m'\u001b[39;49m],\n\u001b[1;32m     13\u001b[0m     render_rhs \u001b[39m=\u001b[39;49m {\u001b[39m'\u001b[39;49m\u001b[39mnew_string\u001b[39;49m\u001b[39m'\u001b[39;49m: \u001b[39mlambda\u001b[39;49;00m match: match[\u001b[39m'\u001b[39;49m\u001b[39mb\u001b[39;49m\u001b[39m'\u001b[39;49m][\u001b[39m'\u001b[39;49m\u001b[39mval\u001b[39;49m\u001b[39m'\u001b[39;49m]\u001b[39m.\u001b[39;49mreplace(\u001b[39m'\u001b[39;49m\u001b[39m\\n\u001b[39;49;00m\u001b[39m'\u001b[39;49m, \u001b[39m'\u001b[39;49m\u001b[39m \u001b[39;49m\u001b[39m'\u001b[39;49m)},\n\u001b[1;32m     14\u001b[0m     is_log \u001b[39m=\u001b[39;49m \u001b[39mTrue\u001b[39;49;00m\n\u001b[1;32m     15\u001b[0m ))\n",
      "Cell \u001b[0;32mIn[251], line 2\u001b[0m, in \u001b[0;36mrun_test\u001b[0;34m(matches)\u001b[0m\n\u001b[1;32m      1\u001b[0m \u001b[39mdef\u001b[39;00m \u001b[39mrun_test\u001b[39m(matches):\n\u001b[0;32m----> 2\u001b[0m     \u001b[39mfor\u001b[39;00m match \u001b[39min\u001b[39;00m matches:\n\u001b[1;32m      3\u001b[0m         \u001b[39mcontinue\u001b[39;00m\n",
      "Cell \u001b[0;32mIn[250], line 13\u001b[0m, in \u001b[0;36mrewrite\u001b[0;34m(input_graph, lhs, p, rhs, condition, render_rhs, merge_policy, is_log, is_recursive)\u001b[0m\n\u001b[1;32m     11\u001b[0m \u001b[39m# Parse LHS and P (global for all matches)\u001b[39;00m\n\u001b[1;32m     12\u001b[0m lhs_graph, condition \u001b[39m=\u001b[39m lhs_to_graph(lhs, condition)\n\u001b[0;32m---> 13\u001b[0m p_graph \u001b[39m=\u001b[39m p_to_graph(p) \u001b[39mif\u001b[39;00m p \u001b[39melse\u001b[39;00m \u001b[39mNone\u001b[39;00m\n\u001b[1;32m     15\u001b[0m \u001b[39mif\u001b[39;00m is_recursive:\n\u001b[1;32m     16\u001b[0m     \u001b[39mwhile\u001b[39;00m \u001b[39mTrue\u001b[39;00m:\n",
      "File \u001b[0;32m/home/jovyan/graph_rewrite/graph_rewrite/p_rhs_parse.py:110\u001b[0m, in \u001b[0;36mp_to_graph\u001b[0;34m(p)\u001b[0m\n\u001b[1;32m    108\u001b[0m     \u001b[39mreturn\u001b[39;00m p_graph\n\u001b[1;32m    109\u001b[0m \u001b[39mexcept\u001b[39;00m (\u001b[39mBaseException\u001b[39;00m, UnexpectedCharacters, UnexpectedToken) \u001b[39mas\u001b[39;00m e:\n\u001b[0;32m--> 110\u001b[0m     \u001b[39mraise\u001b[39;00m GraphRewriteException(\u001b[39m'\u001b[39m\u001b[39mUnable to convert P: \u001b[39m\u001b[39m{}\u001b[39;00m\u001b[39m'\u001b[39m\u001b[39m.\u001b[39mformat(e))\n",
      "\u001b[0;31mGraphRewriteException\u001b[0m: Unable to convert P: Error trying to process rule \"attribute\":\n\nnot enough values to unpack (expected 3, got 1)"
     ]
    }
   ],
   "source": [
    "input_graph = _create_graph([\"1\",\n",
    "                            (\"2\",{'token': \"String\"}),(\"3\",{'token': \"CHILD\",'val': \"a\\nstring\"}),\n",
    "                            (\"4\",{'token': \"String\"}),(\"5\",{'token': \"CHILD\",'val': \"another\\nstring\"}),\n",
    "                            (\"6\",{'token': \"String\"}),(\"7\",{'token': \"CHILD\",'val': \"regular string\"})],\n",
    "                            [(\"1\", \"2\"), (\"1\", \"4\"), (\"1\", \"6\"), (\"2\", \"3\"), (\"4\", \"5\"), (\"6\", \"7\")])\n",
    "# Fix Strings\n",
    "run_test(rewrite(\n",
    "    input_graph,\n",
    "    lhs = 'a[token=\"String\"] -> b[token=\"CHILD\", val]',\n",
    "    p = 'a[token]',\n",
    "    rhs = 'a[token, val = {{new_string}}]',\n",
    "    condition = lambda match: '\\n' in match['b']['val'],\n",
    "    render_rhs = {'new_string': lambda match: match['b']['val'].replace('\\n', ' ')},\n",
    "    is_log = True\n",
    "))"
   ]
  },
  {
   "cell_type": "markdown",
   "metadata": {},
   "source": [
    "#### Engine component"
   ]
  },
  {
   "cell_type": "code",
   "execution_count": null,
   "metadata": {},
   "outputs": [],
   "source": [
    "# # the following function performs type checking for assignments\n",
    "# def func(m: Match, symbol_table):\n",
    "#     assignment = m[\"assignment\"][\"val\"]\n",
    "#     # get the type of the argument for the read() function\n",
    "#     if assignment[\"read_arg_type\"] is DataTypes.var_name:\n",
    "#         read_arg_var_name = assignment[\"read_arg\"]\n",
    "#         read_arg_type = symbol_table.get_variable_type(read_arg_var_name)\n",
    "#     else:\n",
    "#         read_arg_type = assignment[\"read_arg_type\"]\n",
    "\n",
    "#     # if the argument is not of type string, raise and exception\n",
    "#     if read_arg_type is not DataTypes.string:\n",
    "#         raise Exception(f'type checking failed for the read assignment {assignment}\\n'\n",
    "#                         f'because the argument type for read() was {read_arg_type} (must be a string)')\n",
    "\n",
    "# symbol_table = ...\n",
    "# lhs = \"\"\"assignment[token: = \"read_assignment\", val]\"\"\"\n",
    "# matches = rewrite(input_graph, lhs)\n",
    "# for match in matches:\n",
    "#     func(match, symbol_table)\n",
    "\n"
   ]
  }
 ],
 "metadata": {
  "kernelspec": {
   "display_name": "python3",
   "language": "python",
   "name": "python3"
  }
 },
 "nbformat": 4,
 "nbformat_minor": 2
}
