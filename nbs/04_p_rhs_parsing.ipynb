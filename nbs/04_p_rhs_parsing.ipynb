{
 "cells": [
  {
   "attachments": {},
   "cell_type": "markdown",
   "metadata": {},
   "source": [
    "# P & RHS Parsing"
   ]
  },
  {
   "cell_type": "code",
   "execution_count": null,
   "metadata": {},
   "outputs": [],
   "source": [
    "#| default_exp p_rhs_parse\n",
    "%load_ext autoreload\n",
    "%autoreload 2"
   ]
  },
  {
   "attachments": {},
   "cell_type": "markdown",
   "metadata": {},
   "source": [
    "### Overview\n",
    "The searching phase of rewrite is done. The next phase is to pereform the optional changes on the graph, defined according to the *P* and *RHS* components, which the user supplies to the rewrite function as additional string parameters. In this module we define the grammars for *P* and *RHS* components, which are slightly different from the grammar in the lhs parsing module. We use the same transformer defined in the _lhs_ module, this time with a different 'component' parameter.\n",
    "\n",
    "An elaborated documentation regarding the different components (LHS, P, RHS) is supplied in the _rules_ module."
   ]
  },
  {
   "attachments": {},
   "cell_type": "markdown",
   "metadata": {},
   "source": [
    "### Requirements"
   ]
  },
  {
   "cell_type": "code",
   "execution_count": null,
   "metadata": {},
   "outputs": [],
   "source": [
    "#| export\n",
    "from lark import Lark\n",
    "from lark import UnexpectedCharacters, UnexpectedToken\n",
    "import networkx as nx\n",
    "from graph_rewrite.match_class import Match\n",
    "from graph_rewrite.core import GraphRewriteException\n",
    "from graph_rewrite.core import _create_graph, _plot_graph, _graphs_equal\n",
    "from graph_rewrite.lhs import RenderFunc, graphRewriteTransformer"
   ]
  },
  {
   "attachments": {},
   "cell_type": "markdown",
   "metadata": {},
   "source": [
    "### P Grammar\n",
    "The naxt grammar is for the P component supplied by the user. The main difference from the LHS grammar is that no attribute value or type constraints are allowed. We also accept the syntax for merging (\"*\"), and allow an empty P string to be supplied."
   ]
  },
  {
   "cell_type": "code",
   "execution_count": null,
   "metadata": {},
   "outputs": [],
   "source": [
    "#| export\n",
    "p_parser = Lark(r\"\"\"\n",
    "    %import common.WS -> WS\n",
    "    %ignore WS\n",
    "\n",
    "    NAMED_VERTEX: /[_a-zA-Z0-9\\*]+/\n",
    "    ATTR_NAME: /[_a-zA-Z0-9]+/\n",
    "    INDEX: /[0-9]+/\n",
    "        \n",
    "    attribute: ATTR_NAME\n",
    "    attributes: \"[\" attribute (\",\" attribute)* \"]\"\n",
    "\n",
    "    connection: [\"-\" attributes]\"->\"\n",
    "    \n",
    "    index_vertex: NAMED_VERTEX \"<\" INDEX (\",\" INDEX)* \">\"\n",
    "\n",
    "    vertex: NAMED_VERTEX [attributes]\n",
    "    | index_vertex [attributes]\n",
    "\n",
    "    empty:\n",
    "    pattern: vertex (connection vertex)*\n",
    "    patterns: pattern (\";\" pattern)* | empty\n",
    "\n",
    "    \"\"\", parser=\"lalr\", start='patterns' , debug=True)"
   ]
  },
  {
   "attachments": {},
   "cell_type": "markdown",
   "metadata": {},
   "source": [
    "### RHS Grammar\n",
    "The following grammar is for the RHS supplied by the user. \n",
    "\n",
    "Since we might want to change each matched graph a bit differently, depending on the actual values of its attributes, we allow the user to define a parameterized RHS string: \n",
    "For each placeholder in the string, the user writes \"{{name_of_placeholder}}\" inside the string.\n",
    "Inside the transformer we retrieve the actual value with a dictionary, sent by the user to the rewrite function as **render_rhs** - a dictionary whose keys are names of templated arguments in RHS, and values are functions that receive a Match and return a new value (dependent on the current matches). For every match, we calculate inside the transformer the actual value that the functions specify for each template argument, and render the attribute in the created graph accordingly, such that every match has its own RHS graph.\n",
    "\n",
    "The main difference from the privious grammar is the template strings (placeholders denoted with \"{{ }}\") mentioned above. In addition we accept the syntax for merging (\"&\")."
   ]
  },
  {
   "cell_type": "code",
   "execution_count": null,
   "metadata": {},
   "outputs": [],
   "source": [
    "#| export\n",
    "rhs_parser = Lark(r\"\"\"\n",
    "    %import common.INT -> INT \n",
    "    %import common.FLOAT -> FLOAT\n",
    "    %import common.ESCAPED_STRING -> STRING\n",
    "    %import common.WS -> WS\n",
    "    %ignore WS\n",
    "\n",
    "    NAMED_VERTEX: /[_a-zA-Z0-9\\*&]+/\n",
    "    ATTR_NAME: /[_a-zA-Z0-9]+/\n",
    "    TYPE:  \"int\" | \"string\"\n",
    "    BOOLEAN: \"True\" | \"False\"\n",
    "    NATURAL_NUMBER: /[1-9][0-9]*/\n",
    "    INDEX: /[0-9]+/\n",
    "    USER_VALUE: /\\{\\{[^[\\]{};=]*\\}\\}/\n",
    "\n",
    "    value: FLOAT | INT | BOOLEAN | USER_VALUE | STRING\n",
    "\n",
    "    attribute: ATTR_NAME [\":\" TYPE] [\"=\" value]\n",
    "    attributes: \"[\" attribute (\",\" attribute)* \"]\"\n",
    "\n",
    "    connection: [\"-\" attributes]\"->\"\n",
    "    \n",
    "    index_vertex: NAMED_VERTEX \"<\" INDEX (\",\" INDEX)* \">\"\n",
    "\n",
    "    vertex: NAMED_VERTEX [attributes]\n",
    "    | index_vertex [attributes]\n",
    "\n",
    "    empty:\n",
    "    pattern: vertex (connection vertex)*\n",
    "    patterns: pattern (\";\" pattern)* | empty\n",
    "\n",
    "    \"\"\", parser=\"lalr\", start='patterns' , debug=True)"
   ]
  },
  {
   "attachments": {},
   "cell_type": "markdown",
   "metadata": {},
   "source": [
    "### Render RHS strings"
   ]
  },
  {
   "cell_type": "code",
   "execution_count": null,
   "metadata": {},
   "outputs": [],
   "source": [
    "#| export\n",
    "def rhs_to_graph(rhs: str, match: Match = None, render_funcs: dict[str, RenderFunc] = {}):\n",
    "    \"\"\"Given an RHS pattern, a match caught by the LHS, and functions that represent the values of the \n",
    "    possible placeholders in the pattern, return the directed graph represented by the pattern, \n",
    "    with rendered attribute values according to the functions and the match.\n",
    "\n",
    "    Args:\n",
    "        rhs (string): A string in lhs format \n",
    "        match (Match): a match object caught by the matcher module\n",
    "        render_funcs (dict[str, RenderFunc]): A dictionary supplied by the user \n",
    "                                              indicating which value every placeholder should be rendered with.\n",
    "\n",
    "    Returns:\n",
    "        DiGraph: a networkx graph that is the graph represented by the pattern, with rendered attribute values.\n",
    "    \"\"\"\n",
    "    try:\n",
    "        tree = rhs_parser.parse(rhs)\n",
    "        rhs_graph, _ = graphRewriteTransformer(component=\"RHS\", match=match, render_funcs=render_funcs).transform(tree)                \n",
    "        return rhs_graph\n",
    "    except (BaseException, UnexpectedCharacters, UnexpectedToken) as e:\n",
    "        raise GraphRewriteException('Unable to convert RHS: {}'.format(e))"
   ]
  },
  {
   "cell_type": "code",
   "execution_count": null,
   "metadata": {},
   "outputs": [],
   "source": [
    "#| export\n",
    "def p_to_graph(p: str):\n",
    "    \"\"\"Given an P pattern, return the directed graph represented by the pattern.\n",
    "\n",
    "    Args:\n",
    "        p (string): A string in lhs format \n",
    "\n",
    "    Returns:\n",
    "        DiGraph: a networkx graph that is the graph represented by the pattern.\n",
    "    \"\"\"\n",
    "    try:\n",
    "        tree = p_parser.parse(p)\n",
    "        p_graph, _ = graphRewriteTransformer(component=\"P\").transform(tree)                \n",
    "        return p_graph\n",
    "    except (BaseException, UnexpectedCharacters, UnexpectedToken) as e:\n",
    "        raise GraphRewriteException('Unable to convert P: {}'.format(e))"
   ]
  },
  {
   "attachments": {},
   "cell_type": "markdown",
   "metadata": {},
   "source": [
    "### Tests\n",
    "In the _rules_ module, there are more extensive tests that demonstrate the different functionalities of P and RHS patterns. Here, we show a few basic tests to verify the fundamental correctness of our grammar and parser."
   ]
  },
  {
   "cell_type": "markdown",
   "metadata": {},
   "source": [
    "#### Empty Graphs"
   ]
  },
  {
   "cell_type": "code",
   "execution_count": null,
   "metadata": {},
   "outputs": [],
   "source": [
    "res = p_to_graph(\"\")\n",
    "expected = nx.DiGraph()\n",
    "assert(_graphs_equal(expected, res))\n",
    "\n",
    "res = rhs_to_graph(\"\")\n",
    "expected = nx.DiGraph()\n",
    "assert(_graphs_equal(expected, res))"
   ]
  },
  {
   "cell_type": "markdown",
   "metadata": {},
   "source": [
    "#### Cloning of Vertices"
   ]
  },
  {
   "cell_type": "code",
   "execution_count": null,
   "metadata": {},
   "outputs": [],
   "source": [
    "res = p_to_graph(\"a; b; c\")\n",
    "expected = _create_graph(['a', 'b', 'c'], [])\n",
    "assert(_graphs_equal(expected, res))\n",
    "#_plot_graph(res)\n",
    "\n",
    "res = p_to_graph(\"A->B; A->C; A->C*1; A->C*2\")\n",
    "expected = _create_graph(['A', 'B', 'C', 'C*1', 'C*2'], [('A','B'), ('A','C'), ('A','C*1'), ('A', 'C*2')])\n",
    "assert(_graphs_equal(expected, res))\n",
    "#_plot_graph(res)"
   ]
  },
  {
   "cell_type": "markdown",
   "metadata": {},
   "source": [
    "#### Merging of vertices"
   ]
  },
  {
   "cell_type": "code",
   "execution_count": null,
   "metadata": {},
   "outputs": [
    {
     "data": {
      "image/png": "[encoded data removed]",
      "text/plain": [
       "<Figure size 640x480 with 1 Axes>"
      ]
     },
     "metadata": {},
     "output_type": "display_data"
    }
   ],
   "source": [
    "res = rhs_to_graph(\"A->B; A->C; A->C&D&E*1\")\n",
    "expected = _create_graph(['A', 'B', 'C', 'C&D&E*1'], [('A','B'), ('A','C'), ('A','C&D&E*1')])\n",
    "assert(_graphs_equal(expected, res))\n",
    "_plot_graph(res)"
   ]
  },
  {
   "cell_type": "markdown",
   "metadata": {},
   "source": [
    "#### RHS with User Value"
   ]
  },
  {
   "cell_type": "code",
   "execution_count": null,
   "metadata": {},
   "outputs": [],
   "source": [
    "res = rhs_to_graph(\"\"\"a; b; c[attr={{x}}]\"\"\", match = None, render_funcs={\"x\": lambda m: 5})\n",
    "expected = _create_graph(['a', 'b', ('c',{\"attr\":5})], [])\n",
    "assert(_graphs_equal(expected, res))\n",
    "#_plot_graph(res)\n",
    "\n",
    "\n",
    "res = rhs_to_graph(\"\"\"a-[valy={{y}}]->b&c ; c[valx={{x}}]\"\"\", match = None, render_funcs={\"x\": lambda m: 5, \"y\": lambda m: 'hi'})\n",
    "expected = _create_graph(['a', 'b&c', ('c',{'valx':5})], [('a','b&c',{'valy':'hi'})])\n",
    "assert(_graphs_equal(expected, res))\n",
    "#_plot_graph(res)"
   ]
  }
 ],
 "metadata": {
  "kernelspec": {
   "display_name": "python3",
   "language": "python",
   "name": "python3"
  }
 },
 "nbformat": 4,
 "nbformat_minor": 2
}
