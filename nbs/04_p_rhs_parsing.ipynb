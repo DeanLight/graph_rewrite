{
 "cells": [
  {
   "attachments": {},
   "cell_type": "markdown",
   "metadata": {},
   "source": [
    "# P & RHS Parsing"
   ]
  },
  {
   "cell_type": "code",
   "execution_count": null,
   "metadata": {},
   "outputs": [],
   "source": [
    "#| default_exp p_rhs_parse\n",
    "%load_ext autoreload\n",
    "%autoreload 2"
   ]
  },
  {
   "attachments": {},
   "cell_type": "markdown",
   "metadata": {},
   "source": [
    "### Overview\n",
    "<!-- TODO: update it -->\n",
    "The searching phase of rewrite is done, so now we have a filtered ResultSet which we'll use for the transformation part.\n",
    "Since we might want to change each matched graph a bit differently, depending on the actual values of its attributes, we allow the user to define a parameterized RHS string:\n",
    "\n",
    "For each placeholder in the string, the user writes \"{{name_of_placeholder}}\" inside the string.\n",
    "In this module, we wrap the string with jinja2's Template class and render the string with a dictionary, sent by the user to the rewrite function as **render_rhs** - a dictionary whose keys are names of templated arguments in RHS, and values are functions that receive a Match and return a new value (dependent on the current matches). For every match, we calculate the actual value that the functions specify for each template argument, and render the RHS accordingly, such that every match has its own specific RHS string."
   ]
  },
  {
   "attachments": {},
   "cell_type": "markdown",
   "metadata": {},
   "source": [
    "### Requirements"
   ]
  },
  {
   "cell_type": "code",
   "execution_count": null,
   "metadata": {},
   "outputs": [],
   "source": [
    "#| export\n",
    "import copy\n",
    "import networkx as nx\n",
    "from lark import Transformer, Lark\n",
    "from lark import UnexpectedCharacters, UnexpectedToken\n",
    "from graph_rewrite.match_class import Match\n",
    "from graph_rewrite.core import GraphRewriteException\n",
    "from graph_rewrite.core import _create_graph, _plot_graph, _graphs_equal\n",
    "from graph_rewrite.lhs import RenderFunc, graphRewriteTransformer"
   ]
  },
  {
   "attachments": {},
   "cell_type": "markdown",
   "metadata": {},
   "source": [
    "### P Grammar"
   ]
  },
  {
   "cell_type": "code",
   "execution_count": null,
   "metadata": {},
   "outputs": [],
   "source": [
    "#| export\n",
    "p_parser = Lark(r\"\"\"\n",
    "    %import common.WS -> WS\n",
    "    %ignore WS\n",
    "\n",
    "    NAMED_VERTEX: /[a-zA-Z0-9\\*]+/\n",
    "    ATTR_NAME: /[a-zA-Z0-9]+/\n",
    "    INDEX: /[0-9]+/\n",
    "        \n",
    "    attribute: ATTR_NAME\n",
    "    attributes: \"[\" attribute (\",\" attribute)* \"]\"\n",
    "\n",
    "    connection: [\"-\" attributes]\"->\"\n",
    "    \n",
    "    index_vertex: NAMED_VERTEX \"<\" INDEX (\",\" INDEX)* \">\"\n",
    "\n",
    "    vertex: NAMED_VERTEX [attributes]\n",
    "    | index_vertex [attributes]\n",
    "\n",
    "    pattern: vertex (connection vertex)*\n",
    "    patterns: pattern (\";\" pattern)*\n",
    "\n",
    "    \"\"\", parser=\"lalr\", start='patterns' , debug=True)"
   ]
  },
  {
   "attachments": {},
   "cell_type": "markdown",
   "metadata": {},
   "source": [
    "### RHS Grammar\n",
    "The naxt grammar is for the RHS supplied by the user. The main difference from the privious grammar is that it accepts template jinja2 strings (placeholders denoted with \"{{ }}\"). In addition we accept the syntax for merging (\"&\")."
   ]
  },
  {
   "cell_type": "code",
   "execution_count": null,
   "metadata": {},
   "outputs": [],
   "source": [
    "#| export\n",
    "rhs_parser = Lark(r\"\"\"\n",
    "    %import common.INT -> INT \n",
    "    %import common.FLOAT -> FLOAT\n",
    "    %import common.ESCAPED_STRING -> STRING\n",
    "    %import common.WS -> WS\n",
    "    %ignore WS\n",
    "\n",
    "    NAMED_VERTEX: /[a-zA-Z0-9\\*&]+/\n",
    "    ATTR_NAME: /[a-zA-Z0-9]+/\n",
    "    TYPE:  \"int\" | \"string\"\n",
    "    BOOLEAN: \"True\" | \"False\"\n",
    "    NATURAL_NUMBER: /[1-9][0-9]*/\n",
    "    INDEX: /[0-9]+/\n",
    "    USER_VALUE: /\\{\\{.*\\}\\}/\n",
    "\n",
    "    value: FLOAT | INT | BOOLEAN | USER_VALUE | STRING\n",
    "\n",
    "    attribute: ATTR_NAME [\":\" TYPE] [\"=\" value]\n",
    "    attributes: \"[\" attribute (\",\" attribute)* \"]\"\n",
    "\n",
    "    connection: [\"-\" attributes]\"->\"\n",
    "    \n",
    "    index_vertex: NAMED_VERTEX \"<\" INDEX (\",\" INDEX)* \">\"\n",
    "\n",
    "    vertex: NAMED_VERTEX [attributes]\n",
    "    | index_vertex [attributes]\n",
    "\n",
    "    pattern: vertex (connection vertex)*\n",
    "    patterns: pattern (\";\" pattern)*\n",
    "\n",
    "    \"\"\", parser=\"lalr\", start='patterns' , debug=True)"
   ]
  },
  {
   "attachments": {},
   "cell_type": "markdown",
   "metadata": {},
   "source": [
    "### Render RHS strings"
   ]
  },
  {
   "cell_type": "code",
   "execution_count": null,
   "metadata": {},
   "outputs": [],
   "source": [
    "#| export\n",
    "def rhs_to_graph(rhs: str, match: Match = None, render_funcs: dict[str, RenderFunc] = {}):\n",
    "    \"\"\"Given an RHS pattern, a match caught by the LHS, and functions that represent the values of the \n",
    "    possible placeholders in the pattern, return the directed graph represented by the pattern, \n",
    "    with rendered attribute values according to the functions and the match.\n",
    "\n",
    "    Args:\n",
    "        rhs (string): A string in lhs format \n",
    "        match (Match): a match object caught by the matcher module\n",
    "        render_funcs (dict[str, RenderFunc]): A dictionary supplied by the user \n",
    "                                              indicating which value every placeholder should be rendered with.\n",
    "\n",
    "    Returns:\n",
    "        DiGraph: a networkx graph that is the graph represented by the pattern, with rendered attribute values.\n",
    "    \"\"\"\n",
    "    try:\n",
    "        tree = rhs_parser.parse(rhs)\n",
    "        rhs_graph, _ = graphRewriteTransformer(component=\"RHS\", match=match, render_funcs=render_funcs).transform(tree)                \n",
    "        return rhs_graph\n",
    "    except (BaseException, UnexpectedCharacters, UnexpectedToken) as e:\n",
    "        raise GraphRewriteException('Unable to convert RHS: {}'.format(e))"
   ]
  },
  {
   "cell_type": "code",
   "execution_count": null,
   "metadata": {},
   "outputs": [],
   "source": [
    "#| export\n",
    "def p_to_graph(p: str):\n",
    "    \"\"\"Given an P pattern, return the directed graph represented by the pattern.\n",
    "\n",
    "    Args:\n",
    "        p (string): A string in lhs format \n",
    "\n",
    "    Returns:\n",
    "        DiGraph: a networkx graph that is the graph represented by the pattern.\n",
    "    \"\"\"\n",
    "    try:\n",
    "        tree = p_parser.parse(p)\n",
    "        p_graph, _ = graphRewriteTransformer(component=\"P\").transform(tree)                \n",
    "        return p_graph\n",
    "    except (BaseException, UnexpectedCharacters, UnexpectedToken) as e:\n",
    "        raise GraphRewriteException('Unable to convert P: {}'.format(e))"
   ]
  },
  {
   "attachments": {},
   "cell_type": "markdown",
   "metadata": {},
   "source": [
    "### Tests"
   ]
  },
  {
   "cell_type": "code",
   "execution_count": null,
   "metadata": {},
   "outputs": [],
   "source": [
    "res = p_to_graph(\"a; b; c\")\n",
    "expected = _create_graph(['a', 'b', 'c'], [])\n",
    "assert(_graphs_equal(expected, res))\n",
    "#_plot_graph(res)\n",
    "\n",
    "res = p_to_graph(\"A->B; A->C; A->C*1; A->C*2\")\n",
    "expected = _create_graph(['A', 'B', 'C', 'C*1', 'C*2'], [('A','B'), ('A','C'), ('A','C*1'), ('A', 'C*2')])\n",
    "assert(_graphs_equal(expected, res))\n",
    "#_plot_graph(res)"
   ]
  },
  {
   "cell_type": "code",
   "execution_count": null,
   "metadata": {},
   "outputs": [],
   "source": [
    "res = rhs_to_graph(\"\"\"a; b; c[attr={{x}}]\"\"\", match = None, render_funcs={\"x\": lambda m: 5})\n",
    "expected = _create_graph(['a', 'b', ('c',{\"attr\":5})], [])\n",
    "assert(_graphs_equal(expected, res))\n",
    "#_plot_graph(res)\n",
    "\n",
    "res = rhs_to_graph(\"\"\"a; b; c[attr={{x}}]\"\"\", match = None, render_funcs={\"x\": lambda m: 5})\n",
    "expected = _create_graph(['a', 'b', ('c',{\"attr\":5})], [])\n",
    "assert(_graphs_equal(expected, res))\n",
    "#_plot_graph(res)"
   ]
  },
  {
   "cell_type": "code",
   "execution_count": null,
   "metadata": {},
   "outputs": [],
   "source": []
  }
 ],
 "metadata": {
  "kernelspec": {
   "display_name": "python3",
   "language": "python",
   "name": "python3"
  }
 },
 "nbformat": 4,
 "nbformat_minor": 2
}
