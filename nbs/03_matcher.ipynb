{
 "cells": [
  {
   "attachments": {},
   "cell_type": "markdown",
   "metadata": {},
   "source": [
    "# Matcher"
   ]
  },
  {
   "cell_type": "code",
   "execution_count": null,
   "metadata": {},
   "outputs": [],
   "source": [
    "#TODO: Go over all comments and make sure they are correct and up to date"
   ]
  },
  {
   "cell_type": "code",
   "execution_count": 2,
   "metadata": {},
   "outputs": [],
   "source": [
    "#| default_exp matcher"
   ]
  },
  {
   "cell_type": "code",
   "execution_count": 3,
   "metadata": {},
   "outputs": [],
   "source": [
    "#| hide\n",
    "from nbdev.showdoc import show_doc\n",
    "%load_ext autoreload\n",
    "%autoreload 2"
   ]
  },
  {
   "cell_type": "code",
   "execution_count": 4,
   "metadata": {},
   "outputs": [],
   "source": [
    "#| export\n",
    "from itertools import product, permutations\n",
    "from typing import Tuple, Iterator"
   ]
  },
  {
   "attachments": {},
   "cell_type": "markdown",
   "metadata": {},
   "source": [
    "### Overview\n",
    "In the previous modules, the LHS Parser received an LHS string, describing some graph pattern, and parsed it to an equivalent NetworkX DiGraph. In the following module, we search for **matches** to this pattern in our input graph - That is, find all subgraphs of our input graph, which have the same structure as the pattern in terms of nodes, the edges connecting them and the attributes they all have. \n",
    "\n",
    "Each match is basically a mapping from a subset of the input graph nodes to a the pattern nodes (as we can deduce what are the matched edges and attributes accordingly).\n",
    "\n",
    "The **Matcher** in this module does the following:\n",
    "* **Searches for matches** in the input graph, according to some LHS pattern graph.\n",
    "* **Filters matches** based on an explicit boolean function, and / or constraints given to the matcher by the parser to be handled later.\n",
    "* **Constructs a list of Match objects**, each corresponds to one of the filtered matches we've found. The list will be used in later modules, and will also allow users to view the matches and to use them imperatively.\n",
    "\n",
    "The final, filtered list of Match objects is returned from this module's main function, **find_matches**."
   ]
  },
  {
   "attachments": {},
   "cell_type": "markdown",
   "metadata": {},
   "source": [
    "### Requirements"
   ]
  },
  {
   "cell_type": "code",
   "execution_count": 5,
   "metadata": {},
   "outputs": [],
   "source": [
    "#| export\n",
    "from typing import *\n",
    "from networkx import DiGraph\n",
    "from networkx.algorithms import isomorphism # check subgraph's isom.\n",
    "import itertools # iterating over all nodes\\edges combinations\n",
    "\n",
    "from graph_rewrite.core import NodeName, _create_graph, draw\n",
    "from graph_rewrite.lhs import lhs_to_graph\n",
    "from graph_rewrite.match_class import Match, mapping_to_match, is_anonymous_node,draw_match"
   ]
  },
  {
   "attachments": {},
   "cell_type": "markdown",
   "metadata": {},
   "source": [
    "### Find Matches\n",
    "Given an input graph and a pattern graph, we want to find the list of matches from pattern nodes to input-graph nodes, each constructs a corresponding Match object. "
   ]
  },
  {
   "attachments": {},
   "cell_type": "markdown",
   "metadata": {},
   "source": [
    "#### Checking for Attribute Existence and Constant Values\n",
    "A crucial aspect of finding matches is comparing the attributes of nodes to determine whether they are compatible. Nodes that match based on either the existence of specific attributes or constant attribute values are considered candidates. These candidates are then further refined to identify all valid matches for the given pattern."
   ]
  },
  {
   "cell_type": "code",
   "execution_count": null,
   "metadata": {},
   "outputs": [],
   "source": [
    "#| export\n",
    "# TODO: Ensure we separate between constant attributes and existence checks (constants).\n",
    "# a[id] -> existence check (can be checked before combinatorics)\n",
    "# a[id=Constant(3)] -> constant value check (can be checked before combinatorics)\n",
    "\n",
    "# TODO: Email Dean regarding the parser ability to support constant values in the pattern graph - it is currently not supported, and so all constant values will still\n",
    "#  result in a None value in the pattern graph.\n",
    "\n",
    "# This class is used to represent a constant value in the pattern graph (e.g., a[id=3]).\n",
    "# It helps differentiate between constant values and values that are dependent on runtime (e.g., when using conditions while creating the LHS).\n",
    "class Constant:\n",
    "    def __init__(self, value):\n",
    "        self.value = value\n",
    "\n",
    "# Helper function to compare pattern attributes (node or edge) with input attributes\n",
    "def _attributes_match(pattern_attrs: dict, input_attrs: dict) -> bool:\n",
    "    \"\"\"\n",
    "    Check if the input attributes match the pattern attributes.\n",
    "\n",
    "    This function supports both:\n",
    "    - Existence checks (ensures that required attributes exist).\n",
    "    - Constant value checks (ensures that constant values match).\n",
    "\n",
    "    Args:\n",
    "        pattern_attrs (dict): Attributes of the pattern (node or edge).\n",
    "        input_attrs (dict): Attributes of the input (node or edge).\n",
    "\n",
    "    Returns:\n",
    "        bool: True if the input attributes match the pattern attributes, False otherwise.\n",
    "    \"\"\"\n",
    "    for attr_name, attr_value in pattern_attrs.items():\n",
    "        if attr_name not in input_attrs:  # If the attribute does not exist, return False\n",
    "            return False\n",
    "        \n",
    "        if attr_value is None: # If the attribute exists, but the value is None, continue to the next attribute\n",
    "            continue\n",
    "\n",
    "        # TODO: This is not supported yet due to the parser not supporting constant values in the pattern graph - we will never reach this point, and it is implemented for future use, once the parser supports it.\n",
    "        if isinstance(attr_value, Constant):  # If the attribute exists, and the value is a constant, check if the value matches\n",
    "            if input_attrs[attr_name] != attr_value.value:\n",
    "                return False\n",
    "\n",
    "    return True"
   ]
  },
  {
   "cell_type": "markdown",
   "metadata": {},
   "source": [
    "#### Narrow Down Search Space\n",
    "Using the functions presented thus far, the search for matches might take a lot of time if the graph has a high number of nodes / edges. Nodes which are no real candidate to match any pattern node (do not share attributes with any pattern node) are checked eitherway, which is extermely inefficient. \n",
    "\n",
    "Therefore, before we search for matches in our input graph, we will reduce it to only contain the nodes that might match any of the pattern nodes (and their connected edges as well). This might improve the whole matching performance. The following function is used in order to do exactly that:"
   ]
  },
  {
   "cell_type": "code",
   "execution_count": null,
   "metadata": {},
   "outputs": [],
   "source": [
    "#| export\n",
    "def _filter_candidates_by_edges(pattern: DiGraph, input_graph: DiGraph, pattern_node: NodeName, candidate_input_nodes: Set[NodeName]) -> Set[NodeName]:\n",
    "    \"\"\"\n",
    "    Helper function for _find_input_nodes_with_pattern_attributes_and_edges.\n",
    "    Further filters the candidate input nodes by checking if their edges match the pattern node's edges by attributes.\n",
    "    The function first collects all edges of the pattern node that have attributes specified and then filters out\n",
    "    the candidates that don't have at least one unique matching edge for each pattern edge.\n",
    "\n",
    "    Args:\n",
    "        pattern (DiGraph): The pattern graph.\n",
    "        input_graph (DiGraph): The input graph.\n",
    "        pattern_node (NodeName): The pattern node.\n",
    "        candidate_input_nodes (Set[NodeName]): A set of candidate input nodes that already match the node attributes.\n",
    "\n",
    "    Returns:\n",
    "        Set[NodeName]: A filtered set of candidate input nodes that also have matching unique edges.\n",
    "    \"\"\"\n",
    "    pattern_edges_with_attrs = [\n",
    "        (pattern_node, pattern_neighbor, pattern.get_edge_data(pattern_node, pattern_neighbor))\n",
    "        for pattern_neighbor in pattern.neighbors(pattern_node)\n",
    "        if pattern.get_edge_data(pattern_node, pattern_neighbor)  # Only edges with attributes\n",
    "    ]\n",
    "\n",
    "    if not pattern_edges_with_attrs:\n",
    "        return candidate_input_nodes\n",
    "\n",
    "    filtered_candidates = set()\n",
    "\n",
    "    for input_node in candidate_input_nodes:\n",
    "        unused_input_edges = {(input_node, input_neighbor) for input_neighbor in input_graph.neighbors(input_node)}\n",
    "\n",
    "        valid_candidate = True  # Assume valid unless proven otherwise\n",
    "\n",
    "        for _, _, pattern_edge_attrs in pattern_edges_with_attrs:\n",
    "            match_found = False\n",
    "\n",
    "            for input_edge in list(unused_input_edges):\n",
    "                input_edge_attrs = input_graph.get_edge_data(*input_edge, default={})\n",
    "\n",
    "                if _attributes_match(pattern_edge_attrs, input_edge_attrs):\n",
    "                    unused_input_edges.remove(input_edge)\n",
    "                    match_found = True\n",
    "                    break\n",
    "\n",
    "            if not match_found:\n",
    "                valid_candidate = False\n",
    "                break\n",
    "\n",
    "        if valid_candidate:\n",
    "            filtered_candidates.add(input_node)\n",
    "\n",
    "    return filtered_candidates"
   ]
  },
  {
   "cell_type": "code",
   "execution_count": null,
   "metadata": {},
   "outputs": [],
   "source": [
    "#| export\n",
    "def _find_input_nodes_candidates_for_pattern_node(pattern_node: NodeName, pattern: DiGraph, input_graph: DiGraph) -> set[NodeName]:\n",
    "    \"\"\"\n",
    "    Given a pattern node and an input graph, return a set of input graph nodes that:\n",
    "    - Contain the required attributes of the pattern node, including constant value checks (if specified) and existence checks (if no value is specified / no constant value).\n",
    "    - Have at least one edge with matching attributes for each edge of the pattern node that has attributes specified.\n",
    "\n",
    "    Args:\n",
    "        pattern_node (NodeName): The pattern node.\n",
    "        pattern (DiGraph): The pattern graph.\n",
    "        input_graph (DiGraph): The input graph.\n",
    "\n",
    "    Returns:\n",
    "        set[NodeName]: A set of input graph nodes that match the required attributes and have at least one matching edge.\n",
    "    \"\"\"\n",
    "\n",
    "    pattern_node_attrs = pattern.nodes[pattern_node]\n",
    "\n",
    "    if \"_id\" in pattern_node_attrs: #TODO: understand why this is here (_id)\n",
    "        input_node_id = pattern_node_attrs.pop(\"_id\")\n",
    "        input_nodes_to_check = [input_node_id]\n",
    "    else:\n",
    "        input_nodes_to_check = list(input_graph.nodes)\n",
    "\n",
    "    # Filter nodes by attributes first\n",
    "    candidate_nodes = {\n",
    "        input_node\n",
    "        for input_node in input_nodes_to_check\n",
    "        if _attributes_match(pattern_node_attrs, input_graph.nodes[input_node])\n",
    "    }\n",
    "\n",
    "    # Further filter candidate nodes by checking if they have matching edges\n",
    "    return _filter_candidates_by_edges(pattern, input_graph, pattern_node, candidate_nodes)"
   ]
  },
  {
   "attachments": {},
   "cell_type": "markdown",
   "metadata": {},
   "source": [
    "#### Find Structural Matches\n",
    "NetworkX provides an out-of-the-box isomorphism matcher, which compares the structure of two graphs and tells whether they are isomorphic (have the same nodes and edges). We utilize this isomorphism matcher by beginning our matching process with structural matches, after filtering out candidates that do not match based on existance of attributes or constant values of attributes:"
   ]
  },
  {
   "cell_type": "code",
   "execution_count": null,
   "metadata": {},
   "outputs": [],
   "source": [
    "#| export\n",
    "# TODO: maybe we should change the name of this function to something more descriptive, that includes attributes\n",
    "def _find_structural_matches(graph: DiGraph, pattern: DiGraph) -> Iterator[Tuple[DiGraph, Dict[NodeName, NodeName]]]:\n",
    "    \"\"\"\n",
    "    Find all subgraphs in the input graph that match the given pattern graph based on both structure (nodes and edges)\n",
    "    and attributes (existence of attributes or constant value checks).\n",
    "\n",
    "    A subgraph is considered isomorphic if it has the same structure (nodes and edges) as the pattern graph\n",
    "    and the attributes of the nodes and edges match the specified attributes in the pattern graph.\n",
    "\n",
    "    Args:\n",
    "        graph (DiGraph): The graph to search for matches.\n",
    "        pattern (DiGraph): The pattern graph representing the structure and attributes to match.\n",
    "\n",
    "    Yields:\n",
    "        Iterator[Tuple[DiGraph, Dict[NodeName, NodeName]]]: Tuples of (subgraph, mapping),\n",
    "        where subgraph is the matched subgraph, and mapping is a dictionary mapping nodes in the\n",
    "        subgraph to nodes in the pattern.\n",
    "    \"\"\"\n",
    "    p_nodes = list(pattern.nodes)\n",
    "    p_edges = list(pattern.edges)\n",
    "\n",
    "    pattern_to_input_nodes_candidates = {\n",
    "        pattern_node: _find_input_nodes_candidates_for_pattern_node(pattern_node, pattern, graph)\n",
    "        for pattern_node in p_nodes\n",
    "    }\n",
    "\n",
    "    # All valid combinations of candidate node assignments (combinations won't work here since we want to ensure each pattern node is mapped to a unique input node)\n",
    "    candidate_assignments = product(\n",
    "        *(pattern_to_input_nodes_candidates[pattern_node] for pattern_node in p_nodes)\n",
    "    )\n",
    "\n",
    "    # Find isomorphic subgraphs\n",
    "    for assignment in candidate_assignments:\n",
    "        if len(set(assignment)) != len(assignment): # Ensure all input nodes are unique\n",
    "            continue\n",
    "\n",
    "        nodes_assignment_mapping = dict(zip(p_nodes, assignment))\n",
    "\n",
    "        subgraph = DiGraph()\n",
    "        subgraph.add_nodes_from(assignment)\n",
    "\n",
    "        # Validate edges based on node mapping\n",
    "        for pattern_src, pattern_dst in p_edges:\n",
    "            input_src, input_dst = nodes_assignment_mapping[pattern_src], nodes_assignment_mapping[pattern_dst]\n",
    "\n",
    "            if (input_src, input_dst) in graph.edges and _attributes_match(\n",
    "                pattern.get_edge_data(pattern_src, pattern_dst, default={}),\n",
    "                graph.get_edge_data(input_src, input_dst, default={})\n",
    "            ):\n",
    "                subgraph.add_edge(input_src, input_dst)\n",
    "            else:\n",
    "                # If the edge does not match, skip this candidate\n",
    "                break\n",
    "        else:\n",
    "            # If all edges are validated, check the isomorphism\n",
    "            if len(subgraph.edges) == len(p_edges) and isomorphism.is_isomorphic(subgraph, pattern):\n",
    "                yield subgraph, nodes_assignment_mapping\n",
    "\n",
    "#OLD    \n",
    "'''\n",
    "    # We find all possible candidates for each node in the pattern, by checking the attributes of the nodes in the graph\n",
    "    pattern_to_input_candidates = {pattern_node: _find_input_nodes_with_pattern_attributes(pattern.nodes[pattern_node], graph) for pattern_node in pattern.nodes}\n",
    "    candidate_assignments = itertools.product(*(pattern_to_input_candidates[pattern_node] for pattern_node in list(pattern.nodes)))\n",
    "    for assignment in candidate_assignments:\n",
    "        # Make sure the sub_nodes are unique - we don't want to have multiple nodes in the subgraph that are mapped to the same node in the pattern\n",
    "        if len(set(assignment)) != len(assignment): \n",
    "            continue\n",
    "        assignment_mapping = dict(zip(list(pattern.nodes), assignment))\n",
    "        subg = DiGraph()\n",
    "        subg.add_nodes_from(list(assignment))\n",
    "        for pattern_edge in list(pattern.edges):\n",
    "            graph_edge = (assignment_mapping[pattern_edge[0]], assignment_mapping[pattern_edge[1]])\n",
    "            if graph_edge in graph.edges and _input_node_has_pattern_node_attributes(graph.edges[graph_edge], pattern.edges[edge]):\n",
    "              subg.add_edge(graph_edge[0], graph_edge[1])\n",
    "            else: # In that case we don't need to check the rest of the isomorphism\n",
    "                break\n",
    "                             \n",
    "        # We only yield mappings for subgraphs that have the same amount of edges as the pattern - otherwise the subgraph won't be an isomorphism\n",
    "        if len(subg.edges) == len(pattern.edges):\n",
    "            yield assignment_mapping\n",
    "'''\n"
   ]
  },
  {
   "attachments": {},
   "cell_type": "markdown",
   "metadata": {},
   "source": [
    "#### Filtering Matches\n",
    "The only thing we ignored up until now is attribute values. As metioned above, the LHS Parser does not include required attribute values in the pattern graph. Instead, it constructs a boolean function which receives a Match object and checks whether the match it represents has the required attribute values (if there are any). \n",
    "\n",
    "This boolean function is further extended by the user of the library, which can pass as parameter a function of the same format, which filteres a list of Match objects based on any condition it wishes to apply. The LHS Parser, in addition to the pattern graph, provides the extended filtering function, that mixes both the user and the parser constraints which were not handled by the matcher so far.\n",
    "\n",
    "Later in this module, we will use the extended function to filter the list of Match objects we get from the structural and attribute-existence-based matchers. The signature of that function will be as follows:"
   ]
  },
  {
   "cell_type": "code",
   "execution_count": null,
   "metadata": {},
   "outputs": [],
   "source": [
    "#| export\n",
    "FilterFunc = Callable[[Match], bool]"
   ]
  },
  {
   "attachments": {},
   "cell_type": "markdown",
   "metadata": {},
   "source": [
    "#### Putting It All Togehter\n",
    "Given our ability to find matches (both structural and in terms of attribute existence) between two graphs, as well as filtering matches according to desired conditions and constraints, we can finally find complete matches of the pattern in our input graph. "
   ]
  },
  {
   "cell_type": "markdown",
   "metadata": {},
   "source": [
    "We define one last auxiliary function, which removes duplicated matches based on their mappings:"
   ]
  },
  {
   "cell_type": "code",
   "execution_count": null,
   "metadata": {},
   "outputs": [],
   "source": [
    "#| export\n",
    "def _filter_duplicated_matches(matches: list[Match]) -> Iterator[Match]:\n",
    "    \"\"\"Remove duplicates from a list of Matches, based on their mappings. Return an iterator of the matches without duplications.\n",
    "\n",
    "    Args:\n",
    "        matches (list[Match]): list of Match objects\n",
    "\n",
    "    Yields:\n",
    "        Iterator[list[Match]]: Iterator of the matches without duplications.\n",
    "    \"\"\"\n",
    "\n",
    "    yield from set(matches)\n",
    "    # TODO: optimization - using set involves instantiation of all matches, check if we can avoid it\n",
    "\n",
    "# OLD\n",
    "'''\n",
    "    new_list = []\n",
    "    for match in matches:\n",
    "        if match not in new_list:\n",
    "            new_list.append(match)\n",
    "            yield match\n",
    "'''\n",
    "\n"
   ]
  },
  {
   "cell_type": "code",
   "execution_count": null,
   "metadata": {},
   "outputs": [],
   "source": [
    "#| export\n",
    "\n",
    "# Finds \n",
    "def find_intersecting_nodes(match: dict, collection_pattern: DiGraph) -> set:\n",
    "    # Step 1: Extract all node names from self._nodes and the node collections (if they do not exist yet, they will be empty - no harm is done).\n",
    "    # Step 2: Find all nodes with the same name in collection_pattern - these are the intersecting nodes.\n",
    "    # Step 3: Return all matching node names.\n",
    "    if collection_pattern is None:\n",
    "        return set()\n",
    "    collection_nodes = set(collection_pattern.nodes)\n",
    "    match_nodes = set(match.keys())\n",
    "    return collection_nodes & match_nodes\n",
    "\n",
    "# This function is used to find all the collections that match the pattern, by comparing the intersected nodes\n",
    "def find_collection_matches(input_graph: DiGraph, collecions_pattern: DiGraph, intersected_nodes_matches: List):\n",
    "    g_id = input_graph.copy()\n",
    "    for mapping, intersected_nodes in intersected_nodes_matches:\n",
    "        pattern_id = collecions_pattern.copy()\n",
    "        for node in intersected_nodes:\n",
    "            pattern_id.nodes[node]['_id'] = mapping[node]\n",
    "\n",
    "        # Find all structural matches (isomorphisms)\n",
    "        attribute_matches =  [match for match in _find_structural_matches(g_id, pattern_id)]\n",
    "        # Find matches with attributes among isoms (match pattern's attributes)\n",
    "        #attribute_matches = [mapping for (subgraph, mapping) in isom_matches if _does_isom_match_pattern((subgraph, mapping), pattern_id)]\n",
    "\n",
    "        # Create one mapping for the collections out of attribute_matches\n",
    "        collections_mapping = {}\n",
    "        for d in attribute_matches:\n",
    "            for collectionName, value in d.items():\n",
    "                if collectionName in intersected_nodes:\n",
    "                    continue\n",
    "                if collectionName not in collections_mapping:\n",
    "                    collections_mapping[collectionName] = set()\n",
    "                collections_mapping[collectionName].add(value)\n",
    "        if collecions_pattern.number_of_nodes() == 0 or collections_mapping != {}:\n",
    "            yield mapping, collections_mapping\n",
    "\n"
   ]
  },
  {
   "attachments": {},
   "cell_type": "markdown",
   "metadata": {},
   "source": [
    "We are now combining everything we saw in order to find the matches of a pattern in our input graph. The matches are returned as a (filtered) list of Match objects:"
   ]
  },
  {
   "cell_type": "code",
   "execution_count": null,
   "metadata": {},
   "outputs": [],
   "source": [
    "#| export\n",
    "# Dean's suggestion: make sure there are no \"duplicated mappings\" of different node names to the same node - make sure there is no case where\n",
    "# one is deleted and the other is not\n",
    "# This also should be done for attributes\n",
    "# Check how regraph does it, and if there is no such thing, check the mathematically correct way to do it\n",
    "def find_matches(input_graph: DiGraph, pattern: DiGraph, collections_pattern: DiGraph = None, condition: FilterFunc = lambda match: True) -> Match:\n",
    "    \"\"\"Find all matches of a pattern graph in an input graph, for which a certain condition holds.\n",
    "    That is, subgraphs of the input graph which have the same nodes, edges, attributes and required attribute values\n",
    "    as the pattern defines, which satisfy any additional condition the user defined.\n",
    "\n",
    "    Args:\n",
    "        input_graph (DiGraph): A graph to find matches in\n",
    "        pattern (DiGraph): A pattern graph produced by the LHS Parser.\n",
    "        condition (FilterFunc, optional): A function which recives a Match objects, and checks whether some condition holds\n",
    "            for the corresponding match. Defaults to a condition function which always returns True.\n",
    "\n",
    "    Yields:\n",
    "        Iterator[Match]: Iterator of Match objects (without duplications), each corresponds to a match of the pattern in the input graph.\n",
    "    \"\"\"\n",
    "\n",
    "    # Narrow down search space by keeping only input-graph nodes that have any attribute in common as some pattern node\n",
    "    # And reduce the input graph to the matching nodes + connected edges\n",
    "    matching_nodes = [n for (n, attrs) in input_graph.nodes(data=True) if _does_node_match_pattern(attrs, pattern)]\n",
    "    reduced_input_g = input_graph.subgraph(matching_nodes).copy()    \n",
    "\n",
    "    # Remove all edges that are not between matching nodes or do not match the pattern by their attributes from the reduced graph\n",
    "    reduced_input_g.remove_edges_from([edge for edge in reduced_input_g.edges if not _does_edge_match_pattern(reduced_input_g.edges[edge], pattern)])\n",
    "        \n",
    "    # Find all structural matches (isomorphisms), including attributes\n",
    "    attribute_matches =  [match for match in _find_structural_matches(reduced_input_g, pattern)]\n",
    "\n",
    "    # Find all collections that match the pattern\n",
    "    if collections_pattern is not None:\n",
    "        intersected_nodes_matches = [(mapping, find_intersecting_nodes(mapping, collections_pattern)) for mapping in attribute_matches]\n",
    "        collection_matches = [(mapping, collections_mapping) for mapping, collections_mapping in \n",
    "                            find_collection_matches(reduced_input_g, collections_pattern, intersected_nodes_matches)]\n",
    "    else:\n",
    "        collection_matches = [(mapping, dict()) for mapping in attribute_matches]\n",
    "\n",
    "    # construct a list of Match objects. Note that the condition is checked on a Match that includes anonymous nodes (as it might use it)\n",
    "    # but the Match that we return does not include the anonymous parts.\n",
    "    # Therefore, we first construct a list of tuples - the first is the mapping with anonymous, the second isn't\n",
    "    matches_list = [(mapping_to_match(input_graph, pattern, collections_pattern, mapping, collection_mapping, filter=False),\n",
    "                      mapping_to_match(input_graph, pattern, collections_pattern, mapping, collection_mapping)) \n",
    "                    for mapping, collection_mapping in collection_matches]\n",
    "    # Then filter the list, to contain only the filtered match whose unfiltered version matches the condition\n",
    "    filtered_matches =  [filtered_match for (unfiltered_match, filtered_match) in matches_list if condition(unfiltered_match)]\n",
    "    # And finally, remove duplicates (might be created because we removed the anonymous nodes)\n",
    "    yield from _remove_duplicated_matches(filtered_matches)\n",
    "\n",
    "\n"
   ]
  },
  {
   "attachments": {},
   "cell_type": "markdown",
   "metadata": {},
   "source": [
    "### Tests"
   ]
  },
  {
   "attachments": {},
   "cell_type": "markdown",
   "metadata": {},
   "source": [
    "#### Test Utils"
   ]
  },
  {
   "cell_type": "code",
   "execution_count": null,
   "metadata": {},
   "outputs": [],
   "source": [
    "def _assert_match(input_graph: DiGraph, LHS: str, expected: list[dict], condition=lambda x: True, plot=True):\n",
    "    \"\"\"Match the pattern in the input graph, and validate that the list of matches\n",
    "    is equal to the expected list of matches. Also allows plotting the first match instance.\n",
    "\n",
    "    Args:\n",
    "        input_graph (DiGraph): A graph\n",
    "        LHS (str): A pattern string\n",
    "        expected (list[dict]): The list of expected matches (as mappings from pattern nodes to input graph nodes)\n",
    "        collection_expected (list[dict]): The list of expected collection matches (as mappings from pattern nodes to corresponding collections)\n",
    "        plot (bool, optional): If True, plots the first match instance on the input graph (in red). Defaults to False.\n",
    "    \"\"\"\n",
    "    # Convert the pattern to a NetworkX graph + an extended condition function\n",
    "    pattern, collections_pattern, condition = lhs_to_graph(LHS, condition)\n",
    "    matches = [match for match in find_matches(input_graph, pattern, collections_pattern, condition=condition)]\n",
    "    assert all([match.mapping in expected for match in matches]) and len(matches) == len(expected)\n",
    "    if plot and len(matches) > 0:\n",
    "        match = matches[0]\n",
    "        mapping = match.mapping\n",
    "        hl_nodes = {mapping[node] for node in pattern.nodes() if not is_anonymous_node(node)}\n",
    "        hl_edges = {(mapping[s], mapping[t]) for s, t in pattern.edges() if not (is_anonymous_node(s) or is_anonymous_node(t))}\n",
    "        print(f\"Plotting the match: {mapping}\")\n",
    "        draw_match(input_graph,match)"
   ]
  },
  {
   "attachments": {},
   "cell_type": "markdown",
   "metadata": {},
   "source": [
    "#### Basic Test Cases"
   ]
  },
  {
   "cell_type": "markdown",
   "metadata": {},
   "source": [
    "We begin with simple cases, which do not take attributes into account at all. Consider the following quite-generic input graph (in which we will try to find matches for different patterns):"
   ]
  },
  {
   "cell_type": "code",
   "execution_count": null,
   "metadata": {},
   "outputs": [
    {
     "data": {
      "text/html": [
       "<img src=\"https://mermaid.ink/img/CmZsb3djaGFydCBUQgpBWyJBCiJdCkJbIkIKIl0KQ1siQwoiXQpEWyJECiJdCkEgLS0+IEIKQSAtLT4gQwpBIC0tPiBBCkMgLS0+IEMK\"/>"
      ],
      "text/plain": [
       "<IPython.core.display.Image object>"
      ]
     },
     "metadata": {},
     "output_type": "display_data"
    }
   ],
   "source": [
    "input_graph = _create_graph(\n",
    "    ['A','B','C','D'], \n",
    "    [\n",
    "        ('A', 'B'),\n",
    "        ('A', 'C'),\n",
    "        ('A', 'A'),\n",
    "        ('C', 'C'),\n",
    "    ]\n",
    ")\n",
    "draw(input_graph)"
   ]
  },
  {
   "cell_type": "markdown",
   "metadata": {},
   "source": [
    "In the following tests, we try to match different patterns and make sure that the matcher found all of the possible matches. The first match in the list will be highlighted in the input graph (nodes and edges are colored in red), and printed above the plot:"
   ]
  },
  {
   "cell_type": "code",
   "execution_count": null,
   "metadata": {},
   "outputs": [
    {
     "name": "stdout",
     "output_type": "stream",
     "text": [
      "Plotting the match: {'1': 'C'}\n"
     ]
    },
    {
     "data": {
      "text/html": [
       "<img src=\"https://mermaid.ink/img/CmZsb3djaGFydCBUQgpBWyJBCiJdCkJbIkIKIl0KQ1siQygxKQoiXQpzdHlsZSBDIHN0cm9rZTpyZWQsc3Ryb2tlLXdpZHRoOjRweDsKRFsiRAoiXQpBIC0tPiBCCkEgLS0+IEMKQSAtLT4gQQpDIC0tPiBDCmxpbmtTdHlsZSAzIHN0cm9rZTpyZWQsc3Ryb2tlLXdpZHRoOjRweDsK\"/>"
      ],
      "text/plain": [
       "<IPython.core.display.Image object>"
      ]
     },
     "metadata": {},
     "output_type": "display_data"
    }
   ],
   "source": [
    "# Match all nodes 1 with self loops (both A and C)\n",
    "_assert_match(input_graph, \"1->1\", [{'1': 'A'}, {'1': 'C'}])"
   ]
  },
  {
   "cell_type": "code",
   "execution_count": null,
   "metadata": {},
   "outputs": [
    {
     "name": "stdout",
     "output_type": "stream",
     "text": [
      "Plotting the match: {'1': 'C', '2': 'B'}\n"
     ]
    },
    {
     "data": {
      "text/html": [
       "<img src=\"https://mermaid.ink/img/CmZsb3djaGFydCBUQgpBWyJBCiJdCkJbIkIoMikKIl0Kc3R5bGUgQiBzdHJva2U6cmVkLHN0cm9rZS13aWR0aDo0cHg7CkNbIkMoMSkKIl0Kc3R5bGUgQyBzdHJva2U6cmVkLHN0cm9rZS13aWR0aDo0cHg7CkRbIkQKIl0KQSAtLT4gQgpBIC0tPiBDCkEgLS0+IEEKQyAtLT4gQwpsaW5rU3R5bGUgMyBzdHJva2U6cmVkLHN0cm9rZS13aWR0aDo0cHg7Cg==\"/>"
      ],
      "text/plain": [
       "<IPython.core.display.Image object>"
      ]
     },
     "metadata": {},
     "output_type": "display_data"
    }
   ],
   "source": [
    "# Find all pairs of nodes 1, 2 where 1 has a self loop \n",
    "_assert_match(input_graph, '1->1, 2', [{'1': 'A', '2': 'B'}, {'1': 'A', '2': 'C'}, {'1': 'A', '2': 'D'}, \n",
    "                                    {'1': 'C', '2': 'A'}, {'1': 'C', '2': 'B'}, {'1': 'C', '2': 'D'}])"
   ]
  },
  {
   "cell_type": "code",
   "execution_count": null,
   "metadata": {},
   "outputs": [
    {
     "name": "stdout",
     "output_type": "stream",
     "text": [
      "Plotting the match: {'1': 'A', '2': 'C'}\n"
     ]
    },
    {
     "data": {
      "text/html": [
       "<img src=\"https://mermaid.ink/img/CmZsb3djaGFydCBUQgpBWyJBKDEpCiJdCnN0eWxlIEEgc3Ryb2tlOnJlZCxzdHJva2Utd2lkdGg6NHB4OwpCWyJCCiJdCkNbIkMoMikKIl0Kc3R5bGUgQyBzdHJva2U6cmVkLHN0cm9rZS13aWR0aDo0cHg7CkRbIkQKIl0KQSAtLT4gQgpBIC0tPiBDCmxpbmtTdHlsZSAxIHN0cm9rZTpyZWQsc3Ryb2tlLXdpZHRoOjRweDsKQSAtLT4gQQpsaW5rU3R5bGUgMiBzdHJva2U6cmVkLHN0cm9rZS13aWR0aDo0cHg7CkMgLS0+IEMK\"/>"
      ],
      "text/plain": [
       "<IPython.core.display.Image object>"
      ]
     },
     "metadata": {},
     "output_type": "display_data"
    }
   ],
   "source": [
    "_assert_match(input_graph, '1->1, 1->2', [{'1': 'A', '2': 'B'}, {'1': 'A', '2': 'C'}]) "
   ]
  },
  {
   "cell_type": "code",
   "execution_count": null,
   "metadata": {},
   "outputs": [
    {
     "name": "stdout",
     "output_type": "stream",
     "text": [
      "Plotting the match: {'1': 'C', '2': 'A'}\n"
     ]
    },
    {
     "data": {
      "text/html": [
       "<img src=\"https://mermaid.ink/img/CmZsb3djaGFydCBUQgpBWyJBKDIpCiJdCnN0eWxlIEEgc3Ryb2tlOnJlZCxzdHJva2Utd2lkdGg6NHB4OwpCWyJCCiJdCkNbIkMoMSkKIl0Kc3R5bGUgQyBzdHJva2U6cmVkLHN0cm9rZS13aWR0aDo0cHg7CkRbIkQKIl0KQSAtLT4gQgpBIC0tPiBDCmxpbmtTdHlsZSAxIHN0cm9rZTpyZWQsc3Ryb2tlLXdpZHRoOjRweDsKQSAtLT4gQQpDIC0tPiBDCmxpbmtTdHlsZSAzIHN0cm9rZTpyZWQsc3Ryb2tlLXdpZHRoOjRweDsK\"/>"
      ],
      "text/plain": [
       "<IPython.core.display.Image object>"
      ]
     },
     "metadata": {},
     "output_type": "display_data"
    }
   ],
   "source": [
    "_assert_match(input_graph, '1->1, 2->1', [{'1': 'C', '2': 'A'}])"
   ]
  },
  {
   "cell_type": "code",
   "execution_count": null,
   "metadata": {},
   "outputs": [],
   "source": [
    "# Find a circle in the graph + self loop. There is no such match in the graph\n",
    "_assert_match(input_graph, '1->1, 2->1->2', []) "
   ]
  },
  {
   "cell_type": "code",
   "execution_count": null,
   "metadata": {},
   "outputs": [],
   "source": [
    "# Find five different nodes (the different pattern names enforce it).\n",
    "# There are only 4 nodes in the input graph, and so there are no matches.\n",
    "_assert_match(input_graph, '1,2,3,4,5', []) "
   ]
  },
  {
   "cell_type": "markdown",
   "metadata": {},
   "source": [
    "#### Advanced Test Cases"
   ]
  },
  {
   "cell_type": "markdown",
   "metadata": {},
   "source": [
    "Now, we want to check more advanced features of both the parser and the matcher:\n",
    "* Checking for attributes (existance only)\n",
    "* Checking for attributes (match the values as well, using the parser-generated condition function)\n",
    "* Add user conditions\n",
    "* Anonymous nodes"
   ]
  },
  {
   "cell_type": "markdown",
   "metadata": {},
   "source": [
    "We will work with a new input graph, which shows the connections between students and the courses they took throughout their degree:\n",
    "* Each node in the graph is associated with either a student or a course (and has an attribute \"type\" to denote which is which).\n",
    "* A student is defined by his/her name. Some students (not all of them) also metion their faculty.\n",
    "* A course is defined by its name. Some courses mention their associated number of units.\n",
    "* An edge from a student to a course denotes that the student took the course. It mentions the semester in which the student took the course.\n",
    "* An edge from a course to another course denotes that the first must be taken before the latter.\n",
    "\n",
    "The graph looks like this:"
   ]
  },
  {
   "cell_type": "code",
   "execution_count": null,
   "metadata": {},
   "outputs": [
    {
     "data": {
      "text/html": [
       "<img src=\"https://mermaid.ink/img/CmZsb3djaGFydCBUQgpKb2huWyJKb2huCnR5cGU9I3F1b3Q7c3R1ZGVudCNxdW90OywgZmFjdWx0eT0jcXVvdDtCaW9sb2d5I3F1b3Q7Il0KTHVjeVsiTHVjeQp0eXBlPSNxdW90O3N0dWRlbnQjcXVvdDssIGZhdWNsdHk9I3F1b3Q7Q1MjcXVvdDsiXQpBbXlbIkFteQp0eXBlPSNxdW90O3N0dWRlbnQjcXVvdDsiXQpBbGdvWyJBbGdvCnR5cGU9I3F1b3Q7Y291cnNlI3F1b3Q7LCB1bml0cz0zIl0KQUlbIkFJCnR5cGU9I3F1b3Q7Y291cnNlI3F1b3Q7LCB1bml0cz0zIl0KTkxQWyJOTFAKdHlwZT0jcXVvdDtjb3Vyc2UjcXVvdDssIHVuaXRzPTUiXQpEQlsiREIKdHlwZT0jcXVvdDtjb3Vyc2UjcXVvdDsiXQpCaW9bIkJpbwp0eXBlPSNxdW90O2NvdXJzZSNxdW90OyJdCkpvaG4gLS0+fCJzZW09MyJ8IEJpbwpMdWN5IC0tPnwic2VtPTUifCBBbGdvCkx1Y3kgLS0+fCJzZW09NyJ8IEFJCkFteSAtLT58InNlbT01InwgQWxnbwpBbGdvIC0tPiBBSQpBSSAtLT4gTkxQCg==\"/>"
      ],
      "text/plain": [
       "<IPython.core.display.Image object>"
      ]
     },
     "metadata": {},
     "output_type": "display_data"
    }
   ],
   "source": [
    "input_graph = _create_graph(\n",
    "    [\n",
    "        # Names\n",
    "        ('John', {'type': 'student', 'faculty': 'Biology'}),\n",
    "        ('Lucy', {'type': 'student', 'fauclty': 'CS'}),\n",
    "        ('Amy', {'type': 'student'}),\n",
    "        # Courses\n",
    "        ('Algo', {'type': 'course', 'units': 3}),\n",
    "        ('AI', {'type': 'course', 'units': 3}),\n",
    "        ('NLP', {'type': 'course', 'units': 5}),\n",
    "        ('DB', {'type': 'course'}),\n",
    "        ('Bio', {'type': 'course'})\n",
    "    ], \n",
    "    [\n",
    "        # Students take\n",
    "        ('John', 'Bio', {'sem': 3}),\n",
    "        ('Lucy', 'Algo', {'sem': 5}),\n",
    "        ('Lucy', 'AI', {'sem': 7}),\n",
    "        ('Amy', 'Algo', {'sem': 5}),\n",
    "        # KDAM\n",
    "        ('Algo', 'AI'),\n",
    "        ('AI', 'NLP'),\n",
    "    ]\n",
    ")\n",
    "draw(input_graph)"
   ]
  },
  {
   "cell_type": "markdown",
   "metadata": {},
   "source": [
    "We will now run some useful queries by matching patterns in the graph:"
   ]
  },
  {
   "cell_type": "code",
   "execution_count": null,
   "metadata": {},
   "outputs": [
    {
     "name": "stdout",
     "output_type": "stream",
     "text": [
      "Plotting the match: {'s': 'Amy'}\n"
     ]
    },
    {
     "data": {
      "text/html": [
       "<img src=\"https://mermaid.ink/img/CmZsb3djaGFydCBUQgpKb2huWyJKb2huCnR5cGU9I3F1b3Q7c3R1ZGVudCNxdW90OywgZmFjdWx0eT0jcXVvdDtCaW9sb2d5I3F1b3Q7Il0KTHVjeVsiTHVjeQp0eXBlPSNxdW90O3N0dWRlbnQjcXVvdDssIGZhdWNsdHk9I3F1b3Q7Q1MjcXVvdDsiXQpBbXlbIkFteShzKQp0eXBlPSNxdW90O3N0dWRlbnQjcXVvdDsiXQpzdHlsZSBBbXkgc3Ryb2tlOnJlZCxzdHJva2Utd2lkdGg6NHB4OwpBbGdvWyJBbGdvCnR5cGU9I3F1b3Q7Y291cnNlI3F1b3Q7LCB1bml0cz0zIl0KQUlbIkFJCnR5cGU9I3F1b3Q7Y291cnNlI3F1b3Q7LCB1bml0cz0zIl0KTkxQWyJOTFAKdHlwZT0jcXVvdDtjb3Vyc2UjcXVvdDssIHVuaXRzPTUiXQpEQlsiREIKdHlwZT0jcXVvdDtjb3Vyc2UjcXVvdDsiXQpCaW9bIkJpbwp0eXBlPSNxdW90O2NvdXJzZSNxdW90OyJdCkpvaG4gLS0+fCJzZW09MyJ8IEJpbwpMdWN5IC0tPnwic2VtPTUifCBBbGdvCkx1Y3kgLS0+fCJzZW09NyJ8IEFJCkFteSAtLT58InNlbT01InwgQWxnbwpBbGdvIC0tPiBBSQpBSSAtLT4gTkxQCg==\"/>"
      ],
      "text/plain": [
       "<IPython.core.display.Image object>"
      ]
     },
     "metadata": {},
     "output_type": "display_data"
    }
   ],
   "source": [
    "# Find all students\n",
    "_assert_match(input_graph, 's[type=\"student\"]', [{'s': student} for student in ['Amy', 'John', 'Lucy']])"
   ]
  },
  {
   "cell_type": "code",
   "execution_count": null,
   "metadata": {},
   "outputs": [
    {
     "name": "stdout",
     "output_type": "stream",
     "text": [
      "Plotting the match: {'c': 'DB'}\n"
     ]
    },
    {
     "data": {
      "text/html": [
       "<img src=\"https://mermaid.ink/img/CmZsb3djaGFydCBUQgpKb2huWyJKb2huCnR5cGU9I3F1b3Q7c3R1ZGVudCNxdW90OywgZmFjdWx0eT0jcXVvdDtCaW9sb2d5I3F1b3Q7Il0KTHVjeVsiTHVjeQp0eXBlPSNxdW90O3N0dWRlbnQjcXVvdDssIGZhdWNsdHk9I3F1b3Q7Q1MjcXVvdDsiXQpBbXlbIkFteQp0eXBlPSNxdW90O3N0dWRlbnQjcXVvdDsiXQpBbGdvWyJBbGdvCnR5cGU9I3F1b3Q7Y291cnNlI3F1b3Q7LCB1bml0cz0zIl0KQUlbIkFJCnR5cGU9I3F1b3Q7Y291cnNlI3F1b3Q7LCB1bml0cz0zIl0KTkxQWyJOTFAKdHlwZT0jcXVvdDtjb3Vyc2UjcXVvdDssIHVuaXRzPTUiXQpEQlsiREIoYykKdHlwZT0jcXVvdDtjb3Vyc2UjcXVvdDsiXQpzdHlsZSBEQiBzdHJva2U6cmVkLHN0cm9rZS13aWR0aDo0cHg7CkJpb1siQmlvCnR5cGU9I3F1b3Q7Y291cnNlI3F1b3Q7Il0KSm9obiAtLT58InNlbT0zInwgQmlvCkx1Y3kgLS0+fCJzZW09NSJ8IEFsZ28KTHVjeSAtLT58InNlbT03InwgQUkKQW15IC0tPnwic2VtPTUifCBBbGdvCkFsZ28gLS0+IEFJCkFJIC0tPiBOTFAK\"/>"
      ],
      "text/plain": [
       "<IPython.core.display.Image object>"
      ]
     },
     "metadata": {},
     "output_type": "display_data"
    }
   ],
   "source": [
    "# Find all courses\n",
    "_assert_match(input_graph, 'c[type=\"course\"]', [{'c': course} for course in ['DB','NLP','AI','Algo','Bio']])"
   ]
  },
  {
   "cell_type": "code",
   "execution_count": null,
   "metadata": {},
   "outputs": [
    {
     "name": "stdout",
     "output_type": "stream",
     "text": [
      "Plotting the match: {'s': 'Amy'}\n"
     ]
    },
    {
     "data": {
      "text/html": [
       "<img src=\"https://mermaid.ink/img/CmZsb3djaGFydCBUQgpKb2huWyJKb2huCnR5cGU9I3F1b3Q7c3R1ZGVudCNxdW90OywgZmFjdWx0eT0jcXVvdDtCaW9sb2d5I3F1b3Q7Il0KTHVjeVsiTHVjeQp0eXBlPSNxdW90O3N0dWRlbnQjcXVvdDssIGZhdWNsdHk9I3F1b3Q7Q1MjcXVvdDsiXQpBbXlbIkFteShzKQp0eXBlPSNxdW90O3N0dWRlbnQjcXVvdDsiXQpzdHlsZSBBbXkgc3Ryb2tlOnJlZCxzdHJva2Utd2lkdGg6NHB4OwpBbGdvWyJBbGdvCnR5cGU9I3F1b3Q7Y291cnNlI3F1b3Q7LCB1bml0cz0zIl0KQUlbIkFJCnR5cGU9I3F1b3Q7Y291cnNlI3F1b3Q7LCB1bml0cz0zIl0KTkxQWyJOTFAKdHlwZT0jcXVvdDtjb3Vyc2UjcXVvdDssIHVuaXRzPTUiXQpEQlsiREIKdHlwZT0jcXVvdDtjb3Vyc2UjcXVvdDsiXQpCaW9bIkJpbwp0eXBlPSNxdW90O2NvdXJzZSNxdW90OyJdCkpvaG4gLS0+fCJzZW09MyJ8IEJpbwpMdWN5IC0tPnwic2VtPTUifCBBbGdvCkx1Y3kgLS0+fCJzZW09NyJ8IEFJCkFteSAtLT58InNlbT01InwgQWxnbwpBbGdvIC0tPiBBSQpBSSAtLT4gTkxQCg==\"/>"
      ],
      "text/plain": [
       "<IPython.core.display.Image object>"
      ]
     },
     "metadata": {},
     "output_type": "display_data"
    }
   ],
   "source": [
    "# Find all students that took some course (all of them)\n",
    "_assert_match(input_graph, 's[type=\"student\"]->_[type=\"course\"]', [{'s': 'Amy'}, {'s': 'John'}, {'s': 'Lucy'}])"
   ]
  },
  {
   "cell_type": "code",
   "execution_count": null,
   "metadata": {},
   "outputs": [
    {
     "name": "stdout",
     "output_type": "stream",
     "text": [
      "Plotting the match: {'s': 'Amy'}\n"
     ]
    },
    {
     "data": {
      "text/html": [
       "<img src=\"https://mermaid.ink/img/CmZsb3djaGFydCBUQgpKb2huWyJKb2huCnR5cGU9I3F1b3Q7c3R1ZGVudCNxdW90OywgZmFjdWx0eT0jcXVvdDtCaW9sb2d5I3F1b3Q7Il0KTHVjeVsiTHVjeQp0eXBlPSNxdW90O3N0dWRlbnQjcXVvdDssIGZhdWNsdHk9I3F1b3Q7Q1MjcXVvdDsiXQpBbXlbIkFteShzKQp0eXBlPSNxdW90O3N0dWRlbnQjcXVvdDsiXQpzdHlsZSBBbXkgc3Ryb2tlOnJlZCxzdHJva2Utd2lkdGg6NHB4OwpBbGdvWyJBbGdvCnR5cGU9I3F1b3Q7Y291cnNlI3F1b3Q7LCB1bml0cz0zIl0KQUlbIkFJCnR5cGU9I3F1b3Q7Y291cnNlI3F1b3Q7LCB1bml0cz0zIl0KTkxQWyJOTFAKdHlwZT0jcXVvdDtjb3Vyc2UjcXVvdDssIHVuaXRzPTUiXQpEQlsiREIKdHlwZT0jcXVvdDtjb3Vyc2UjcXVvdDsiXQpCaW9bIkJpbwp0eXBlPSNxdW90O2NvdXJzZSNxdW90OyJdCkpvaG4gLS0+fCJzZW09MyJ8IEJpbwpMdWN5IC0tPnwic2VtPTUifCBBbGdvCkx1Y3kgLS0+fCJzZW09NyJ8IEFJCkFteSAtLT58InNlbT01InwgQWxnbwpBbGdvIC0tPiBBSQpBSSAtLT4gTkxQCg==\"/>"
      ],
      "text/plain": [
       "<IPython.core.display.Image object>"
      ]
     },
     "metadata": {},
     "output_type": "display_data"
    }
   ],
   "source": [
    "# Find all students that took some 3-units course\n",
    "_assert_match(input_graph, 's[type=\"student\"]->_[type=\"course\", units=3]', [{'s': 'Amy'}, {'s': 'Lucy'}])"
   ]
  },
  {
   "cell_type": "code",
   "execution_count": null,
   "metadata": {},
   "outputs": [
    {
     "name": "stdout",
     "output_type": "stream",
     "text": [
      "Plotting the match: {'s': 'Amy', 'c': 'Algo'}\n"
     ]
    },
    {
     "data": {
      "text/html": [
       "<img src=\"https://mermaid.ink/img/CmZsb3djaGFydCBUQgpKb2huWyJKb2huCnR5cGU9I3F1b3Q7c3R1ZGVudCNxdW90OywgZmFjdWx0eT0jcXVvdDtCaW9sb2d5I3F1b3Q7Il0KTHVjeVsiTHVjeQp0eXBlPSNxdW90O3N0dWRlbnQjcXVvdDssIGZhdWNsdHk9I3F1b3Q7Q1MjcXVvdDsiXQpBbXlbIkFteShzKQp0eXBlPSNxdW90O3N0dWRlbnQjcXVvdDsiXQpzdHlsZSBBbXkgc3Ryb2tlOnJlZCxzdHJva2Utd2lkdGg6NHB4OwpBbGdvWyJBbGdvKGMpCnR5cGU9I3F1b3Q7Y291cnNlI3F1b3Q7LCB1bml0cz0zIl0Kc3R5bGUgQWxnbyBzdHJva2U6cmVkLHN0cm9rZS13aWR0aDo0cHg7CkFJWyJBSQp0eXBlPSNxdW90O2NvdXJzZSNxdW90OywgdW5pdHM9MyJdCk5MUFsiTkxQCnR5cGU9I3F1b3Q7Y291cnNlI3F1b3Q7LCB1bml0cz01Il0KREJbIkRCCnR5cGU9I3F1b3Q7Y291cnNlI3F1b3Q7Il0KQmlvWyJCaW8KdHlwZT0jcXVvdDtjb3Vyc2UjcXVvdDsiXQpKb2huIC0tPnwic2VtPTMifCBCaW8KTHVjeSAtLT58InNlbT01InwgQWxnbwpMdWN5IC0tPnwic2VtPTcifCBBSQpBbXkgLS0+fCJzZW09NSJ8IEFsZ28KbGlua1N0eWxlIDMgc3Ryb2tlOnJlZCxzdHJva2Utd2lkdGg6NHB4OwpBbGdvIC0tPiBBSQpBSSAtLT4gTkxQCg==\"/>"
      ],
      "text/plain": [
       "<IPython.core.display.Image object>"
      ]
     },
     "metadata": {},
     "output_type": "display_data"
    }
   ],
   "source": [
    "# Find all students that took some 3-units course, and the associated courses\n",
    "_assert_match(input_graph, 's[type=\"student\"]->c[type=\"course\", units=3]', [\n",
    "    {'s': 'Amy', 'c': 'Algo'}, {'s': 'Lucy', 'c': 'Algo'}, {'s': 'Lucy', 'c': 'AI'}\n",
    "])"
   ]
  },
  {
   "cell_type": "code",
   "execution_count": null,
   "metadata": {},
   "outputs": [
    {
     "name": "stdout",
     "output_type": "stream",
     "text": [
      "Plotting the match: {'s': 'Lucy', 'c1': 'Algo', 'c2': 'AI'}\n"
     ]
    },
    {
     "data": {
      "text/html": [
       "<img src=\"https://mermaid.ink/img/CmZsb3djaGFydCBUQgpKb2huWyJKb2huCnR5cGU9I3F1b3Q7c3R1ZGVudCNxdW90OywgZmFjdWx0eT0jcXVvdDtCaW9sb2d5I3F1b3Q7Il0KTHVjeVsiTHVjeShzKQp0eXBlPSNxdW90O3N0dWRlbnQjcXVvdDssIGZhdWNsdHk9I3F1b3Q7Q1MjcXVvdDsiXQpzdHlsZSBMdWN5IHN0cm9rZTpyZWQsc3Ryb2tlLXdpZHRoOjRweDsKQW15WyJBbXkKdHlwZT0jcXVvdDtzdHVkZW50I3F1b3Q7Il0KQWxnb1siQWxnbyhjMSkKdHlwZT0jcXVvdDtjb3Vyc2UjcXVvdDssIHVuaXRzPTMiXQpzdHlsZSBBbGdvIHN0cm9rZTpyZWQsc3Ryb2tlLXdpZHRoOjRweDsKQUlbIkFJKGMyKQp0eXBlPSNxdW90O2NvdXJzZSNxdW90OywgdW5pdHM9MyJdCnN0eWxlIEFJIHN0cm9rZTpyZWQsc3Ryb2tlLXdpZHRoOjRweDsKTkxQWyJOTFAKdHlwZT0jcXVvdDtjb3Vyc2UjcXVvdDssIHVuaXRzPTUiXQpEQlsiREIKdHlwZT0jcXVvdDtjb3Vyc2UjcXVvdDsiXQpCaW9bIkJpbwp0eXBlPSNxdW90O2NvdXJzZSNxdW90OyJdCkpvaG4gLS0+fCJzZW09MyJ8IEJpbwpMdWN5IC0tPnwic2VtPTUifCBBbGdvCmxpbmtTdHlsZSAxIHN0cm9rZTpyZWQsc3Ryb2tlLXdpZHRoOjRweDsKTHVjeSAtLT58InNlbT03InwgQUkKbGlua1N0eWxlIDIgc3Ryb2tlOnJlZCxzdHJva2Utd2lkdGg6NHB4OwpBbXkgLS0+fCJzZW09NSJ8IEFsZ28KQWxnbyAtLT4gQUkKQUkgLS0+IE5MUAo=\"/>"
      ],
      "text/plain": [
       "<IPython.core.display.Image object>"
      ]
     },
     "metadata": {},
     "output_type": "display_data"
    }
   ],
   "source": [
    "# Find all students which took two courses (and the courses) \n",
    "_assert_match(input_graph, 's[type=\"student\"]->c1[type=\"course\"], s->c2[type=\"course\"]', [ \n",
    "    {'s': 'Lucy', 'c1': 'AI', 'c2': 'Algo'},\n",
    "    {'s': 'Lucy', 'c1': 'Algo', 'c2': 'AI'}\n",
    "])"
   ]
  },
  {
   "cell_type": "code",
   "execution_count": null,
   "metadata": {},
   "outputs": [
    {
     "name": "stdout",
     "output_type": "stream",
     "text": [
      "Plotting the match: {'c1': 'Algo', 'c2': 'AI', 'c3': 'NLP'}\n"
     ]
    },
    {
     "data": {
      "text/html": [
       "<img src=\"https://mermaid.ink/img/CmZsb3djaGFydCBUQgpKb2huWyJKb2huCnR5cGU9I3F1b3Q7c3R1ZGVudCNxdW90OywgZmFjdWx0eT0jcXVvdDtCaW9sb2d5I3F1b3Q7Il0KTHVjeVsiTHVjeQp0eXBlPSNxdW90O3N0dWRlbnQjcXVvdDssIGZhdWNsdHk9I3F1b3Q7Q1MjcXVvdDsiXQpBbXlbIkFteQp0eXBlPSNxdW90O3N0dWRlbnQjcXVvdDsiXQpBbGdvWyJBbGdvKGMxKQp0eXBlPSNxdW90O2NvdXJzZSNxdW90OywgdW5pdHM9MyJdCnN0eWxlIEFsZ28gc3Ryb2tlOnJlZCxzdHJva2Utd2lkdGg6NHB4OwpBSVsiQUkoYzIpCnR5cGU9I3F1b3Q7Y291cnNlI3F1b3Q7LCB1bml0cz0zIl0Kc3R5bGUgQUkgc3Ryb2tlOnJlZCxzdHJva2Utd2lkdGg6NHB4OwpOTFBbIk5MUChjMykKdHlwZT0jcXVvdDtjb3Vyc2UjcXVvdDssIHVuaXRzPTUiXQpzdHlsZSBOTFAgc3Ryb2tlOnJlZCxzdHJva2Utd2lkdGg6NHB4OwpEQlsiREIKdHlwZT0jcXVvdDtjb3Vyc2UjcXVvdDsiXQpCaW9bIkJpbwp0eXBlPSNxdW90O2NvdXJzZSNxdW90OyJdCkpvaG4gLS0+fCJzZW09MyJ8IEJpbwpMdWN5IC0tPnwic2VtPTUifCBBbGdvCkx1Y3kgLS0+fCJzZW09NyJ8IEFJCkFteSAtLT58InNlbT01InwgQWxnbwpBbGdvIC0tPiBBSQpsaW5rU3R5bGUgNCBzdHJva2U6cmVkLHN0cm9rZS13aWR0aDo0cHg7CkFJIC0tPiBOTFAKbGlua1N0eWxlIDUgc3Ryb2tlOnJlZCxzdHJva2Utd2lkdGg6NHB4Owo=\"/>"
      ],
      "text/plain": [
       "<IPython.core.display.Image object>"
      ]
     },
     "metadata": {},
     "output_type": "display_data"
    }
   ],
   "source": [
    "# Find all tripltes c1, c2, c3 of courses such that c1 is a prerequisite of c2, and the same for c2 and c3\n",
    "_assert_match(input_graph, 'c1[type=\"course\"]->c2[type=\"course\"]->c3[type=\"course\"]', [\n",
    "    {'c1': 'Algo', 'c2': 'AI', 'c3': 'NLP'}\n",
    "])"
   ]
  },
  {
   "cell_type": "code",
   "execution_count": null,
   "metadata": {},
   "outputs": [
    {
     "name": "stdout",
     "output_type": "stream",
     "text": [
      "Plotting the match: {'s': 'Lucy'}\n"
     ]
    },
    {
     "data": {
      "text/html": [
       "<img src=\"https://mermaid.ink/img/CmZsb3djaGFydCBUQgpKb2huWyJKb2huCnR5cGU9I3F1b3Q7c3R1ZGVudCNxdW90OywgZmFjdWx0eT0jcXVvdDtCaW9sb2d5I3F1b3Q7Il0KTHVjeVsiTHVjeShzKQp0eXBlPSNxdW90O3N0dWRlbnQjcXVvdDssIGZhdWNsdHk9I3F1b3Q7Q1MjcXVvdDsiXQpzdHlsZSBMdWN5IHN0cm9rZTpyZWQsc3Ryb2tlLXdpZHRoOjRweDsKQW15WyJBbXkKdHlwZT0jcXVvdDtzdHVkZW50I3F1b3Q7Il0KQWxnb1siQWxnbwp0eXBlPSNxdW90O2NvdXJzZSNxdW90OywgdW5pdHM9MyJdCkFJWyJBSQp0eXBlPSNxdW90O2NvdXJzZSNxdW90OywgdW5pdHM9MyJdCk5MUFsiTkxQCnR5cGU9I3F1b3Q7Y291cnNlI3F1b3Q7LCB1bml0cz01Il0KREJbIkRCCnR5cGU9I3F1b3Q7Y291cnNlI3F1b3Q7Il0KQmlvWyJCaW8KdHlwZT0jcXVvdDtjb3Vyc2UjcXVvdDsiXQpKb2huIC0tPnwic2VtPTMifCBCaW8KTHVjeSAtLT58InNlbT01InwgQWxnbwpMdWN5IC0tPnwic2VtPTcifCBBSQpBbXkgLS0+fCJzZW09NSJ8IEFsZ28KQWxnbyAtLT4gQUkKQUkgLS0+IE5MUAo=\"/>"
      ],
      "text/plain": [
       "<IPython.core.display.Image object>"
      ]
     },
     "metadata": {},
     "output_type": "display_data"
    }
   ],
   "source": [
    "# Find all students that took a course in their 7th semester\n",
    "_assert_match(input_graph, 's[type=\"student\"]-[sem=7]->_[type=\"course\"]', [ \n",
    "    {'s': 'Lucy'}\n",
    "])"
   ]
  },
  {
   "cell_type": "code",
   "execution_count": null,
   "metadata": {},
   "outputs": [
    {
     "name": "stdout",
     "output_type": "stream",
     "text": [
      "Plotting the match: {'s': 'John', 'c': 'Bio'}\n"
     ]
    },
    {
     "data": {
      "text/html": [
       "<img src=\"https://mermaid.ink/img/CmZsb3djaGFydCBUQgpKb2huWyJKb2huKHMpCnR5cGU9I3F1b3Q7c3R1ZGVudCNxdW90OywgZmFjdWx0eT0jcXVvdDtCaW9sb2d5I3F1b3Q7Il0Kc3R5bGUgSm9obiBzdHJva2U6cmVkLHN0cm9rZS13aWR0aDo0cHg7Ckx1Y3lbIkx1Y3kKdHlwZT0jcXVvdDtzdHVkZW50I3F1b3Q7LCBmYXVjbHR5PSNxdW90O0NTI3F1b3Q7Il0KQW15WyJBbXkKdHlwZT0jcXVvdDtzdHVkZW50I3F1b3Q7Il0KQWxnb1siQWxnbwp0eXBlPSNxdW90O2NvdXJzZSNxdW90OywgdW5pdHM9MyJdCkFJWyJBSQp0eXBlPSNxdW90O2NvdXJzZSNxdW90OywgdW5pdHM9MyJdCk5MUFsiTkxQCnR5cGU9I3F1b3Q7Y291cnNlI3F1b3Q7LCB1bml0cz01Il0KREJbIkRCCnR5cGU9I3F1b3Q7Y291cnNlI3F1b3Q7Il0KQmlvWyJCaW8oYykKdHlwZT0jcXVvdDtjb3Vyc2UjcXVvdDsiXQpzdHlsZSBCaW8gc3Ryb2tlOnJlZCxzdHJva2Utd2lkdGg6NHB4OwpKb2huIC0tPnwic2VtPTMifCBCaW8KbGlua1N0eWxlIDAgc3Ryb2tlOnJlZCxzdHJva2Utd2lkdGg6NHB4OwpMdWN5IC0tPnwic2VtPTUifCBBbGdvCkx1Y3kgLS0+fCJzZW09NyJ8IEFJCkFteSAtLT58InNlbT01InwgQWxnbwpBbGdvIC0tPiBBSQpBSSAtLT4gTkxQCg==\"/>"
      ],
      "text/plain": [
       "<IPython.core.display.Image object>"
      ]
     },
     "metadata": {},
     "output_type": "display_data"
    }
   ],
   "source": [
    "# Find all students that took a course before their 5th semester (use user-defined condition)\n",
    "_assert_match(input_graph, 's[type=\"student\"]-[sem]->c[type=\"course\"]', [\n",
    "    {'s': 'John', 'c': 'Bio'}\n",
    "], condition=lambda match: match['s->c']['sem'] < 5)"
   ]
  },
  {
   "cell_type": "markdown",
   "metadata": {},
   "source": [
    "#### POC For Large Graphs"
   ]
  },
  {
   "cell_type": "code",
   "execution_count": null,
   "metadata": {},
   "outputs": [],
   "source": [
    "# POC: High number of nodes, solved with attribute filtering\n",
    "num_nodes = 100000\n",
    "\n",
    "input_graph = _create_graph(\n",
    "    [n for n in range(num_nodes)] + [(num_nodes+1, {'attr': 15}), (num_nodes+2, {'attr': 15})], \n",
    "    [\n",
    "        (num_nodes+1, num_nodes+2),\n",
    "        (2,4),\n",
    "        (3,1)\n",
    "    ]\n",
    ")\n",
    "\n",
    "_assert_match(input_graph, 'X[attr]->Y[attr]', [{'X': num_nodes+1, 'Y': num_nodes+2}], plot=False)"
   ]
  },
  {
   "cell_type": "markdown",
   "metadata": {},
   "source": [
    "# Export"
   ]
  },
  {
   "cell_type": "code",
   "execution_count": null,
   "metadata": {},
   "outputs": [],
   "source": [
    "#|hide\n",
    "import nbdev; nbdev.nbdev_export()\n",
    "     "
   ]
  },
  {
   "cell_type": "markdown",
   "metadata": {},
   "source": [
    "Collections Feature - Matcher Tests"
   ]
  },
  {
   "cell_type": "code",
   "execution_count": null,
   "metadata": {},
   "outputs": [
    {
     "data": {
      "text/html": [
       "<img src=\"https://mermaid.ink/img/CmZsb3djaGFydCBUQgoxWyIxCnZhbD0xIl0KMlsiMgp2YWw9MiJdCjNbIjMKdmFsPTMiXQo0WyI0CnZhbD00Il0KNVsiNQp2YWw9NSJdCjEgLS0+IDIKMSAtLT4gMwozIC0tPiA0CjMgLS0+IDUK\"/>"
      ],
      "text/plain": [
       "<IPython.core.display.Image object>"
      ]
     },
     "metadata": {},
     "output_type": "display_data"
    }
   ],
   "source": [
    "g = _create_graph(\n",
    "    [('1', {'val': 1}), ('2', {'val': 2}), ('3', {'val': 3}), ('4',{'val': 4}), ('5',{'val': 5})],\n",
    "    [('1','2'), ('1','3'), ('3','4'), ('3','5')]\n",
    ")\n",
    "draw(g)"
   ]
  },
  {
   "cell_type": "code",
   "execution_count": null,
   "metadata": {},
   "outputs": [],
   "source": [
    "\"\"\" \n",
    "Ensuring that in a case where we match all modes, and collect all nodes (with no specific connection to the match), \n",
    "there's actually will be a collection of all nodes for each match \n",
    "\"\"\"\n",
    "\n",
    "input_graph = g.copy()\n",
    "pattern, collections_pattern, condition = lhs_to_graph('x;y')\n",
    "matches = [match for match in find_matches(input_graph, pattern, collections_pattern, condition=condition)]\n",
    "last_x = []\n",
    "for match in matches:    \n",
    "    assert match['x'] not in last_x\n",
    "    assert match.collection_mapping == {'y': {'4', '5', '1', '3', '2'}}\n",
    "    last_x.append(match['x'])\n",
    "assert len(matches) == 5\n",
    "\n"
   ]
  },
  {
   "cell_type": "code",
   "execution_count": null,
   "metadata": {},
   "outputs": [],
   "source": [
    "\"\"\" \n",
    "Ensuring that:\n",
    "1.⁠ ⁠We get four matches based on the pattern\n",
    "2.⁠ ⁠We ensure the collection for each is correct\n",
    "\"\"\"\n",
    "pattern, collections_pattern, condition = lhs_to_graph('x->y;x->z')\n",
    "matches = [match for match in find_matches(input_graph, pattern, collections_pattern, condition=condition)]\n",
    "for match in matches:\n",
    "    assert match.mapping in [{'x': '1', 'y': '3'}, {'x': '1', 'y': '2'}, {'x': '3', 'y': '5'}, {'x': '3', 'y': '4'}]\n",
    "    if (match['x']['val'] == 1):\n",
    "        assert match.collection_mapping == {'z': {'3', '2'}}\n",
    "    else:\n",
    "        assert match['x']['val'] == 3\n",
    "        assert match.collection_mapping == {'z': {'5', '4'}}\n",
    "assert len(matches) == 4\n"
   ]
  },
  {
   "cell_type": "code",
   "execution_count": null,
   "metadata": {},
   "outputs": [],
   "source": [
    "\n",
    "\"\"\" \n",
    "Ensuring that:\n",
    "1.⁠ ⁠We get four matches based on the pattern\n",
    "2.⁠ ⁠For each match, there is an empty collection for (x,z), z, (z,y)\n",
    "#TODO: No matches at all! no empty collections\n",
    "\"\"\"\n",
    "\n",
    "pattern, collections_pattern, condition = lhs_to_graph('x->y;x->z->y')\n",
    "matches = [match for match in find_matches(input_graph, pattern, collections_pattern, condition=condition)]\n",
    "#for match in matches:\n",
    "#        assert match.mapping in [{'x': '1', 'y': '3'}, {'x': '1', 'y': '2'}, {'x': '3', 'y': '5'}, {'x': '3', 'y': '4'}]\n",
    "#        assert match.collection_mapping == {}\n",
    "assert len(matches) == 0"
   ]
  },
  {
   "cell_type": "code",
   "execution_count": null,
   "metadata": {},
   "outputs": [],
   "source": [
    "\"\"\" \n",
    "Ensuring that:\n",
    "1.⁠ ⁠We get two matches based on the pattern\n",
    "2.⁠ ⁠For each match, the collections are created correctly - they all should be empty\n",
    "#TODO: No matches at all! no empty collections\n",
    "\"\"\"\n",
    "\n",
    "pattern, collections_pattern, condition = lhs_to_graph('x->y->z;x->a->b->c')\n",
    "matches = [match for match in find_matches(input_graph, pattern, collections_pattern, condition=condition)]\n",
    "#for match in matches:\n",
    "#        assert match.mapping in [{'x': '1', 'y': '3', 'z': '5'}, {'x': '1', 'y': '3', 'z': '4'}]\n",
    "#        assert match.collection_mapping == {}\n",
    "assert len(matches) == 0\n",
    "\n"
   ]
  },
  {
   "cell_type": "code",
   "execution_count": null,
   "metadata": {},
   "outputs": [],
   "source": [
    "\"\"\" \n",
    "Ensuring that:\n",
    "1.⁠ ⁠We get two matches based on the pattern\n",
    "2.⁠ ⁠For each match, the collections are created correctly - they all should be empty\n",
    "#TODO: No matches at all! no empty collections\n",
    "\"\"\"\n",
    "\n",
    "pattern, collections_pattern, condition = lhs_to_graph('x->y->z;x->a,a->b,b->c')\n",
    "matches = [match for match in find_matches(input_graph, pattern, collections_pattern, condition=condition)]\n",
    "#for match in matches:\n",
    "#        assert match.mapping in [{'x': '1', 'y': '3', 'z': '5'}, {'x': '1', 'y': '3', 'z': '4'}]\n",
    "#        assert match.collection_mapping == {}\n",
    "assert len(matches) == 0\n"
   ]
  },
  {
   "cell_type": "code",
   "execution_count": null,
   "metadata": {},
   "outputs": [],
   "source": [
    "\"\"\" \n",
    "Ensuring that:\n",
    "1.⁠ ⁠We get two matches based on the pattern\n",
    "2.⁠ ⁠For each match, the collections are created correctly - they all should be empty\n",
    "#TODO: No matches at all! no empty collections\n",
    "\"\"\"\n",
    "\n",
    "pattern, collections_pattern, condition = lhs_to_graph('x->y->z;x->a,a->b,z->c')\n",
    "matches = [match for match in find_matches(input_graph, pattern, collections_pattern, condition=condition)]\n",
    "#for match in matches:\n",
    "#        assert match.mapping in [{'x': '1', 'y': '3', 'z': '5'}, {'x': '1', 'y': '3', 'z': '4'}]\n",
    "#        assert match.collection_mapping == {}\n",
    "assert len(matches) == 0\n",
    "\n"
   ]
  },
  {
   "cell_type": "code",
   "execution_count": null,
   "metadata": {},
   "outputs": [
    {
     "data": {
      "text/html": [
       "<img src=\"https://mermaid.ink/img/CmZsb3djaGFydCBUQgoxWyIxCnZhbD0xIl0KMlsiMgp2YWw9MiJdCjNbIjMKdmFsPTMiXQo0WyI0CnZhbD00Il0KNVsiNQp2YWw9NSJdCjEgLS0+IDIKMSAtLT4gMwozIC0tPiA0CjMgLS0+IDUK\"/>"
      ],
      "text/plain": [
       "<IPython.core.display.Image object>"
      ]
     },
     "metadata": {},
     "output_type": "display_data"
    }
   ],
   "source": [
    "g = _create_graph(\n",
    "    [('1', {'val': 1}), ('2', {'val': 2}), ('3', {'val': 3}), ('4',{'val': 4}), ('5',{'val': 5})],\n",
    "    [('1','2'), ('1','3'), ('3','4'), ('3','5')]\n",
    ")\n",
    "draw(g)"
   ]
  },
  {
   "cell_type": "code",
   "execution_count": null,
   "metadata": {},
   "outputs": [
    {
     "name": "stdout",
     "output_type": "stream",
     "text": [
      "{'x': '3', 'y': '5'} {'z': {'4', '5'}}\n"
     ]
    }
   ],
   "source": [
    "pattern, collections_pattern, condition = lhs_to_graph('x[val];x[val]->y[val]->z[val]')\n",
    "matches = [match for match in find_matches(input_graph, pattern, collections_pattern, condition=condition)]\n",
    "assert len(matches) == 1\n",
    "assert matches[0]['x']['val'] == 1\n",
    "assert matches[0].collection_mapping == {'y': {'3'}, 'z': {'4', '5'}}\n",
    "print(match.mapping, match.collection_mapping)\n"
   ]
  }
 ],
 "metadata": {
  "kernelspec": {
   "display_name": "python3",
   "language": "python",
   "name": "python3"
  },
  "language_info": {
   "codemirror_mode": {
    "name": "ipython",
    "version": 3
   },
   "file_extension": ".py",
   "mimetype": "text/x-python",
   "name": "python",
   "nbconvert_exporter": "python",
   "pygments_lexer": "ipython3",
   "version": "3.10.12"
  }
 },
 "nbformat": 4,
 "nbformat_minor": 2
}
