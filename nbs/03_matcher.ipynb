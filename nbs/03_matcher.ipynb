{
 "cells": [
  {
   "attachments": {},
   "cell_type": "markdown",
   "metadata": {},
   "source": [
    "# Matcher"
   ]
  },
  {
   "cell_type": "code",
   "execution_count": null,
   "metadata": {},
   "outputs": [],
   "source": [
    "#| default_exp matcher"
   ]
  },
  {
   "cell_type": "code",
   "execution_count": null,
   "metadata": {},
   "outputs": [],
   "source": [
    "#| hide\n",
    "from nbdev.showdoc import show_doc\n",
    "%load_ext autoreload\n",
    "%autoreload 2"
   ]
  },
  {
   "attachments": {},
   "cell_type": "markdown",
   "metadata": {},
   "source": [
    "### Overview\n",
    "In the previous modules, the LHS Parser received an LHS string, describing some graph pattern, and parsed it to an equivalent NetworkX DiGraph. In the following module, we search for **matches** to this pattern in our input graph - That is, find all subgraphs of our input graph, which have the same structure as the pattern in terms of nodes, the edges connecting them and the attributes they all have. \n",
    "\n",
    "Each match is basically a mapping from a subset of the input graph nodes to a the pattern nodes (as we can deduce what are the matched edges and attributes accordingly).\n",
    "\n",
    "The **Matcher** in this module does the following:\n",
    "* **Searches for matches** in the input graph, according to some LHS pattern graph.\n",
    "* **Filters matches** based on an explicit boolean function, and / or constraints given to the matcher by the parser to be handled later.\n",
    "* **Constructs a list of Match objects**, each corresponds to one of the filtered matches we've found. The list will be used in later modules, and will also allow users to view the matches and to use them imperatively.\n",
    "\n",
    "The final, filtered list of Match objects is returned from this module's main function, **find_matches**."
   ]
  },
  {
   "attachments": {},
   "cell_type": "markdown",
   "metadata": {},
   "source": [
    "### Requirements"
   ]
  },
  {
   "cell_type": "code",
   "execution_count": null,
   "metadata": {},
   "outputs": [],
   "source": [
    "#| export\n",
    "from typing import *\n",
    "from networkx import DiGraph\n",
    "from networkx.algorithms import isomorphism # check subgraph's isom.\n",
    "import itertools # iterating over all nodes\\edges combinations\n",
    "\n",
    "from graph_rewrite.core import NodeName, _create_graph, draw\n",
    "from graph_rewrite.lhs import lhs_to_graph\n",
    "from graph_rewrite.match_class import Match, mapping_to_match, is_anonymous_node,draw_match"
   ]
  },
  {
   "attachments": {},
   "cell_type": "markdown",
   "metadata": {},
   "source": [
    "### Find Matches\n",
    "Given an input graph and a pattern graph, we want to find the list of matches from pattern nodes to input-graph nodes, each constructs a corresponding Match object. "
   ]
  },
  {
   "attachments": {},
   "cell_type": "markdown",
   "metadata": {},
   "source": [
    "#### Checking for Attributes Existance\n",
    "A significant part of finding matches is comparing the attributes of different nodes to each other, in order to know whether they can match. The Parser, which constructs the pattern graph, does not include explicit required values of attributes in that graph (it stores these value-constraints somewhere else, we'll get to that in a moment).\n",
    "\n",
    "Therefore, given the pattern graph alone, we can tell whether some pattern node **has** the same attributes (regardless of their values) as some input graph node. This is done by the following function:"
   ]
  },
  {
   "cell_type": "code",
   "execution_count": null,
   "metadata": {},
   "outputs": [],
   "source": [
    "#| export\n",
    "def _attributes_exist(input_graph_attrs: dict, pattern_attrs: dict) -> bool:\n",
    "    \"\"\"Given an input-graph node and a pattern node, checks whether the input-graph node\n",
    "    has all the attributes which the pattern node requires. If it does, then this input-graph node might be matched as that pattern node.\n",
    "    \n",
    "    Note that we only refer to the existence of attributes here, i.e. if both nodes have the same attributes but with\n",
    "    different values, this function still considers them as a potential pair to match.\n",
    "\n",
    "    Args:\n",
    "        input_graph_attrs (dict): Attributes of some input-graph node.\n",
    "        pattern_attrs (dict): Attributes of some pattern-graph node.\n",
    "\n",
    "    Returns:\n",
    "        bool: True if the input-graph node has all the attributes which the pattern node requires, False otherwise.\n",
    "    \"\"\"\n",
    "    return set(pattern_attrs.keys()).issubset(set(input_graph_attrs.keys()))"
   ]
  },
  {
   "cell_type": "markdown",
   "metadata": {},
   "source": [
    "#### Narrow Down Search Space\n",
    "Using the functions presented thus far, the search for matches might take a lot of time if the graph has a high number of nodes / edges. Nodes which are no real candidate to match any pattern node (do not share attributes with any pattern node) are checked eitherway, which is extermely inefficient. \n",
    "\n",
    "Therefore, before we search for matches in our input graph, we will reduce it to only contain the nodes that might match any of the pattern nodes (and their connected edges as well). This might improve the whole matching performance. The following function is used in order to do exactly that:"
   ]
  },
  {
   "cell_type": "code",
   "execution_count": null,
   "metadata": {},
   "outputs": [],
   "source": [
    "#| export\n",
    "def _does_node_match_pattern(graph_node_attrs: dict, pattern: DiGraph) -> bool:\n",
    "    \"\"\"Given the attributes of some input-graph node, checks whether this node\n",
    "    has the same attributes as some node in the pattern graph. If it does,\n",
    "    then the node by match that node in the pattern - and thus, might be included\n",
    "    in a subgraph that will match the entire pattern.\n",
    "\n",
    "    Args:\n",
    "        graph_node_attrs (dict): Attributes of some input-graph node.\n",
    "        pattern (DiGraph): A pattern graph produced by the LHS Parser.\n",
    "\n",
    "    Returns:\n",
    "        bool: True if the input-graph node has the same attributes as some pattern node, False otherwise.\n",
    "    \"\"\"\n",
    "    return any([_attributes_exist(graph_node_attrs, pattern_attr) for (_, pattern_attr) in pattern.nodes(data=True)])"
   ]
  },
  {
   "attachments": {},
   "cell_type": "markdown",
   "metadata": {},
   "source": [
    "#### Finding Structural Matches\n",
    "NetworkX provides an out-of-the-box isomorphism matcher, which compares the structure of two graphs and tells whether they are isomorphic (have the same nodes and edges). We utilize this isomorphism matcher by beginning our matching process with structural matches only (completely ignoring the attributes):"
   ]
  },
  {
   "cell_type": "code",
   "execution_count": null,
   "metadata": {},
   "outputs": [],
   "source": [
    "#| export\n",
    "def _find_structural_matches(graph: DiGraph, pattern: DiGraph) -> Tuple[DiGraph, dict[NodeName, NodeName]]:\n",
    "    \"\"\"Given a graph, find all of its subgraphs which have the same structure (same nodes and edges)\n",
    "    as a given pattern DiGraph. That is, all subgraphs which are isomorphic to the pattern.\n",
    "\n",
    "    Args:\n",
    "        graph (DiGraph): A graph to find matches in\n",
    "        pattern (DiGraph): A pattern graph produced by the LHS Parser.\n",
    "\n",
    "    Yields:\n",
    "        Iterator[Tuple[DiGraph, dict[NodeName, NodeName]]]: Iterator of (subgraph, mapping) tuples,\n",
    "            where for each pair, the subgraph is the subset of nodes and edges in the input graph that\n",
    "            match the pattern, and the mapping is a dictionary that maps nodes in that subgraph\n",
    "            to nodes in the pattern.\n",
    "    \"\"\"\n",
    "    for sub_nodes in itertools.combinations(graph.nodes, len(pattern.nodes)):\n",
    "        nodes_subg: DiGraph = graph.subgraph(sub_nodes)\n",
    "        for sub_edges in itertools.combinations(nodes_subg.edges(data=True), len(pattern.edges)):\n",
    "            # Create a subgraph with selected edges and nodes\n",
    "            subg = DiGraph()\n",
    "            subg.add_nodes_from(list(nodes_subg.nodes(data=True)))\n",
    "            subg.add_edges_from(list(sub_edges))\n",
    "\n",
    "            # Find structural matches with the selected edges and nodes\n",
    "            matcher = isomorphism.DiGraphMatcher(pattern, subg)\n",
    "            for isom_mapping in matcher.isomorphisms_iter():\n",
    "                yield (nodes_subg, isom_mapping)"
   ]
  },
  {
   "attachments": {},
   "cell_type": "markdown",
   "metadata": {},
   "source": [
    "#### Expanding Matches With Attribtues\n",
    "Now that we have all structural matches between the graph and the pattern, we want to take our attributes into account.\n",
    "Currently, we still ignore the values of the attributes, and check whether some structural match also has the attributes of the pattern in the matched subgraph:"
   ]
  },
  {
   "cell_type": "code",
   "execution_count": null,
   "metadata": {},
   "outputs": [],
   "source": [
    "#| export\n",
    "def _does_isom_match_pattern(isom: Tuple[DiGraph, dict], pattern: DiGraph) -> bool:\n",
    "    \"\"\"Given a graph that is isomorphic to the pattern, checks whether they also\n",
    "    match in terms of their attributes (that is, the graph has the same attributes\n",
    "    as the pattern). If they does, then the isomorphic graph matches the pattern completely.\n",
    "\n",
    "    Args:\n",
    "        isom (Tuple[DiGraph, dict]): A graph that's isomorphic to the pattern\n",
    "        pattern (DiGraph): A pattern graph produced by the LHS Parser.\n",
    "\n",
    "    Returns:\n",
    "        bool: True if the isomorphic graph matches the pattern, False otherwise.\n",
    "    \"\"\"\n",
    "\n",
    "    # check nodes match\n",
    "    subgraph, mapping = isom\n",
    "    if not all([_attributes_exist(subgraph.nodes[original_node], pattern.nodes[pattern_node]) \\\n",
    "                for (pattern_node, original_node) in mapping.items()]):\n",
    "        return False\n",
    "\n",
    "    # check edges match\n",
    "    if all([_attributes_exist(subgraph.edges[mapping[edge[0]], mapping[edge[1]]], edge[2]) \\\n",
    "                for edge in pattern.edges(data=True)]):\n",
    "        return True"
   ]
  },
  {
   "attachments": {},
   "cell_type": "markdown",
   "metadata": {},
   "source": [
    "#### Filtering Matches\n",
    "The only thing we ignored up until now is attribute values. As metioned above, the LHS Parser does not include required attribute values in the pattern graph. Instead, it constructs a boolean function which receives a Match object and checks whether the match it represents has the required attribute values (if there are any). \n",
    "\n",
    "This boolean function is further extended by the user of the library, which can pass as parameter a function of the same format, which filteres a list of Match objects based on any condition it wishes to apply. The LHS Parser, in addition to the pattern graph, provides the extended filtering function, that mixes both the user and the parser constraints which were not handled by the matcher so far.\n",
    "\n",
    "Later in this module, we will use the extended function to filter the list of Match objects we get from the structural and attribute-existence-based matchers. The signature of that function will be as follows:"
   ]
  },
  {
   "cell_type": "code",
   "execution_count": null,
   "metadata": {},
   "outputs": [],
   "source": [
    "#| export\n",
    "FilterFunc = Callable[[Match], bool]"
   ]
  },
  {
   "attachments": {},
   "cell_type": "markdown",
   "metadata": {},
   "source": [
    "#### Putting It All Togehter\n",
    "Given our ability to find matches (both structural and in terms of attribute existence) between two graphs, as well as filtering matches according to desired conditions and constraints, we can finally find complete matches of the pattern in our input graph. "
   ]
  },
  {
   "cell_type": "markdown",
   "metadata": {},
   "source": [
    "We define one last auxiliary function, which removes duplicated matches based on their mappings:"
   ]
  },
  {
   "cell_type": "code",
   "execution_count": null,
   "metadata": {},
   "outputs": [],
   "source": [
    "#| export\n",
    "def _remove_duplicated_matches(matches: list[Match]) -> Match:\n",
    "    \"\"\"Remove duplicates from a list of Matches, based on their mappings. Return an iterator of the matches without duplications.\n",
    "\n",
    "    Args:\n",
    "        matches (list[Match]): list of Match objects\n",
    "\n",
    "    Yields:\n",
    "        Iterator[list[Match]]: Iterator of the matches without duplications.\n",
    "    \"\"\"\n",
    "    new_list = []\n",
    "    for match in matches:\n",
    "        if match not in new_list:\n",
    "            new_list.append(match)\n",
    "            yield match"
   ]
  },
  {
   "attachments": {},
   "cell_type": "markdown",
   "metadata": {},
   "source": [
    "We are now combining everything we saw in order to find the matches of a pattern in our input graph. The matches are returned as a (filtered) list of Match objects:"
   ]
  },
  {
   "cell_type": "code",
   "execution_count": null,
   "metadata": {},
   "outputs": [],
   "source": [
    "#| export\n",
    "def find_matches(input_graph: DiGraph, pattern: DiGraph, condition: FilterFunc = lambda match: True) -> Match:\n",
    "    \"\"\"Find all matches of a pattern graph in an input graph, for which a certain condition holds.\n",
    "    That is, subgraphs of the input graph which have the same nodes, edges, attributes and required attribute values\n",
    "    as the pattern defines, which satisfy any additional condition the user defined.\n",
    "\n",
    "    Args:\n",
    "        input_graph (DiGraph): A graph to find matches in\n",
    "        pattern (DiGraph): A pattern graph produced by the LHS Parser.\n",
    "        condition (FilterFunc, optional): A function which recives a Match objects, and checks whether some condition holds\n",
    "            for the corresponding match. Defaults to a condition function which always returns True.\n",
    "\n",
    "    Yields:\n",
    "        Iterator[Match]: Iterator of Match objects (without duplications), each corresponds to a match of the pattern in the input graph.\n",
    "    \"\"\"\n",
    "\n",
    "    # Narrow down search space by keeping only input-graph nodes that have the same attributes as some pattern node\n",
    "    matching_nodes = [n for (n, attrs) in input_graph.nodes(data=True) if _does_node_match_pattern(attrs, pattern)]\n",
    "    # Reducing the input graph to the matching nodes + connected edges\n",
    "    reduced_input_g = input_graph.subgraph(matching_nodes)\n",
    "    \n",
    "    # Find all structural matches (isomorphisms), ignore attributes\n",
    "    isom_matches =  [match for match in _find_structural_matches(reduced_input_g, pattern)]\n",
    "    # Find matches with attributes among isoms (match pattern's attributes)\n",
    "    attribute_matches = [mapping for (subgraph, mapping) in isom_matches if _does_isom_match_pattern((subgraph, mapping), pattern)]\n",
    "\n",
    "    # construct a list of Match objects. Note that the condition is checked on a Match that includes anonymous nodes (as it might use it)\n",
    "    # but the Match that we return does not include the anonymous parts.\n",
    "    # Therefore, we first construct a list of tuples - the first is the mapping with anonymous, the second isn't\n",
    "    matches_list = [(mapping_to_match(input_graph, pattern, mapping, filter=False), mapping_to_match(input_graph, pattern, mapping)) \n",
    "                    for mapping in attribute_matches]\n",
    "    # Then filter the list, to contain only the filtered match whose unfiltered version matches the condition\n",
    "    filtered_matches =  [filtered_match for (unfiltered_match, filtered_match) in matches_list if condition(unfiltered_match)]\n",
    "    # And finally, remove duplicates (might be created because we removed the anonymous nodes)\n",
    "    #TODO: call add_collections fore each match in _remove_duplicated_matches(filtered_matches) and yield from the result # Collections Feature\n",
    "    \"\"\"\n",
    "    filtered_matches = _remove_duplicated_matches(filtered_matches)\n",
    "    for match in filtered_matches:\n",
    "          match.add_collections(collection_lhs)\n",
    "    yield from filtered_matches\n",
    "    \"\"\"\n",
    "    yield from _remove_duplicated_matches(filtered_matches)"
   ]
  },
  {
   "attachments": {},
   "cell_type": "markdown",
   "metadata": {},
   "source": [
    "### Tests"
   ]
  },
  {
   "attachments": {},
   "cell_type": "markdown",
   "metadata": {},
   "source": [
    "#### Test Utils"
   ]
  },
  {
   "cell_type": "code",
   "execution_count": null,
   "metadata": {},
   "outputs": [],
   "source": [
    "def _assert_match(input_graph: DiGraph, LHS: str, expected: list[dict], condition=lambda x: True, plot=True):\n",
    "    \"\"\"Match the pattern in the input graph, and validate that the list of matches\n",
    "    is equal to the expected list of matches. Also allows plotting the first match instance.\n",
    "\n",
    "    Args:\n",
    "        input_graph (DiGraph): A graph\n",
    "        LHS (str): A pattern string\n",
    "        expected (list[dict]): The list of expected matches (as mappings from pattern nodes to input graph nodes)\n",
    "        plot (bool, optional): If True, plots the first match instance on the input graph (in red). Defaults to False.\n",
    "    \"\"\"\n",
    "    # Convert the pattern to a NetworkX graph + an extended condition function\n",
    "       #TODO: add a parsing check for the new '^' symbol # Collections Feature\n",
    "    '''\n",
    "    lhs_strs = lhs.split('^')\n",
    "    assert len(lhs_strs) <= 2\n",
    "    LHS = lhs_strs[0]\n",
    "    if (len(lhs_strs) == 2):\n",
    "        lhs_collections = lhs_strs[1]\n",
    "    else:\n",
    "        lhs_collections = ''\n",
    "    '''\n",
    "    pattern, condition = lhs_to_graph(LHS, condition)\n",
    "    matches = [match for match in find_matches(input_graph, pattern, condition=condition)] #TODO: add lhs_collections to find_matches input # Collections Feature\n",
    "    assert all([match.mapping in expected for match in matches]) and len(matches) == len(expected)\n",
    "    if plot and len(matches) > 0:\n",
    "        match = matches[0]\n",
    "        mapping = match.mapping\n",
    "        hl_nodes = {mapping[node] for node in pattern.nodes() if not is_anonymous_node(node)}\n",
    "        hl_edges = {(mapping[s], mapping[t]) for s, t in pattern.edges() if not (is_anonymous_node(s) or is_anonymous_node(t))}\n",
    "        print(f\"Plotting the match: {mapping}\")\n",
    "        draw_match(input_graph,match)"
   ]
  },
  {
   "attachments": {},
   "cell_type": "markdown",
   "metadata": {},
   "source": [
    "#### Basic Test Cases"
   ]
  },
  {
   "cell_type": "markdown",
   "metadata": {},
   "source": [
    "We begin with simple cases, which do not take attributes into account at all. Consider the following quite-generic input graph (in which we will try to find matches for different patterns):"
   ]
  },
  {
   "cell_type": "code",
   "execution_count": null,
   "metadata": {},
   "outputs": [
    {
     "data": {
      "text/html": [
       "<img src=\"https://mermaid.ink/img/CmZsb3djaGFydCBUQgpBWyJBCiJdCkJbIkIKIl0KQ1siQwoiXQpEWyJECiJdCkEgLS0+IEIKQSAtLT4gQwpBIC0tPiBBCkMgLS0+IEMK\"/>"
      ],
      "text/plain": [
       "<IPython.core.display.Image object>"
      ]
     },
     "metadata": {},
     "output_type": "display_data"
    }
   ],
   "source": [
    "input_graph = _create_graph(\n",
    "    ['A','B','C','D'], \n",
    "    [\n",
    "        ('A', 'B'),\n",
    "        ('A', 'C'),\n",
    "        ('A', 'A'),\n",
    "        ('C', 'C'),\n",
    "    ]\n",
    ")\n",
    "draw(input_graph)"
   ]
  },
  {
   "cell_type": "markdown",
   "metadata": {},
   "source": [
    "In the following tests, we try to match different patterns and make sure that the matcher found all of the possible matches. The first match in the list will be highlighted in the input graph (nodes and edges are colored in red), and printed above the plot:"
   ]
  },
  {
   "cell_type": "code",
   "execution_count": null,
   "metadata": {},
   "outputs": [
    {
     "name": "stdout",
     "output_type": "stream",
     "text": [
      "Plotting the match: {'1': 'A'}\n"
     ]
    },
    {
     "data": {
      "text/html": [
       "<img src=\"https://mermaid.ink/img/CmZsb3djaGFydCBUQgpBWyJBKDEpCiJdCnN0eWxlIEEgc3Ryb2tlOnJlZCxzdHJva2Utd2lkdGg6NHB4OwpCWyJCCiJdCkNbIkMKIl0KRFsiRAoiXQpBIC0tPiBCCkEgLS0+IEMKQSAtLT4gQQpsaW5rU3R5bGUgMiBzdHJva2U6cmVkLHN0cm9rZS13aWR0aDo0cHg7CkMgLS0+IEMK\"/>"
      ],
      "text/plain": [
       "<IPython.core.display.Image object>"
      ]
     },
     "metadata": {},
     "output_type": "display_data"
    }
   ],
   "source": [
    "# Match all nodes 1 with self loops (both A and C)\n",
    "_assert_match(input_graph, \"1->1\", [{'1': 'A'}, {'1': 'C'}])"
   ]
  },
  {
   "cell_type": "code",
   "execution_count": null,
   "metadata": {},
   "outputs": [
    {
     "name": "stdout",
     "output_type": "stream",
     "text": [
      "Plotting the match: {'1': 'A', '2': 'B'}\n"
     ]
    },
    {
     "data": {
      "text/html": [
       "<img src=\"https://mermaid.ink/img/CmZsb3djaGFydCBUQgpBWyJBKDEpCiJdCnN0eWxlIEEgc3Ryb2tlOnJlZCxzdHJva2Utd2lkdGg6NHB4OwpCWyJCKDIpCiJdCnN0eWxlIEIgc3Ryb2tlOnJlZCxzdHJva2Utd2lkdGg6NHB4OwpDWyJDCiJdCkRbIkQKIl0KQSAtLT4gQgpBIC0tPiBDCkEgLS0+IEEKbGlua1N0eWxlIDIgc3Ryb2tlOnJlZCxzdHJva2Utd2lkdGg6NHB4OwpDIC0tPiBDCg==\"/>"
      ],
      "text/plain": [
       "<IPython.core.display.Image object>"
      ]
     },
     "metadata": {},
     "output_type": "display_data"
    }
   ],
   "source": [
    "# Find all pairs of nodes 1, 2 where 1 has a self loop\n",
    "_assert_match(input_graph, '1->1; 2', [{'1': 'A', '2': 'B'}, {'1': 'A', '2': 'C'}, {'1': 'A', '2': 'D'}, \n",
    "                                    {'1': 'C', '2': 'A'}, {'1': 'C', '2': 'B'}, {'1': 'C', '2': 'D'}])"
   ]
  },
  {
   "cell_type": "code",
   "execution_count": null,
   "metadata": {},
   "outputs": [
    {
     "name": "stdout",
     "output_type": "stream",
     "text": [
      "Plotting the match: {'1': 'A', '2': 'B'}\n"
     ]
    },
    {
     "data": {
      "text/html": [
       "<img src=\"https://mermaid.ink/img/CmZsb3djaGFydCBUQgpBWyJBKDEpCiJdCnN0eWxlIEEgc3Ryb2tlOnJlZCxzdHJva2Utd2lkdGg6NHB4OwpCWyJCKDIpCiJdCnN0eWxlIEIgc3Ryb2tlOnJlZCxzdHJva2Utd2lkdGg6NHB4OwpDWyJDCiJdCkRbIkQKIl0KQSAtLT4gQgpsaW5rU3R5bGUgMCBzdHJva2U6cmVkLHN0cm9rZS13aWR0aDo0cHg7CkEgLS0+IEMKQSAtLT4gQQpsaW5rU3R5bGUgMiBzdHJva2U6cmVkLHN0cm9rZS13aWR0aDo0cHg7CkMgLS0+IEMK\"/>"
      ],
      "text/plain": [
       "<IPython.core.display.Image object>"
      ]
     },
     "metadata": {},
     "output_type": "display_data"
    }
   ],
   "source": [
    "_assert_match(input_graph, '1->1; 1->2', [{'1': 'A', '2': 'B'}, {'1': 'A', '2': 'C'}])"
   ]
  },
  {
   "cell_type": "code",
   "execution_count": null,
   "metadata": {},
   "outputs": [
    {
     "name": "stdout",
     "output_type": "stream",
     "text": [
      "Plotting the match: {'2': 'A', '1': 'C'}\n"
     ]
    },
    {
     "data": {
      "text/html": [
       "<img src=\"https://mermaid.ink/img/CmZsb3djaGFydCBUQgpBWyJBKDIpCiJdCnN0eWxlIEEgc3Ryb2tlOnJlZCxzdHJva2Utd2lkdGg6NHB4OwpCWyJCCiJdCkNbIkMoMSkKIl0Kc3R5bGUgQyBzdHJva2U6cmVkLHN0cm9rZS13aWR0aDo0cHg7CkRbIkQKIl0KQSAtLT4gQgpBIC0tPiBDCmxpbmtTdHlsZSAxIHN0cm9rZTpyZWQsc3Ryb2tlLXdpZHRoOjRweDsKQSAtLT4gQQpDIC0tPiBDCmxpbmtTdHlsZSAzIHN0cm9rZTpyZWQsc3Ryb2tlLXdpZHRoOjRweDsK\"/>"
      ],
      "text/plain": [
       "<IPython.core.display.Image object>"
      ]
     },
     "metadata": {},
     "output_type": "display_data"
    }
   ],
   "source": [
    "_assert_match(input_graph, '1->1; 2->1', [{'1': 'C', '2': 'A'}])"
   ]
  },
  {
   "cell_type": "code",
   "execution_count": null,
   "metadata": {},
   "outputs": [],
   "source": [
    "# Find a circle in the graph + self loop. There is no such match in the graph\n",
    "_assert_match(input_graph, '1->1; 2->1->2', [])"
   ]
  },
  {
   "cell_type": "code",
   "execution_count": null,
   "metadata": {},
   "outputs": [],
   "source": [
    "# Find five different nodes (the different pattern names enforce it).\n",
    "# There are only 4 nodes in the input graph, and so there are no matches.\n",
    "_assert_match(input_graph, '1;2;3;4;5', [])"
   ]
  },
  {
   "cell_type": "markdown",
   "metadata": {},
   "source": [
    "#### Advanced Test Cases"
   ]
  },
  {
   "cell_type": "markdown",
   "metadata": {},
   "source": [
    "Now, we want to check more advanced features of both the parser and the matcher:\n",
    "* Checking for attributes (existance only)\n",
    "* Checking for attributes (match the values as well, using the parser-generated condition function)\n",
    "* Add user conditions\n",
    "* Anonymous nodes"
   ]
  },
  {
   "cell_type": "markdown",
   "metadata": {},
   "source": [
    "We will work with a new input graph, which shows the connections between students and the courses they took throughout their degree:\n",
    "* Each node in the graph is associated with either a student or a course (and has an attribute \"type\" to denote which is which).\n",
    "* A student is defined by his/her name. Some students (not all of them) also metion their faculty.\n",
    "* A course is defined by its name. Some courses mention their associated number of units.\n",
    "* An edge from a student to a course denotes that the student took the course. It mentions the semester in which the student took the course.\n",
    "* An edge from a course to another course denotes that the first must be taken before the latter.\n",
    "\n",
    "The graph looks like this:"
   ]
  },
  {
   "cell_type": "code",
   "execution_count": null,
   "metadata": {},
   "outputs": [
    {
     "data": {
      "text/html": [
       "<img src=\"https://mermaid.ink/img/CmZsb3djaGFydCBUQgpKb2huWyJKb2huCnR5cGU9c3R1ZGVudCwgZmFjdWx0eT1CaW9sb2d5Il0KTHVjeVsiTHVjeQp0eXBlPXN0dWRlbnQsIGZhdWNsdHk9Q1MiXQpBbXlbIkFteQp0eXBlPXN0dWRlbnQiXQpBbGdvWyJBbGdvCnR5cGU9Y291cnNlLCB1bml0cz0zIl0KQUlbIkFJCnR5cGU9Y291cnNlLCB1bml0cz0zIl0KTkxQWyJOTFAKdHlwZT1jb3Vyc2UsIHVuaXRzPTUiXQpEQlsiREIKdHlwZT1jb3Vyc2UiXQpCaW9bIkJpbwp0eXBlPWNvdXJzZSJdCkpvaG4gLS0+fCJzZW09MyJ8IEJpbwpMdWN5IC0tPnwic2VtPTUifCBBbGdvCkx1Y3kgLS0+fCJzZW09NyJ8IEFJCkFteSAtLT58InNlbT01InwgQWxnbwpBbGdvIC0tPiBBSQpBSSAtLT4gTkxQCg==\"/>"
      ],
      "text/plain": [
       "<IPython.core.display.Image object>"
      ]
     },
     "metadata": {},
     "output_type": "display_data"
    }
   ],
   "source": [
    "input_graph = _create_graph(\n",
    "    [\n",
    "        # Names\n",
    "        ('John', {'type': 'student', 'faculty': 'Biology'}),\n",
    "        ('Lucy', {'type': 'student', 'fauclty': 'CS'}),\n",
    "        ('Amy', {'type': 'student'}),\n",
    "        # Courses\n",
    "        ('Algo', {'type': 'course', 'units': 3}),\n",
    "        ('AI', {'type': 'course', 'units': 3}),\n",
    "        ('NLP', {'type': 'course', 'units': 5}),\n",
    "        ('DB', {'type': 'course'}),\n",
    "        ('Bio', {'type': 'course'})\n",
    "    ], \n",
    "    [\n",
    "        # Students take\n",
    "        ('John', 'Bio', {'sem': 3}),\n",
    "        ('Lucy', 'Algo', {'sem': 5}),\n",
    "        ('Lucy', 'AI', {'sem': 7}),\n",
    "        ('Amy', 'Algo', {'sem': 5}),\n",
    "        # KDAM\n",
    "        ('Algo', 'AI'),\n",
    "        ('AI', 'NLP'),\n",
    "    ]\n",
    ")\n",
    "draw(input_graph)"
   ]
  },
  {
   "cell_type": "markdown",
   "metadata": {},
   "source": [
    "We will now run some useful queries by matching patterns in the graph:"
   ]
  },
  {
   "cell_type": "code",
   "execution_count": null,
   "metadata": {},
   "outputs": [
    {
     "name": "stdout",
     "output_type": "stream",
     "text": [
      "Plotting the match: {'s': 'John'}\n"
     ]
    },
    {
     "data": {
      "text/html": [
       "<img src=\"https://mermaid.ink/img/CmZsb3djaGFydCBUQgpKb2huWyJKb2huKHMpCnR5cGU9c3R1ZGVudCwgZmFjdWx0eT1CaW9sb2d5Il0Kc3R5bGUgSm9obiBzdHJva2U6cmVkLHN0cm9rZS13aWR0aDo0cHg7Ckx1Y3lbIkx1Y3kKdHlwZT1zdHVkZW50LCBmYXVjbHR5PUNTIl0KQW15WyJBbXkKdHlwZT1zdHVkZW50Il0KQWxnb1siQWxnbwp0eXBlPWNvdXJzZSwgdW5pdHM9MyJdCkFJWyJBSQp0eXBlPWNvdXJzZSwgdW5pdHM9MyJdCk5MUFsiTkxQCnR5cGU9Y291cnNlLCB1bml0cz01Il0KREJbIkRCCnR5cGU9Y291cnNlIl0KQmlvWyJCaW8KdHlwZT1jb3Vyc2UiXQpKb2huIC0tPnwic2VtPTMifCBCaW8KTHVjeSAtLT58InNlbT01InwgQWxnbwpMdWN5IC0tPnwic2VtPTcifCBBSQpBbXkgLS0+fCJzZW09NSJ8IEFsZ28KQWxnbyAtLT4gQUkKQUkgLS0+IE5MUAo=\"/>"
      ],
      "text/plain": [
       "<IPython.core.display.Image object>"
      ]
     },
     "metadata": {},
     "output_type": "display_data"
    }
   ],
   "source": [
    "# Find all students\n",
    "_assert_match(input_graph, 's[type=\"student\"]', [{'s': student} for student in ['Amy', 'John', 'Lucy']])"
   ]
  },
  {
   "cell_type": "code",
   "execution_count": null,
   "metadata": {},
   "outputs": [
    {
     "name": "stdout",
     "output_type": "stream",
     "text": [
      "Plotting the match: {'c': 'Algo'}\n"
     ]
    },
    {
     "data": {
      "text/html": [
       "<img src=\"https://mermaid.ink/img/CmZsb3djaGFydCBUQgpKb2huWyJKb2huCnR5cGU9c3R1ZGVudCwgZmFjdWx0eT1CaW9sb2d5Il0KTHVjeVsiTHVjeQp0eXBlPXN0dWRlbnQsIGZhdWNsdHk9Q1MiXQpBbXlbIkFteQp0eXBlPXN0dWRlbnQiXQpBbGdvWyJBbGdvKGMpCnR5cGU9Y291cnNlLCB1bml0cz0zIl0Kc3R5bGUgQWxnbyBzdHJva2U6cmVkLHN0cm9rZS13aWR0aDo0cHg7CkFJWyJBSQp0eXBlPWNvdXJzZSwgdW5pdHM9MyJdCk5MUFsiTkxQCnR5cGU9Y291cnNlLCB1bml0cz01Il0KREJbIkRCCnR5cGU9Y291cnNlIl0KQmlvWyJCaW8KdHlwZT1jb3Vyc2UiXQpKb2huIC0tPnwic2VtPTMifCBCaW8KTHVjeSAtLT58InNlbT01InwgQWxnbwpMdWN5IC0tPnwic2VtPTcifCBBSQpBbXkgLS0+fCJzZW09NSJ8IEFsZ28KQWxnbyAtLT4gQUkKQUkgLS0+IE5MUAo=\"/>"
      ],
      "text/plain": [
       "<IPython.core.display.Image object>"
      ]
     },
     "metadata": {},
     "output_type": "display_data"
    }
   ],
   "source": [
    "# Find all courses\n",
    "_assert_match(input_graph, 'c[type=\"course\"]', [{'c': course} for course in ['DB','NLP','AI','Algo','Bio']])"
   ]
  },
  {
   "cell_type": "code",
   "execution_count": null,
   "metadata": {},
   "outputs": [
    {
     "name": "stdout",
     "output_type": "stream",
     "text": [
      "Plotting the match: {'s': 'John'}\n"
     ]
    },
    {
     "data": {
      "text/html": [
       "<img src=\"https://mermaid.ink/img/CmZsb3djaGFydCBUQgpKb2huWyJKb2huKHMpCnR5cGU9c3R1ZGVudCwgZmFjdWx0eT1CaW9sb2d5Il0Kc3R5bGUgSm9obiBzdHJva2U6cmVkLHN0cm9rZS13aWR0aDo0cHg7Ckx1Y3lbIkx1Y3kKdHlwZT1zdHVkZW50LCBmYXVjbHR5PUNTIl0KQW15WyJBbXkKdHlwZT1zdHVkZW50Il0KQWxnb1siQWxnbwp0eXBlPWNvdXJzZSwgdW5pdHM9MyJdCkFJWyJBSQp0eXBlPWNvdXJzZSwgdW5pdHM9MyJdCk5MUFsiTkxQCnR5cGU9Y291cnNlLCB1bml0cz01Il0KREJbIkRCCnR5cGU9Y291cnNlIl0KQmlvWyJCaW8KdHlwZT1jb3Vyc2UiXQpKb2huIC0tPnwic2VtPTMifCBCaW8KTHVjeSAtLT58InNlbT01InwgQWxnbwpMdWN5IC0tPnwic2VtPTcifCBBSQpBbXkgLS0+fCJzZW09NSJ8IEFsZ28KQWxnbyAtLT4gQUkKQUkgLS0+IE5MUAo=\"/>"
      ],
      "text/plain": [
       "<IPython.core.display.Image object>"
      ]
     },
     "metadata": {},
     "output_type": "display_data"
    }
   ],
   "source": [
    "# Find all students that took some course (all of them)\n",
    "_assert_match(input_graph, 's[type=\"student\"]->_[type=\"course\"]', [{'s': 'Amy'}, {'s': 'John'}, {'s': 'Lucy'}])"
   ]
  },
  {
   "cell_type": "code",
   "execution_count": null,
   "metadata": {},
   "outputs": [
    {
     "name": "stdout",
     "output_type": "stream",
     "text": [
      "Plotting the match: {'s': 'Lucy'}\n"
     ]
    },
    {
     "data": {
      "text/html": [
       "<img src=\"https://mermaid.ink/img/CmZsb3djaGFydCBUQgpKb2huWyJKb2huCnR5cGU9c3R1ZGVudCwgZmFjdWx0eT1CaW9sb2d5Il0KTHVjeVsiTHVjeShzKQp0eXBlPXN0dWRlbnQsIGZhdWNsdHk9Q1MiXQpzdHlsZSBMdWN5IHN0cm9rZTpyZWQsc3Ryb2tlLXdpZHRoOjRweDsKQW15WyJBbXkKdHlwZT1zdHVkZW50Il0KQWxnb1siQWxnbwp0eXBlPWNvdXJzZSwgdW5pdHM9MyJdCkFJWyJBSQp0eXBlPWNvdXJzZSwgdW5pdHM9MyJdCk5MUFsiTkxQCnR5cGU9Y291cnNlLCB1bml0cz01Il0KREJbIkRCCnR5cGU9Y291cnNlIl0KQmlvWyJCaW8KdHlwZT1jb3Vyc2UiXQpKb2huIC0tPnwic2VtPTMifCBCaW8KTHVjeSAtLT58InNlbT01InwgQWxnbwpMdWN5IC0tPnwic2VtPTcifCBBSQpBbXkgLS0+fCJzZW09NSJ8IEFsZ28KQWxnbyAtLT4gQUkKQUkgLS0+IE5MUAo=\"/>"
      ],
      "text/plain": [
       "<IPython.core.display.Image object>"
      ]
     },
     "metadata": {},
     "output_type": "display_data"
    }
   ],
   "source": [
    "# Find all students that took some 3-units course\n",
    "_assert_match(input_graph, 's[type=\"student\"]->_[type=\"course\", units=3]', [{'s': 'Amy'}, {'s': 'Lucy'}])"
   ]
  },
  {
   "cell_type": "code",
   "execution_count": null,
   "metadata": {},
   "outputs": [
    {
     "name": "stdout",
     "output_type": "stream",
     "text": [
      "Plotting the match: {'c': 'Algo', 's': 'Lucy'}\n"
     ]
    },
    {
     "data": {
      "text/html": [
       "<img src=\"https://mermaid.ink/img/CmZsb3djaGFydCBUQgpKb2huWyJKb2huCnR5cGU9c3R1ZGVudCwgZmFjdWx0eT1CaW9sb2d5Il0KTHVjeVsiTHVjeShzKQp0eXBlPXN0dWRlbnQsIGZhdWNsdHk9Q1MiXQpzdHlsZSBMdWN5IHN0cm9rZTpyZWQsc3Ryb2tlLXdpZHRoOjRweDsKQW15WyJBbXkKdHlwZT1zdHVkZW50Il0KQWxnb1siQWxnbyhjKQp0eXBlPWNvdXJzZSwgdW5pdHM9MyJdCnN0eWxlIEFsZ28gc3Ryb2tlOnJlZCxzdHJva2Utd2lkdGg6NHB4OwpBSVsiQUkKdHlwZT1jb3Vyc2UsIHVuaXRzPTMiXQpOTFBbIk5MUAp0eXBlPWNvdXJzZSwgdW5pdHM9NSJdCkRCWyJEQgp0eXBlPWNvdXJzZSJdCkJpb1siQmlvCnR5cGU9Y291cnNlIl0KSm9obiAtLT58InNlbT0zInwgQmlvCkx1Y3kgLS0+fCJzZW09NSJ8IEFsZ28KbGlua1N0eWxlIDEgc3Ryb2tlOnJlZCxzdHJva2Utd2lkdGg6NHB4OwpMdWN5IC0tPnwic2VtPTcifCBBSQpBbXkgLS0+fCJzZW09NSJ8IEFsZ28KQWxnbyAtLT4gQUkKQUkgLS0+IE5MUAo=\"/>"
      ],
      "text/plain": [
       "<IPython.core.display.Image object>"
      ]
     },
     "metadata": {},
     "output_type": "display_data"
    }
   ],
   "source": [
    "# Find all students that took some 3-units course, and the associated courses\n",
    "_assert_match(input_graph, 's[type=\"student\"]->c[type=\"course\", units=3]', [\n",
    "    {'s': 'Amy', 'c': 'Algo'}, {'s': 'Lucy', 'c': 'Algo'}, {'s': 'Lucy', 'c': 'AI'}\n",
    "])"
   ]
  },
  {
   "cell_type": "code",
   "execution_count": null,
   "metadata": {},
   "outputs": [
    {
     "name": "stdout",
     "output_type": "stream",
     "text": [
      "Plotting the match: {'c1': 'Algo', 's': 'Lucy', 'c2': 'AI'}\n"
     ]
    },
    {
     "data": {
      "text/html": [
       "<img src=\"https://mermaid.ink/img/CmZsb3djaGFydCBUQgpKb2huWyJKb2huCnR5cGU9c3R1ZGVudCwgZmFjdWx0eT1CaW9sb2d5Il0KTHVjeVsiTHVjeShzKQp0eXBlPXN0dWRlbnQsIGZhdWNsdHk9Q1MiXQpzdHlsZSBMdWN5IHN0cm9rZTpyZWQsc3Ryb2tlLXdpZHRoOjRweDsKQW15WyJBbXkKdHlwZT1zdHVkZW50Il0KQWxnb1siQWxnbyhjMSkKdHlwZT1jb3Vyc2UsIHVuaXRzPTMiXQpzdHlsZSBBbGdvIHN0cm9rZTpyZWQsc3Ryb2tlLXdpZHRoOjRweDsKQUlbIkFJKGMyKQp0eXBlPWNvdXJzZSwgdW5pdHM9MyJdCnN0eWxlIEFJIHN0cm9rZTpyZWQsc3Ryb2tlLXdpZHRoOjRweDsKTkxQWyJOTFAKdHlwZT1jb3Vyc2UsIHVuaXRzPTUiXQpEQlsiREIKdHlwZT1jb3Vyc2UiXQpCaW9bIkJpbwp0eXBlPWNvdXJzZSJdCkpvaG4gLS0+fCJzZW09MyJ8IEJpbwpMdWN5IC0tPnwic2VtPTUifCBBbGdvCmxpbmtTdHlsZSAxIHN0cm9rZTpyZWQsc3Ryb2tlLXdpZHRoOjRweDsKTHVjeSAtLT58InNlbT03InwgQUkKbGlua1N0eWxlIDIgc3Ryb2tlOnJlZCxzdHJva2Utd2lkdGg6NHB4OwpBbXkgLS0+fCJzZW09NSJ8IEFsZ28KQWxnbyAtLT4gQUkKQUkgLS0+IE5MUAo=\"/>"
      ],
      "text/plain": [
       "<IPython.core.display.Image object>"
      ]
     },
     "metadata": {},
     "output_type": "display_data"
    }
   ],
   "source": [
    "# Find all students which took two courses (and the courses)\n",
    "_assert_match(input_graph, 's[type=\"student\"]->c1[type=\"course\"]; s->c2[type=\"course\"]', [\n",
    "    {'s': 'Lucy', 'c1': 'AI', 'c2': 'Algo'},\n",
    "    {'s': 'Lucy', 'c1': 'Algo', 'c2': 'AI'}\n",
    "])"
   ]
  },
  {
   "cell_type": "code",
   "execution_count": null,
   "metadata": {},
   "outputs": [
    {
     "name": "stdout",
     "output_type": "stream",
     "text": [
      "Plotting the match: {'c1': 'Algo', 'c2': 'AI', 'c3': 'NLP'}\n"
     ]
    },
    {
     "data": {
      "text/html": [
       "<img src=\"https://mermaid.ink/img/CmZsb3djaGFydCBUQgpKb2huWyJKb2huCnR5cGU9c3R1ZGVudCwgZmFjdWx0eT1CaW9sb2d5Il0KTHVjeVsiTHVjeQp0eXBlPXN0dWRlbnQsIGZhdWNsdHk9Q1MiXQpBbXlbIkFteQp0eXBlPXN0dWRlbnQiXQpBbGdvWyJBbGdvKGMxKQp0eXBlPWNvdXJzZSwgdW5pdHM9MyJdCnN0eWxlIEFsZ28gc3Ryb2tlOnJlZCxzdHJva2Utd2lkdGg6NHB4OwpBSVsiQUkoYzIpCnR5cGU9Y291cnNlLCB1bml0cz0zIl0Kc3R5bGUgQUkgc3Ryb2tlOnJlZCxzdHJva2Utd2lkdGg6NHB4OwpOTFBbIk5MUChjMykKdHlwZT1jb3Vyc2UsIHVuaXRzPTUiXQpzdHlsZSBOTFAgc3Ryb2tlOnJlZCxzdHJva2Utd2lkdGg6NHB4OwpEQlsiREIKdHlwZT1jb3Vyc2UiXQpCaW9bIkJpbwp0eXBlPWNvdXJzZSJdCkpvaG4gLS0+fCJzZW09MyJ8IEJpbwpMdWN5IC0tPnwic2VtPTUifCBBbGdvCkx1Y3kgLS0+fCJzZW09NyJ8IEFJCkFteSAtLT58InNlbT01InwgQWxnbwpBbGdvIC0tPiBBSQpsaW5rU3R5bGUgNCBzdHJva2U6cmVkLHN0cm9rZS13aWR0aDo0cHg7CkFJIC0tPiBOTFAKbGlua1N0eWxlIDUgc3Ryb2tlOnJlZCxzdHJva2Utd2lkdGg6NHB4Owo=\"/>"
      ],
      "text/plain": [
       "<IPython.core.display.Image object>"
      ]
     },
     "metadata": {},
     "output_type": "display_data"
    }
   ],
   "source": [
    "# Find all tripltes c1, c2, c3 of courses such that c1 is a prerequisite of c2, and the same for c2 and c3\n",
    "_assert_match(input_graph, 'c1[type=\"course\"]->c2[type=\"course\"]->c3[type=\"course\"]', [\n",
    "    {'c1': 'Algo', 'c2': 'AI', 'c3': 'NLP'}\n",
    "])"
   ]
  },
  {
   "cell_type": "code",
   "execution_count": null,
   "metadata": {},
   "outputs": [
    {
     "name": "stdout",
     "output_type": "stream",
     "text": [
      "Plotting the match: {'s': 'Lucy'}\n"
     ]
    },
    {
     "data": {
      "text/html": [
       "<img src=\"https://mermaid.ink/img/CmZsb3djaGFydCBUQgpKb2huWyJKb2huCnR5cGU9c3R1ZGVudCwgZmFjdWx0eT1CaW9sb2d5Il0KTHVjeVsiTHVjeShzKQp0eXBlPXN0dWRlbnQsIGZhdWNsdHk9Q1MiXQpzdHlsZSBMdWN5IHN0cm9rZTpyZWQsc3Ryb2tlLXdpZHRoOjRweDsKQW15WyJBbXkKdHlwZT1zdHVkZW50Il0KQWxnb1siQWxnbwp0eXBlPWNvdXJzZSwgdW5pdHM9MyJdCkFJWyJBSQp0eXBlPWNvdXJzZSwgdW5pdHM9MyJdCk5MUFsiTkxQCnR5cGU9Y291cnNlLCB1bml0cz01Il0KREJbIkRCCnR5cGU9Y291cnNlIl0KQmlvWyJCaW8KdHlwZT1jb3Vyc2UiXQpKb2huIC0tPnwic2VtPTMifCBCaW8KTHVjeSAtLT58InNlbT01InwgQWxnbwpMdWN5IC0tPnwic2VtPTcifCBBSQpBbXkgLS0+fCJzZW09NSJ8IEFsZ28KQWxnbyAtLT4gQUkKQUkgLS0+IE5MUAo=\"/>"
      ],
      "text/plain": [
       "<IPython.core.display.Image object>"
      ]
     },
     "metadata": {},
     "output_type": "display_data"
    }
   ],
   "source": [
    "# Find all students that took a course in their 7th semester\n",
    "_assert_match(input_graph, 's[type=\"student\"]-[sem=7]->_[type=\"course\"]', [\n",
    "    {'s': 'Lucy'}\n",
    "])"
   ]
  },
  {
   "cell_type": "code",
   "execution_count": null,
   "metadata": {},
   "outputs": [
    {
     "name": "stdout",
     "output_type": "stream",
     "text": [
      "Plotting the match: {'s': 'John', 'c': 'Bio'}\n"
     ]
    },
    {
     "data": {
      "text/html": [
       "<img src=\"https://mermaid.ink/img/CmZsb3djaGFydCBUQgpKb2huWyJKb2huKHMpCnR5cGU9c3R1ZGVudCwgZmFjdWx0eT1CaW9sb2d5Il0Kc3R5bGUgSm9obiBzdHJva2U6cmVkLHN0cm9rZS13aWR0aDo0cHg7Ckx1Y3lbIkx1Y3kKdHlwZT1zdHVkZW50LCBmYXVjbHR5PUNTIl0KQW15WyJBbXkKdHlwZT1zdHVkZW50Il0KQWxnb1siQWxnbwp0eXBlPWNvdXJzZSwgdW5pdHM9MyJdCkFJWyJBSQp0eXBlPWNvdXJzZSwgdW5pdHM9MyJdCk5MUFsiTkxQCnR5cGU9Y291cnNlLCB1bml0cz01Il0KREJbIkRCCnR5cGU9Y291cnNlIl0KQmlvWyJCaW8oYykKdHlwZT1jb3Vyc2UiXQpzdHlsZSBCaW8gc3Ryb2tlOnJlZCxzdHJva2Utd2lkdGg6NHB4OwpKb2huIC0tPnwic2VtPTMifCBCaW8KbGlua1N0eWxlIDAgc3Ryb2tlOnJlZCxzdHJva2Utd2lkdGg6NHB4OwpMdWN5IC0tPnwic2VtPTUifCBBbGdvCkx1Y3kgLS0+fCJzZW09NyJ8IEFJCkFteSAtLT58InNlbT01InwgQWxnbwpBbGdvIC0tPiBBSQpBSSAtLT4gTkxQCg==\"/>"
      ],
      "text/plain": [
       "<IPython.core.display.Image object>"
      ]
     },
     "metadata": {},
     "output_type": "display_data"
    }
   ],
   "source": [
    "# Find all students that took a course before their 5th semester (use user-defined condition)\n",
    "_assert_match(input_graph, 's[type=\"student\"]-[sem]->c[type=\"course\"]', [\n",
    "    {'s': 'John', 'c': 'Bio'}\n",
    "], condition=lambda match: match['s->c']['sem'] < 5)"
   ]
  },
  {
   "cell_type": "markdown",
   "metadata": {},
   "source": [
    "#### POC For Large Graphs"
   ]
  },
  {
   "cell_type": "code",
   "execution_count": null,
   "metadata": {},
   "outputs": [],
   "source": [
    "# POC: High number of nodes, solved with attribute filtering\n",
    "num_nodes = 100000\n",
    "\n",
    "input_graph = _create_graph(\n",
    "    [n for n in range(num_nodes)] + [(num_nodes+1, {'attr': 15}), (num_nodes+2, {'attr': 15})], \n",
    "    [\n",
    "        (num_nodes+1, num_nodes+2),\n",
    "        (2,4),\n",
    "        (3,1)\n",
    "    ]\n",
    ")\n",
    "\n",
    "_assert_match(input_graph, 'X[attr]->Y[attr]', [{'X': num_nodes+1, 'Y': num_nodes+2}], plot=False)"
   ]
  },
  {
   "cell_type": "markdown",
   "metadata": {},
   "source": [
    "# Export"
   ]
  },
  {
   "cell_type": "code",
   "execution_count": null,
   "metadata": {},
   "outputs": [],
   "source": [
    "#|hide\n",
    "import nbdev; nbdev.nbdev_export()\n",
    "     "
   ]
  }
 ],
 "metadata": {
  "kernelspec": {
   "display_name": "python3",
   "language": "python",
   "name": "python3"
  }
 },
 "nbformat": 4,
 "nbformat_minor": 2
}
