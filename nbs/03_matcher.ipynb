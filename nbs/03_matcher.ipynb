{
 "cells": [
  {
   "attachments": {},
   "cell_type": "markdown",
   "metadata": {},
   "source": [
    "# Matcher"
   ]
  },
  {
   "cell_type": "code",
   "execution_count": null,
   "metadata": {},
   "outputs": [],
   "source": [
    "#| default_exp matcher\n",
    "%load_ext autoreload\n",
    "%autoreload 2"
   ]
  },
  {
   "attachments": {},
   "cell_type": "markdown",
   "metadata": {},
   "source": [
    "### Overview\n",
    "In the previous module, the LHS Parser received an LHS string, describing some graph pattern, and parsed it to an equivalent NetworkX DiGraph. In the following module, we search for **matches** to this pattern in our input graph - That is, find all subgraphs of our input graph, which have the same structure as the pattern in terms of nodes, the edges connecting them and the attributes they all have. \n",
    "\n",
    "Each match is basically a mapping from a subset of the input graph nodes to a the pattern nodes (as we can deduce what are the matched edges and attributes accordingly).\n",
    "\n",
    "The **Matcher** in this module does the following:\n",
    "* **Searches for matches** in the input graph, according to some LHS pattern graph.\n",
    "* **Filters matches** based on either an explicit boolean function, or constraints given to the matcher by the parser to be handled later.\n",
    "* **Constructs a list of Match objects**, each corresponds to one of the filtered matches we've found. The list will be used in later modules, and will also allow users to see the matches and to use them imperatively.\n",
    "\n",
    "The final, filtered list of Match objects is returned from this module's main function, **find_matches**."
   ]
  },
  {
   "attachments": {},
   "cell_type": "markdown",
   "metadata": {},
   "source": [
    "### Requirements"
   ]
  },
  {
   "cell_type": "code",
   "execution_count": null,
   "metadata": {},
   "outputs": [],
   "source": [
    "#| export\n",
    "from networkx import DiGraph\n",
    "from networkx.algorithms import isomorphism # check subgraph's isom.\n",
    "import itertools # iterating over all nodes\\edges combinations\n",
    "from graph_rewrite.match_class import Match, mapping_to_match\n",
    "from graph_rewrite.core import NodeName, _create_graph, _plot_graph\n",
    "from typing import *"
   ]
  },
  {
   "attachments": {},
   "cell_type": "markdown",
   "metadata": {},
   "source": [
    "### Find Matches\n",
    "Given an input graph and a pattern graph, we want to find the list of matches from pattern nodes to input-graph nodes, each constructs a corresponding Match object. "
   ]
  },
  {
   "attachments": {},
   "cell_type": "markdown",
   "metadata": {},
   "source": [
    "#### Checking for Attributes Existance\n",
    "A significant part of finding matches is comparing the attributes of different nodes to each other, in order to know whether can match. The Parser, which constructs the pattern graph, does not include explicit required values of attributes in that graph (it saves these values somewhere else, we'll get to that later).\n",
    "\n",
    "Therefore, given the pattern graph, we can only tell whether some pattern node has the same attributes (regardless of their values) as some input graph node. This is done by the following function:"
   ]
  },
  {
   "cell_type": "code",
   "execution_count": null,
   "metadata": {},
   "outputs": [],
   "source": [
    "#| export\n",
    "def _attributes_exist(input_graph_attrs: dict, pattern_attrs: dict) -> bool:\n",
    "    \"\"\"Given an input-graph node and a pattern node, checks whether the input-graph node\n",
    "    has all the attributes which the pattern node requires. If it does, then this input-graph node might be matched as that pattern node.\n",
    "    \n",
    "    Note that we only refer to the existence of attributes here, i.e. if both nodes have the same attributes but with\n",
    "    different values, this function still considers them as a potential pair to match.\n",
    "\n",
    "    Args:\n",
    "        input_graph_attrs (dict): Attributes of some input-graph node.\n",
    "        pattern_attrs (dict): Attributes of some pattern-graph node.\n",
    "\n",
    "    Returns:\n",
    "        bool: True if the input-graph node has all the attributes which the pattern node requires, False otherwise.\n",
    "    \"\"\"\n",
    "    return set(pattern_attrs.keys()).issubset(set(input_graph_attrs.keys()))"
   ]
  },
  {
   "attachments": {},
   "cell_type": "markdown",
   "metadata": {},
   "source": [
    "#### Finding Structural Matches\n",
    "NetworkX provides an out-of-the-box isomorphism matcher, which compares the structure of two graphs and tells whether they are isomorphic (have the same nodes and edges). We utilize this isomorphism matcher by beginning our matching process with structural matches only (ignoring the attributes totally):"
   ]
  },
  {
   "cell_type": "code",
   "execution_count": null,
   "metadata": {},
   "outputs": [],
   "source": [
    "#| export\n",
    "def _find_structural_matches(graph: DiGraph, pattern: DiGraph) -> list[Tuple[DiGraph, dict[NodeName, NodeName]]]:\n",
    "    \"\"\"Given a graph, find all of its subgraphs which have the same structure (same nodes and edges)\n",
    "    as a given pattern DiGraph. That is, all subgraphs which are isomorphic to the pattern.\n",
    "\n",
    "    Args:\n",
    "        graph (DiGraph): A graph to find matches in\n",
    "        pattern (DiGraph): A pattern graph produced by the LHS Parser.\n",
    "\n",
    "    Returns:\n",
    "        list[Tuple[DiGraph, dict[NodeName, NodeName]]]: list of (subgraph, mapping) tuples,\n",
    "            where for each pair, the subgraph is the subset of nodes and edges in the input graph that\n",
    "            match the pattern, and the mapping is a dictionary that maps nodes in that subgraph\n",
    "            to nodes in the pattern.\n",
    "    \"\"\"\n",
    "\n",
    "    isom_matches = []\n",
    "    for sub_nodes in itertools.combinations(graph.nodes, len(pattern.nodes)):\n",
    "        nodes_subg: DiGraph = graph.subgraph(sub_nodes)\n",
    "        for sub_edges in itertools.combinations(nodes_subg.edges(data=True), len(pattern.edges)):\n",
    "            # Create a subgraph with selected edges and nodes\n",
    "            subg = DiGraph()\n",
    "            subg.add_nodes_from(list(nodes_subg.nodes(data=True)))\n",
    "            subg.add_edges_from(list(sub_edges))\n",
    "\n",
    "            # Find structural matches with the selected edges and nodes\n",
    "            matcher = isomorphism.DiGraphMatcher(pattern, subg)\n",
    "            for isom_mapping in matcher.isomorphisms_iter():\n",
    "                isom_matches.append((nodes_subg, isom_mapping))\n",
    "                \n",
    "    return isom_matches"
   ]
  },
  {
   "attachments": {},
   "cell_type": "markdown",
   "metadata": {},
   "source": [
    "#### Expanding Matches With Attribtues\n",
    "Now that we have all structural matches between the graph and the pattern, we want to take our attributes into account.\n",
    "Currently, we still ignore the values of the attributes, and check whether some structural match also has the attributes of the pattern in the matched subgraph:"
   ]
  },
  {
   "cell_type": "code",
   "execution_count": null,
   "metadata": {},
   "outputs": [],
   "source": [
    "#| export\n",
    "def _isom_matches_pattern(isom: Tuple[DiGraph, dict], pattern: DiGraph) -> bool:\n",
    "    \"\"\"Given a graph that is isomorphic to the pattern, checks whether they also\n",
    "    match in terms of their attributes (that is, the graph has the same attributes\n",
    "    as the pattern). If they does, then the isomorphic graph matches the pattern completely.\n",
    "\n",
    "    Args:\n",
    "        isom (Tuple[DiGraph, dict]): A graph that's isomorphic to the pattern\n",
    "        pattern (DiGraph): A pattern graph produced by the LHS Parser.\n",
    "\n",
    "    Returns:\n",
    "        bool: True if the isomorphic graph matches the pattern, False otherwise.\n",
    "    \"\"\"\n",
    "\n",
    "    # check nodes match\n",
    "    subgraph, mapping = isom\n",
    "    if not all([_attributes_exist(subgraph.nodes[original_node], pattern.nodes[pattern_node]) \\\n",
    "                for (pattern_node, original_node) in mapping.items()]):\n",
    "        return False\n",
    "\n",
    "    # check edges match\n",
    "    if all([_attributes_exist(subgraph.edges[mapping[edge[0]], mapping[edge[1]]], edge[2]) \\\n",
    "                for edge in pattern.edges(data=True)]):\n",
    "        return True"
   ]
  },
  {
   "attachments": {},
   "cell_type": "markdown",
   "metadata": {},
   "source": [
    "#### Filtering Matches\n",
    "The only thing we ignored up until now is attribute values. As metioned above, the LHS Parser does not include required attribute values in the pattern graph. Instead, it constructs a boolean function which receives a Match object and checks whether the match it represents has the required attribute values (if there are any). \n",
    "\n",
    "This boolean function is further extended by the user of the library, which can pass as parameter a function of the same format, which filteres a list of Match objects based on any condition it wishes to apply. The LHS Parser, in addition to the pattern graph, provides the extended filtering function, that mixes both the user and the parser constraints which were not handled by the matcher so far.\n",
    "\n",
    "Later in this module, we will use the extended function to filter the list of Match objects we get from the structural and attribute-existence-based matchers. The signature of that function will be as follows:"
   ]
  },
  {
   "cell_type": "code",
   "execution_count": null,
   "metadata": {},
   "outputs": [],
   "source": [
    "#| export\n",
    "FilterFunc = Callable[[Match], bool]"
   ]
  },
  {
   "attachments": {},
   "cell_type": "markdown",
   "metadata": {},
   "source": [
    "#### Putting It All Togehter\n",
    "Given our ability to find matches (both structural and in terms of attribute existence) between two graphs, as well as filtering matches according to desired conditions and constraints, we can finally find complete matches of the pattern in our input graph. \n",
    "\n",
    "Using the functions presented thus far, the search for matches might take a lot of time if the graph has a high number of nodes / edges. Nodes which are no real candidate to match any pattern node (do not share attributes with any pattern node) are checked eitherway, which is extermely inefficient. \n",
    "\n",
    "Therefore, before we search for matches in our input graph, we will reduce it to only contain the nodes that might match any of the pattern nodes (and their connected edges as well). This might improve the whole matching performance. The following function is used in order to do exactly that:"
   ]
  },
  {
   "cell_type": "code",
   "execution_count": null,
   "metadata": {},
   "outputs": [],
   "source": [
    "#| export\n",
    "def _node_matches_pattern(graph_node_attrs: dict, pattern: DiGraph) -> bool:\n",
    "    \"\"\"Given the attributes of some input-graph node, checks whether this node\n",
    "    has the same attributes as some node in the pattern graph. If it does,\n",
    "    then the node by match that node in the pattern - and thus, might be included\n",
    "    in a subgraph that will match the entire pattern.\n",
    "\n",
    "    Args:\n",
    "        graph_node_attrs (dict): Attributes of some input-graph node.\n",
    "        pattern (DiGraph): A pattern graph produced by the LHS Parser.\n",
    "\n",
    "    Returns:\n",
    "        bool: True if the input-graph node has the same attributes as some pattern node, False otherwise.\n",
    "    \"\"\"\n",
    "    return any([_attributes_exist(graph_node_attrs, pattern_attr) for (_, pattern_attr) in pattern.nodes(data=True)])"
   ]
  },
  {
   "attachments": {},
   "cell_type": "markdown",
   "metadata": {},
   "source": [
    "We are now combining everything we saw in order to find the matches of a pattern in our input graph. The matches are returned as a (filtered) list of Match objects:"
   ]
  },
  {
   "cell_type": "code",
   "execution_count": null,
   "metadata": {},
   "outputs": [],
   "source": [
    "#| export\n",
    "def find_matches(input_graph: DiGraph, pattern: DiGraph, condition: FilterFunc = lambda match: True) -> List[Match]:\n",
    "    \"\"\"Find all matches of a pattern graph in an input graph, for which a certain condition holds.\n",
    "    That is, subgraphs of the input graph which have the same nodes, edges, attributes and required attribute values\n",
    "    as the pattern defines, which satisfy any additional condition the user defined.\n",
    "\n",
    "    Args:\n",
    "        input_graph (DiGraph): A graph to find matches in\n",
    "        pattern (DiGraph): A pattern graph produced by the LHS Parser.\n",
    "        condition (FilterFunc, optional): A function which recives a Match objects, and checks whether some condition holds\n",
    "            for the corresponding match. Defaults to a condition function which always returns True.\n",
    "\n",
    "    Returns:\n",
    "        List[Match]: List of Match objects, each corresponds to a match of the pattern in the input graph.\n",
    "    \"\"\"\n",
    "\n",
    "    # Narrow down search space by keeping only input-graph nodes that have the same attributes as some pattern node\n",
    "    matching_nodes = [n for (n, attrs) in input_graph.nodes(data=True) if _node_matches_pattern(attrs, pattern)]\n",
    "    # Reducing the input graph to the matching nodes + connected edges\n",
    "    reduced_input_g = input_graph.subgraph(matching_nodes)\n",
    "    \n",
    "    # Find all structural matches (isomorphisms), ignore attributes\n",
    "    isom_matches =  _find_structural_matches(reduced_input_g, pattern)\n",
    "    # Find matches with attributes among isoms (match pattern's attributes)\n",
    "    attribute_matches = [mapping for (subgraph, mapping) in isom_matches if _isom_matches_pattern((subgraph, mapping), pattern)]\n",
    "\n",
    "    # construct a list of Match objects\n",
    "    matches_list = [mapping_to_match(input_graph, pattern, mapping) for mapping in attribute_matches]\n",
    "    return [match for match in matches_list if condition(match)]"
   ]
  },
  {
   "attachments": {},
   "cell_type": "markdown",
   "metadata": {},
   "source": [
    "### Tests"
   ]
  },
  {
   "attachments": {},
   "cell_type": "markdown",
   "metadata": {},
   "source": [
    "#### Test Utils"
   ]
  },
  {
   "cell_type": "code",
   "execution_count": null,
   "metadata": {},
   "outputs": [],
   "source": [
    "def _test_match(input, pattern, expected):\n",
    "    matches = find_matches(input, pattern)\n",
    "    return all([match.mapping in expected for match in matches])"
   ]
  },
  {
   "attachments": {},
   "cell_type": "markdown",
   "metadata": {},
   "source": [
    "#### Test Cases"
   ]
  },
  {
   "cell_type": "code",
   "execution_count": null,
   "metadata": {},
   "outputs": [],
   "source": [
    "# Simple graph tests\n",
    "input_graph = _create_graph(\n",
    "    ['A','B','C','D'], \n",
    "    [\n",
    "        ('A','B'),\n",
    "        ('A','C'),\n",
    "        ('A', 'A'),\n",
    "        ('C', 'C'),\n",
    "        ('A', 'C')\n",
    "    ]\n",
    ")\n",
    "\n",
    "pattern1 = _create_graph(['X'], [('X', 'X')])\n",
    "assert _test_match(input_graph, pattern1, [{'X': 'A'}, {'X': 'C'}])\n",
    "assert _test_match(input_graph, pattern1, [{'X': 'C'}, {'X': 'A'}])\n",
    "assert not _test_match(input_graph, pattern1, [{'X': 'A'}])\n",
    "\n",
    "pattern2 = _create_graph(['X', 'Y'], [('X', 'X')])\n",
    "assert _test_match(input_graph, pattern2, [{'X': 'A', 'Y': 'B'}, {'X': 'A', 'Y': 'C'}, {'X': 'A', 'Y': 'D'}, \n",
    "                                    {'X': 'C', 'Y': 'A'}, {'X': 'C', 'Y': 'B'}, {'X': 'C', 'Y': 'D'}])\n",
    "\n",
    "pattern3 = _create_graph(['X', 'Y'], [('X', 'X'), ('X', 'Y')])\n",
    "assert _test_match(input_graph, pattern3, [{'X': 'A', 'Y': 'B'}, {'X': 'A', 'Y': 'C'}])\n",
    "\n",
    "pattern4 = _create_graph(['X', 'Y'], [('X', 'X'), ('Y', 'X')])\n",
    "assert _test_match(input_graph, pattern4, [{'X': 'C', 'Y': 'A'}])\n",
    "\n",
    "pattern5 = _create_graph(['X', 'Y'], [('X', 'X'), ('Y', 'X'), ('X', 'Y')])\n",
    "assert _test_match(input_graph, pattern5, [])\n",
    "\n",
    "pattern6 = _create_graph(['1','2','3','4','5'], [])\n",
    "assert _test_match(input_graph, pattern6, [])\n",
    "\n",
    "input_graph.add_edge('C', 'D')\n",
    "input_graph.add_edge('D', 'A')\n",
    "pattern7 = _create_graph(['X', 'Y', 'Z'], [('X', 'Y'), ('Y', 'Z')])\n",
    "assert _test_match(input_graph, pattern7, [{'X': 'A', 'Y': 'C', 'Z': 'D'},\n",
    "                                    {'X': 'C', 'Y': 'D', 'Z': 'A'},\n",
    "                                    {'X': 'D', 'Y': 'A', 'Z': 'C'},\n",
    "                                    {'X': 'D', 'Y': 'A', 'Z': 'B'}])\n"
   ]
  },
  {
   "cell_type": "code",
   "execution_count": null,
   "metadata": {},
   "outputs": [],
   "source": [
    "# POC: High number of nodes, solved with attribute filtering\n",
    "num_nodes = 100000\n",
    "\n",
    "input_graph = _create_graph(\n",
    "    [n for n in range(num_nodes)] + [(num_nodes+1, {'attr': 15}), (num_nodes+2, {'attr': 15})], \n",
    "    [\n",
    "        (num_nodes+1, num_nodes+2),\n",
    "        (2,4),\n",
    "        (3,1)\n",
    "    ]\n",
    ")\n",
    "\n",
    "pattern = _create_graph([('X', {'attr': None}), ('Y', {'attr': None})], [('X', 'Y')])\n",
    "assert _test_match(input_graph, pattern, [{'X': num_nodes+1, 'Y': num_nodes+2}])"
   ]
  }
 ],
 "metadata": {
  "kernelspec": {
   "display_name": "python3",
   "language": "python",
   "name": "python3"
  }
 },
 "nbformat": 4,
 "nbformat_minor": 2
}
