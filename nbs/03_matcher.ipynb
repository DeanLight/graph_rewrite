{
 "cells": [
  {
   "attachments": {},
   "cell_type": "markdown",
   "metadata": {},
   "source": [
    "# Matcher"
   ]
  },
  {
   "cell_type": "code",
   "execution_count": 35,
   "metadata": {},
   "outputs": [],
   "source": [
    "#| default_exp matcher"
   ]
  },
  {
   "cell_type": "code",
   "execution_count": 36,
   "metadata": {},
   "outputs": [
    {
     "name": "stdout",
     "output_type": "stream",
     "text": [
      "The autoreload extension is already loaded. To reload it, use:\n",
      "  %reload_ext autoreload\n"
     ]
    }
   ],
   "source": [
    "#| hide\n",
    "from nbdev.showdoc import show_doc\n",
    "%load_ext autoreload\n",
    "%autoreload 2"
   ]
  },
  {
   "attachments": {},
   "cell_type": "markdown",
   "metadata": {},
   "source": [
    "### Overview\n",
    "In the previous modules, the LHS Parser received an LHS string, describing some graph pattern, and parsed it to an equivalent NetworkX DiGraph. In the following module, we search for **matches** to this pattern in our input graph - That is, find all subgraphs of our input graph, which have the same structure as the pattern in terms of nodes, the edges connecting them and the attributes they all have. \n",
    "\n",
    "Each match is basically a mapping from a subset of the input graph nodes to a the pattern nodes (as we can deduce what are the matched edges and attributes accordingly).\n",
    "\n",
    "The **Matcher** in this module does the following:\n",
    "* **Searches for matches** in the input graph, according to some LHS pattern graph.\n",
    "* **Filters matches** based on an explicit boolean function, and / or constraints given to the matcher by the parser to be handled later.\n",
    "* **Constructs a list of Match objects**, each corresponds to one of the filtered matches we've found. The list will be used in later modules, and will also allow users to view the matches and to use them imperatively.\n",
    "\n",
    "The final, filtered list of Match objects is returned from this module's main function, **find_matches**."
   ]
  },
  {
   "attachments": {},
   "cell_type": "markdown",
   "metadata": {},
   "source": [
    "### Requirements"
   ]
  },
  {
   "cell_type": "code",
   "execution_count": 37,
   "metadata": {},
   "outputs": [],
   "source": [
    "#| export\n",
    "from typing import *\n",
    "from networkx import DiGraph\n",
    "from networkx.algorithms import isomorphism # check subgraph's isom.\n",
    "from graph_rewrite.core import NodeName, _create_graph, draw\n",
    "from graph_rewrite.lhs import lhs_to_graph\n",
    "from graph_rewrite.match_class import Match, mapping_to_match ,draw_match\n",
    "from itertools import product\n",
    "from typing import Tuple, Iterator\n",
    "from collections import defaultdict"
   ]
  },
  {
   "attachments": {},
   "cell_type": "markdown",
   "metadata": {},
   "source": [
    "### Find Matches\n",
    "Given an input graph and a pattern graph, we want to find the list of matches from pattern nodes to input-graph nodes, each constructs a corresponding Match object. "
   ]
  },
  {
   "attachments": {},
   "cell_type": "markdown",
   "metadata": {},
   "source": [
    "#### Checking for Attribute Existence and Constant Values\n",
    "A crucial aspect of finding matches is comparing the attributes of nodes to determine whether they are compatible. Nodes that match based on either the existence of specific attributes or constant attribute values are considered candidates. These candidates are then further refined to identify all valid matches for the given pattern."
   ]
  },
  {
   "cell_type": "code",
   "execution_count": 38,
   "metadata": {},
   "outputs": [],
   "source": [
    "#| export\n",
    "# TODO: after solving all bugs in notebook 1 switch to this code and delete the code that comes afterwards\n",
    "'''\n",
    "    def _attributes_match(pattern_attrs: dict, input_attrs: dict) -> bool:\n",
    "    \"\"\"\n",
    "    Check if the input attributes match the pattern attributes.\n",
    "\n",
    "    This function supports both:\n",
    "    - Existence checks (ensures that required attributes exist).\n",
    "    - Constant value checks (ensures that constant values match).\n",
    "\n",
    "    Args:\n",
    "        pattern_attrs (dict): The pattern attributes.\n",
    "        input_attrs (dict): The input attributes.\n",
    "\n",
    "    Returns:\n",
    "        bool: True if the input attributes match the pattern attributes, False otherwise.\n",
    "    \"\"\"\n",
    "    for attr_name in pattern_attrs:\n",
    "        (attr_type,attr_value) = pattern_attrs[attr_name]\n",
    "\n",
    "        if attr_name not in input_attrs:  # If the attribute does not exist, return False\n",
    "            return False\n",
    "\n",
    "        if attr_type is None and attr_value is None:  # If the user only asked to check for existence, continue\n",
    "            continue\n",
    "\n",
    "        # TODO: check this part and see there are no missing cases\n",
    "        if attr_value is not None and input_attrs[attr_name] != attr_value:\n",
    "            return False\n",
    "        elif attr_type is not None and not isinstance(input_attrs[attr_name], attr_type): \n",
    "            return False\n",
    "\n",
    "    return True\n",
    "    '''\n",
    "\n",
    "def _attributes_match(pattern_attrs: dict, input_attrs: dict) -> bool:\n",
    "    \"\"\"\n",
    "    Check if the input attributes match the pattern attributes.\n",
    "\n",
    "    This function supports both:\n",
    "    - Existence checks (ensures that required attributes exist).\n",
    "    - Constant value checks (ensures that constant values match).\n",
    "\n",
    "    Args:\n",
    "        pattern_attrs (dict): The pattern attributes.\n",
    "        input_attrs (dict): The input attributes.\n",
    "\n",
    "    Returns:\n",
    "        bool: True if the input attributes match the pattern attributes, False otherwise.\n",
    "    \"\"\"\n",
    "    \n",
    "\n",
    "    for attr_name in pattern_attrs:\n",
    "        if attr_name not in input_attrs:  # If the attribute does not exist, return False\n",
    "            return False\n",
    "        \n",
    "        if pattern_attrs[attr_name] is None or pattern_attrs[attr_name] == (None, None): # #TODO: I added this to bypass the weird behaviour in the lhs_to_graph function, where it doesn't get to the part of the edges attributes - I should fix this later\n",
    "            continue\n",
    "\n",
    "        (attr_type,attr_value) = pattern_attrs[attr_name]\n",
    "        if pattern_attrs[attr_name] is None: # If the attribute exists, but the value is None, continue to the next attribute\n",
    "            continue\n",
    "        \n",
    "        if input_attrs[attr_name] != attr_value:\n",
    "            return False\n",
    "        \n",
    "        if attr_type is None:\n",
    "            continue\n",
    "\n",
    "        if not isinstance(input_attrs[attr_name], attr_type):\n",
    "            return False\n",
    "\n",
    "    return True"
   ]
  },
  {
   "cell_type": "markdown",
   "metadata": {},
   "source": [
    "#### Narrow Down Search Space\n",
    "Using the functions presented thus far, the search for matches might take a lot of time if the graph has a high number of nodes / edges. Nodes which are no real candidate to match any pattern node (do not share attributes with any pattern node) are checked eitherway, which is extermely inefficient. \n",
    "\n",
    "Therefore, before we search for matches in our input graph, we will reduce it to only contain the nodes that might match any of the pattern nodes (and their connected edges as well). This might improve the whole matching performance. The following function is used in order to do single nodesly that:"
   ]
  },
  {
   "cell_type": "code",
   "execution_count": 39,
   "metadata": {},
   "outputs": [],
   "source": [
    "#| export\n",
    "def _find_input_nodes_candidates(pattern_node: NodeName, pattern: DiGraph, input_graph: DiGraph) -> set[NodeName]:\n",
    "    \"\"\"\n",
    "    Given a pattern node and an input graph, return a set of input graph nodes that:\n",
    "    - Contain the required attributes of the pattern node, including constant value checks (if specified) and existence checks (if no value is specified / no constant value).\n",
    "    - Have at least one edge with matching attributes for each edge of the pattern node that has attributes specified.\n",
    "\n",
    "    Args:\n",
    "        pattern_node (NodeName): The pattern node.\n",
    "        pattern (DiGraph): The pattern graph.\n",
    "        input_graph (DiGraph): The input graph.\n",
    "\n",
    "    Returns:\n",
    "        set[NodeName]: A set of input graph nodes that match the required attributes and have at least one matching edge.\n",
    "    \"\"\"\n",
    "    pattern_attrs = pattern.nodes[pattern_node] # {attr_name: (attr_type,attr_value)}\n",
    "\n",
    "    #check if _id is in the pattern_node_attrs, if so, we will only check the node with the same _id\n",
    "    if \"_id\" in pattern_attrs:\n",
    "        input_node_id = pattern_attrs.pop(\"_id\")[1]\n",
    "        input_nodes_to_check = [input_node_id]\n",
    "    else:\n",
    "        input_nodes_to_check = list(input_graph.nodes)\n",
    "\n",
    "    # Filter nodes by attributes first\n",
    "    candidate_nodes = {\n",
    "        input_node\n",
    "        for input_node in input_nodes_to_check\n",
    "        if _attributes_match(pattern_attrs, input_graph.nodes[input_node])\n",
    "    }\n",
    "\n",
    "    return candidate_nodes"
   ]
  },
  {
   "cell_type": "code",
   "execution_count": 40,
   "metadata": {},
   "outputs": [],
   "source": [
    "#| export\n",
    "# Helper function to check if an input edge matches the pattern edge\n",
    "def _is_valid_edge_candidate(input_graph: DiGraph, pattern_edge_attrs: dict, \n",
    "                   src_candidate: NodeName, dst_candidate: NodeName, \n",
    "                   src_pattern_node: NodeName, dst_pattern_node: NodeName) -> bool:\n",
    "    \"\"\"\n",
    "    Check if an edge between two input nodes matches the pattern edge and attributes.\n",
    "\n",
    "    Args:\n",
    "        input_graph (DiGraph): The input graph.\n",
    "        pattern_edge_attrs (dict): Attributes of the pattern edge to match.\n",
    "        src_candidate (NodeName): The source candidate node in the input graph.\n",
    "        dst_candidate (NodeName): The destination candidate node in the input graph.\n",
    "        src_pattern_node (NodeName): The source pattern node.\n",
    "        dst_pattern_node (NodeName): The destination pattern node.\n",
    "\n",
    "    Returns:\n",
    "        bool: True if the input edge is valid, False otherwise.\n",
    "    \"\"\"\n",
    "    if (src_candidate, dst_candidate) not in input_graph.edges:\n",
    "        return False\n",
    "\n",
    "    input_edge_attrs = input_graph.get_edge_data(src_candidate, dst_candidate, default={})\n",
    "    if not _attributes_match(pattern_edge_attrs, input_edge_attrs):\n",
    "        return False\n",
    "\n",
    "    # Special case - self loops in pattern graph: If the source and destination are the same node in the pattern,\n",
    "    # ensure the source and destination candidates are also the same in the input graph\n",
    "    if src_pattern_node == dst_pattern_node and src_candidate != dst_candidate:\n",
    "        return False\n",
    "\n",
    "    return True"
   ]
  },
  {
   "attachments": {},
   "cell_type": "markdown",
   "metadata": {},
   "source": [
    "#### Find Pattern Based Matches\n",
    "NetworkX provides an out-of-the-box isomorphism matcher, which compares the structure of two graphs and tells whether they are isomorphic (have the same nodes and edges). We utilize this isomorphism matcher by beginning our matching process with structural matches, after filtering out candidates that do not match based on existance of attributes or constant values of attributes:"
   ]
  },
  {
   "cell_type": "code",
   "execution_count": 41,
   "metadata": {},
   "outputs": [],
   "source": [
    "#| export\n",
    "def _find_pattern_based_matches(graph: DiGraph, pattern: DiGraph) -> Iterator[Tuple[DiGraph, Dict[NodeName, NodeName]]]:\n",
    "    \"\"\"\n",
    "    Find all subgraphs in the input graph that match the given pattern graph based on both structure (nodes and edges)\n",
    "    and attributes (existence of attributes or constant value checks).\n",
    "    \n",
    "    Args:\n",
    "        graph (DiGraph): The graph to search for matches.\n",
    "        pattern (DiGraph): The pattern graph representing the structure and attributes to match.\n",
    "    \n",
    "    Yields:\n",
    "        Iterator[Tuple[DiGraph, Dict[NodeName, NodeName]]]: Tuples of (subgraph, mapping),\n",
    "        where subgraph is the matched subgraph, and mapping is a dictionary mapping nodes in the\n",
    "        subgraph to nodes in the pattern.\n",
    "    \"\"\"\n",
    "    map_pattern_nodes_to_candidates = {pattern_node: _find_input_nodes_candidates(pattern_node, pattern, graph)\n",
    "                                       for pattern_node in pattern.nodes}\n",
    "    \n",
    "    pattern_nodes = list(map_pattern_nodes_to_candidates.keys())  # List of pattern nodes\n",
    "    candidate_sets = list(map_pattern_nodes_to_candidates.values())  # List of candidate sets, matches the indexes of pattern_nodes\n",
    "    \n",
    "    # All possible assignments of input nodes to pattern nodes, where each input node is assigned to exactly one pattern node\n",
    "    # that matches the pattern node's attributes (existence checks and constant value checks)\n",
    "    assignments = [{pattern_node: input_node for pattern_node, input_node in zip(pattern_nodes, assignment)}\n",
    "                   for assignment in product(*candidate_sets)]\n",
    "    \n",
    "    # Filter assignments that map the same input node to multiple pattern nodes or have mismatching edges\n",
    "    valid_assignments = []\n",
    "    for assignment in assignments:\n",
    "        # Check if any input node is mapped to multiple pattern nodes\n",
    "        input_node_counts = defaultdict(int) # automatically initializes to 0\n",
    "        for input_node in assignment.values():\n",
    "            input_node_counts[input_node] += 1\n",
    "            if input_node_counts[input_node] > 1:\n",
    "                break  # Skip assignment if duplicate nodes found\n",
    "        else:\n",
    "            # Check if edges between input nodes match the edges in the pattern \n",
    "            # (existence checks, and attributes check based on attribute existence and constant values)\n",
    "            for (src_pattern_node, dst_pattern_node) in pattern.edges:\n",
    "                src_input_node = assignment[src_pattern_node]\n",
    "                dst_input_node = assignment[dst_pattern_node]\n",
    "                pattern_edge_attrs = pattern.edges[src_pattern_node, dst_pattern_node]\n",
    "                if not _is_valid_edge_candidate(graph, pattern_edge_attrs,\n",
    "                                                src_input_node, dst_input_node, src_pattern_node, dst_pattern_node):\n",
    "                    break\n",
    "            else:\n",
    "                valid_assignments.append(assignment)\n",
    "\n",
    "    # We take the valid assignments and create a subgraph from them, using the matching nodes and edges from the input graph\n",
    "    for assignment in valid_assignments:\n",
    "        subgraph = DiGraph()\n",
    "        subgraph.add_nodes_from(set(assignment.values()))\n",
    "        for src_pattern_node, dst_pattern_node in pattern.edges:\n",
    "            src_input_node = assignment[src_pattern_node]\n",
    "            dst_input_node = assignment[dst_pattern_node]\n",
    "            subgraph.add_edge(src_input_node, dst_input_node)\n",
    "\n",
    "        # Validate subgraph for isomorphism\n",
    "        if isomorphism.is_isomorphic(subgraph, pattern, node_match=_attributes_match, edge_match=_attributes_match):\n",
    "            yield subgraph, assignment\n"
   ]
  },
  {
   "attachments": {},
   "cell_type": "markdown",
   "metadata": {},
   "source": [
    "#### Filtering Matches\n",
    "The only thing we ignored up until now is attribute values. As metioned above, the LHS Parser does not include required attribute values in the pattern graph. Instead, it constructs a boolean function which receives a Match object and checks whether the match it represents has the required attribute values (if there are any). \n",
    "\n",
    "This boolean function is further extended by the user of the library, which can pass as parameter a function of the same format, which filteres a list of Match objects based on any condition it wishes to apply. The LHS Parser, in addition to the pattern graph, provides the extended filtering function, that mixes both the user and the parser constraints which were not handled by the matcher so far.\n",
    "\n",
    "Later in this module, we will use the extended function to filter the list of Match objects we get from the structural and attribute-existence-based matchers. The signature of that function will be as follows:"
   ]
  },
  {
   "cell_type": "code",
   "execution_count": 42,
   "metadata": {},
   "outputs": [],
   "source": [
    "#| export\n",
    "FilterFunc = Callable[[Match], bool]"
   ]
  },
  {
   "attachments": {},
   "cell_type": "markdown",
   "metadata": {},
   "source": [
    "#### Putting It All Togehter\n",
    "Given our ability to find matches (both structural and in terms of attribute existence) between two graphs, as well as filtering matches according to desired conditions and constraints, we can finally find complete matches of the pattern in our input graph. "
   ]
  },
  {
   "cell_type": "markdown",
   "metadata": {},
   "source": [
    "We define one last auxiliary function, which removes duplicated matches based on their mappings:"
   ]
  },
  {
   "cell_type": "code",
   "execution_count": 43,
   "metadata": {},
   "outputs": [],
   "source": [
    "#| export\n",
    "def _filter_duplicated_matches(matches: list[Match]) -> Iterator[Match]:\n",
    "    \"\"\"Remove duplicates from a list of Matches, based on their mappings. Return an iterator of the matches without duplications.\n",
    "\n",
    "    Args:\n",
    "        matches (list[Match]): list of Match objects\n",
    "\n",
    "    Yields:\n",
    "        Iterator[list[Match]]: Iterator of the matches without duplications.\n",
    "    \"\"\"\n",
    "\n",
    "    # We can't use a set directly because Match objects are not hashable. \n",
    "    # This is why we use a list of matche's mappings to check for duplicates.\n",
    "    mappings = []\n",
    "    for match in matches:\n",
    "        if match.mapping not in mappings:\n",
    "            mappings.append(match.mapping)\n",
    "            yield match"
   ]
  },
  {
   "cell_type": "code",
   "execution_count": 44,
   "metadata": {},
   "outputs": [],
   "source": [
    "#| export\n",
    "def _find_intersecting_pattern_nodes(single_nodes_pattern: DiGraph, collection_pattern: DiGraph) -> list:\n",
    "    \"\"\"\n",
    "    Find the intersecting pattern nodes between the single nodes match pattern and the collection pattern.\n",
    "\n",
    "    The intersecting pattern nodes are those that appear in both the single nodes match pattern \n",
    "    (i.e., pattern nodes that aim to match a single, unique input node) and the collection pattern \n",
    "    (i.e., pattern nodes that aim to match multiple input nodes).\n",
    "\n",
    "    Args:\n",
    "        single_nodes_pattern (DiGraph): The pattern graph representing nodes that match single nodesly one input node.\n",
    "        collection_pattern (DiGraph): The pattern graph representing nodes that match multiple input nodes.\n",
    "\n",
    "    Returns:\n",
    "        list: A list of pattern nodes that are present in both the single nodes match pattern and the collection pattern.\n",
    "    \"\"\"\n",
    "\n",
    "    single_nodes_pattern_nodes = set(single_nodes_pattern.nodes)\n",
    "    collection_pattern_nodes = set(collection_pattern.nodes)\n",
    "    \n",
    "    return list(single_nodes_pattern_nodes.intersection(collection_pattern_nodes))"
   ]
  },
  {
   "cell_type": "code",
   "execution_count": 45,
   "metadata": {},
   "outputs": [],
   "source": [
    "#| export\n",
    "def _add_collections_to_single_nodes_matches(input_graph: DiGraph, single_match_pattern: DiGraph ,collection_pattern: DiGraph, \n",
    "                                      single_nodes_matches: List[Dict[NodeName, Set[NodeName]]], intersecting_pattern_nodes: List[NodeName],\n",
    "                                      condition: FilterFunc = lambda match : True, filter: bool = True, warn_on_collisions: bool = True\n",
    "                                      )-> list[Dict[NodeName, List[NodeName]]]:\n",
    "    \"\"\"\n",
    "    Add collection matches to the existing single nodes matches by finding subgraph matches for collection pattern nodes\n",
    "    and merging them with the given single nodes match mapping.\n",
    "\n",
    "    This function finds matches in the input graph that satisfy both the single nodes match pattern (pattern nodes \n",
    "    that aim to match single nodesly one input node) and the collection pattern (pattern nodes that aim to match \n",
    "    multiple input nodes).\n",
    "\n",
    "    Args:\n",
    "        input_graph (DiGraph): The input graph.\n",
    "        single_match_pattern (DiGraph): The pattern graph representing nodes that match single nodesly one input node.\n",
    "        collection_pattern (DiGraph): The pattern graph representing nodes that match multiple input nodes.\n",
    "        single_nodes_matches (List[Dict[NodeName, List[NodeName]]]): A list of mappings for single nodes matches, in list semantics.\n",
    "        intersecting_pattern_nodes (List[NodeName]): A list of pattern nodes that are present in both the single nodes match pattern and the collection pattern.\n",
    "\n",
    "    Yields:\n",
    "        list[Dict[NodeName, List[NodeName]]]: A list of mappings that include the single nodes match mapping and the collection matches.\n",
    "    \"\"\"\n",
    "\n",
    "    input_graph_copy = input_graph.copy()\n",
    "\n",
    "    # Enrich the single nodes match mapping with the corresponding collection matches.\n",
    "    for mapping in list(single_nodes_matches):  # We need to iterate over a copy of the list to avoid modifying it while iterating\n",
    "        # Lock intersecting pattern nodes to their corresponding input node in the single nodes match\n",
    "        collection_pattern_copy = collection_pattern.copy()\n",
    "        for intersecting_pattern_node in intersecting_pattern_nodes:\n",
    "            intersecting_input_node = list(mapping[intersecting_pattern_node])[0]  # When we get here, we know that the single nodes match has only one node for each intersecting pattern node - we can take the first element\n",
    "            collection_pattern_copy.nodes[intersecting_pattern_node]['_id'] = (None,intersecting_input_node)  # Lock the intersecting pattern node to the corresponding input node\n",
    "\n",
    "        # Find collection matches using the locked pattern\n",
    "        for _, collection_mapping in _find_pattern_based_matches(input_graph_copy, collection_pattern_copy):\n",
    "            # Filter matches based on the condition\n",
    "            match = mapping_to_match(input_graph, single_match_pattern, collection_pattern, collection_mapping, warn_on_collisions)\n",
    "            if (filter and condition(match)) or not filter:\n",
    "                # Add the collection nodes mapping (not including the intersecting pattern nodes) to the single nodes match mapping\n",
    "                for collection_pattern_node, matched_input_nodes in collection_mapping.items():\n",
    "                    if collection_pattern_node not in intersecting_pattern_nodes:\n",
    "                        mapping.setdefault(collection_pattern_node, set()).add(matched_input_nodes)\n",
    "\n",
    "    # Now all mappings are enriched with the collection matches, we can convert the mappings to matches, and filter out duplicates\n",
    "    matches = [mapping_to_match(input_graph, single_match_pattern, collection_pattern, mapping, warn_on_collisions) for mapping in single_nodes_matches]\n",
    "    return list(_filter_duplicated_matches(matches))"
   ]
  },
  {
   "attachments": {},
   "cell_type": "markdown",
   "metadata": {},
   "source": [
    "We are now combining everything we saw in order to find the matches of a pattern in our input graph. The matches are returned as a (filtered) list of Match objects:"
   ]
  },
  {
   "cell_type": "code",
   "execution_count": 46,
   "metadata": {},
   "outputs": [],
   "source": [
    "#| export\n",
    "def find_matches(input_graph: DiGraph, single_match_pattern: DiGraph, collections_pattern: DiGraph = None, \n",
    "                 condition: FilterFunc = lambda match : True, filter: bool = True, warn_on_collisions: bool = True\n",
    "                 ) -> Iterator[Match]:\n",
    "    \"\"\"\n",
    "    Find all matches of a pattern graph in an input graph, satisfying a certain condition.\n",
    "\n",
    "    This function identifies subgraphs of the input graph that match the single match pattern \n",
    "    and the collections pattern (if provided) based on structure, attributes, and additional conditions \n",
    "    specified by the user.\n",
    "\n",
    "    Args:\n",
    "        input_graph (DiGraph): The input graph.\n",
    "        single_match_pattern (DiGraph): The pattern graph representing nodes that match single nodesly one input node.\n",
    "        collections_pattern (DiGraph, optional): The pattern graph representing nodes that match multiple input nodes. Defaults to None.\n",
    "        condition (FilterFunc, optional): A function that filters matches based on additional conditions. Defaults to lambda match : True.\n",
    "        filter (bool, optional): Whether to filter out duplicate matches. Defaults to True.\n",
    "        warn_on_collisions (bool, optional): Whether to warn on collisions. Defaults to True.\n",
    "\n",
    "    Yields:\n",
    "        Iterator[Match]: Iterator of Match objects, each representing a match of the pattern in the input graph.\n",
    "    \"\"\"\n",
    "    # Find all single nodes matches (single node mapping) based on structure and attributes.\n",
    "    # We already enforce set semantics for the mapping, and we don't need to check for duplicates - _find_pattern_based_matches returns unique mappings.\n",
    "    single_node_mappings = [{pattern_node: {input_node} for pattern_node, input_node in mapping.items()} \n",
    "                     for _, mapping in _find_pattern_based_matches(input_graph, single_match_pattern)]\n",
    "    \n",
    "    # Tuple of (mapping, match) for each single node mapping\n",
    "    single_node_mapping_with_matches = [(mapping,(mapping_to_match(input_graph, single_match_pattern, collections_pattern, mapping, warn_on_collisions)))\n",
    "        for mapping in single_node_mappings]\n",
    "    \n",
    "    # Tuple of (mapping, match) for each single node match that satisfies the condition\n",
    "    filtered_single_node_mapping_with_matches = [(mapping,match) for mapping,match in single_node_mapping_with_matches if (filter and condition(match)) or not filter]\n",
    "\n",
    "    # If a collections pattern is not None, enrich single matches by adding matching collections.\n",
    "    if collections_pattern:\n",
    "        intersecting_pattern_nodes = _find_intersecting_pattern_nodes(single_match_pattern, collections_pattern)\n",
    "        # all single node mappings after filtering based on the condition\n",
    "        filtered_single_node_mappings = [mapping for mapping,_ in filtered_single_node_mapping_with_matches]\n",
    "        # Add collections to single nodes matches\n",
    "        filtered_matches = _add_collections_to_single_nodes_matches(input_graph, single_match_pattern, collections_pattern, \n",
    "                                                                             filtered_single_node_mappings, intersecting_pattern_nodes, \n",
    "                                                                             condition, filter, warn_on_collisions)\n",
    "    else:\n",
    "        # If a collections pattern is None, the matches are the same as the filtered single node matches\n",
    "        filtered_matches = [match for _, match in filtered_single_node_mapping_with_matches]\n",
    "\n",
    "    # Moved it to both single and collection matches to reduce steps\n",
    "    # matches = [(mapping_to_match(input_graph, single_match_pattern, collections_pattern, mapping, warn_on_collisions))\n",
    "    #     for mapping in mappings]        \n",
    "    # filtered_matches = [match for match in matches if condition(match)]\n",
    "\n",
    "    # remove anonymous nodes and edges - I had to split this from the previous loop because it was causing a bug (it inserted none matches)\n",
    "    for match in filtered_matches:\n",
    "        match.remove_anonymous_nodes_and_edges()\n",
    "\n",
    "    # Remove any duplicate matches\n",
    "    yield from _filter_duplicated_matches(filtered_matches)"
   ]
  },
  {
   "attachments": {},
   "cell_type": "markdown",
   "metadata": {},
   "source": [
    "### Tests"
   ]
  },
  {
   "attachments": {},
   "cell_type": "markdown",
   "metadata": {},
   "source": [
    "#### Test Utils"
   ]
  },
  {
   "cell_type": "code",
   "execution_count": 47,
   "metadata": {},
   "outputs": [],
   "source": [
    "def _assert_match(input_graph: DiGraph, LHS: str, expected: list[dict], condition=lambda x: True, plot=True):\n",
    "    \"\"\"Match the pattern in the input graph, and validate that the list of matches\n",
    "    is equal to the expected list of matches. Also allows plotting the first match instance.\n",
    "\n",
    "    Args:\n",
    "        input_graph (DiGraph): The input graph where matches are searched.\n",
    "        LHS (str): The pattern string to be converted into a pattern graph.\n",
    "        expected (list[dict]): The expected matches (as mappings from pattern nodes to input graph nodes).\n",
    "        condition (callable, optional): A function that receives a Match object and checks if a condition holds. Defaults to True.\n",
    "        plot (bool, optional): If True, plots the first match instance on the input graph. Defaults to True.\n",
    "    \"\"\"\n",
    "    pattern, collection_pattern = lhs_to_graph(LHS)\n",
    "    matches = list(find_matches(input_graph, pattern, collection_pattern, condition))\n",
    "        \n",
    "    # Ensure that the number of matches and their mappings are as expected\n",
    "    assert all([match.mapping in expected for match in matches]) and len(matches) == len(expected)\n",
    "    \n",
    "    # STAV: This is the original code, but for debugging I want to see all the matches, so I commented it out\n",
    "    # Plot the first match if requested and there are any matches\n",
    "    # if plot and len(matches) > 0:\n",
    "    #     match = matches[0]\n",
    "    #     mapping = match.mapping\n",
    "         \n",
    "    #     print(f\"Plotting the match: {mapping}\")\n",
    "    #     draw_match(input_graph, match)\n",
    "\n",
    "    # Plot all matches\n",
    "    if plot and len(matches) > 0:\n",
    "        number_of_matches = len(matches)\n",
    "        print(f\"Plotting {number_of_matches} matches:\")\n",
    "        for match in matches:\n",
    "            mapping = match.mapping\n",
    "            print(f\"Plotting the match: {mapping}\")\n",
    "            draw_match(input_graph, match)"
   ]
  },
  {
   "attachments": {},
   "cell_type": "markdown",
   "metadata": {},
   "source": [
    "#### Basic Test Cases"
   ]
  },
  {
   "cell_type": "markdown",
   "metadata": {},
   "source": [
    "We begin with simple cases, which do not take attributes into account at all. Consider the following quite-generic input graph (in which we will try to find matches for different patterns):"
   ]
  },
  {
   "cell_type": "code",
   "execution_count": 48,
   "metadata": {},
   "outputs": [
    {
     "data": {
      "text/html": [
       "<img src=\"https://mermaid.ink/img/CmZsb3djaGFydCBUQgpBWyJBCiJdCkJbIkIKIl0KQ1siQwoiXQpEWyJECiJdCkEgLS0+IEIKQSAtLT4gQwpBIC0tPiBBCkMgLS0+IEMK\"/>"
      ],
      "text/plain": [
       "<IPython.core.display.Image object>"
      ]
     },
     "metadata": {},
     "output_type": "display_data"
    }
   ],
   "source": [
    "input_graph = _create_graph(\n",
    "    ['A','B','C','D'], \n",
    "    [\n",
    "        ('A', 'B'),\n",
    "        ('A', 'C'),\n",
    "        ('A', 'A'),\n",
    "        ('C', 'C'),\n",
    "    ]\n",
    ")\n",
    "draw(input_graph)"
   ]
  },
  {
   "cell_type": "markdown",
   "metadata": {},
   "source": [
    "In the following tests, we try to match different patterns and make sure that the matcher found all of the possible matches. The first match in the list will be highlighted in the input graph (nodes and edges are colored in red), and printed above the plot:"
   ]
  },
  {
   "cell_type": "code",
   "execution_count": 49,
   "metadata": {},
   "outputs": [
    {
     "name": "stdout",
     "output_type": "stream",
     "text": [
      "Plotting 6 matches:\n",
      "Plotting the match: {'1': {'A'}, '2': {'D'}}\n"
     ]
    },
    {
     "data": {
      "text/html": [
       "<img src=\"https://mermaid.ink/img/CmZsb3djaGFydCBUQgpBWyJBKDEpCiJdCnN0eWxlIEEgc3Ryb2tlOmJsdWUsc3Ryb2tlLXdpZHRoOjRweDsKQlsiQgoiXQpDWyJDCiJdCkRbIkQoMikKIl0Kc3R5bGUgRCBzdHJva2U6Ymx1ZSxzdHJva2Utd2lkdGg6NHB4OwpBIC0tPiBCCkEgLS0+IEMKQSAtLT4gQQpsaW5rU3R5bGUgMiBzdHJva2U6Ymx1ZSxzdHJva2Utd2lkdGg6NHB4OwpDIC0tPiBDCg==\"/>"
      ],
      "text/plain": [
       "<IPython.core.display.Image object>"
      ]
     },
     "metadata": {},
     "output_type": "display_data"
    },
    {
     "name": "stdout",
     "output_type": "stream",
     "text": [
      "Plotting the match: {'1': {'A'}, '2': {'B'}}\n"
     ]
    },
    {
     "data": {
      "text/html": [
       "<img src=\"https://mermaid.ink/img/CmZsb3djaGFydCBUQgpBWyJBKDEpCiJdCnN0eWxlIEEgc3Ryb2tlOmJsdWUsc3Ryb2tlLXdpZHRoOjRweDsKQlsiQigyKQoiXQpzdHlsZSBCIHN0cm9rZTpibHVlLHN0cm9rZS13aWR0aDo0cHg7CkNbIkMKIl0KRFsiRAoiXQpBIC0tPiBCCkEgLS0+IEMKQSAtLT4gQQpsaW5rU3R5bGUgMiBzdHJva2U6Ymx1ZSxzdHJva2Utd2lkdGg6NHB4OwpDIC0tPiBDCg==\"/>"
      ],
      "text/plain": [
       "<IPython.core.display.Image object>"
      ]
     },
     "metadata": {},
     "output_type": "display_data"
    },
    {
     "name": "stdout",
     "output_type": "stream",
     "text": [
      "Plotting the match: {'1': {'A'}, '2': {'C'}}\n"
     ]
    },
    {
     "data": {
      "text/html": [
       "<img src=\"https://mermaid.ink/img/CmZsb3djaGFydCBUQgpBWyJBKDEpCiJdCnN0eWxlIEEgc3Ryb2tlOmJsdWUsc3Ryb2tlLXdpZHRoOjRweDsKQlsiQgoiXQpDWyJDKDIpCiJdCnN0eWxlIEMgc3Ryb2tlOmJsdWUsc3Ryb2tlLXdpZHRoOjRweDsKRFsiRAoiXQpBIC0tPiBCCkEgLS0+IEMKQSAtLT4gQQpsaW5rU3R5bGUgMiBzdHJva2U6Ymx1ZSxzdHJva2Utd2lkdGg6NHB4OwpDIC0tPiBDCg==\"/>"
      ],
      "text/plain": [
       "<IPython.core.display.Image object>"
      ]
     },
     "metadata": {},
     "output_type": "display_data"
    },
    {
     "name": "stdout",
     "output_type": "stream",
     "text": [
      "Plotting the match: {'1': {'C'}, '2': {'D'}}\n"
     ]
    },
    {
     "data": {
      "text/html": [
       "<img src=\"https://mermaid.ink/img/CmZsb3djaGFydCBUQgpBWyJBCiJdCkJbIkIKIl0KQ1siQygxKQoiXQpzdHlsZSBDIHN0cm9rZTpibHVlLHN0cm9rZS13aWR0aDo0cHg7CkRbIkQoMikKIl0Kc3R5bGUgRCBzdHJva2U6Ymx1ZSxzdHJva2Utd2lkdGg6NHB4OwpBIC0tPiBCCkEgLS0+IEMKQSAtLT4gQQpDIC0tPiBDCmxpbmtTdHlsZSAzIHN0cm9rZTpibHVlLHN0cm9rZS13aWR0aDo0cHg7Cg==\"/>"
      ],
      "text/plain": [
       "<IPython.core.display.Image object>"
      ]
     },
     "metadata": {},
     "output_type": "display_data"
    },
    {
     "name": "stdout",
     "output_type": "stream",
     "text": [
      "Plotting the match: {'1': {'C'}, '2': {'A'}}\n"
     ]
    },
    {
     "data": {
      "text/html": [
       "<img src=\"https://mermaid.ink/img/CmZsb3djaGFydCBUQgpBWyJBKDIpCiJdCnN0eWxlIEEgc3Ryb2tlOmJsdWUsc3Ryb2tlLXdpZHRoOjRweDsKQlsiQgoiXQpDWyJDKDEpCiJdCnN0eWxlIEMgc3Ryb2tlOmJsdWUsc3Ryb2tlLXdpZHRoOjRweDsKRFsiRAoiXQpBIC0tPiBCCkEgLS0+IEMKQSAtLT4gQQpDIC0tPiBDCmxpbmtTdHlsZSAzIHN0cm9rZTpibHVlLHN0cm9rZS13aWR0aDo0cHg7Cg==\"/>"
      ],
      "text/plain": [
       "<IPython.core.display.Image object>"
      ]
     },
     "metadata": {},
     "output_type": "display_data"
    },
    {
     "name": "stdout",
     "output_type": "stream",
     "text": [
      "Plotting the match: {'1': {'C'}, '2': {'B'}}\n"
     ]
    },
    {
     "data": {
      "text/html": [
       "<img src=\"https://mermaid.ink/img/CmZsb3djaGFydCBUQgpBWyJBCiJdCkJbIkIoMikKIl0Kc3R5bGUgQiBzdHJva2U6Ymx1ZSxzdHJva2Utd2lkdGg6NHB4OwpDWyJDKDEpCiJdCnN0eWxlIEMgc3Ryb2tlOmJsdWUsc3Ryb2tlLXdpZHRoOjRweDsKRFsiRAoiXQpBIC0tPiBCCkEgLS0+IEMKQSAtLT4gQQpDIC0tPiBDCmxpbmtTdHlsZSAzIHN0cm9rZTpibHVlLHN0cm9rZS13aWR0aDo0cHg7Cg==\"/>"
      ],
      "text/plain": [
       "<IPython.core.display.Image object>"
      ]
     },
     "metadata": {},
     "output_type": "display_data"
    }
   ],
   "source": [
    "# Find all pairs of nodes 1, 2 where 1 has a self loop \n",
    "_assert_match(input_graph, '1->1, 2', [{'1': {'A'}, '2': {'B'}}, {'1': {'A'}, '2': {'C'}}, {'1': {'A'}, '2': {'D'}}\n",
    "                                        ,{'1': {'C'}, '2': {'B'}}, {'1': {'C'}, '2': {'A'}}, {'1': {'C'}, '2': {'D'}}])"
   ]
  },
  {
   "cell_type": "code",
   "execution_count": 50,
   "metadata": {},
   "outputs": [
    {
     "name": "stdout",
     "output_type": "stream",
     "text": [
      "Plotting 2 matches:\n",
      "Plotting the match: {'1': {'A'}, '2': {'B'}}\n"
     ]
    },
    {
     "data": {
      "text/html": [
       "<img src=\"https://mermaid.ink/img/CmZsb3djaGFydCBUQgpBWyJBKDEpCiJdCnN0eWxlIEEgc3Ryb2tlOmJsdWUsc3Ryb2tlLXdpZHRoOjRweDsKQlsiQigyKQoiXQpzdHlsZSBCIHN0cm9rZTpibHVlLHN0cm9rZS13aWR0aDo0cHg7CkNbIkMKIl0KRFsiRAoiXQpBIC0tPiBCCmxpbmtTdHlsZSAwIHN0cm9rZTpibHVlLHN0cm9rZS13aWR0aDo0cHg7CkEgLS0+IEMKQSAtLT4gQQpsaW5rU3R5bGUgMiBzdHJva2U6Ymx1ZSxzdHJva2Utd2lkdGg6NHB4OwpDIC0tPiBDCg==\"/>"
      ],
      "text/plain": [
       "<IPython.core.display.Image object>"
      ]
     },
     "metadata": {},
     "output_type": "display_data"
    },
    {
     "name": "stdout",
     "output_type": "stream",
     "text": [
      "Plotting the match: {'1': {'A'}, '2': {'C'}}\n"
     ]
    },
    {
     "data": {
      "text/html": [
       "<img src=\"https://mermaid.ink/img/CmZsb3djaGFydCBUQgpBWyJBKDEpCiJdCnN0eWxlIEEgc3Ryb2tlOmJsdWUsc3Ryb2tlLXdpZHRoOjRweDsKQlsiQgoiXQpDWyJDKDIpCiJdCnN0eWxlIEMgc3Ryb2tlOmJsdWUsc3Ryb2tlLXdpZHRoOjRweDsKRFsiRAoiXQpBIC0tPiBCCkEgLS0+IEMKbGlua1N0eWxlIDEgc3Ryb2tlOmJsdWUsc3Ryb2tlLXdpZHRoOjRweDsKQSAtLT4gQQpsaW5rU3R5bGUgMiBzdHJva2U6Ymx1ZSxzdHJva2Utd2lkdGg6NHB4OwpDIC0tPiBDCg==\"/>"
      ],
      "text/plain": [
       "<IPython.core.display.Image object>"
      ]
     },
     "metadata": {},
     "output_type": "display_data"
    }
   ],
   "source": [
    "_assert_match(input_graph, '1->1, 1->2', [{'1': {'A'}, '2': {'B'}}, {'1': {'A'}, '2': {'C'}}]) "
   ]
  },
  {
   "cell_type": "code",
   "execution_count": 51,
   "metadata": {},
   "outputs": [
    {
     "name": "stdout",
     "output_type": "stream",
     "text": [
      "Plotting 1 matches:\n",
      "Plotting the match: {'1': {'C'}, '2': {'A'}}\n"
     ]
    },
    {
     "data": {
      "text/html": [
       "<img src=\"https://mermaid.ink/img/CmZsb3djaGFydCBUQgpBWyJBKDIpCiJdCnN0eWxlIEEgc3Ryb2tlOmJsdWUsc3Ryb2tlLXdpZHRoOjRweDsKQlsiQgoiXQpDWyJDKDEpCiJdCnN0eWxlIEMgc3Ryb2tlOmJsdWUsc3Ryb2tlLXdpZHRoOjRweDsKRFsiRAoiXQpBIC0tPiBCCkEgLS0+IEMKbGlua1N0eWxlIDEgc3Ryb2tlOmJsdWUsc3Ryb2tlLXdpZHRoOjRweDsKQSAtLT4gQQpDIC0tPiBDCmxpbmtTdHlsZSAzIHN0cm9rZTpibHVlLHN0cm9rZS13aWR0aDo0cHg7Cg==\"/>"
      ],
      "text/plain": [
       "<IPython.core.display.Image object>"
      ]
     },
     "metadata": {},
     "output_type": "display_data"
    }
   ],
   "source": [
    "_assert_match(input_graph, '1->1, 2->1', [{'1': {'C'}, '2': {'A'}}])"
   ]
  },
  {
   "cell_type": "code",
   "execution_count": 52,
   "metadata": {},
   "outputs": [],
   "source": [
    "# Find a circle in the graph + self loop. There is no such match in the graph\n",
    "_assert_match(input_graph, '1->1, 2->1->2', []) "
   ]
  },
  {
   "cell_type": "code",
   "execution_count": 53,
   "metadata": {},
   "outputs": [],
   "source": [
    "# Find five different nodes (the different pattern names enforce it).\n",
    "# There are only 4 nodes in the input graph, and so there are no matches.\n",
    "_assert_match(input_graph, '1,2,3,4,5', []) "
   ]
  },
  {
   "cell_type": "markdown",
   "metadata": {},
   "source": [
    "#### Advanced Test Cases"
   ]
  },
  {
   "cell_type": "markdown",
   "metadata": {},
   "source": [
    "Now, we want to check more advanced features of both the parser and the matcher:\n",
    "* Checking for attributes (existance only)\n",
    "* Checking for attributes (match the values as well, using the parser-generated condition function)\n",
    "* Add user conditions\n",
    "* Anonymous nodes"
   ]
  },
  {
   "cell_type": "markdown",
   "metadata": {},
   "source": [
    "We will work with a new input graph, which shows the connections between students and the courses they took throughout their degree:\n",
    "* Each node in the graph is associated with either a student or a course (and has an attribute \"type\" to denote which is which).\n",
    "* A student is defined by his/her name. Some students (not all of them) also metion their faculty.\n",
    "* A course is defined by its name. Some courses mention their associated number of units.\n",
    "* An edge from a student to a course denotes that the student took the course. It mentions the semester in which the student took the course.\n",
    "* An edge from a course to another course denotes that the first must be taken before the latter.\n",
    "\n",
    "The graph looks like this:"
   ]
  },
  {
   "cell_type": "code",
   "execution_count": 54,
   "metadata": {},
   "outputs": [
    {
     "data": {
      "text/html": [
       "<img src=\"https://mermaid.ink/img/CmZsb3djaGFydCBUQgpKb2huWyJKb2huCnR5cGU9I3F1b3Q7c3R1ZGVudCNxdW90OywgZmFjdWx0eT0jcXVvdDtCaW9sb2d5I3F1b3Q7Il0KTHVjeVsiTHVjeQp0eXBlPSNxdW90O3N0dWRlbnQjcXVvdDssIGZhdWNsdHk9I3F1b3Q7Q1MjcXVvdDsiXQpBbXlbIkFteQp0eXBlPSNxdW90O3N0dWRlbnQjcXVvdDsiXQpBbGdvWyJBbGdvCnR5cGU9I3F1b3Q7Y291cnNlI3F1b3Q7LCB1bml0cz0zIl0KQUlbIkFJCnR5cGU9I3F1b3Q7Y291cnNlI3F1b3Q7LCB1bml0cz0zIl0KTkxQWyJOTFAKdHlwZT0jcXVvdDtjb3Vyc2UjcXVvdDssIHVuaXRzPTUiXQpEQlsiREIKdHlwZT0jcXVvdDtjb3Vyc2UjcXVvdDsiXQpCaW9bIkJpbwp0eXBlPSNxdW90O2NvdXJzZSNxdW90OyJdCkpvaG4gLS0+fCJzZW09MyJ8IEJpbwpMdWN5IC0tPnwic2VtPTUifCBBbGdvCkx1Y3kgLS0+fCJzZW09NyJ8IEFJCkFteSAtLT58InNlbT01InwgQWxnbwpBbGdvIC0tPiBBSQpBSSAtLT4gTkxQCg==\"/>"
      ],
      "text/plain": [
       "<IPython.core.display.Image object>"
      ]
     },
     "metadata": {},
     "output_type": "display_data"
    }
   ],
   "source": [
    "input_graph = _create_graph(\n",
    "    [\n",
    "        # Names\n",
    "        ('John', {'type': 'student', 'faculty': 'Biology'}),\n",
    "        ('Lucy', {'type': 'student', 'fauclty': 'CS'}),\n",
    "        ('Amy', {'type': 'student'}),\n",
    "        # Courses\n",
    "        ('Algo', {'type': 'course', 'units': 3}),\n",
    "        ('AI', {'type': 'course', 'units': 3}),\n",
    "        ('NLP', {'type': 'course', 'units': 5}),\n",
    "        ('DB', {'type': 'course'}),\n",
    "        ('Bio', {'type': 'course'})\n",
    "    ], \n",
    "    [\n",
    "        # Students take\n",
    "        ('John', 'Bio', {'sem': 3}),\n",
    "        ('Lucy', 'Algo', {'sem': 5}),\n",
    "        ('Lucy', 'AI', {'sem': 7}),\n",
    "        ('Amy', 'Algo', {'sem': 5}),\n",
    "        # KDAM\n",
    "        ('Algo', 'AI'),\n",
    "        ('AI', 'NLP'),\n",
    "    ]\n",
    ")\n",
    "draw(input_graph)"
   ]
  },
  {
   "cell_type": "markdown",
   "metadata": {},
   "source": [
    "We will now run some useful queries by matching patterns in the graph:"
   ]
  },
  {
   "cell_type": "code",
   "execution_count": 55,
   "metadata": {},
   "outputs": [
    {
     "name": "stdout",
     "output_type": "stream",
     "text": [
      "Plotting 8 matches:\n",
      "Plotting the match: {'s': {'Bio'}}\n"
     ]
    },
    {
     "data": {
      "text/html": [
       "<img src=\"https://mermaid.ink/img/CmZsb3djaGFydCBUQgpKb2huWyJKb2huCnR5cGU9I3F1b3Q7c3R1ZGVudCNxdW90OywgZmFjdWx0eT0jcXVvdDtCaW9sb2d5I3F1b3Q7Il0KTHVjeVsiTHVjeQp0eXBlPSNxdW90O3N0dWRlbnQjcXVvdDssIGZhdWNsdHk9I3F1b3Q7Q1MjcXVvdDsiXQpBbXlbIkFteQp0eXBlPSNxdW90O3N0dWRlbnQjcXVvdDsiXQpBbGdvWyJBbGdvCnR5cGU9I3F1b3Q7Y291cnNlI3F1b3Q7LCB1bml0cz0zIl0KQUlbIkFJCnR5cGU9I3F1b3Q7Y291cnNlI3F1b3Q7LCB1bml0cz0zIl0KTkxQWyJOTFAKdHlwZT0jcXVvdDtjb3Vyc2UjcXVvdDssIHVuaXRzPTUiXQpEQlsiREIKdHlwZT0jcXVvdDtjb3Vyc2UjcXVvdDsiXQpCaW9bIkJpbyhzKQp0eXBlPSNxdW90O2NvdXJzZSNxdW90OyJdCnN0eWxlIEJpbyBzdHJva2U6Ymx1ZSxzdHJva2Utd2lkdGg6NHB4OwpKb2huIC0tPnwic2VtPTMifCBCaW8KTHVjeSAtLT58InNlbT01InwgQWxnbwpMdWN5IC0tPnwic2VtPTcifCBBSQpBbXkgLS0+fCJzZW09NSJ8IEFsZ28KQWxnbyAtLT4gQUkKQUkgLS0+IE5MUAo=\"/>"
      ],
      "text/plain": [
       "<IPython.core.display.Image object>"
      ]
     },
     "metadata": {},
     "output_type": "display_data"
    },
    {
     "name": "stdout",
     "output_type": "stream",
     "text": [
      "Plotting the match: {'s': {'John'}}\n"
     ]
    },
    {
     "data": {
      "text/html": [
       "<img src=\"https://mermaid.ink/img/CmZsb3djaGFydCBUQgpKb2huWyJKb2huKHMpCnR5cGU9I3F1b3Q7c3R1ZGVudCNxdW90OywgZmFjdWx0eT0jcXVvdDtCaW9sb2d5I3F1b3Q7Il0Kc3R5bGUgSm9obiBzdHJva2U6Ymx1ZSxzdHJva2Utd2lkdGg6NHB4OwpMdWN5WyJMdWN5CnR5cGU9I3F1b3Q7c3R1ZGVudCNxdW90OywgZmF1Y2x0eT0jcXVvdDtDUyNxdW90OyJdCkFteVsiQW15CnR5cGU9I3F1b3Q7c3R1ZGVudCNxdW90OyJdCkFsZ29bIkFsZ28KdHlwZT0jcXVvdDtjb3Vyc2UjcXVvdDssIHVuaXRzPTMiXQpBSVsiQUkKdHlwZT0jcXVvdDtjb3Vyc2UjcXVvdDssIHVuaXRzPTMiXQpOTFBbIk5MUAp0eXBlPSNxdW90O2NvdXJzZSNxdW90OywgdW5pdHM9NSJdCkRCWyJEQgp0eXBlPSNxdW90O2NvdXJzZSNxdW90OyJdCkJpb1siQmlvCnR5cGU9I3F1b3Q7Y291cnNlI3F1b3Q7Il0KSm9obiAtLT58InNlbT0zInwgQmlvCkx1Y3kgLS0+fCJzZW09NSJ8IEFsZ28KTHVjeSAtLT58InNlbT03InwgQUkKQW15IC0tPnwic2VtPTUifCBBbGdvCkFsZ28gLS0+IEFJCkFJIC0tPiBOTFAK\"/>"
      ],
      "text/plain": [
       "<IPython.core.display.Image object>"
      ]
     },
     "metadata": {},
     "output_type": "display_data"
    },
    {
     "name": "stdout",
     "output_type": "stream",
     "text": [
      "Plotting the match: {'s': {'AI'}}\n"
     ]
    },
    {
     "data": {
      "text/html": [
       "<img src=\"https://mermaid.ink/img/CmZsb3djaGFydCBUQgpKb2huWyJKb2huCnR5cGU9I3F1b3Q7c3R1ZGVudCNxdW90OywgZmFjdWx0eT0jcXVvdDtCaW9sb2d5I3F1b3Q7Il0KTHVjeVsiTHVjeQp0eXBlPSNxdW90O3N0dWRlbnQjcXVvdDssIGZhdWNsdHk9I3F1b3Q7Q1MjcXVvdDsiXQpBbXlbIkFteQp0eXBlPSNxdW90O3N0dWRlbnQjcXVvdDsiXQpBbGdvWyJBbGdvCnR5cGU9I3F1b3Q7Y291cnNlI3F1b3Q7LCB1bml0cz0zIl0KQUlbIkFJKHMpCnR5cGU9I3F1b3Q7Y291cnNlI3F1b3Q7LCB1bml0cz0zIl0Kc3R5bGUgQUkgc3Ryb2tlOmJsdWUsc3Ryb2tlLXdpZHRoOjRweDsKTkxQWyJOTFAKdHlwZT0jcXVvdDtjb3Vyc2UjcXVvdDssIHVuaXRzPTUiXQpEQlsiREIKdHlwZT0jcXVvdDtjb3Vyc2UjcXVvdDsiXQpCaW9bIkJpbwp0eXBlPSNxdW90O2NvdXJzZSNxdW90OyJdCkpvaG4gLS0+fCJzZW09MyJ8IEJpbwpMdWN5IC0tPnwic2VtPTUifCBBbGdvCkx1Y3kgLS0+fCJzZW09NyJ8IEFJCkFteSAtLT58InNlbT01InwgQWxnbwpBbGdvIC0tPiBBSQpBSSAtLT4gTkxQCg==\"/>"
      ],
      "text/plain": [
       "<IPython.core.display.Image object>"
      ]
     },
     "metadata": {},
     "output_type": "display_data"
    },
    {
     "name": "stdout",
     "output_type": "stream",
     "text": [
      "Plotting the match: {'s': {'Lucy'}}\n"
     ]
    },
    {
     "data": {
      "text/html": [
       "<img src=\"https://mermaid.ink/img/CmZsb3djaGFydCBUQgpKb2huWyJKb2huCnR5cGU9I3F1b3Q7c3R1ZGVudCNxdW90OywgZmFjdWx0eT0jcXVvdDtCaW9sb2d5I3F1b3Q7Il0KTHVjeVsiTHVjeShzKQp0eXBlPSNxdW90O3N0dWRlbnQjcXVvdDssIGZhdWNsdHk9I3F1b3Q7Q1MjcXVvdDsiXQpzdHlsZSBMdWN5IHN0cm9rZTpibHVlLHN0cm9rZS13aWR0aDo0cHg7CkFteVsiQW15CnR5cGU9I3F1b3Q7c3R1ZGVudCNxdW90OyJdCkFsZ29bIkFsZ28KdHlwZT0jcXVvdDtjb3Vyc2UjcXVvdDssIHVuaXRzPTMiXQpBSVsiQUkKdHlwZT0jcXVvdDtjb3Vyc2UjcXVvdDssIHVuaXRzPTMiXQpOTFBbIk5MUAp0eXBlPSNxdW90O2NvdXJzZSNxdW90OywgdW5pdHM9NSJdCkRCWyJEQgp0eXBlPSNxdW90O2NvdXJzZSNxdW90OyJdCkJpb1siQmlvCnR5cGU9I3F1b3Q7Y291cnNlI3F1b3Q7Il0KSm9obiAtLT58InNlbT0zInwgQmlvCkx1Y3kgLS0+fCJzZW09NSJ8IEFsZ28KTHVjeSAtLT58InNlbT03InwgQUkKQW15IC0tPnwic2VtPTUifCBBbGdvCkFsZ28gLS0+IEFJCkFJIC0tPiBOTFAK\"/>"
      ],
      "text/plain": [
       "<IPython.core.display.Image object>"
      ]
     },
     "metadata": {},
     "output_type": "display_data"
    },
    {
     "name": "stdout",
     "output_type": "stream",
     "text": [
      "Plotting the match: {'s': {'Amy'}}\n"
     ]
    },
    {
     "data": {
      "text/html": [
       "<img src=\"https://mermaid.ink/img/CmZsb3djaGFydCBUQgpKb2huWyJKb2huCnR5cGU9I3F1b3Q7c3R1ZGVudCNxdW90OywgZmFjdWx0eT0jcXVvdDtCaW9sb2d5I3F1b3Q7Il0KTHVjeVsiTHVjeQp0eXBlPSNxdW90O3N0dWRlbnQjcXVvdDssIGZhdWNsdHk9I3F1b3Q7Q1MjcXVvdDsiXQpBbXlbIkFteShzKQp0eXBlPSNxdW90O3N0dWRlbnQjcXVvdDsiXQpzdHlsZSBBbXkgc3Ryb2tlOmJsdWUsc3Ryb2tlLXdpZHRoOjRweDsKQWxnb1siQWxnbwp0eXBlPSNxdW90O2NvdXJzZSNxdW90OywgdW5pdHM9MyJdCkFJWyJBSQp0eXBlPSNxdW90O2NvdXJzZSNxdW90OywgdW5pdHM9MyJdCk5MUFsiTkxQCnR5cGU9I3F1b3Q7Y291cnNlI3F1b3Q7LCB1bml0cz01Il0KREJbIkRCCnR5cGU9I3F1b3Q7Y291cnNlI3F1b3Q7Il0KQmlvWyJCaW8KdHlwZT0jcXVvdDtjb3Vyc2UjcXVvdDsiXQpKb2huIC0tPnwic2VtPTMifCBCaW8KTHVjeSAtLT58InNlbT01InwgQWxnbwpMdWN5IC0tPnwic2VtPTcifCBBSQpBbXkgLS0+fCJzZW09NSJ8IEFsZ28KQWxnbyAtLT4gQUkKQUkgLS0+IE5MUAo=\"/>"
      ],
      "text/plain": [
       "<IPython.core.display.Image object>"
      ]
     },
     "metadata": {},
     "output_type": "display_data"
    },
    {
     "name": "stdout",
     "output_type": "stream",
     "text": [
      "Plotting the match: {'s': {'Algo'}}\n"
     ]
    },
    {
     "data": {
      "text/html": [
       "<img src=\"https://mermaid.ink/img/CmZsb3djaGFydCBUQgpKb2huWyJKb2huCnR5cGU9I3F1b3Q7c3R1ZGVudCNxdW90OywgZmFjdWx0eT0jcXVvdDtCaW9sb2d5I3F1b3Q7Il0KTHVjeVsiTHVjeQp0eXBlPSNxdW90O3N0dWRlbnQjcXVvdDssIGZhdWNsdHk9I3F1b3Q7Q1MjcXVvdDsiXQpBbXlbIkFteQp0eXBlPSNxdW90O3N0dWRlbnQjcXVvdDsiXQpBbGdvWyJBbGdvKHMpCnR5cGU9I3F1b3Q7Y291cnNlI3F1b3Q7LCB1bml0cz0zIl0Kc3R5bGUgQWxnbyBzdHJva2U6Ymx1ZSxzdHJva2Utd2lkdGg6NHB4OwpBSVsiQUkKdHlwZT0jcXVvdDtjb3Vyc2UjcXVvdDssIHVuaXRzPTMiXQpOTFBbIk5MUAp0eXBlPSNxdW90O2NvdXJzZSNxdW90OywgdW5pdHM9NSJdCkRCWyJEQgp0eXBlPSNxdW90O2NvdXJzZSNxdW90OyJdCkJpb1siQmlvCnR5cGU9I3F1b3Q7Y291cnNlI3F1b3Q7Il0KSm9obiAtLT58InNlbT0zInwgQmlvCkx1Y3kgLS0+fCJzZW09NSJ8IEFsZ28KTHVjeSAtLT58InNlbT03InwgQUkKQW15IC0tPnwic2VtPTUifCBBbGdvCkFsZ28gLS0+IEFJCkFJIC0tPiBOTFAK\"/>"
      ],
      "text/plain": [
       "<IPython.core.display.Image object>"
      ]
     },
     "metadata": {},
     "output_type": "display_data"
    },
    {
     "name": "stdout",
     "output_type": "stream",
     "text": [
      "Plotting the match: {'s': {'DB'}}\n"
     ]
    },
    {
     "data": {
      "text/html": [
       "<img src=\"https://mermaid.ink/img/CmZsb3djaGFydCBUQgpKb2huWyJKb2huCnR5cGU9I3F1b3Q7c3R1ZGVudCNxdW90OywgZmFjdWx0eT0jcXVvdDtCaW9sb2d5I3F1b3Q7Il0KTHVjeVsiTHVjeQp0eXBlPSNxdW90O3N0dWRlbnQjcXVvdDssIGZhdWNsdHk9I3F1b3Q7Q1MjcXVvdDsiXQpBbXlbIkFteQp0eXBlPSNxdW90O3N0dWRlbnQjcXVvdDsiXQpBbGdvWyJBbGdvCnR5cGU9I3F1b3Q7Y291cnNlI3F1b3Q7LCB1bml0cz0zIl0KQUlbIkFJCnR5cGU9I3F1b3Q7Y291cnNlI3F1b3Q7LCB1bml0cz0zIl0KTkxQWyJOTFAKdHlwZT0jcXVvdDtjb3Vyc2UjcXVvdDssIHVuaXRzPTUiXQpEQlsiREIocykKdHlwZT0jcXVvdDtjb3Vyc2UjcXVvdDsiXQpzdHlsZSBEQiBzdHJva2U6Ymx1ZSxzdHJva2Utd2lkdGg6NHB4OwpCaW9bIkJpbwp0eXBlPSNxdW90O2NvdXJzZSNxdW90OyJdCkpvaG4gLS0+fCJzZW09MyJ8IEJpbwpMdWN5IC0tPnwic2VtPTUifCBBbGdvCkx1Y3kgLS0+fCJzZW09NyJ8IEFJCkFteSAtLT58InNlbT01InwgQWxnbwpBbGdvIC0tPiBBSQpBSSAtLT4gTkxQCg==\"/>"
      ],
      "text/plain": [
       "<IPython.core.display.Image object>"
      ]
     },
     "metadata": {},
     "output_type": "display_data"
    },
    {
     "name": "stdout",
     "output_type": "stream",
     "text": [
      "Plotting the match: {'s': {'NLP'}}\n"
     ]
    },
    {
     "data": {
      "text/html": [
       "<img src=\"https://mermaid.ink/img/CmZsb3djaGFydCBUQgpKb2huWyJKb2huCnR5cGU9I3F1b3Q7c3R1ZGVudCNxdW90OywgZmFjdWx0eT0jcXVvdDtCaW9sb2d5I3F1b3Q7Il0KTHVjeVsiTHVjeQp0eXBlPSNxdW90O3N0dWRlbnQjcXVvdDssIGZhdWNsdHk9I3F1b3Q7Q1MjcXVvdDsiXQpBbXlbIkFteQp0eXBlPSNxdW90O3N0dWRlbnQjcXVvdDsiXQpBbGdvWyJBbGdvCnR5cGU9I3F1b3Q7Y291cnNlI3F1b3Q7LCB1bml0cz0zIl0KQUlbIkFJCnR5cGU9I3F1b3Q7Y291cnNlI3F1b3Q7LCB1bml0cz0zIl0KTkxQWyJOTFAocykKdHlwZT0jcXVvdDtjb3Vyc2UjcXVvdDssIHVuaXRzPTUiXQpzdHlsZSBOTFAgc3Ryb2tlOmJsdWUsc3Ryb2tlLXdpZHRoOjRweDsKREJbIkRCCnR5cGU9I3F1b3Q7Y291cnNlI3F1b3Q7Il0KQmlvWyJCaW8KdHlwZT0jcXVvdDtjb3Vyc2UjcXVvdDsiXQpKb2huIC0tPnwic2VtPTMifCBCaW8KTHVjeSAtLT58InNlbT01InwgQWxnbwpMdWN5IC0tPnwic2VtPTcifCBBSQpBbXkgLS0+fCJzZW09NSJ8IEFsZ28KQWxnbyAtLT4gQUkKQUkgLS0+IE5MUAo=\"/>"
      ],
      "text/plain": [
       "<IPython.core.display.Image object>"
      ]
     },
     "metadata": {},
     "output_type": "display_data"
    }
   ],
   "source": [
    "# Find all nodes that have attribute \"type\"  \n",
    "_assert_match(input_graph, 's[type]', [{'s': {'AI'}}, {'s': {'Amy'}}, {'s': {'NLP'}}, {'s': {'John'}}, {'s': {'Lucy'}}, \n",
    "                                        {'s': {'Algo'}}, {'s': {'Bio'}}, {'s': {'DB'}}])"
   ]
  },
  {
   "cell_type": "code",
   "execution_count": 56,
   "metadata": {},
   "outputs": [
    {
     "name": "stdout",
     "output_type": "stream",
     "text": [
      "Plotting 3 matches:\n",
      "Plotting the match: {'s': {'John'}}\n"
     ]
    },
    {
     "data": {
      "text/html": [
       "<img src=\"https://mermaid.ink/img/CmZsb3djaGFydCBUQgpKb2huWyJKb2huKHMpCnR5cGU9I3F1b3Q7c3R1ZGVudCNxdW90OywgZmFjdWx0eT0jcXVvdDtCaW9sb2d5I3F1b3Q7Il0Kc3R5bGUgSm9obiBzdHJva2U6Ymx1ZSxzdHJva2Utd2lkdGg6NHB4OwpMdWN5WyJMdWN5CnR5cGU9I3F1b3Q7c3R1ZGVudCNxdW90OywgZmF1Y2x0eT0jcXVvdDtDUyNxdW90OyJdCkFteVsiQW15CnR5cGU9I3F1b3Q7c3R1ZGVudCNxdW90OyJdCkFsZ29bIkFsZ28KdHlwZT0jcXVvdDtjb3Vyc2UjcXVvdDssIHVuaXRzPTMiXQpBSVsiQUkKdHlwZT0jcXVvdDtjb3Vyc2UjcXVvdDssIHVuaXRzPTMiXQpOTFBbIk5MUAp0eXBlPSNxdW90O2NvdXJzZSNxdW90OywgdW5pdHM9NSJdCkRCWyJEQgp0eXBlPSNxdW90O2NvdXJzZSNxdW90OyJdCkJpb1siQmlvCnR5cGU9I3F1b3Q7Y291cnNlI3F1b3Q7Il0KSm9obiAtLT58InNlbT0zInwgQmlvCkx1Y3kgLS0+fCJzZW09NSJ8IEFsZ28KTHVjeSAtLT58InNlbT03InwgQUkKQW15IC0tPnwic2VtPTUifCBBbGdvCkFsZ28gLS0+IEFJCkFJIC0tPiBOTFAK\"/>"
      ],
      "text/plain": [
       "<IPython.core.display.Image object>"
      ]
     },
     "metadata": {},
     "output_type": "display_data"
    },
    {
     "name": "stdout",
     "output_type": "stream",
     "text": [
      "Plotting the match: {'s': {'Lucy'}}\n"
     ]
    },
    {
     "data": {
      "text/html": [
       "<img src=\"https://mermaid.ink/img/CmZsb3djaGFydCBUQgpKb2huWyJKb2huCnR5cGU9I3F1b3Q7c3R1ZGVudCNxdW90OywgZmFjdWx0eT0jcXVvdDtCaW9sb2d5I3F1b3Q7Il0KTHVjeVsiTHVjeShzKQp0eXBlPSNxdW90O3N0dWRlbnQjcXVvdDssIGZhdWNsdHk9I3F1b3Q7Q1MjcXVvdDsiXQpzdHlsZSBMdWN5IHN0cm9rZTpibHVlLHN0cm9rZS13aWR0aDo0cHg7CkFteVsiQW15CnR5cGU9I3F1b3Q7c3R1ZGVudCNxdW90OyJdCkFsZ29bIkFsZ28KdHlwZT0jcXVvdDtjb3Vyc2UjcXVvdDssIHVuaXRzPTMiXQpBSVsiQUkKdHlwZT0jcXVvdDtjb3Vyc2UjcXVvdDssIHVuaXRzPTMiXQpOTFBbIk5MUAp0eXBlPSNxdW90O2NvdXJzZSNxdW90OywgdW5pdHM9NSJdCkRCWyJEQgp0eXBlPSNxdW90O2NvdXJzZSNxdW90OyJdCkJpb1siQmlvCnR5cGU9I3F1b3Q7Y291cnNlI3F1b3Q7Il0KSm9obiAtLT58InNlbT0zInwgQmlvCkx1Y3kgLS0+fCJzZW09NSJ8IEFsZ28KTHVjeSAtLT58InNlbT03InwgQUkKQW15IC0tPnwic2VtPTUifCBBbGdvCkFsZ28gLS0+IEFJCkFJIC0tPiBOTFAK\"/>"
      ],
      "text/plain": [
       "<IPython.core.display.Image object>"
      ]
     },
     "metadata": {},
     "output_type": "display_data"
    },
    {
     "name": "stdout",
     "output_type": "stream",
     "text": [
      "Plotting the match: {'s': {'Amy'}}\n"
     ]
    },
    {
     "data": {
      "text/html": [
       "<img src=\"https://mermaid.ink/img/CmZsb3djaGFydCBUQgpKb2huWyJKb2huCnR5cGU9I3F1b3Q7c3R1ZGVudCNxdW90OywgZmFjdWx0eT0jcXVvdDtCaW9sb2d5I3F1b3Q7Il0KTHVjeVsiTHVjeQp0eXBlPSNxdW90O3N0dWRlbnQjcXVvdDssIGZhdWNsdHk9I3F1b3Q7Q1MjcXVvdDsiXQpBbXlbIkFteShzKQp0eXBlPSNxdW90O3N0dWRlbnQjcXVvdDsiXQpzdHlsZSBBbXkgc3Ryb2tlOmJsdWUsc3Ryb2tlLXdpZHRoOjRweDsKQWxnb1siQWxnbwp0eXBlPSNxdW90O2NvdXJzZSNxdW90OywgdW5pdHM9MyJdCkFJWyJBSQp0eXBlPSNxdW90O2NvdXJzZSNxdW90OywgdW5pdHM9MyJdCk5MUFsiTkxQCnR5cGU9I3F1b3Q7Y291cnNlI3F1b3Q7LCB1bml0cz01Il0KREJbIkRCCnR5cGU9I3F1b3Q7Y291cnNlI3F1b3Q7Il0KQmlvWyJCaW8KdHlwZT0jcXVvdDtjb3Vyc2UjcXVvdDsiXQpKb2huIC0tPnwic2VtPTMifCBCaW8KTHVjeSAtLT58InNlbT01InwgQWxnbwpMdWN5IC0tPnwic2VtPTcifCBBSQpBbXkgLS0+fCJzZW09NSJ8IEFsZ28KQWxnbyAtLT4gQUkKQUkgLS0+IE5MUAo=\"/>"
      ],
      "text/plain": [
       "<IPython.core.display.Image object>"
      ]
     },
     "metadata": {},
     "output_type": "display_data"
    }
   ],
   "source": [
    "# Find all students\n",
    "_assert_match(input_graph, 's[type=\"student\"]', [{'s': {'John'}}, {'s': {'Lucy'}}, {'s': {'Amy'}}])"
   ]
  },
  {
   "cell_type": "code",
   "execution_count": 57,
   "metadata": {},
   "outputs": [
    {
     "name": "stdout",
     "output_type": "stream",
     "text": [
      "Plotting 5 matches:\n",
      "Plotting the match: {'c': {'AI'}}\n"
     ]
    },
    {
     "data": {
      "text/html": [
       "<img src=\"https://mermaid.ink/img/CmZsb3djaGFydCBUQgpKb2huWyJKb2huCnR5cGU9I3F1b3Q7c3R1ZGVudCNxdW90OywgZmFjdWx0eT0jcXVvdDtCaW9sb2d5I3F1b3Q7Il0KTHVjeVsiTHVjeQp0eXBlPSNxdW90O3N0dWRlbnQjcXVvdDssIGZhdWNsdHk9I3F1b3Q7Q1MjcXVvdDsiXQpBbXlbIkFteQp0eXBlPSNxdW90O3N0dWRlbnQjcXVvdDsiXQpBbGdvWyJBbGdvCnR5cGU9I3F1b3Q7Y291cnNlI3F1b3Q7LCB1bml0cz0zIl0KQUlbIkFJKGMpCnR5cGU9I3F1b3Q7Y291cnNlI3F1b3Q7LCB1bml0cz0zIl0Kc3R5bGUgQUkgc3Ryb2tlOmJsdWUsc3Ryb2tlLXdpZHRoOjRweDsKTkxQWyJOTFAKdHlwZT0jcXVvdDtjb3Vyc2UjcXVvdDssIHVuaXRzPTUiXQpEQlsiREIKdHlwZT0jcXVvdDtjb3Vyc2UjcXVvdDsiXQpCaW9bIkJpbwp0eXBlPSNxdW90O2NvdXJzZSNxdW90OyJdCkpvaG4gLS0+fCJzZW09MyJ8IEJpbwpMdWN5IC0tPnwic2VtPTUifCBBbGdvCkx1Y3kgLS0+fCJzZW09NyJ8IEFJCkFteSAtLT58InNlbT01InwgQWxnbwpBbGdvIC0tPiBBSQpBSSAtLT4gTkxQCg==\"/>"
      ],
      "text/plain": [
       "<IPython.core.display.Image object>"
      ]
     },
     "metadata": {},
     "output_type": "display_data"
    },
    {
     "name": "stdout",
     "output_type": "stream",
     "text": [
      "Plotting the match: {'c': {'DB'}}\n"
     ]
    },
    {
     "data": {
      "text/html": [
       "<img src=\"https://mermaid.ink/img/CmZsb3djaGFydCBUQgpKb2huWyJKb2huCnR5cGU9I3F1b3Q7c3R1ZGVudCNxdW90OywgZmFjdWx0eT0jcXVvdDtCaW9sb2d5I3F1b3Q7Il0KTHVjeVsiTHVjeQp0eXBlPSNxdW90O3N0dWRlbnQjcXVvdDssIGZhdWNsdHk9I3F1b3Q7Q1MjcXVvdDsiXQpBbXlbIkFteQp0eXBlPSNxdW90O3N0dWRlbnQjcXVvdDsiXQpBbGdvWyJBbGdvCnR5cGU9I3F1b3Q7Y291cnNlI3F1b3Q7LCB1bml0cz0zIl0KQUlbIkFJCnR5cGU9I3F1b3Q7Y291cnNlI3F1b3Q7LCB1bml0cz0zIl0KTkxQWyJOTFAKdHlwZT0jcXVvdDtjb3Vyc2UjcXVvdDssIHVuaXRzPTUiXQpEQlsiREIoYykKdHlwZT0jcXVvdDtjb3Vyc2UjcXVvdDsiXQpzdHlsZSBEQiBzdHJva2U6Ymx1ZSxzdHJva2Utd2lkdGg6NHB4OwpCaW9bIkJpbwp0eXBlPSNxdW90O2NvdXJzZSNxdW90OyJdCkpvaG4gLS0+fCJzZW09MyJ8IEJpbwpMdWN5IC0tPnwic2VtPTUifCBBbGdvCkx1Y3kgLS0+fCJzZW09NyJ8IEFJCkFteSAtLT58InNlbT01InwgQWxnbwpBbGdvIC0tPiBBSQpBSSAtLT4gTkxQCg==\"/>"
      ],
      "text/plain": [
       "<IPython.core.display.Image object>"
      ]
     },
     "metadata": {},
     "output_type": "display_data"
    },
    {
     "name": "stdout",
     "output_type": "stream",
     "text": [
      "Plotting the match: {'c': {'Bio'}}\n"
     ]
    },
    {
     "data": {
      "text/html": [
       "<img src=\"https://mermaid.ink/img/CmZsb3djaGFydCBUQgpKb2huWyJKb2huCnR5cGU9I3F1b3Q7c3R1ZGVudCNxdW90OywgZmFjdWx0eT0jcXVvdDtCaW9sb2d5I3F1b3Q7Il0KTHVjeVsiTHVjeQp0eXBlPSNxdW90O3N0dWRlbnQjcXVvdDssIGZhdWNsdHk9I3F1b3Q7Q1MjcXVvdDsiXQpBbXlbIkFteQp0eXBlPSNxdW90O3N0dWRlbnQjcXVvdDsiXQpBbGdvWyJBbGdvCnR5cGU9I3F1b3Q7Y291cnNlI3F1b3Q7LCB1bml0cz0zIl0KQUlbIkFJCnR5cGU9I3F1b3Q7Y291cnNlI3F1b3Q7LCB1bml0cz0zIl0KTkxQWyJOTFAKdHlwZT0jcXVvdDtjb3Vyc2UjcXVvdDssIHVuaXRzPTUiXQpEQlsiREIKdHlwZT0jcXVvdDtjb3Vyc2UjcXVvdDsiXQpCaW9bIkJpbyhjKQp0eXBlPSNxdW90O2NvdXJzZSNxdW90OyJdCnN0eWxlIEJpbyBzdHJva2U6Ymx1ZSxzdHJva2Utd2lkdGg6NHB4OwpKb2huIC0tPnwic2VtPTMifCBCaW8KTHVjeSAtLT58InNlbT01InwgQWxnbwpMdWN5IC0tPnwic2VtPTcifCBBSQpBbXkgLS0+fCJzZW09NSJ8IEFsZ28KQWxnbyAtLT4gQUkKQUkgLS0+IE5MUAo=\"/>"
      ],
      "text/plain": [
       "<IPython.core.display.Image object>"
      ]
     },
     "metadata": {},
     "output_type": "display_data"
    },
    {
     "name": "stdout",
     "output_type": "stream",
     "text": [
      "Plotting the match: {'c': {'Algo'}}\n"
     ]
    },
    {
     "data": {
      "text/html": [
       "<img src=\"https://mermaid.ink/img/CmZsb3djaGFydCBUQgpKb2huWyJKb2huCnR5cGU9I3F1b3Q7c3R1ZGVudCNxdW90OywgZmFjdWx0eT0jcXVvdDtCaW9sb2d5I3F1b3Q7Il0KTHVjeVsiTHVjeQp0eXBlPSNxdW90O3N0dWRlbnQjcXVvdDssIGZhdWNsdHk9I3F1b3Q7Q1MjcXVvdDsiXQpBbXlbIkFteQp0eXBlPSNxdW90O3N0dWRlbnQjcXVvdDsiXQpBbGdvWyJBbGdvKGMpCnR5cGU9I3F1b3Q7Y291cnNlI3F1b3Q7LCB1bml0cz0zIl0Kc3R5bGUgQWxnbyBzdHJva2U6Ymx1ZSxzdHJva2Utd2lkdGg6NHB4OwpBSVsiQUkKdHlwZT0jcXVvdDtjb3Vyc2UjcXVvdDssIHVuaXRzPTMiXQpOTFBbIk5MUAp0eXBlPSNxdW90O2NvdXJzZSNxdW90OywgdW5pdHM9NSJdCkRCWyJEQgp0eXBlPSNxdW90O2NvdXJzZSNxdW90OyJdCkJpb1siQmlvCnR5cGU9I3F1b3Q7Y291cnNlI3F1b3Q7Il0KSm9obiAtLT58InNlbT0zInwgQmlvCkx1Y3kgLS0+fCJzZW09NSJ8IEFsZ28KTHVjeSAtLT58InNlbT03InwgQUkKQW15IC0tPnwic2VtPTUifCBBbGdvCkFsZ28gLS0+IEFJCkFJIC0tPiBOTFAK\"/>"
      ],
      "text/plain": [
       "<IPython.core.display.Image object>"
      ]
     },
     "metadata": {},
     "output_type": "display_data"
    },
    {
     "name": "stdout",
     "output_type": "stream",
     "text": [
      "Plotting the match: {'c': {'NLP'}}\n"
     ]
    },
    {
     "data": {
      "text/html": [
       "<img src=\"https://mermaid.ink/img/CmZsb3djaGFydCBUQgpKb2huWyJKb2huCnR5cGU9I3F1b3Q7c3R1ZGVudCNxdW90OywgZmFjdWx0eT0jcXVvdDtCaW9sb2d5I3F1b3Q7Il0KTHVjeVsiTHVjeQp0eXBlPSNxdW90O3N0dWRlbnQjcXVvdDssIGZhdWNsdHk9I3F1b3Q7Q1MjcXVvdDsiXQpBbXlbIkFteQp0eXBlPSNxdW90O3N0dWRlbnQjcXVvdDsiXQpBbGdvWyJBbGdvCnR5cGU9I3F1b3Q7Y291cnNlI3F1b3Q7LCB1bml0cz0zIl0KQUlbIkFJCnR5cGU9I3F1b3Q7Y291cnNlI3F1b3Q7LCB1bml0cz0zIl0KTkxQWyJOTFAoYykKdHlwZT0jcXVvdDtjb3Vyc2UjcXVvdDssIHVuaXRzPTUiXQpzdHlsZSBOTFAgc3Ryb2tlOmJsdWUsc3Ryb2tlLXdpZHRoOjRweDsKREJbIkRCCnR5cGU9I3F1b3Q7Y291cnNlI3F1b3Q7Il0KQmlvWyJCaW8KdHlwZT0jcXVvdDtjb3Vyc2UjcXVvdDsiXQpKb2huIC0tPnwic2VtPTMifCBCaW8KTHVjeSAtLT58InNlbT01InwgQWxnbwpMdWN5IC0tPnwic2VtPTcifCBBSQpBbXkgLS0+fCJzZW09NSJ8IEFsZ28KQWxnbyAtLT4gQUkKQUkgLS0+IE5MUAo=\"/>"
      ],
      "text/plain": [
       "<IPython.core.display.Image object>"
      ]
     },
     "metadata": {},
     "output_type": "display_data"
    }
   ],
   "source": [
    "# Find all courses\n",
    "_assert_match(input_graph, 'c[type=\"course\"]', [{'c': course} for course in [{'DB'},{'NLP'},{'AI'},{'Algo'},{'Bio'}]])"
   ]
  },
  {
   "cell_type": "code",
   "execution_count": 58,
   "metadata": {},
   "outputs": [
    {
     "name": "stdout",
     "output_type": "stream",
     "text": [
      "Plotting 3 matches:\n",
      "Plotting the match: {'s': {'John'}}\n"
     ]
    },
    {
     "data": {
      "text/html": [
       "<img src=\"https://mermaid.ink/img/CmZsb3djaGFydCBUQgpKb2huWyJKb2huKHMpCnR5cGU9I3F1b3Q7c3R1ZGVudCNxdW90OywgZmFjdWx0eT0jcXVvdDtCaW9sb2d5I3F1b3Q7Il0Kc3R5bGUgSm9obiBzdHJva2U6Ymx1ZSxzdHJva2Utd2lkdGg6NHB4OwpMdWN5WyJMdWN5CnR5cGU9I3F1b3Q7c3R1ZGVudCNxdW90OywgZmF1Y2x0eT0jcXVvdDtDUyNxdW90OyJdCkFteVsiQW15CnR5cGU9I3F1b3Q7c3R1ZGVudCNxdW90OyJdCkFsZ29bIkFsZ28KdHlwZT0jcXVvdDtjb3Vyc2UjcXVvdDssIHVuaXRzPTMiXQpBSVsiQUkKdHlwZT0jcXVvdDtjb3Vyc2UjcXVvdDssIHVuaXRzPTMiXQpOTFBbIk5MUAp0eXBlPSNxdW90O2NvdXJzZSNxdW90OywgdW5pdHM9NSJdCkRCWyJEQgp0eXBlPSNxdW90O2NvdXJzZSNxdW90OyJdCkJpb1siQmlvCnR5cGU9I3F1b3Q7Y291cnNlI3F1b3Q7Il0KSm9obiAtLT58InNlbT0zInwgQmlvCkx1Y3kgLS0+fCJzZW09NSJ8IEFsZ28KTHVjeSAtLT58InNlbT03InwgQUkKQW15IC0tPnwic2VtPTUifCBBbGdvCkFsZ28gLS0+IEFJCkFJIC0tPiBOTFAK\"/>"
      ],
      "text/plain": [
       "<IPython.core.display.Image object>"
      ]
     },
     "metadata": {},
     "output_type": "display_data"
    },
    {
     "name": "stdout",
     "output_type": "stream",
     "text": [
      "Plotting the match: {'s': {'Lucy'}}\n"
     ]
    },
    {
     "data": {
      "text/html": [
       "<img src=\"https://mermaid.ink/img/CmZsb3djaGFydCBUQgpKb2huWyJKb2huCnR5cGU9I3F1b3Q7c3R1ZGVudCNxdW90OywgZmFjdWx0eT0jcXVvdDtCaW9sb2d5I3F1b3Q7Il0KTHVjeVsiTHVjeShzKQp0eXBlPSNxdW90O3N0dWRlbnQjcXVvdDssIGZhdWNsdHk9I3F1b3Q7Q1MjcXVvdDsiXQpzdHlsZSBMdWN5IHN0cm9rZTpibHVlLHN0cm9rZS13aWR0aDo0cHg7CkFteVsiQW15CnR5cGU9I3F1b3Q7c3R1ZGVudCNxdW90OyJdCkFsZ29bIkFsZ28KdHlwZT0jcXVvdDtjb3Vyc2UjcXVvdDssIHVuaXRzPTMiXQpBSVsiQUkKdHlwZT0jcXVvdDtjb3Vyc2UjcXVvdDssIHVuaXRzPTMiXQpOTFBbIk5MUAp0eXBlPSNxdW90O2NvdXJzZSNxdW90OywgdW5pdHM9NSJdCkRCWyJEQgp0eXBlPSNxdW90O2NvdXJzZSNxdW90OyJdCkJpb1siQmlvCnR5cGU9I3F1b3Q7Y291cnNlI3F1b3Q7Il0KSm9obiAtLT58InNlbT0zInwgQmlvCkx1Y3kgLS0+fCJzZW09NSJ8IEFsZ28KTHVjeSAtLT58InNlbT03InwgQUkKQW15IC0tPnwic2VtPTUifCBBbGdvCkFsZ28gLS0+IEFJCkFJIC0tPiBOTFAK\"/>"
      ],
      "text/plain": [
       "<IPython.core.display.Image object>"
      ]
     },
     "metadata": {},
     "output_type": "display_data"
    },
    {
     "name": "stdout",
     "output_type": "stream",
     "text": [
      "Plotting the match: {'s': {'Amy'}}\n"
     ]
    },
    {
     "data": {
      "text/html": [
       "<img src=\"https://mermaid.ink/img/CmZsb3djaGFydCBUQgpKb2huWyJKb2huCnR5cGU9I3F1b3Q7c3R1ZGVudCNxdW90OywgZmFjdWx0eT0jcXVvdDtCaW9sb2d5I3F1b3Q7Il0KTHVjeVsiTHVjeQp0eXBlPSNxdW90O3N0dWRlbnQjcXVvdDssIGZhdWNsdHk9I3F1b3Q7Q1MjcXVvdDsiXQpBbXlbIkFteShzKQp0eXBlPSNxdW90O3N0dWRlbnQjcXVvdDsiXQpzdHlsZSBBbXkgc3Ryb2tlOmJsdWUsc3Ryb2tlLXdpZHRoOjRweDsKQWxnb1siQWxnbwp0eXBlPSNxdW90O2NvdXJzZSNxdW90OywgdW5pdHM9MyJdCkFJWyJBSQp0eXBlPSNxdW90O2NvdXJzZSNxdW90OywgdW5pdHM9MyJdCk5MUFsiTkxQCnR5cGU9I3F1b3Q7Y291cnNlI3F1b3Q7LCB1bml0cz01Il0KREJbIkRCCnR5cGU9I3F1b3Q7Y291cnNlI3F1b3Q7Il0KQmlvWyJCaW8KdHlwZT0jcXVvdDtjb3Vyc2UjcXVvdDsiXQpKb2huIC0tPnwic2VtPTMifCBCaW8KTHVjeSAtLT58InNlbT01InwgQWxnbwpMdWN5IC0tPnwic2VtPTcifCBBSQpBbXkgLS0+fCJzZW09NSJ8IEFsZ28KQWxnbyAtLT4gQUkKQUkgLS0+IE5MUAo=\"/>"
      ],
      "text/plain": [
       "<IPython.core.display.Image object>"
      ]
     },
     "metadata": {},
     "output_type": "display_data"
    }
   ],
   "source": [
    "# Find all students that took some course (all of them)\n",
    "_assert_match(input_graph, 's[type=\"student\"]->_[type=\"course\"]', [{'s': {'Amy'}}, {'s': {'John'}}, {'s': {'Lucy'}}])"
   ]
  },
  {
   "cell_type": "code",
   "execution_count": 59,
   "metadata": {},
   "outputs": [
    {
     "name": "stdout",
     "output_type": "stream",
     "text": [
      "Plotting 2 matches:\n",
      "Plotting the match: {'s': {'Lucy'}}\n"
     ]
    },
    {
     "data": {
      "text/html": [
       "<img src=\"https://mermaid.ink/img/CmZsb3djaGFydCBUQgpKb2huWyJKb2huCnR5cGU9I3F1b3Q7c3R1ZGVudCNxdW90OywgZmFjdWx0eT0jcXVvdDtCaW9sb2d5I3F1b3Q7Il0KTHVjeVsiTHVjeShzKQp0eXBlPSNxdW90O3N0dWRlbnQjcXVvdDssIGZhdWNsdHk9I3F1b3Q7Q1MjcXVvdDsiXQpzdHlsZSBMdWN5IHN0cm9rZTpibHVlLHN0cm9rZS13aWR0aDo0cHg7CkFteVsiQW15CnR5cGU9I3F1b3Q7c3R1ZGVudCNxdW90OyJdCkFsZ29bIkFsZ28KdHlwZT0jcXVvdDtjb3Vyc2UjcXVvdDssIHVuaXRzPTMiXQpBSVsiQUkKdHlwZT0jcXVvdDtjb3Vyc2UjcXVvdDssIHVuaXRzPTMiXQpOTFBbIk5MUAp0eXBlPSNxdW90O2NvdXJzZSNxdW90OywgdW5pdHM9NSJdCkRCWyJEQgp0eXBlPSNxdW90O2NvdXJzZSNxdW90OyJdCkJpb1siQmlvCnR5cGU9I3F1b3Q7Y291cnNlI3F1b3Q7Il0KSm9obiAtLT58InNlbT0zInwgQmlvCkx1Y3kgLS0+fCJzZW09NSJ8IEFsZ28KTHVjeSAtLT58InNlbT03InwgQUkKQW15IC0tPnwic2VtPTUifCBBbGdvCkFsZ28gLS0+IEFJCkFJIC0tPiBOTFAK\"/>"
      ],
      "text/plain": [
       "<IPython.core.display.Image object>"
      ]
     },
     "metadata": {},
     "output_type": "display_data"
    },
    {
     "name": "stdout",
     "output_type": "stream",
     "text": [
      "Plotting the match: {'s': {'Amy'}}\n"
     ]
    },
    {
     "data": {
      "text/html": [
       "<img src=\"https://mermaid.ink/img/CmZsb3djaGFydCBUQgpKb2huWyJKb2huCnR5cGU9I3F1b3Q7c3R1ZGVudCNxdW90OywgZmFjdWx0eT0jcXVvdDtCaW9sb2d5I3F1b3Q7Il0KTHVjeVsiTHVjeQp0eXBlPSNxdW90O3N0dWRlbnQjcXVvdDssIGZhdWNsdHk9I3F1b3Q7Q1MjcXVvdDsiXQpBbXlbIkFteShzKQp0eXBlPSNxdW90O3N0dWRlbnQjcXVvdDsiXQpzdHlsZSBBbXkgc3Ryb2tlOmJsdWUsc3Ryb2tlLXdpZHRoOjRweDsKQWxnb1siQWxnbwp0eXBlPSNxdW90O2NvdXJzZSNxdW90OywgdW5pdHM9MyJdCkFJWyJBSQp0eXBlPSNxdW90O2NvdXJzZSNxdW90OywgdW5pdHM9MyJdCk5MUFsiTkxQCnR5cGU9I3F1b3Q7Y291cnNlI3F1b3Q7LCB1bml0cz01Il0KREJbIkRCCnR5cGU9I3F1b3Q7Y291cnNlI3F1b3Q7Il0KQmlvWyJCaW8KdHlwZT0jcXVvdDtjb3Vyc2UjcXVvdDsiXQpKb2huIC0tPnwic2VtPTMifCBCaW8KTHVjeSAtLT58InNlbT01InwgQWxnbwpMdWN5IC0tPnwic2VtPTcifCBBSQpBbXkgLS0+fCJzZW09NSJ8IEFsZ28KQWxnbyAtLT4gQUkKQUkgLS0+IE5MUAo=\"/>"
      ],
      "text/plain": [
       "<IPython.core.display.Image object>"
      ]
     },
     "metadata": {},
     "output_type": "display_data"
    }
   ],
   "source": [
    "# Find all students that took some 3-units course\n",
    "_assert_match(input_graph, 's[type=\"student\"]->_[type=\"course\", units=3]', [{'s': {'Amy'}}, {'s': {'Lucy'}}])"
   ]
  },
  {
   "cell_type": "code",
   "execution_count": 60,
   "metadata": {},
   "outputs": [
    {
     "name": "stdout",
     "output_type": "stream",
     "text": [
      "Plotting 3 matches:\n",
      "Plotting the match: {'s': {'Lucy'}, 'c': {'AI'}}\n"
     ]
    },
    {
     "data": {
      "text/html": [
       "<img src=\"https://mermaid.ink/img/CmZsb3djaGFydCBUQgpKb2huWyJKb2huCnR5cGU9I3F1b3Q7c3R1ZGVudCNxdW90OywgZmFjdWx0eT0jcXVvdDtCaW9sb2d5I3F1b3Q7Il0KTHVjeVsiTHVjeShzKQp0eXBlPSNxdW90O3N0dWRlbnQjcXVvdDssIGZhdWNsdHk9I3F1b3Q7Q1MjcXVvdDsiXQpzdHlsZSBMdWN5IHN0cm9rZTpibHVlLHN0cm9rZS13aWR0aDo0cHg7CkFteVsiQW15CnR5cGU9I3F1b3Q7c3R1ZGVudCNxdW90OyJdCkFsZ29bIkFsZ28KdHlwZT0jcXVvdDtjb3Vyc2UjcXVvdDssIHVuaXRzPTMiXQpBSVsiQUkoYykKdHlwZT0jcXVvdDtjb3Vyc2UjcXVvdDssIHVuaXRzPTMiXQpzdHlsZSBBSSBzdHJva2U6Ymx1ZSxzdHJva2Utd2lkdGg6NHB4OwpOTFBbIk5MUAp0eXBlPSNxdW90O2NvdXJzZSNxdW90OywgdW5pdHM9NSJdCkRCWyJEQgp0eXBlPSNxdW90O2NvdXJzZSNxdW90OyJdCkJpb1siQmlvCnR5cGU9I3F1b3Q7Y291cnNlI3F1b3Q7Il0KSm9obiAtLT58InNlbT0zInwgQmlvCkx1Y3kgLS0+fCJzZW09NSJ8IEFsZ28KTHVjeSAtLT58InNlbT03InwgQUkKbGlua1N0eWxlIDIgc3Ryb2tlOmJsdWUsc3Ryb2tlLXdpZHRoOjRweDsKQW15IC0tPnwic2VtPTUifCBBbGdvCkFsZ28gLS0+IEFJCkFJIC0tPiBOTFAK\"/>"
      ],
      "text/plain": [
       "<IPython.core.display.Image object>"
      ]
     },
     "metadata": {},
     "output_type": "display_data"
    },
    {
     "name": "stdout",
     "output_type": "stream",
     "text": [
      "Plotting the match: {'s': {'Lucy'}, 'c': {'Algo'}}\n"
     ]
    },
    {
     "data": {
      "text/html": [
       "<img src=\"https://mermaid.ink/img/CmZsb3djaGFydCBUQgpKb2huWyJKb2huCnR5cGU9I3F1b3Q7c3R1ZGVudCNxdW90OywgZmFjdWx0eT0jcXVvdDtCaW9sb2d5I3F1b3Q7Il0KTHVjeVsiTHVjeShzKQp0eXBlPSNxdW90O3N0dWRlbnQjcXVvdDssIGZhdWNsdHk9I3F1b3Q7Q1MjcXVvdDsiXQpzdHlsZSBMdWN5IHN0cm9rZTpibHVlLHN0cm9rZS13aWR0aDo0cHg7CkFteVsiQW15CnR5cGU9I3F1b3Q7c3R1ZGVudCNxdW90OyJdCkFsZ29bIkFsZ28oYykKdHlwZT0jcXVvdDtjb3Vyc2UjcXVvdDssIHVuaXRzPTMiXQpzdHlsZSBBbGdvIHN0cm9rZTpibHVlLHN0cm9rZS13aWR0aDo0cHg7CkFJWyJBSQp0eXBlPSNxdW90O2NvdXJzZSNxdW90OywgdW5pdHM9MyJdCk5MUFsiTkxQCnR5cGU9I3F1b3Q7Y291cnNlI3F1b3Q7LCB1bml0cz01Il0KREJbIkRCCnR5cGU9I3F1b3Q7Y291cnNlI3F1b3Q7Il0KQmlvWyJCaW8KdHlwZT0jcXVvdDtjb3Vyc2UjcXVvdDsiXQpKb2huIC0tPnwic2VtPTMifCBCaW8KTHVjeSAtLT58InNlbT01InwgQWxnbwpsaW5rU3R5bGUgMSBzdHJva2U6Ymx1ZSxzdHJva2Utd2lkdGg6NHB4OwpMdWN5IC0tPnwic2VtPTcifCBBSQpBbXkgLS0+fCJzZW09NSJ8IEFsZ28KQWxnbyAtLT4gQUkKQUkgLS0+IE5MUAo=\"/>"
      ],
      "text/plain": [
       "<IPython.core.display.Image object>"
      ]
     },
     "metadata": {},
     "output_type": "display_data"
    },
    {
     "name": "stdout",
     "output_type": "stream",
     "text": [
      "Plotting the match: {'s': {'Amy'}, 'c': {'Algo'}}\n"
     ]
    },
    {
     "data": {
      "text/html": [
       "<img src=\"https://mermaid.ink/img/CmZsb3djaGFydCBUQgpKb2huWyJKb2huCnR5cGU9I3F1b3Q7c3R1ZGVudCNxdW90OywgZmFjdWx0eT0jcXVvdDtCaW9sb2d5I3F1b3Q7Il0KTHVjeVsiTHVjeQp0eXBlPSNxdW90O3N0dWRlbnQjcXVvdDssIGZhdWNsdHk9I3F1b3Q7Q1MjcXVvdDsiXQpBbXlbIkFteShzKQp0eXBlPSNxdW90O3N0dWRlbnQjcXVvdDsiXQpzdHlsZSBBbXkgc3Ryb2tlOmJsdWUsc3Ryb2tlLXdpZHRoOjRweDsKQWxnb1siQWxnbyhjKQp0eXBlPSNxdW90O2NvdXJzZSNxdW90OywgdW5pdHM9MyJdCnN0eWxlIEFsZ28gc3Ryb2tlOmJsdWUsc3Ryb2tlLXdpZHRoOjRweDsKQUlbIkFJCnR5cGU9I3F1b3Q7Y291cnNlI3F1b3Q7LCB1bml0cz0zIl0KTkxQWyJOTFAKdHlwZT0jcXVvdDtjb3Vyc2UjcXVvdDssIHVuaXRzPTUiXQpEQlsiREIKdHlwZT0jcXVvdDtjb3Vyc2UjcXVvdDsiXQpCaW9bIkJpbwp0eXBlPSNxdW90O2NvdXJzZSNxdW90OyJdCkpvaG4gLS0+fCJzZW09MyJ8IEJpbwpMdWN5IC0tPnwic2VtPTUifCBBbGdvCkx1Y3kgLS0+fCJzZW09NyJ8IEFJCkFteSAtLT58InNlbT01InwgQWxnbwpsaW5rU3R5bGUgMyBzdHJva2U6Ymx1ZSxzdHJva2Utd2lkdGg6NHB4OwpBbGdvIC0tPiBBSQpBSSAtLT4gTkxQCg==\"/>"
      ],
      "text/plain": [
       "<IPython.core.display.Image object>"
      ]
     },
     "metadata": {},
     "output_type": "display_data"
    }
   ],
   "source": [
    "# Find all students that took some 3-units course, and the associated courses\n",
    "_assert_match(input_graph, 's[type=\"student\"]->c[type=\"course\", units=3]', [\n",
    "    {'s': {'Amy'}, 'c': {'Algo'}}, {'s': {'Lucy'}, 'c': {'Algo'}}, {'s': {'Lucy'}, 'c': {'AI'}}\n",
    "])"
   ]
  },
  {
   "cell_type": "code",
   "execution_count": 61,
   "metadata": {},
   "outputs": [
    {
     "name": "stdout",
     "output_type": "stream",
     "text": [
      "Plotting 2 matches:\n",
      "Plotting the match: {'s': {'Lucy'}, 'c1': {'AI'}, 'c2': {'Algo'}}\n"
     ]
    },
    {
     "data": {
      "text/html": [
       "<img src=\"https://mermaid.ink/img/CmZsb3djaGFydCBUQgpKb2huWyJKb2huCnR5cGU9I3F1b3Q7c3R1ZGVudCNxdW90OywgZmFjdWx0eT0jcXVvdDtCaW9sb2d5I3F1b3Q7Il0KTHVjeVsiTHVjeShzKQp0eXBlPSNxdW90O3N0dWRlbnQjcXVvdDssIGZhdWNsdHk9I3F1b3Q7Q1MjcXVvdDsiXQpzdHlsZSBMdWN5IHN0cm9rZTpibHVlLHN0cm9rZS13aWR0aDo0cHg7CkFteVsiQW15CnR5cGU9I3F1b3Q7c3R1ZGVudCNxdW90OyJdCkFsZ29bIkFsZ28oYzIpCnR5cGU9I3F1b3Q7Y291cnNlI3F1b3Q7LCB1bml0cz0zIl0Kc3R5bGUgQWxnbyBzdHJva2U6Ymx1ZSxzdHJva2Utd2lkdGg6NHB4OwpBSVsiQUkoYzEpCnR5cGU9I3F1b3Q7Y291cnNlI3F1b3Q7LCB1bml0cz0zIl0Kc3R5bGUgQUkgc3Ryb2tlOmJsdWUsc3Ryb2tlLXdpZHRoOjRweDsKTkxQWyJOTFAKdHlwZT0jcXVvdDtjb3Vyc2UjcXVvdDssIHVuaXRzPTUiXQpEQlsiREIKdHlwZT0jcXVvdDtjb3Vyc2UjcXVvdDsiXQpCaW9bIkJpbwp0eXBlPSNxdW90O2NvdXJzZSNxdW90OyJdCkpvaG4gLS0+fCJzZW09MyJ8IEJpbwpMdWN5IC0tPnwic2VtPTUifCBBbGdvCmxpbmtTdHlsZSAxIHN0cm9rZTpibHVlLHN0cm9rZS13aWR0aDo0cHg7Ckx1Y3kgLS0+fCJzZW09NyJ8IEFJCmxpbmtTdHlsZSAyIHN0cm9rZTpibHVlLHN0cm9rZS13aWR0aDo0cHg7CkFteSAtLT58InNlbT01InwgQWxnbwpBbGdvIC0tPiBBSQpBSSAtLT4gTkxQCg==\"/>"
      ],
      "text/plain": [
       "<IPython.core.display.Image object>"
      ]
     },
     "metadata": {},
     "output_type": "display_data"
    },
    {
     "name": "stdout",
     "output_type": "stream",
     "text": [
      "Plotting the match: {'s': {'Lucy'}, 'c1': {'Algo'}, 'c2': {'AI'}}\n"
     ]
    },
    {
     "data": {
      "text/html": [
       "<img src=\"https://mermaid.ink/img/CmZsb3djaGFydCBUQgpKb2huWyJKb2huCnR5cGU9I3F1b3Q7c3R1ZGVudCNxdW90OywgZmFjdWx0eT0jcXVvdDtCaW9sb2d5I3F1b3Q7Il0KTHVjeVsiTHVjeShzKQp0eXBlPSNxdW90O3N0dWRlbnQjcXVvdDssIGZhdWNsdHk9I3F1b3Q7Q1MjcXVvdDsiXQpzdHlsZSBMdWN5IHN0cm9rZTpibHVlLHN0cm9rZS13aWR0aDo0cHg7CkFteVsiQW15CnR5cGU9I3F1b3Q7c3R1ZGVudCNxdW90OyJdCkFsZ29bIkFsZ28oYzEpCnR5cGU9I3F1b3Q7Y291cnNlI3F1b3Q7LCB1bml0cz0zIl0Kc3R5bGUgQWxnbyBzdHJva2U6Ymx1ZSxzdHJva2Utd2lkdGg6NHB4OwpBSVsiQUkoYzIpCnR5cGU9I3F1b3Q7Y291cnNlI3F1b3Q7LCB1bml0cz0zIl0Kc3R5bGUgQUkgc3Ryb2tlOmJsdWUsc3Ryb2tlLXdpZHRoOjRweDsKTkxQWyJOTFAKdHlwZT0jcXVvdDtjb3Vyc2UjcXVvdDssIHVuaXRzPTUiXQpEQlsiREIKdHlwZT0jcXVvdDtjb3Vyc2UjcXVvdDsiXQpCaW9bIkJpbwp0eXBlPSNxdW90O2NvdXJzZSNxdW90OyJdCkpvaG4gLS0+fCJzZW09MyJ8IEJpbwpMdWN5IC0tPnwic2VtPTUifCBBbGdvCmxpbmtTdHlsZSAxIHN0cm9rZTpibHVlLHN0cm9rZS13aWR0aDo0cHg7Ckx1Y3kgLS0+fCJzZW09NyJ8IEFJCmxpbmtTdHlsZSAyIHN0cm9rZTpibHVlLHN0cm9rZS13aWR0aDo0cHg7CkFteSAtLT58InNlbT01InwgQWxnbwpBbGdvIC0tPiBBSQpBSSAtLT4gTkxQCg==\"/>"
      ],
      "text/plain": [
       "<IPython.core.display.Image object>"
      ]
     },
     "metadata": {},
     "output_type": "display_data"
    }
   ],
   "source": [
    "# Find all students which took two courses (and the courses) \n",
    "_assert_match(input_graph, 's[type=\"student\"]->c1[type=\"course\"], s->c2[type=\"course\"]', [ \n",
    "    {'s': {'Lucy'}, 'c1': {'AI'}, 'c2': {'Algo'}},\n",
    "    {'s': {'Lucy'}, 'c1': {'Algo'}, 'c2': {'AI'}}\n",
    "])"
   ]
  },
  {
   "cell_type": "code",
   "execution_count": 62,
   "metadata": {},
   "outputs": [
    {
     "name": "stdout",
     "output_type": "stream",
     "text": [
      "Plotting 1 matches:\n",
      "Plotting the match: {'c1': {'Algo'}, 'c2': {'AI'}, 'c3': {'NLP'}}\n"
     ]
    },
    {
     "data": {
      "text/html": [
       "<img src=\"https://mermaid.ink/img/CmZsb3djaGFydCBUQgpKb2huWyJKb2huCnR5cGU9I3F1b3Q7c3R1ZGVudCNxdW90OywgZmFjdWx0eT0jcXVvdDtCaW9sb2d5I3F1b3Q7Il0KTHVjeVsiTHVjeQp0eXBlPSNxdW90O3N0dWRlbnQjcXVvdDssIGZhdWNsdHk9I3F1b3Q7Q1MjcXVvdDsiXQpBbXlbIkFteQp0eXBlPSNxdW90O3N0dWRlbnQjcXVvdDsiXQpBbGdvWyJBbGdvKGMxKQp0eXBlPSNxdW90O2NvdXJzZSNxdW90OywgdW5pdHM9MyJdCnN0eWxlIEFsZ28gc3Ryb2tlOmJsdWUsc3Ryb2tlLXdpZHRoOjRweDsKQUlbIkFJKGMyKQp0eXBlPSNxdW90O2NvdXJzZSNxdW90OywgdW5pdHM9MyJdCnN0eWxlIEFJIHN0cm9rZTpibHVlLHN0cm9rZS13aWR0aDo0cHg7Ck5MUFsiTkxQKGMzKQp0eXBlPSNxdW90O2NvdXJzZSNxdW90OywgdW5pdHM9NSJdCnN0eWxlIE5MUCBzdHJva2U6Ymx1ZSxzdHJva2Utd2lkdGg6NHB4OwpEQlsiREIKdHlwZT0jcXVvdDtjb3Vyc2UjcXVvdDsiXQpCaW9bIkJpbwp0eXBlPSNxdW90O2NvdXJzZSNxdW90OyJdCkpvaG4gLS0+fCJzZW09MyJ8IEJpbwpMdWN5IC0tPnwic2VtPTUifCBBbGdvCkx1Y3kgLS0+fCJzZW09NyJ8IEFJCkFteSAtLT58InNlbT01InwgQWxnbwpBbGdvIC0tPiBBSQpsaW5rU3R5bGUgNCBzdHJva2U6Ymx1ZSxzdHJva2Utd2lkdGg6NHB4OwpBSSAtLT4gTkxQCmxpbmtTdHlsZSA1IHN0cm9rZTpibHVlLHN0cm9rZS13aWR0aDo0cHg7Cg==\"/>"
      ],
      "text/plain": [
       "<IPython.core.display.Image object>"
      ]
     },
     "metadata": {},
     "output_type": "display_data"
    }
   ],
   "source": [
    "# Find all tripltes c1, c2, c3 of courses such that c1 is a prerequisite of c2, and the same for c2 and c3\n",
    "_assert_match(input_graph, 'c1[type=\"course\"]->c2[type=\"course\"]->c3[type=\"course\"]', [\n",
    "    {'c1': {'Algo'}, 'c2': {'AI'}, 'c3': {'NLP'}}\n",
    "])"
   ]
  },
  {
   "cell_type": "code",
   "execution_count": 63,
   "metadata": {},
   "outputs": [
    {
     "name": "stdout",
     "output_type": "stream",
     "text": [
      "Plotting 1 matches:\n",
      "Plotting the match: {'s': {'Lucy'}}\n"
     ]
    },
    {
     "data": {
      "text/html": [
       "<img src=\"https://mermaid.ink/img/CmZsb3djaGFydCBUQgpKb2huWyJKb2huCnR5cGU9I3F1b3Q7c3R1ZGVudCNxdW90OywgZmFjdWx0eT0jcXVvdDtCaW9sb2d5I3F1b3Q7Il0KTHVjeVsiTHVjeShzKQp0eXBlPSNxdW90O3N0dWRlbnQjcXVvdDssIGZhdWNsdHk9I3F1b3Q7Q1MjcXVvdDsiXQpzdHlsZSBMdWN5IHN0cm9rZTpibHVlLHN0cm9rZS13aWR0aDo0cHg7CkFteVsiQW15CnR5cGU9I3F1b3Q7c3R1ZGVudCNxdW90OyJdCkFsZ29bIkFsZ28KdHlwZT0jcXVvdDtjb3Vyc2UjcXVvdDssIHVuaXRzPTMiXQpBSVsiQUkKdHlwZT0jcXVvdDtjb3Vyc2UjcXVvdDssIHVuaXRzPTMiXQpOTFBbIk5MUAp0eXBlPSNxdW90O2NvdXJzZSNxdW90OywgdW5pdHM9NSJdCkRCWyJEQgp0eXBlPSNxdW90O2NvdXJzZSNxdW90OyJdCkJpb1siQmlvCnR5cGU9I3F1b3Q7Y291cnNlI3F1b3Q7Il0KSm9obiAtLT58InNlbT0zInwgQmlvCkx1Y3kgLS0+fCJzZW09NSJ8IEFsZ28KTHVjeSAtLT58InNlbT03InwgQUkKQW15IC0tPnwic2VtPTUifCBBbGdvCkFsZ28gLS0+IEFJCkFJIC0tPiBOTFAK\"/>"
      ],
      "text/plain": [
       "<IPython.core.display.Image object>"
      ]
     },
     "metadata": {},
     "output_type": "display_data"
    }
   ],
   "source": [
    "# Find all students that took a course in their 7th semester\n",
    "\n",
    "_assert_match(input_graph, 's[type=\"student\"]-[sem=7]->_[type=\"course\"]', [ {'s': {'Lucy'}}])\n"
   ]
  },
  {
   "cell_type": "code",
   "execution_count": 64,
   "metadata": {},
   "outputs": [
    {
     "name": "stdout",
     "output_type": "stream",
     "text": [
      "Plotting 1 matches:\n",
      "Plotting the match: {'s': {'John'}, 'c': {'Bio'}}\n"
     ]
    },
    {
     "data": {
      "text/html": [
       "<img src=\"https://mermaid.ink/img/CmZsb3djaGFydCBUQgpKb2huWyJKb2huKHMpCnR5cGU9I3F1b3Q7c3R1ZGVudCNxdW90OywgZmFjdWx0eT0jcXVvdDtCaW9sb2d5I3F1b3Q7Il0Kc3R5bGUgSm9obiBzdHJva2U6Ymx1ZSxzdHJva2Utd2lkdGg6NHB4OwpMdWN5WyJMdWN5CnR5cGU9I3F1b3Q7c3R1ZGVudCNxdW90OywgZmF1Y2x0eT0jcXVvdDtDUyNxdW90OyJdCkFteVsiQW15CnR5cGU9I3F1b3Q7c3R1ZGVudCNxdW90OyJdCkFsZ29bIkFsZ28KdHlwZT0jcXVvdDtjb3Vyc2UjcXVvdDssIHVuaXRzPTMiXQpBSVsiQUkKdHlwZT0jcXVvdDtjb3Vyc2UjcXVvdDssIHVuaXRzPTMiXQpOTFBbIk5MUAp0eXBlPSNxdW90O2NvdXJzZSNxdW90OywgdW5pdHM9NSJdCkRCWyJEQgp0eXBlPSNxdW90O2NvdXJzZSNxdW90OyJdCkJpb1siQmlvKGMpCnR5cGU9I3F1b3Q7Y291cnNlI3F1b3Q7Il0Kc3R5bGUgQmlvIHN0cm9rZTpibHVlLHN0cm9rZS13aWR0aDo0cHg7CkpvaG4gLS0+fCJzZW09MyJ8IEJpbwpsaW5rU3R5bGUgMCBzdHJva2U6Ymx1ZSxzdHJva2Utd2lkdGg6NHB4OwpMdWN5IC0tPnwic2VtPTUifCBBbGdvCkx1Y3kgLS0+fCJzZW09NyJ8IEFJCkFteSAtLT58InNlbT01InwgQWxnbwpBbGdvIC0tPiBBSQpBSSAtLT4gTkxQCg==\"/>"
      ],
      "text/plain": [
       "<IPython.core.display.Image object>"
      ]
     },
     "metadata": {},
     "output_type": "display_data"
    }
   ],
   "source": [
    "# Find all students that took a course before their 5th semester (use user-defined condition)\n",
    "_assert_match(input_graph, 's[type=\"student\"]-[sem]->c[type=\"course\"]', [{'s': {'John'}, 'c': {'Bio'}}], \n",
    "              condition=lambda match: match['s->c']['sem'] < 5)"
   ]
  },
  {
   "cell_type": "markdown",
   "metadata": {},
   "source": [
    "#### POC For Large Graphs"
   ]
  },
  {
   "cell_type": "code",
   "execution_count": 65,
   "metadata": {},
   "outputs": [],
   "source": [
    "# POC: High number of nodes, solved with attribute filtering\n",
    "num_nodes = 100000\n",
    "\n",
    "input_graph = _create_graph(\n",
    "    [n for n in range(num_nodes)] + [(num_nodes+1, {'attr': 15}), (num_nodes+2, {'attr': 15})], \n",
    "    [\n",
    "        (num_nodes+1, num_nodes+2),\n",
    "        (2,4),\n",
    "        (3,1)\n",
    "    ]\n",
    ")\n",
    "\n",
    "_assert_match(input_graph, 'X[attr]->Y[attr]', [{'X': {num_nodes+1}, 'Y': {num_nodes+2}}], plot=False)"
   ]
  },
  {
   "cell_type": "markdown",
   "metadata": {},
   "source": [
    "# Export"
   ]
  },
  {
   "cell_type": "code",
   "execution_count": 66,
   "metadata": {},
   "outputs": [],
   "source": [
    "#|hide\n",
    "import nbdev; nbdev.nbdev_export()\n",
    "     "
   ]
  },
  {
   "cell_type": "markdown",
   "metadata": {},
   "source": [
    "Collections Feature - Matcher Tests"
   ]
  },
  {
   "cell_type": "code",
   "execution_count": 67,
   "metadata": {},
   "outputs": [
    {
     "data": {
      "text/html": [
       "<img src=\"https://mermaid.ink/img/CmZsb3djaGFydCBUQgpKb2huWyJKb2huCnR5cGU9I3F1b3Q7c3R1ZGVudCNxdW90OywgZmFjdWx0eT0jcXVvdDtCaW9sb2d5I3F1b3Q7Il0KTHVjeVsiTHVjeQp0eXBlPSNxdW90O3N0dWRlbnQjcXVvdDssIGZhdWNsdHk9I3F1b3Q7Q1MjcXVvdDsiXQpBbXlbIkFteQp0eXBlPSNxdW90O3N0dWRlbnQjcXVvdDsiXQpBbGdvWyJBbGdvCnR5cGU9I3F1b3Q7Y291cnNlI3F1b3Q7LCB1bml0cz0zIl0KQUlbIkFJCnR5cGU9I3F1b3Q7Y291cnNlI3F1b3Q7LCB1bml0cz0zIl0KTkxQWyJOTFAKdHlwZT0jcXVvdDtjb3Vyc2UjcXVvdDssIHVuaXRzPTUiXQpEQlsiREIKdHlwZT0jcXVvdDtjb3Vyc2UjcXVvdDsiXQpCaW9bIkJpbwp0eXBlPSNxdW90O2NvdXJzZSNxdW90OyJdCkpvaG4gLS0+fCJzZW09MyJ8IEJpbwpMdWN5IC0tPnwic2VtPTUifCBBbGdvCkx1Y3kgLS0+fCJzZW09NyJ8IEFJCkFteSAtLT58InNlbT01InwgQWxnbwpBbGdvIC0tPiBBSQpBSSAtLT4gTkxQCg==\"/>"
      ],
      "text/plain": [
       "<IPython.core.display.Image object>"
      ]
     },
     "metadata": {},
     "output_type": "display_data"
    }
   ],
   "source": [
    "input_graph = _create_graph(\n",
    "    [\n",
    "        # Names\n",
    "        ('John', {'type': 'student', 'faculty': 'Biology'}),\n",
    "        ('Lucy', {'type': 'student', 'fauclty': 'CS'}),\n",
    "        ('Amy', {'type': 'student'}),\n",
    "        # Courses\n",
    "        ('Algo', {'type': 'course', 'units': 3}),\n",
    "        ('AI', {'type': 'course', 'units': 3}),\n",
    "        ('NLP', {'type': 'course', 'units': 5}),\n",
    "        ('DB', {'type': 'course'}),\n",
    "        ('Bio', {'type': 'course'})\n",
    "    ], \n",
    "    [\n",
    "        # Students take\n",
    "        ('John', 'Bio', {'sem': 3}),\n",
    "        ('Lucy', 'Algo', {'sem': 5}),\n",
    "        ('Lucy', 'AI', {'sem': 7}),\n",
    "        ('Amy', 'Algo', {'sem': 5}),\n",
    "        # KDAM\n",
    "        ('Algo', 'AI'),\n",
    "        ('AI', 'NLP'),\n",
    "    ]\n",
    ")\n",
    "draw(input_graph)"
   ]
  },
  {
   "cell_type": "code",
   "execution_count": 68,
   "metadata": {},
   "outputs": [
    {
     "name": "stderr",
     "output_type": "stream",
     "text": [
      "Input node o is mapped to multiple pattern nodes: {'s', 'c'}\n"
     ]
    },
    {
     "name": "stderr",
     "output_type": "stream",
     "text": [
      "Input node A is mapped to multiple pattern nodes: {'s', 'c'}\n"
     ]
    },
    {
     "name": "stdout",
     "output_type": "stream",
     "text": [
      "Plotting 5 matches:\n",
      "Plotting the match: {'c': {'AI'}, 's': {'Lucy'}}\n"
     ]
    },
    {
     "data": {
      "text/html": [
       "<img src=\"https://mermaid.ink/img/CmZsb3djaGFydCBUQgpKb2huWyJKb2huCnR5cGU9I3F1b3Q7c3R1ZGVudCNxdW90OywgZmFjdWx0eT0jcXVvdDtCaW9sb2d5I3F1b3Q7Il0KTHVjeVsiTHVjeShzKQp0eXBlPSNxdW90O3N0dWRlbnQjcXVvdDssIGZhdWNsdHk9I3F1b3Q7Q1MjcXVvdDsiXQpzdHlsZSBMdWN5IHN0cm9rZTpibHVlLHN0cm9rZS13aWR0aDo0cHg7CkFteVsiQW15CnR5cGU9I3F1b3Q7c3R1ZGVudCNxdW90OyJdCkFsZ29bIkFsZ28KdHlwZT0jcXVvdDtjb3Vyc2UjcXVvdDssIHVuaXRzPTMiXQpBSVsiQUkoYykKdHlwZT0jcXVvdDtjb3Vyc2UjcXVvdDssIHVuaXRzPTMiXQpzdHlsZSBBSSBzdHJva2U6Ymx1ZSxzdHJva2Utd2lkdGg6NHB4OwpOTFBbIk5MUAp0eXBlPSNxdW90O2NvdXJzZSNxdW90OywgdW5pdHM9NSJdCkRCWyJEQgp0eXBlPSNxdW90O2NvdXJzZSNxdW90OyJdCkJpb1siQmlvCnR5cGU9I3F1b3Q7Y291cnNlI3F1b3Q7Il0KSm9obiAtLT58InNlbT0zInwgQmlvCkx1Y3kgLS0+fCJzZW09NSJ8IEFsZ28KTHVjeSAtLT58InNlbT03InwgQUkKbGlua1N0eWxlIDIgc3Ryb2tlOmJsdWUsc3Ryb2tlLXdpZHRoOjRweDsKQW15IC0tPnwic2VtPTUifCBBbGdvCkFsZ28gLS0+IEFJCkFJIC0tPiBOTFAK\"/>"
      ],
      "text/plain": [
       "<IPython.core.display.Image object>"
      ]
     },
     "metadata": {},
     "output_type": "display_data"
    },
    {
     "name": "stdout",
     "output_type": "stream",
     "text": [
      "Plotting the match: {'c': {'DB'}}\n"
     ]
    },
    {
     "data": {
      "text/html": [
       "<img src=\"https://mermaid.ink/img/CmZsb3djaGFydCBUQgpKb2huWyJKb2huCnR5cGU9I3F1b3Q7c3R1ZGVudCNxdW90OywgZmFjdWx0eT0jcXVvdDtCaW9sb2d5I3F1b3Q7Il0KTHVjeVsiTHVjeQp0eXBlPSNxdW90O3N0dWRlbnQjcXVvdDssIGZhdWNsdHk9I3F1b3Q7Q1MjcXVvdDsiXQpBbXlbIkFteQp0eXBlPSNxdW90O3N0dWRlbnQjcXVvdDsiXQpBbGdvWyJBbGdvCnR5cGU9I3F1b3Q7Y291cnNlI3F1b3Q7LCB1bml0cz0zIl0KQUlbIkFJCnR5cGU9I3F1b3Q7Y291cnNlI3F1b3Q7LCB1bml0cz0zIl0KTkxQWyJOTFAKdHlwZT0jcXVvdDtjb3Vyc2UjcXVvdDssIHVuaXRzPTUiXQpEQlsiREIoYykKdHlwZT0jcXVvdDtjb3Vyc2UjcXVvdDsiXQpzdHlsZSBEQiBzdHJva2U6Ymx1ZSxzdHJva2Utd2lkdGg6NHB4OwpCaW9bIkJpbwp0eXBlPSNxdW90O2NvdXJzZSNxdW90OyJdCkpvaG4gLS0+fCJzZW09MyJ8IEJpbwpMdWN5IC0tPnwic2VtPTUifCBBbGdvCkx1Y3kgLS0+fCJzZW09NyJ8IEFJCkFteSAtLT58InNlbT01InwgQWxnbwpBbGdvIC0tPiBBSQpBSSAtLT4gTkxQCg==\"/>"
      ],
      "text/plain": [
       "<IPython.core.display.Image object>"
      ]
     },
     "metadata": {},
     "output_type": "display_data"
    },
    {
     "name": "stdout",
     "output_type": "stream",
     "text": [
      "Plotting the match: {'c': {'Bio'}, 's': {'John'}}\n"
     ]
    },
    {
     "data": {
      "text/html": [
       "<img src=\"https://mermaid.ink/img/CmZsb3djaGFydCBUQgpKb2huWyJKb2huKHMpCnR5cGU9I3F1b3Q7c3R1ZGVudCNxdW90OywgZmFjdWx0eT0jcXVvdDtCaW9sb2d5I3F1b3Q7Il0Kc3R5bGUgSm9obiBzdHJva2U6Ymx1ZSxzdHJva2Utd2lkdGg6NHB4OwpMdWN5WyJMdWN5CnR5cGU9I3F1b3Q7c3R1ZGVudCNxdW90OywgZmF1Y2x0eT0jcXVvdDtDUyNxdW90OyJdCkFteVsiQW15CnR5cGU9I3F1b3Q7c3R1ZGVudCNxdW90OyJdCkFsZ29bIkFsZ28KdHlwZT0jcXVvdDtjb3Vyc2UjcXVvdDssIHVuaXRzPTMiXQpBSVsiQUkKdHlwZT0jcXVvdDtjb3Vyc2UjcXVvdDssIHVuaXRzPTMiXQpOTFBbIk5MUAp0eXBlPSNxdW90O2NvdXJzZSNxdW90OywgdW5pdHM9NSJdCkRCWyJEQgp0eXBlPSNxdW90O2NvdXJzZSNxdW90OyJdCkJpb1siQmlvKGMpCnR5cGU9I3F1b3Q7Y291cnNlI3F1b3Q7Il0Kc3R5bGUgQmlvIHN0cm9rZTpibHVlLHN0cm9rZS13aWR0aDo0cHg7CkpvaG4gLS0+fCJzZW09MyJ8IEJpbwpsaW5rU3R5bGUgMCBzdHJva2U6Ymx1ZSxzdHJva2Utd2lkdGg6NHB4OwpMdWN5IC0tPnwic2VtPTUifCBBbGdvCkx1Y3kgLS0+fCJzZW09NyJ8IEFJCkFteSAtLT58InNlbT01InwgQWxnbwpBbGdvIC0tPiBBSQpBSSAtLT4gTkxQCg==\"/>"
      ],
      "text/plain": [
       "<IPython.core.display.Image object>"
      ]
     },
     "metadata": {},
     "output_type": "display_data"
    },
    {
     "name": "stdout",
     "output_type": "stream",
     "text": [
      "Plotting the match: {'c': {'Algo'}, 's': {'Lucy', 'Amy'}}\n"
     ]
    },
    {
     "data": {
      "text/html": [
       "<img src=\"https://mermaid.ink/img/CmZsb3djaGFydCBUQgpKb2huWyJKb2huCnR5cGU9I3F1b3Q7c3R1ZGVudCNxdW90OywgZmFjdWx0eT0jcXVvdDtCaW9sb2d5I3F1b3Q7Il0KTHVjeVsiTHVjeShzKQp0eXBlPSNxdW90O3N0dWRlbnQjcXVvdDssIGZhdWNsdHk9I3F1b3Q7Q1MjcXVvdDsiXQpzdHlsZSBMdWN5IHN0cm9rZTpibHVlLHN0cm9rZS13aWR0aDo0cHg7CkFteVsiQW15KHMpCnR5cGU9I3F1b3Q7c3R1ZGVudCNxdW90OyJdCnN0eWxlIEFteSBzdHJva2U6Ymx1ZSxzdHJva2Utd2lkdGg6NHB4OwpBbGdvWyJBbGdvKGMpCnR5cGU9I3F1b3Q7Y291cnNlI3F1b3Q7LCB1bml0cz0zIl0Kc3R5bGUgQWxnbyBzdHJva2U6Ymx1ZSxzdHJva2Utd2lkdGg6NHB4OwpBSVsiQUkKdHlwZT0jcXVvdDtjb3Vyc2UjcXVvdDssIHVuaXRzPTMiXQpOTFBbIk5MUAp0eXBlPSNxdW90O2NvdXJzZSNxdW90OywgdW5pdHM9NSJdCkRCWyJEQgp0eXBlPSNxdW90O2NvdXJzZSNxdW90OyJdCkJpb1siQmlvCnR5cGU9I3F1b3Q7Y291cnNlI3F1b3Q7Il0KSm9obiAtLT58InNlbT0zInwgQmlvCkx1Y3kgLS0+fCJzZW09NSJ8IEFsZ28KbGlua1N0eWxlIDEgc3Ryb2tlOmJsdWUsc3Ryb2tlLXdpZHRoOjRweDsKTHVjeSAtLT58InNlbT03InwgQUkKQW15IC0tPnwic2VtPTUifCBBbGdvCmxpbmtTdHlsZSAzIHN0cm9rZTpibHVlLHN0cm9rZS13aWR0aDo0cHg7CkFsZ28gLS0+IEFJCkFJIC0tPiBOTFAK\"/>"
      ],
      "text/plain": [
       "<IPython.core.display.Image object>"
      ]
     },
     "metadata": {},
     "output_type": "display_data"
    },
    {
     "name": "stdout",
     "output_type": "stream",
     "text": [
      "Plotting the match: {'c': {'NLP'}}\n"
     ]
    },
    {
     "data": {
      "text/html": [
       "<img src=\"https://mermaid.ink/img/CmZsb3djaGFydCBUQgpKb2huWyJKb2huCnR5cGU9I3F1b3Q7c3R1ZGVudCNxdW90OywgZmFjdWx0eT0jcXVvdDtCaW9sb2d5I3F1b3Q7Il0KTHVjeVsiTHVjeQp0eXBlPSNxdW90O3N0dWRlbnQjcXVvdDssIGZhdWNsdHk9I3F1b3Q7Q1MjcXVvdDsiXQpBbXlbIkFteQp0eXBlPSNxdW90O3N0dWRlbnQjcXVvdDsiXQpBbGdvWyJBbGdvCnR5cGU9I3F1b3Q7Y291cnNlI3F1b3Q7LCB1bml0cz0zIl0KQUlbIkFJCnR5cGU9I3F1b3Q7Y291cnNlI3F1b3Q7LCB1bml0cz0zIl0KTkxQWyJOTFAoYykKdHlwZT0jcXVvdDtjb3Vyc2UjcXVvdDssIHVuaXRzPTUiXQpzdHlsZSBOTFAgc3Ryb2tlOmJsdWUsc3Ryb2tlLXdpZHRoOjRweDsKREJbIkRCCnR5cGU9I3F1b3Q7Y291cnNlI3F1b3Q7Il0KQmlvWyJCaW8KdHlwZT0jcXVvdDtjb3Vyc2UjcXVvdDsiXQpKb2huIC0tPnwic2VtPTMifCBCaW8KTHVjeSAtLT58InNlbT01InwgQWxnbwpMdWN5IC0tPnwic2VtPTcifCBBSQpBbXkgLS0+fCJzZW09NSJ8IEFsZ28KQWxnbyAtLT4gQUkKQUkgLS0+IE5MUAo=\"/>"
      ],
      "text/plain": [
       "<IPython.core.display.Image object>"
      ]
     },
     "metadata": {},
     "output_type": "display_data"
    }
   ],
   "source": [
    "# For each course, find the students that took it\n",
    "_assert_match(input_graph, 'c[type=\"course\"];s[type=\"student\"]->c', [{'c': {'AI'}, 's': {'Lucy'}},{'c': {'Bio'}, 's': {'John'}},{'c': {'Algo'}, 's': {'Amy', 'Lucy'}}, {'c': {'DB'}},{'c': {'NLP'}}])"
   ]
  }
 ],
 "metadata": {
  "kernelspec": {
   "display_name": "base",
   "language": "python",
   "name": "python3"
  },
  "language_info": {
   "codemirror_mode": {
    "name": "ipython",
    "version": 3
   },
   "file_extension": ".py",
   "mimetype": "text/x-python",
   "name": "python",
   "nbconvert_exporter": "python",
   "pygments_lexer": "ipython3",
   "version": "3.9.15"
  }
 },
 "nbformat": 4,
 "nbformat_minor": 2
}
