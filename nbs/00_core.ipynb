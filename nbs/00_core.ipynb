{
 "cells": [
  {
   "attachments": {},
   "cell_type": "markdown",
   "metadata": {},
   "source": [
    "# Core"
   ]
  },
  {
   "cell_type": "code",
   "execution_count": null,
   "metadata": {},
   "outputs": [],
   "source": [
    "#| default_exp core\n",
    "%load_ext autoreload\n",
    "%autoreload 2"
   ]
  },
  {
   "attachments": {},
   "cell_type": "markdown",
   "metadata": {},
   "source": [
    "### Overview\n",
    "This basic module contains useful utility functions for other modules, as well as the defintion of the library's exceptions class."
   ]
  },
  {
   "attachments": {},
   "cell_type": "markdown",
   "metadata": {},
   "source": [
    "### Requirements"
   ]
  },
  {
   "cell_type": "code",
   "execution_count": null,
   "metadata": {},
   "outputs": [],
   "source": [
    "#| export\n",
    "from networkx import DiGraph, planar_layout, spring_layout, draw_networkx_nodes, draw_networkx_labels, draw_networkx_edges\n",
    "import matplotlib.pyplot as plt\n",
    "import pandas as pd\n",
    "from IPython.display import display\n",
    "from typing import *"
   ]
  },
  {
   "attachments": {},
   "cell_type": "markdown",
   "metadata": {},
   "source": [
    "### GraphRewriteException\n",
    "Exceptions in our library modules will be defined by this exceptions class."
   ]
  },
  {
   "cell_type": "code",
   "execution_count": null,
   "metadata": {},
   "outputs": [],
   "source": [
    "#| export\n",
    "class GraphRewriteException(Exception):\n",
    "    \"\"\"Exception class for the graph_rewrite library.\"\"\"\n",
    "    def __init__(self, msg: str):\n",
    "        self.message = msg\n",
    "        super().__init__(msg)\n",
    "    pass"
   ]
  },
  {
   "attachments": {},
   "cell_type": "markdown",
   "metadata": {},
   "source": [
    "### Test Utilities\n",
    "In our modules, we construct different graphs for testing and explanations. The following functions provide ways to construct the graphs as NetworkX DiGraphs - similarily to the graphs used in this library as input and output  - plot them and compare them."
   ]
  },
  {
   "attachments": {},
   "cell_type": "markdown",
   "metadata": {},
   "source": [
    "#### Graph Construction\n",
    "We want to allow constructing new DiGraph's based on lists of nodes and edges. Begin by defining the allowed types for node and edge names, based on NetworkX's restrictions:"
   ]
  },
  {
   "cell_type": "code",
   "execution_count": null,
   "metadata": {},
   "outputs": [],
   "source": [
    "#| export\n",
    "NodeName = str\n",
    "# When defining an edge, the first node is the source and the second is the target (as we use directed graphs).\n",
    "EdgeName = Tuple[NodeName, NodeName]"
   ]
  },
  {
   "attachments": {},
   "cell_type": "markdown",
   "metadata": {},
   "source": [
    "Now, we can construct new graphs out of nodes/edges lists:"
   ]
  },
  {
   "cell_type": "code",
   "execution_count": null,
   "metadata": {},
   "outputs": [],
   "source": [
    "#| export\n",
    "def _create_graph(nodes: list[Union[NodeName, Tuple[NodeName, dict]]], edges: list[Union[EdgeName, Tuple[NodeName, NodeName, dict]]]) -> DiGraph:\n",
    "    \"\"\"Construct a directed graph (NetworkX DiGraph) out of lists of nodes and edges.\n",
    "\n",
    "    Args:\n",
    "        nodes (list[Union[NodeName, Tuple[NodeName, dict]]]): \n",
    "            a list of node names (with or without attributes). e.g., ['A', 'B', (1, {'attr': 5}), 2].\n",
    "        edges (list[Union[EdgeName, Tuple[NodeName, NodeName, dict]]]):\n",
    "            a list of edges, each defined by a tuple of two node names (source, target), perhaps with attributes added.\n",
    "            e.g., [('A','B'), (1,'A', {'attr': 5})].\n",
    "\n",
    "    Returns:\n",
    "        DiGraph: the newly constructed DiGraph.\n",
    "    \"\"\"\n",
    "    g = DiGraph()\n",
    "    g.add_nodes_from(nodes)\n",
    "    g.add_edges_from(edges)\n",
    "    return g"
   ]
  },
  {
   "attachments": {},
   "cell_type": "markdown",
   "metadata": {},
   "source": [
    "#### Graph Plotting\n",
    "We will use the following constants when plotting graphs in the modules:"
   ]
  },
  {
   "cell_type": "code",
   "execution_count": null,
   "metadata": {},
   "outputs": [],
   "source": [
    "#| export\n",
    "plot_consts = {\n",
    "    \"node_size\": 300,\n",
    "    \"node_color\": 'g',\n",
    "    # Highlighted nodes can have different colors\n",
    "    \"hl_node_color\": 'r',\n",
    "\n",
    "    \"font_size\": 7,\n",
    "    \"font_color\": 'w',\n",
    "\n",
    "    \"arrow_size\": 10,\n",
    "    \"edge_color\": 'k',\n",
    "    \"edge_width\": 1,\n",
    "    # Highlighted edges can have different colors\n",
    "    \"hl_edge_color\": 'r',\n",
    "    \"hl_edge_width\": 2,\n",
    "\n",
    "    # The plotter has some optional layouting modes, we choose one here\n",
    "    \"layouting_method\": planar_layout\n",
    "}"
   ]
  },
  {
   "attachments": {},
   "cell_type": "markdown",
   "metadata": {},
   "source": [
    "The following function allows plotting graphs, as well as highlighting a subset of nods and edges if desired:"
   ]
  },
  {
   "cell_type": "code",
   "execution_count": null,
   "metadata": {},
   "outputs": [],
   "source": [
    "#| export\n",
    "def _plot_graph(g: DiGraph, hl_nodes: set[NodeName] = set(), hl_edges: set[EdgeName] = set(), node_attrs: bool = False, edge_attrs: bool = False):\n",
    "    \"\"\"Plot a graph, and potentially highlight certain nodes and edges.\n",
    "\n",
    "    Args:\n",
    "        g (DiGraph): a graph to plot\n",
    "        hl_nodes (set[NodeName], optional): set of node names to highlight. Defaults to set().\n",
    "        hl_edges (set[EdgeName], optional): set of edge names to highlight. Defaults to set().\n",
    "        node_attrs (bool, optional): If true, print node attributes. Defaults to False.\n",
    "        edge_attrs (bool, optional): If true, print edge attributes. Defaults to False.\n",
    "    \"\"\"\n",
    "    global plot_consts\n",
    "\n",
    "    # Seperate highlighted nodes and edges, remove if doesn't exist in the graph g\n",
    "    hl_nodes = [node for node in g.nodes() if node in hl_nodes]\n",
    "    non_hl_nodes = [node for node in g.nodes() if node not in hl_nodes]\n",
    "    hl_edges = [edge for edge in g.edges() if edge in hl_edges]\n",
    "    non_hl_edges = [edge for edge in g.edges() if edge not in hl_edges]\n",
    "\n",
    "    # plotting\n",
    "    for layout in [plot_consts[\"layouting_method\"], spring_layout]:\n",
    "        try:\n",
    "            pos = layout(g)\n",
    "            draw_networkx_nodes(g, pos, nodelist=non_hl_nodes, node_size=plot_consts[\"node_size\"], \n",
    "                                node_color=plot_consts[\"node_color\"])\n",
    "            draw_networkx_nodes(g, pos, nodelist=hl_nodes, node_size=plot_consts[\"node_size\"], \n",
    "                                node_color=plot_consts[\"hl_node_color\"])\n",
    "            draw_networkx_labels(g, pos, font_size=plot_consts[\"font_size\"], font_color=plot_consts[\"font_color\"])\n",
    "            draw_networkx_edges(g, pos, edgelist=non_hl_edges, arrowsize=plot_consts[\"arrow_size\"], \n",
    "                                node_size=plot_consts[\"node_size\"], edge_color=plot_consts[\"edge_color\"], width=plot_consts[\"edge_width\"])\n",
    "            draw_networkx_edges(g, pos, edgelist=hl_edges, arrowsize=plot_consts[\"arrow_size\"], node_size=plot_consts[\"node_size\"],\n",
    "                                 edge_color=plot_consts[\"hl_edge_color\"], width=plot_consts[\"hl_edge_width\"])\n",
    "            \n",
    "            if node_attrs:\n",
    "                display(pd.DataFrame([[attrs] for _, attrs in g.nodes(data=True)], \n",
    "                                    columns = ['Attributes'], \n",
    "                                    index=[node for node, _ in g.nodes(data=True)])\n",
    "                            .style.set_properties(**{'text-align': 'left', 'max_colwidth': None})\n",
    "                            .set_table_styles([dict(selector = 'th', props=[('text-align', 'left')])]))\n",
    "\n",
    "            if edge_attrs:\n",
    "                display(pd.DataFrame([[attrs] for _, _, attrs in g.edges(data=True)], \n",
    "                                    columns = ['Attributes'], \n",
    "                                    index=[f'({src}, {dst})' for src, dst, _ in g.edges(data=True)])\n",
    "                            .style.set_properties(**{'text-align': 'left', 'max_colwidth': None})\n",
    "                            .set_table_styles([dict(selector = 'th', props=[('text-align', 'left')])]))\n",
    "            \n",
    "            return\n",
    "        except:\n",
    "            print(\"Graph isn't planar, priniting in spring layout mode.\")"
   ]
  },
  {
   "cell_type": "markdown",
   "metadata": {},
   "source": [
    "#### Graph Comparison"
   ]
  },
  {
   "cell_type": "code",
   "execution_count": null,
   "metadata": {},
   "outputs": [],
   "source": [
    "#| export\n",
    "def _graphs_equal(graph1: DiGraph, graph2: DiGraph) -> bool:  \n",
    "    \"\"\"Compare two graphs - nodes, edges and attributes.\n",
    "\n",
    "    Args:\n",
    "        graph1 (DiGraph): A NetworkX graph\n",
    "        graph2 (DiGraph): A NetworkX graph\n",
    "\n",
    "    Returns:\n",
    "        bool: True if the graphs are equal, False otherwise.\n",
    "    \"\"\"\n",
    "\n",
    "    # Compare node attributes\n",
    "    for node in graph1.nodes():\n",
    "        if node not in graph2.nodes():\n",
    "            return False\n",
    "\n",
    "        attributes1 = graph1.nodes[node]\n",
    "        attributes2 = graph2.nodes[node]\n",
    "\n",
    "        if attributes1 != attributes2:\n",
    "            return False\n",
    "\n",
    "    # Compare edge attributes\n",
    "    for edge in graph1.edges():\n",
    "        if edge not in graph2.edges():\n",
    "            return False\n",
    "\n",
    "        attributes1 = graph1.edges[edge]\n",
    "        attributes2 = graph2.edges[edge]\n",
    "\n",
    "        if attributes1 != attributes2:\n",
    "            return False\n",
    "        \n",
    "    # Compare graph structures\n",
    "    #graph_structure_equal = nx.is_isomorphic(graph1, graph2)\n",
    "    return True"
   ]
  },
  {
   "cell_type": "markdown",
   "metadata": {},
   "source": [
    "#### Usage Example"
   ]
  },
  {
   "attachments": {},
   "cell_type": "markdown",
   "metadata": {},
   "source": [
    "We can use these utility functions as follows:"
   ]
  },
  {
   "cell_type": "code",
   "execution_count": null,
   "metadata": {},
   "outputs": [
    {
     "name": "stderr",
     "output_type": "stream",
     "text": [
      "/tmp/ipykernel_6633/3793053723.py:31: DeprecationWarning: `alltrue` is deprecated as of NumPy 1.25.0, and will be removed in NumPy 2.0. Please use `all` instead.\n",
      "  draw_networkx_edges(g, pos, edgelist=hl_edges, arrowsize=plot_consts[\"arrow_size\"], node_size=plot_consts[\"node_size\"],\n"
     ]
    },
    {
     "data": {
      "text/html": [
       "<style type=\"text/css\">\n",
       "#T_c6baf th {\n",
       "  text-align: left;\n",
       "}\n",
       "#T_c6baf_row0_col0, #T_c6baf_row1_col0, #T_c6baf_row2_col0, #T_c6baf_row3_col0 {\n",
       "  text-align: left;\n",
       "  max_colwidth: None;\n",
       "}\n",
       "</style>\n",
       "<table id=\"T_c6baf\">\n",
       "  <thead>\n",
       "    <tr>\n",
       "      <th class=\"blank level0\" >&nbsp;</th>\n",
       "      <th id=\"T_c6baf_level0_col0\" class=\"col_heading level0 col0\" >Attributes</th>\n",
       "    </tr>\n",
       "  </thead>\n",
       "  <tbody>\n",
       "    <tr>\n",
       "      <th id=\"T_c6baf_level0_row0\" class=\"row_heading level0 row0\" >A</th>\n",
       "      <td id=\"T_c6baf_row0_col0\" class=\"data row0 col0\" >{'attr_a': 'a'}</td>\n",
       "    </tr>\n",
       "    <tr>\n",
       "      <th id=\"T_c6baf_level0_row1\" class=\"row_heading level0 row1\" >B</th>\n",
       "      <td id=\"T_c6baf_row1_col0\" class=\"data row1 col0\" >{}</td>\n",
       "    </tr>\n",
       "    <tr>\n",
       "      <th id=\"T_c6baf_level0_row2\" class=\"row_heading level0 row2\" >C</th>\n",
       "      <td id=\"T_c6baf_row2_col0\" class=\"data row2 col0\" >{}</td>\n",
       "    </tr>\n",
       "    <tr>\n",
       "      <th id=\"T_c6baf_level0_row3\" class=\"row_heading level0 row3\" >D</th>\n",
       "      <td id=\"T_c6baf_row3_col0\" class=\"data row3 col0\" >{}</td>\n",
       "    </tr>\n",
       "  </tbody>\n",
       "</table>\n"
      ],
      "text/plain": [
       "<pandas.io.formats.style.Styler>"
      ]
     },
     "metadata": {},
     "output_type": "display_data"
    },
    {
     "data": {
      "text/html": [
       "<style type=\"text/css\">\n",
       "#T_a0a0d th {\n",
       "  text-align: left;\n",
       "}\n",
       "#T_a0a0d_row0_col0, #T_a0a0d_row1_col0, #T_a0a0d_row2_col0, #T_a0a0d_row3_col0 {\n",
       "  text-align: left;\n",
       "  max_colwidth: None;\n",
       "}\n",
       "</style>\n",
       "<table id=\"T_a0a0d\">\n",
       "  <thead>\n",
       "    <tr>\n",
       "      <th class=\"blank level0\" >&nbsp;</th>\n",
       "      <th id=\"T_a0a0d_level0_col0\" class=\"col_heading level0 col0\" >Attributes</th>\n",
       "    </tr>\n",
       "  </thead>\n",
       "  <tbody>\n",
       "    <tr>\n",
       "      <th id=\"T_a0a0d_level0_row0\" class=\"row_heading level0 row0\" >(A, B)</th>\n",
       "      <td id=\"T_a0a0d_row0_col0\" class=\"data row0 col0\" >{}</td>\n",
       "    </tr>\n",
       "    <tr>\n",
       "      <th id=\"T_a0a0d_level0_row1\" class=\"row_heading level0 row1\" >(A, C)</th>\n",
       "      <td id=\"T_a0a0d_row1_col0\" class=\"data row1 col0\" >{'attr_ac': 'ac'}</td>\n",
       "    </tr>\n",
       "    <tr>\n",
       "      <th id=\"T_a0a0d_level0_row2\" class=\"row_heading level0 row2\" >(C, C)</th>\n",
       "      <td id=\"T_a0a0d_row2_col0\" class=\"data row2 col0\" >{}</td>\n",
       "    </tr>\n",
       "    <tr>\n",
       "      <th id=\"T_a0a0d_level0_row3\" class=\"row_heading level0 row3\" >(C, A)</th>\n",
       "      <td id=\"T_a0a0d_row3_col0\" class=\"data row3 col0\" >{}</td>\n",
       "    </tr>\n",
       "  </tbody>\n",
       "</table>\n"
      ],
      "text/plain": [
       "<pandas.io.formats.style.Styler>"
      ]
     },
     "metadata": {},
     "output_type": "display_data"
    },
    {
     "data": {
      "image/png": "[encoded data removed]",
      "text/plain": [
       "<Figure size 640x480 with 1 Axes>"
      ]
     },
     "metadata": {},
     "output_type": "display_data"
    }
   ],
   "source": [
    "input_g = _create_graph(\n",
    "    [('A', {'attr_a': 'a'}),'B','C','D'], \n",
    "    [\n",
    "        ('A','B'),\n",
    "        ('A','C', {'attr_ac': 'ac'}),\n",
    "        ('C', 'C'),\n",
    "        ('A', 'C'),\n",
    "        ('C', 'A')\n",
    "    ]\n",
    ")\n",
    "_plot_graph(input_g, hl_nodes=['A','B'], hl_edges=[('A','B')], node_attrs=True, edge_attrs=True)"
   ]
  }
 ],
 "metadata": {
  "kernelspec": {
   "display_name": "python3",
   "language": "python",
   "name": "python3"
  }
 },
 "nbformat": 4,
 "nbformat_minor": 4
}
