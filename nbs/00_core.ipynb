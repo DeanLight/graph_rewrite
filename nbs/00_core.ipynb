{
 "cells": [
  {
   "attachments": {},
   "cell_type": "markdown",
   "metadata": {},
   "source": [
    "# Core"
   ]
  },
  {
   "cell_type": "code",
   "execution_count": null,
   "metadata": {},
   "outputs": [],
   "source": [
    "#| default_exp core"
   ]
  },
  {
   "cell_type": "code",
   "execution_count": null,
   "metadata": {},
   "outputs": [],
   "source": [
    "#| hide\n",
    "from nbdev.showdoc import show_doc\n",
    "%load_ext autoreload\n",
    "%autoreload 2"
   ]
  },
  {
   "attachments": {},
   "cell_type": "markdown",
   "metadata": {},
   "source": [
    "### Overview\n",
    "This basic module contains useful utility functions for other modules, as well as the defintion of the library's exceptions class."
   ]
  },
  {
   "attachments": {},
   "cell_type": "markdown",
   "metadata": {},
   "source": [
    "### Requirements"
   ]
  },
  {
   "cell_type": "code",
   "execution_count": null,
   "metadata": {},
   "outputs": [],
   "source": [
    "#| export\n",
    "from pathlib import Path\n",
    "\n",
    "import networkx as nx\n",
    "from networkx import DiGraph, planar_layout, spring_layout, draw_networkx_nodes, draw_networkx_labels, draw_networkx_edges\n",
    "\n",
    "import html\n",
    "import pandas as pd\n",
    "\n",
    "from IPython.display import display\n",
    "from typing import *\n",
    "\n",
    "from jinja2 import Template, Environment, PackageLoader, meta\n"
   ]
  },
  {
   "attachments": {},
   "cell_type": "markdown",
   "metadata": {},
   "source": [
    "### GraphRewriteException\n",
    "Exceptions in our library modules will be defined by this exceptions class."
   ]
  },
  {
   "cell_type": "code",
   "execution_count": null,
   "metadata": {},
   "outputs": [],
   "source": [
    "#| export\n",
    "class GraphRewriteException(Exception):\n",
    "    \"\"\"Exception class for the graph_rewrite library.\"\"\"\n",
    "    def __init__(self, msg: str):\n",
    "        self.message = msg\n",
    "        super().__init__(msg)\n",
    "    pass"
   ]
  },
  {
   "attachments": {},
   "cell_type": "markdown",
   "metadata": {},
   "source": [
    "### Test Utilities\n",
    "In our modules, we construct different graphs for testing and explanations. The following functions provide ways to construct the graphs as NetworkX DiGraphs - similarily to the graphs used in this library as input and output  - plot them and compare them."
   ]
  },
  {
   "attachments": {},
   "cell_type": "markdown",
   "metadata": {},
   "source": [
    "#### Graph Construction\n",
    "We want to allow constructing new DiGraph's based on lists of nodes and edges. Begin by defining the allowed types for node and edge names, based on NetworkX's restrictions:"
   ]
  },
  {
   "cell_type": "code",
   "execution_count": null,
   "metadata": {},
   "outputs": [],
   "source": [
    "#| export\n",
    "NodeName = str\n",
    "# When defining an edge, the first node is the source and the second is the target (as we use directed graphs).\n",
    "EdgeName = Tuple[NodeName, NodeName]"
   ]
  },
  {
   "attachments": {},
   "cell_type": "markdown",
   "metadata": {},
   "source": [
    "Now, we can construct new graphs out of nodes/edges lists:"
   ]
  },
  {
   "cell_type": "code",
   "execution_count": null,
   "metadata": {},
   "outputs": [],
   "source": [
    "#| export\n",
    "def _create_graph(nodes: list[Union[NodeName, Tuple[NodeName, dict]]], edges: list[Union[EdgeName, Tuple[NodeName, NodeName, dict]]]) -> DiGraph:\n",
    "    \"\"\"Construct a directed graph (NetworkX DiGraph) out of lists of nodes and edges.\n",
    "\n",
    "    Args:\n",
    "        nodes (list[Union[NodeName, Tuple[NodeName, dict]]]): \n",
    "            a list of node names (with or without attributes). e.g., ['A', 'B', (1, {'attr': 5}), 2].\n",
    "        edges (list[Union[EdgeName, Tuple[NodeName, NodeName, dict]]]):\n",
    "            a list of edges, each defined by a tuple of two node names (source, target), perhaps with attributes added.\n",
    "            e.g., [('A','B'), (1,'A', {'attr': 5})].\n",
    "\n",
    "    Returns:\n",
    "        DiGraph: the newly constructed DiGraph.\n",
    "    \"\"\"\n",
    "    g = DiGraph()\n",
    "    g.add_nodes_from(nodes)\n",
    "    g.add_edges_from(edges)\n",
    "    return g"
   ]
  },
  {
   "attachments": {},
   "cell_type": "markdown",
   "metadata": {},
   "source": [
    "#### Graph Plotting\n",
    "We will use the following constants when plotting graphs in the modules:"
   ]
  },
  {
   "cell_type": "code",
   "execution_count": null,
   "metadata": {},
   "outputs": [],
   "source": [
    "#| export\n",
    "plot_consts = {\n",
    "    \"node_size\": 300,\n",
    "    \"node_color\": 'g',\n",
    "    # Highlighted nodes can have different colors\n",
    "    \"hl_node_color\": 'r',\n",
    "\n",
    "    \"font_size\": 7,\n",
    "    \"font_color\": 'w',\n",
    "\n",
    "    \"arrow_size\": 10,\n",
    "    \"edge_color\": 'k',\n",
    "    \"edge_width\": 1,\n",
    "    # Highlighted edges can have different colors\n",
    "    \"hl_edge_color\": 'r',\n",
    "    \"hl_edge_width\": 2,\n",
    "\n",
    "    # The plotter has some optional layouting modes, we choose one here\n",
    "    \"layouting_method\": planar_layout\n",
    "}"
   ]
  },
  {
   "attachments": {},
   "cell_type": "markdown",
   "metadata": {},
   "source": [
    "The following function allows plotting graphs, as well as highlighting a subset of nods and edges if desired:"
   ]
  },
  {
   "cell_type": "code",
   "execution_count": null,
   "metadata": {},
   "outputs": [],
   "source": [
    "#| export\n",
    "def _plot_graph(g: DiGraph, hl_nodes: set[NodeName] = set(), hl_edges: set[EdgeName] = set(), node_attrs: bool = False, edge_attrs: bool = False):\n",
    "    \"\"\"Plot a graph, and potentially highlight certain nodes and edges.\n",
    "\n",
    "    Args:\n",
    "        g (DiGraph): a graph to plot\n",
    "        hl_nodes (set[NodeName], optional): set of node names to highlight. Defaults to set().\n",
    "        hl_edges (set[EdgeName], optional): set of edge names to highlight. Defaults to set().\n",
    "        node_attrs (bool, optional): If true, print node attributes. Defaults to False.\n",
    "        edge_attrs (bool, optional): If true, print edge attributes. Defaults to False.\n",
    "    \"\"\"\n",
    "    global plot_consts\n",
    "\n",
    "    # Seperate highlighted nodes and edges, remove if doesn't exist in the graph g\n",
    "    hl_nodes = [node for node in g.nodes() if node in hl_nodes]\n",
    "    non_hl_nodes = [node for node in g.nodes() if node not in hl_nodes]\n",
    "    hl_edges = [edge for edge in g.edges() if edge in hl_edges]\n",
    "    non_hl_edges = [edge for edge in g.edges() if edge not in hl_edges]\n",
    "\n",
    "    # plotting\n",
    "    for layout in [plot_consts[\"layouting_method\"], spring_layout]:\n",
    "        try:\n",
    "            pos = layout(g)\n",
    "            draw_networkx_nodes(g, pos, nodelist=non_hl_nodes, node_size=plot_consts[\"node_size\"], \n",
    "                                node_color=plot_consts[\"node_color\"])\n",
    "            draw_networkx_nodes(g, pos, nodelist=hl_nodes, node_size=plot_consts[\"node_size\"], \n",
    "                                node_color=plot_consts[\"hl_node_color\"])\n",
    "            draw_networkx_labels(g, pos, font_size=plot_consts[\"font_size\"], font_color=plot_consts[\"font_color\"])\n",
    "            draw_networkx_edges(g, pos, edgelist=non_hl_edges, arrowsize=plot_consts[\"arrow_size\"], \n",
    "                                node_size=plot_consts[\"node_size\"], edge_color=plot_consts[\"edge_color\"], width=plot_consts[\"edge_width\"])\n",
    "            draw_networkx_edges(g, pos, edgelist=hl_edges, arrowsize=plot_consts[\"arrow_size\"], node_size=plot_consts[\"node_size\"],\n",
    "                                 edge_color=plot_consts[\"hl_edge_color\"], width=plot_consts[\"hl_edge_width\"])\n",
    "            \n",
    "            if node_attrs:\n",
    "                display(pd.DataFrame([[attrs] for _, attrs in g.nodes(data=True)], \n",
    "                                    columns = ['Attributes'], \n",
    "                                    index=[node for node, _ in g.nodes(data=True)])\n",
    "                            .style.set_properties(**{'text-align': 'left', 'max_colwidth': None})\n",
    "                            .set_table_styles([dict(selector = 'th', props=[('text-align', 'left')])]))\n",
    "\n",
    "            if edge_attrs:\n",
    "                display(pd.DataFrame([[attrs] for _, _, attrs in g.edges(data=True)], \n",
    "                                    columns = ['Attributes'], \n",
    "                                    index=[f'({src}, {dst})' for src, dst, _ in g.edges(data=True)])\n",
    "                            .style.set_properties(**{'text-align': 'left', 'max_colwidth': None})\n",
    "                            .set_table_styles([dict(selector = 'th', props=[('text-align', 'left')])]))\n",
    "            \n",
    "            return\n",
    "        except:\n",
    "            print(\"Graph isn't planar, priniting in spring layout mode.\")"
   ]
  },
  {
   "cell_type": "markdown",
   "metadata": {},
   "source": [
    "#### Graph Comparison"
   ]
  },
  {
   "cell_type": "code",
   "execution_count": null,
   "metadata": {},
   "outputs": [],
   "source": [
    "#| export\n",
    "def _graphs_equal(graph1: DiGraph, graph2: DiGraph) -> bool:  \n",
    "    \"\"\"Compare two graphs - nodes, edges and attributes.\n",
    "\n",
    "    Args:\n",
    "        graph1 (DiGraph): A NetworkX graph\n",
    "        graph2 (DiGraph): A NetworkX graph\n",
    "\n",
    "    Returns:\n",
    "        bool: True if the graphs are equal, False otherwise.\n",
    "    \"\"\"\n",
    "\n",
    "    # Compare node attributes\n",
    "    for node in graph1.nodes():\n",
    "        if node not in graph2.nodes():\n",
    "            return False\n",
    "\n",
    "        attributes1 = graph1.nodes[node]\n",
    "        attributes2 = graph2.nodes[node]\n",
    "\n",
    "        if attributes1 != attributes2:\n",
    "            return False\n",
    "\n",
    "    # Compare edge attributes\n",
    "    for edge in graph1.edges():\n",
    "        if edge not in graph2.edges():\n",
    "            return False\n",
    "\n",
    "        attributes1 = graph1.edges[edge]\n",
    "        attributes2 = graph2.edges[edge]\n",
    "\n",
    "        if attributes1 != attributes2:\n",
    "            return False\n",
    "        \n",
    "    # Compare graph structures\n",
    "    #graph_structure_equal = nx.is_isomorphic(graph1, graph2)\n",
    "    return True"
   ]
  },
  {
   "cell_type": "markdown",
   "metadata": {},
   "source": [
    "### jinja2 rendering "
   ]
  },
  {
   "cell_type": "code",
   "execution_count": null,
   "metadata": {},
   "outputs": [],
   "source": [
    "#| export\n",
    "\n",
    "def template_undeclared_vars(template):\n",
    "    \"\"\"Computes all undeclared vars in a jinja template\n",
    "\n",
    "    Args:\n",
    "        template (Path or str): Path to file of template or string with the template content\n",
    "\n",
    "    Returns:\n",
    "        set: set of all undeclared vars\n",
    "    \"\"\"\n",
    "    if isinstance(template, Path):\n",
    "        template = template.read_text()\n",
    "    env = Environment()\n",
    "    parsed_content = env.parse(template)\n",
    "    return meta.find_undeclared_variables(parsed_content)\n",
    "\n",
    "def render_jinja(template, params: dict, silent=True, to_file: Path = None):\n",
    "    \"\"\"renders a jinja template\n",
    "\n",
    "    Args:\n",
    "        template (Path or str): Path to file of template or string with the template content\n",
    "        params (Dict): parameter dictionary with the variables to render into the template\n",
    "        silent (Bool, Optional): Whether to print the rendered template to screen, defaults to False\n",
    "        to_file (Path, Optional): If a path is supplied, prints the template to the file of said path\n",
    "\n",
    "    Returns:\n",
    "        set: set of all undeclared vars\n",
    "    \"\"\"\n",
    "    if isinstance(template, Path):\n",
    "        template = template.read_text()\n",
    "    instance_str = Template(template).render(**params)\n",
    "\n",
    "    if not silent:\n",
    "        print(instance_str)\n",
    "\n",
    "    if to_file:\n",
    "        to_file.write_text(instance_str)\n",
    "        return None\n",
    "    else:\n",
    "        return instance_str\n",
    "    "
   ]
  },
  {
   "cell_type": "markdown",
   "metadata": {},
   "source": [
    "## Viz"
   ]
  },
  {
   "cell_type": "code",
   "execution_count": null,
   "metadata": {},
   "outputs": [],
   "source": [
    "#| export \n",
    "\n",
    "# visualizing the graph\n",
    "import base64\n",
    "from IPython.display import Image, display"
   ]
  },
  {
   "cell_type": "markdown",
   "metadata": {},
   "source": [
    "## mermaid"
   ]
  },
  {
   "cell_type": "code",
   "execution_count": null,
   "metadata": {},
   "outputs": [],
   "source": [
    "#| export\n",
    "def mm_ink(graphbytes):\n",
    "    \"\"\"Given a bytes object holding a Mermaid-format graph, return a URL that will generate the image.\"\"\"\n",
    "    base64_bytes = base64.b64encode(graphbytes)\n",
    "    base64_string = base64_bytes.decode(\"ascii\")\n",
    "    return \"https://mermaid.ink/img/\" + base64_string\n",
    "\n",
    "\n",
    "def mm_display(graphbytes):\n",
    "    \"\"\"Given a bytes object holding a Mermaid-format graph, display it.\"\"\"\n",
    "    display(Image(url=mm_ink(graphbytes)))\n",
    "\n",
    "\n",
    "def mm(graph):\n",
    "    \"\"\"Given a string containing a Mermaid-format graph, display it.\"\"\"\n",
    "    graphbytes = graph.encode(\"ascii\")\n",
    "    mm_display(graphbytes)\n",
    "\n",
    "\n",
    "def mm_link(graph):\n",
    "    \"\"\"Given a string containing a Mermaid-format graph, return URL for display.\"\"\"\n",
    "    graphbytes = graph.encode(\"ascii\")\n",
    "    return mm_ink(graphbytes)\n",
    "\n",
    "\n",
    "def mm_path(path):\n",
    "    \"\"\"Given a path to a file containing a Mermaid-format graph, display it\"\"\"\n",
    "    with open(path, \"rb\") as f:\n",
    "        graphbytes = f.read()\n",
    "    mm_display(graphbytes)"
   ]
  },
  {
   "cell_type": "code",
   "execution_count": null,
   "metadata": {},
   "outputs": [
    {
     "data": {
      "text/html": [
       "<img src=\"https://mermaid.ink/img/CmdyYXBoIExSOwpBW2hlbGxvXQpBLS0+IEIgJiBDICYgRDsKQi0tPiBBICYgRTsKQy0tPiBBICYgRTsKRC0tPiBBICYgRTsKRS0tPiBCICYgQyAmIEQ7Cg==\"/>"
      ],
      "text/plain": [
       "<IPython.core.display.Image object>"
      ]
     },
     "metadata": {},
     "output_type": "display_data"
    }
   ],
   "source": [
    "mm(\"\"\"\n",
    "graph LR;\n",
    "A[hello]\n",
    "A--> B & C & D;\n",
    "B--> A & E;\n",
    "C--> A & E;\n",
    "D--> A & E;\n",
    "E--> B & C & D;\n",
    "\"\"\")"
   ]
  },
  {
   "cell_type": "code",
   "execution_count": null,
   "metadata": {},
   "outputs": [],
   "source": [
    "#| export\n",
    "graph_template = \"\"\"\n",
    "flowchart {{direction}}\n",
    "{% for i,name,desc,style in nodes -%}\n",
    "{{name}}[\"{{desc}}\"]\n",
    "{% if style -%}\n",
    "style {{name}} {{style}}\n",
    "{% endif -%}\n",
    "{% endfor -%}\n",
    "\n",
    "{% for i,s,t,desc,style in edges -%}\n",
    "{% if desc -%}\n",
    "{{s}} -->|\"{{desc}}\"| {{t}}\n",
    "{% else -%}\n",
    "{{s}} --> {{t}}\n",
    "{% endif -%}\n",
    "{% if style -%}\n",
    "linkStyle {{i}} {{style}}\n",
    "{% endif -%}\n",
    "{% endfor -%}\n",
    "\n",
    "{% if default_node_style -%}\n",
    "classDef default {{default_node_style}}\n",
    "{% endif -%}\n",
    "\n",
    "{% if default_edge_style -%}\n",
    "linkStyle default {{default_edge_style}}\n",
    "{% endif -%}\n",
    "\n",
    "\n",
    "\"\"\"\n",
    "\n",
    "def _escaped_html_format(s):\n",
    "    s = repr(s)\n",
    "    s = s.replace('\\'','#quot;').replace('\\\"','#quot;')\n",
    "    s = html.escape(s)\n",
    "    s = s.replace('&#','#').replace('&','#')\n",
    "    return s\n",
    "\n",
    "def _get_node_description(node,data,props=None):\n",
    "    label = data.pop('label',None)\n",
    "    if props is None:\n",
    "        keys = data.keys()\n",
    "    else:\n",
    "        keys = props\n",
    "    \n",
    "    attrs = ', '.join([f'{k}={_escaped_html_format(v)}' for k,v in data.items() if k in keys])\n",
    "    if label is None:\n",
    "        return f'{node}\\n{attrs}'\n",
    "    else:\n",
    "        return f'{node}({label})\\n{attrs}'\n",
    "\n",
    "def _get_edge_description(data,props=None):\n",
    "    if props is None:\n",
    "        keys = data.keys()\n",
    "    else:\n",
    "        keys = props\n",
    "    attrs = ', '.join([f'{k}={_escaped_html_format(v)}' for k,v in data.items() if k in keys])\n",
    "    return f'{attrs}'\n",
    "\n",
    "def draw(g:nx.DiGraph,props=None,ret_mermaid=False,\n",
    "         default_node_style=None,\n",
    "         default_edge_style=None,\n",
    "         node_styles=None,\n",
    "         edge_styles=None,\n",
    "         direction='TB'):\n",
    "    global graph_template\n",
    "    # so we dont change the original graph\n",
    "    g = g.copy()\n",
    "    if node_styles is None:\n",
    "        node_styles = {}\n",
    "    if edge_styles is None:\n",
    "        edge_styles = {}\n",
    "\n",
    "\n",
    "\n",
    "    nodes = [(i,n, _get_node_description(n,data,props),node_styles.get(n,None)) \n",
    "             for i,(n,data) in enumerate(g.nodes(data=True))]\n",
    "    edges = [(i,u,v,_get_edge_description(data,props),edge_styles.get((u,v),None)) \n",
    "             for i,(u,v,data) in enumerate(g.edges(data=True))]\n",
    "\n",
    "    mermaid_text = render_jinja(graph_template,{'nodes':nodes,'edges':edges,\n",
    "                                                'default_node_style':default_node_style,\n",
    "                                                'default_edge_style':default_edge_style,\n",
    "                                                'direction':direction,\n",
    "                                                })\n",
    "                                                \n",
    "    if ret_mermaid:\n",
    "        print(mermaid_text)\n",
    "        #return mermaid_text\n",
    "    \n",
    "    mm(mermaid_text)"
   ]
  },
  {
   "cell_type": "code",
   "execution_count": null,
   "metadata": {},
   "outputs": [
    {
     "name": "stdout",
     "output_type": "stream",
     "text": [
      "\n",
      "flowchart TB\n",
      "stringnode1[\"stringnode1\n",
      "type=#quot;STRING#quot;, args=#quot;#quot;hello \\\\\\nworld#quot;#quot;, idx=0\"]\n",
      "\n"
     ]
    },
    {
     "data": {
      "text/html": [
       "<img src=\"https://mermaid.ink/img/CmZsb3djaGFydCBUQgpzdHJpbmdub2RlMVsic3RyaW5nbm9kZTEKdHlwZT0jcXVvdDtTVFJJTkcjcXVvdDssIGFyZ3M9I3F1b3Q7I3F1b3Q7aGVsbG8gXFxcbndvcmxkI3F1b3Q7I3F1b3Q7LCBpZHg9MCJdCg==\"/>"
      ],
      "text/plain": [
       "<IPython.core.display.Image object>"
      ]
     },
     "metadata": {},
     "output_type": "display_data"
    }
   ],
   "source": [
    "g = _create_graph([\n",
    "    ('stringnode1', {'type': 'STRING', 'args': '\"hello \\\\\\nworld\"', 'idx': 0}),\n",
    "],[])\n",
    "draw(g,ret_mermaid=True)"
   ]
  },
  {
   "cell_type": "code",
   "execution_count": null,
   "metadata": {},
   "outputs": [
    {
     "name": "stdout",
     "output_type": "stream",
     "text": [
      "\n",
      "flowchart TB\n",
      "stringnode1[\"stringnode1\n",
      "type=#lt;class #quot;__main__.Class#quot;#gt;, val=Class(name=#quot;bob#quot;, type=#quot;person#quot;), idx=0\"]\n",
      "\n"
     ]
    },
    {
     "data": {
      "text/html": [
       "<img src=\"https://mermaid.ink/img/CmZsb3djaGFydCBUQgpzdHJpbmdub2RlMVsic3RyaW5nbm9kZTEKdHlwZT0jbHQ7Y2xhc3MgI3F1b3Q7X19tYWluX18uQ2xhc3MjcXVvdDsjZ3Q7LCB2YWw9Q2xhc3MobmFtZT0jcXVvdDtib2IjcXVvdDssIHR5cGU9I3F1b3Q7cGVyc29uI3F1b3Q7KSwgaWR4PTAiXQo=\"/>"
      ],
      "text/plain": [
       "<IPython.core.display.Image object>"
      ]
     },
     "metadata": {},
     "output_type": "display_data"
    }
   ],
   "source": [
    "from pydantic import BaseModel\n",
    "\n",
    "class Class(BaseModel):\n",
    "    name: str\n",
    "    type: str\n",
    "\n",
    "g = _create_graph([\n",
    "    ('stringnode1', {'type': Class, 'val':Class(name='bob',type='person'), 'idx': 0}),\n",
    "],[])\n",
    "draw(g,ret_mermaid=True)"
   ]
  },
  {
   "cell_type": "code",
   "execution_count": null,
   "metadata": {},
   "outputs": [],
   "source": [
    "g = _create_graph(\n",
    "    [\n",
    "        (1,{'color':'blue','size':10,'label':'one'}),\n",
    "        (2,{'color':'red','size':20}),\n",
    "        (3,{'color':'green','size':30}),\n",
    "    ],\n",
    "    [\n",
    "        (1,2,),\n",
    "        (2,3,),\n",
    "        (1,3,{'edge_attr':'foo'}),\n",
    "    ]\n",
    ")"
   ]
  },
  {
   "cell_type": "code",
   "execution_count": null,
   "metadata": {},
   "outputs": [
    {
     "data": {
      "text/html": [
       "<img src=\"https://mermaid.ink/img/CmZsb3djaGFydCBUQgoxWyIxKG9uZSkKY29sb3I9I3F1b3Q7Ymx1ZSNxdW90Oywgc2l6ZT0xMCJdCjJbIjIKY29sb3I9I3F1b3Q7cmVkI3F1b3Q7LCBzaXplPTIwIl0KM1siMwpjb2xvcj0jcXVvdDtncmVlbiNxdW90Oywgc2l6ZT0zMCJdCjEgLS0+IDIKMSAtLT58ImVkZ2VfYXR0cj0jcXVvdDtmb28jcXVvdDsifCAzCjIgLS0+IDMK\"/>"
      ],
      "text/plain": [
       "<IPython.core.display.Image object>"
      ]
     },
     "metadata": {},
     "output_type": "display_data"
    }
   ],
   "source": [
    "#draw(g,ret_mermaid=True)\n",
    "draw(g)"
   ]
  },
  {
   "cell_type": "code",
   "execution_count": null,
   "metadata": {},
   "outputs": [
    {
     "data": {
      "text/html": [
       "<img src=\"https://mermaid.ink/img/CmZsb3djaGFydCBMUgoxWyIxKG9uZSkKY29sb3I9I3F1b3Q7Ymx1ZSNxdW90Oywgc2l6ZT0xMCJdCjJbIjIKY29sb3I9I3F1b3Q7cmVkI3F1b3Q7LCBzaXplPTIwIl0KM1siMwpjb2xvcj0jcXVvdDtncmVlbiNxdW90Oywgc2l6ZT0zMCJdCjEgLS0+IDIKMSAtLT58ImVkZ2VfYXR0cj0jcXVvdDtmb28jcXVvdDsifCAzCjIgLS0+IDMK\"/>"
      ],
      "text/plain": [
       "<IPython.core.display.Image object>"
      ]
     },
     "metadata": {},
     "output_type": "display_data"
    }
   ],
   "source": [
    "#draw(g,ret_mermaid=True)\n",
    "draw(g,direction='LR')"
   ]
  },
  {
   "cell_type": "code",
   "execution_count": null,
   "metadata": {},
   "outputs": [
    {
     "data": {
      "text/html": [
       "<img src=\"https://mermaid.ink/img/CmZsb3djaGFydCBUQgoxWyIxKG9uZSkKY29sb3I9I3F1b3Q7Ymx1ZSNxdW90Oywgc2l6ZT0xMCJdCjJbIjIKY29sb3I9I3F1b3Q7cmVkI3F1b3Q7LCBzaXplPTIwIl0KM1siMwpjb2xvcj0jcXVvdDtncmVlbiNxdW90Oywgc2l6ZT0zMCJdCjEgLS0+IDIKMSAtLT58ImVkZ2VfYXR0cj0jcXVvdDtmb28jcXVvdDsifCAzCjIgLS0+IDMKY2xhc3NEZWYgZGVmYXVsdCBmaWxsOiNmOWYsc3Ryb2tlOiMzMzMsc3Ryb2tlLXdpZHRoOjRweDsKbGlua1N0eWxlIGRlZmF1bHQgc3Ryb2tlOnJlZCxzdHJva2Utd2lkdGg6NHB4Owo=\"/>"
      ],
      "text/plain": [
       "<IPython.core.display.Image object>"
      ]
     },
     "metadata": {},
     "output_type": "display_data"
    }
   ],
   "source": [
    "draw(g,default_node_style='fill:#f9f,stroke:#333,stroke-width:4px;',default_edge_style='stroke:red,stroke-width:4px;')"
   ]
  },
  {
   "cell_type": "code",
   "execution_count": null,
   "metadata": {},
   "outputs": [
    {
     "data": {
      "text/html": [
       "<img src=\"https://mermaid.ink/img/CmZsb3djaGFydCBUQgoxWyIxKG9uZSkKY29sb3I9I3F1b3Q7Ymx1ZSNxdW90Oywgc2l6ZT0xMCJdCnN0eWxlIDEgc3Ryb2tlOnJlZCxzdHJva2Utd2lkdGg6NHB4OwoyWyIyCmNvbG9yPSNxdW90O3JlZCNxdW90Oywgc2l6ZT0yMCJdCjNbIjMKY29sb3I9I3F1b3Q7Z3JlZW4jcXVvdDssIHNpemU9MzAiXQoxIC0tPiAyCjEgLS0+fCJlZGdlX2F0dHI9I3F1b3Q7Zm9vI3F1b3Q7InwgMwpsaW5rU3R5bGUgMSBzdHJva2U6cmVkLHN0cm9rZS13aWR0aDo0cHg7CjIgLS0+IDMK\"/>"
      ],
      "text/plain": [
       "<IPython.core.display.Image object>"
      ]
     },
     "metadata": {},
     "output_type": "display_data"
    }
   ],
   "source": [
    "draw(g,node_styles={1:'stroke:red,stroke-width:4px;'},edge_styles={(1,3):'stroke:red,stroke-width:4px;'})"
   ]
  },
  {
   "cell_type": "markdown",
   "metadata": {},
   "source": [
    "# Export"
   ]
  },
  {
   "cell_type": "code",
   "execution_count": null,
   "metadata": {},
   "outputs": [],
   "source": [
    "#|hide\n",
    "import nbdev; nbdev.nbdev_export()\n",
    "     "
   ]
  }
 ],
 "metadata": {
  "kernelspec": {
   "display_name": "python3",
   "language": "python",
   "name": "python3"
  },
  "language_info": {
   "name": "python",
   "version": "3.9.15"
  }
 },
 "nbformat": 4,
 "nbformat_minor": 4
}
