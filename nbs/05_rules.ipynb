{
 "cells": [
  {
   "attachments": {},
   "cell_type": "markdown",
   "metadata": {},
   "source": [
    "# Rules"
   ]
  },
  {
   "cell_type": "code",
   "execution_count": null,
   "metadata": {},
   "outputs": [],
   "source": [
    "#| default_exp rules\n",
    "%load_ext autoreload\n",
    "%autoreload 2"
   ]
  },
  {
   "attachments": {},
   "cell_type": "markdown",
   "metadata": {},
   "source": [
    "### Overview\n",
    "Up until now, we've covered the parsing and matching phases of graph transformation. The user provides specifications for 3 NetworkX graphs which, when combined, denote a single **rule** of graph transformation:\n",
    "\n",
    "1. **LHS** - A **pattern** graph which is searched in the input graph; For each match, we apply the transformation. Previous notebooks handled the way we use LHS Graphs to find matches in the graph.\n",
    "\n",
    "2. **P** (optional) - Denotes the parts of the pattern which we want to **preserve** during the transformation. Nodes, edges and attributes that we want to preserve from LHS appear in P as well; Anything that appears in the input graph but not in P is thus removed during the transformation. \n",
    "    - When combined with LHS, P can also denote the **cloning** of LHS nodes. In the context of this library, the cloning of an LHS node $n$ means the creation of a new node (that appears in P) which has the same attributes as $n$, and whose edges are clones of the edges connected to $n$ in LHS.\n",
    "\n",
    "3. **RHS** (optional) - Denotes the **interface of the graph after the transformation**. As a result, we can infer from it the nodes, edges and attributes that we add to the preserved parts, resulting in the final transformation. Nodes, edges and attributes that appear in RHS but not in P are added.\n",
    "    - When combined with P, RHS can also denote the **merging** of P nodes. In the context of this library, the merging of P nodes $x_1, ..., x_k$ means the creation of a new node (that appears in RHS) whose attributes and edges are the merge of the corresponding components in $x_1,...,x_k$.\n",
    "\n",
    "The following module defines the **Rule** class which, given these three graphs, allows finding the nodes/edges/attribute to add/remove/clone/merge as dictated by the rule. These findings will be used in the final module, which will finally execute the transformation itself."
   ]
  },
  {
   "attachments": {},
   "cell_type": "markdown",
   "metadata": {},
   "source": [
    "### Requirements"
   ]
  },
  {
   "cell_type": "code",
   "execution_count": null,
   "metadata": {},
   "outputs": [],
   "source": [
    "#| export\n",
    "from networkx import DiGraph\n",
    "from graph_rewrite.match_class import *\n",
    "from typing import *\n",
    "from graph_rewrite.core import GraphRewriteException, NodeName, EdgeName, _create_graph, _plot_graph"
   ]
  },
  {
   "attachments": {},
   "cell_type": "markdown",
   "metadata": {},
   "source": [
    "### Rules Definition\n",
    "The following is the complete definition of the Rule class."
   ]
  },
  {
   "cell_type": "code",
   "execution_count": null,
   "metadata": {},
   "outputs": [],
   "source": [
    "#| export\n",
    "exceptions = {\n",
    "    \"clone_non_existing\": lambda p_node, lhs_node: f\"Node {p_node} clones an non-existing node {lhs_node}.\",\n",
    "    \"clone_illegal_id\": lambda p_node, copy_num: f\"Node {p_node} clone id {copy_num} is illegal.\",\n",
    "    \"p_bad_format\": lambda p_node: f\"Node {p_node} has a bad formatted name.\",\n",
    "    \"p_not_in_lhs\": lambda p_node: f\"Node {p_node} in P does not exist in LHS.\",\n",
    "    \"rhs_illegal_name\": lambda rhs_node: f\"Node {rhs_node} merges at least one non-existing P node.\",\n",
    "    \"rhs_not_in_p\": lambda p_node: f\"Node {p_node} in P does not exist in RHS, nor merges into an RHS node.\",\n",
    "    \"add_attrs_in_p_node\": lambda p_node: f\"P node {p_node} cannot add attributes.\",\n",
    "    \"add_attrs_in_p_edge\": lambda s_copy, t_copy: f\"P edge ({s_copy},{t_copy}) cannot add attributes.\",\n",
    "    \"remove_attrs_in_rhs_node\": lambda rhs_node: f\"RHS node {rhs_node} cannot remove attributes.\",\n",
    "    \"remove_attrs_in_rhs_edge\": lambda s, t: f\"RHS edge ({s},{t}) cannot remove attributes.\",\n",
    "    \"attrs_in_cloned_node\": lambda p_node: f\"Cloned node {p_node} in P should not explicitly mention attributes\",\n",
    "    \"attrs_in_cloned_edge\": lambda s_copy, t_copy: f\"Cloned edge ({s_copy},{t_copy}) in P should not explicitly mention attributes\"\n",
    "}"
   ]
  },
  {
   "cell_type": "code",
   "execution_count": null,
   "metadata": {},
   "outputs": [],
   "source": [
    "#| export\n",
    "class Rule:\n",
    "    global exceptions\n",
    "    \"\"\"A transformation rule, defined by 1-3 graphs:\n",
    "    - LHS - defines the pattern to search for in the graph.\n",
    "    - P - defines what parts to preserve (and also defines clones).\n",
    "    - RHS - defines what parts to add (and also defines merges).\n",
    "    \"\"\"\n",
    "    def __init__(self, lhs: DiGraph, p: DiGraph = None, rhs: DiGraph = None):\n",
    "        self.lhs = lhs\n",
    "        self.p = p if p else self.lhs.copy()\n",
    "        self.rhs = rhs if rhs else self.p.copy()\n",
    "        \n",
    "        self._p_to_lhs, self._p_to_rhs = {}, {}\n",
    "        self._merge_sym, self._clone_sym = '&', '*'\n",
    "        self._create_p_lhs_hom()\n",
    "        self._create_p_rhs_hom()\n",
    "\n",
    "        self._rev_p_lhs = self._reversed_dictionary(self._p_to_lhs)\n",
    "        self._rev_p_rhs = self._reversed_dictionary(self._p_to_rhs)\n",
    "        self._validate_rule()\n",
    "\n",
    "    # Utils\n",
    "    def _create_p_lhs_hom(self):\n",
    "        \"\"\"Construct the homomorphism from P to LHS based on the rule.\n",
    "        Handles cloned nodes.\n",
    "        \"\"\"\n",
    "        for p_node in self.p.nodes():\n",
    "            if self._clone_sym in str(p_node):\n",
    "                if len(str(p_node).split(self._clone_sym)) == 2:\n",
    "                    lhs_node, copy_num = str(p_node).split(self._clone_sym)\n",
    "                    if lhs_node not in self.lhs.nodes():\n",
    "                        raise GraphRewriteException(exceptions[\"clone_non_existing\"](p_node, lhs_node))\n",
    "                    elif not copy_num.isnumeric():\n",
    "                        raise GraphRewriteException(exceptions[\"clone_illegal_id\"](p_node, copy_num))\n",
    "                    else:\n",
    "                        self._p_to_lhs[p_node] = lhs_node\n",
    "                else:\n",
    "                    raise GraphRewriteException(exceptions[\"p_bad_format\"](p_node))\n",
    "            elif p_node in self.lhs.nodes():\n",
    "                self._p_to_lhs[p_node] = p_node\n",
    "            else:\n",
    "                raise GraphRewriteException(exceptions[\"p_not_in_lhs\"](p_node))\n",
    "\n",
    "    def _create_p_rhs_hom(self):\n",
    "        \"\"\"Construct the homomorphism from P to RHS based on the rule.\n",
    "        Handles merged nodes.\n",
    "        \"\"\"\n",
    "        for rhs_node in self.rhs.nodes():\n",
    "            if self._merge_sym in str(rhs_node):\n",
    "                if len(str(rhs_node).split(self._merge_sym)) > 1:\n",
    "                    p_nodes = str(rhs_node).split(self._merge_sym)\n",
    "                    if all([p_node in self.p.nodes() for p_node in p_nodes]):\n",
    "                        for p_node in p_nodes:\n",
    "                            self._p_to_rhs[p_node] = rhs_node\n",
    "                    else:\n",
    "                        raise GraphRewriteException(exceptions[\"rhs_illegal_name\"](rhs_node))\n",
    "        for p_node in self.p.nodes():\n",
    "            if p_node not in self._p_to_rhs.keys():\n",
    "                if p_node in self.rhs.nodes():\n",
    "                    self._p_to_rhs[p_node] = p_node\n",
    "                else:\n",
    "                    raise GraphRewriteException(exceptions[\"rhs_not_in_p\"](p_node))\n",
    "\n",
    "    def _reversed_dictionary(self, dictionary: dict) -> dict[Any, set]:\n",
    "        \"\"\"Given a dictionary, return a dictionary which maps every\n",
    "        value from the original dictionary to the set of keys \n",
    "        that are mapped to it.\n",
    "\n",
    "        E.g., for {1: 'a', 2: 'a', 3: 'b'}, the reversing function\n",
    "        returns {'a': {1,2}, 'b': {3}}.\n",
    "\n",
    "        Args:\n",
    "            dictionary (dict): A dictionary to reverse\n",
    "\n",
    "        Returns:\n",
    "            dict[Any, set]: A reversed dictionary as described\n",
    "        \"\"\"\n",
    "        rev_dict: dict[Any, set] = {}\n",
    "        for key, value in dictionary.items():\n",
    "            if value not in rev_dict:\n",
    "                rev_dict[value] = set()\n",
    "            rev_dict[value].add(key)\n",
    "        return rev_dict\n",
    "\n",
    "    def _keys_from_val(self, dictionary: dict[Any, set], key) -> set:\n",
    "        return dictionary[key] if key in dictionary else set()\n",
    "\n",
    "    def _dict_key_difference(self, dict1: dict, dict2: dict) -> set:\n",
    "        \"\"\"Given two dictionaries, find all keys that appear in the first dictionary\n",
    "        but not in the second one.\n",
    "\n",
    "        Args:\n",
    "            dict1 (dict): A dictionary\n",
    "            dict2 (dict): A dictionary\n",
    "\n",
    "        Returns:\n",
    "            set: A set of all keys that appear in the first dictionary but not in the second.\n",
    "        \"\"\"\n",
    "        return set(dict1.keys()) - set(dict2.keys())\n",
    "\n",
    "    def _merge_dictionaries(self, dict1: dict, dict2: dict) -> dict:\n",
    "        merged = {}\n",
    "        for key in dict1.keys():\n",
    "            if key in dict2.keys():\n",
    "                merged[key] = dict2[key] # TODO\n",
    "            else:\n",
    "                merged[key] = dict1[key]\n",
    "        for key in dict2.keys():\n",
    "            if key not in dict1.keys():\n",
    "                merged[key] = dict2[key]\n",
    "        return merged\n",
    "\n",
    "    def _validate_lhs_p(self):\n",
    "        # Nodes in P do NOT add attributes that aren't in the corresponding LHS node(s).\n",
    "        for node_lhs in self.lhs.nodes():\n",
    "            lhs_attrs = set(self.lhs.nodes(data=True)[node_lhs].keys())\n",
    "            p_copies = self._keys_from_val(self._rev_p_lhs, node_lhs)\n",
    "            for node_p in p_copies:\n",
    "                p_attrs = set(self.p.nodes(data=True)[node_p].keys())\n",
    "                if not p_attrs.issubset(lhs_attrs):\n",
    "                    raise GraphRewriteException(exceptions[\"add_attrs_in_p_node\"](node_p))\n",
    "        \n",
    "        # Edges in P do NOT add attributes that aren't in the corresponding LHS edge(s).\n",
    "        for s, t in self.lhs.edges():\n",
    "            rhs_attrs = set(self.lhs.get_edge_data(s, t).keys())\n",
    "            s_copies, t_copies = self._keys_from_val(self._rev_p_lhs, s), self._keys_from_val(self._rev_p_lhs, t)\n",
    "            for s_copy in s_copies:\n",
    "                for t_copy in t_copies:\n",
    "                    # For each \"clone of edge (s, t)\" that is in P\n",
    "                    if (s_copy, t_copy) in self.p.edges():\n",
    "                        p_attrs = set(self.p.get_edge_data(s_copy, t_copy).keys())\n",
    "                        if not p_attrs.issubset(rhs_attrs):\n",
    "                            raise GraphRewriteException(exceptions[\"add_attrs_in_p_edge\"](s_copy, t_copy))\n",
    "\n",
    "    def _validate_rhs_p(self):\n",
    "        # Nodes in RHS do NOT remove attributes that are in the corresponding P node(s).\n",
    "        # Note that we ignore merged nodes here (which follow this rule automatically).\n",
    "        for node_rhs in self.rhs.nodes():\n",
    "            if node_rhs not in self.nodes_to_merge().keys():\n",
    "                rhs_attrs = set(self.rhs.nodes(data=True)[node_rhs].keys())\n",
    "                p_origins = self._keys_from_val(self._rev_p_rhs, node_rhs)\n",
    "                for node_p in p_origins:\n",
    "                    p_attrs = set(self.p.nodes(data=True)[node_p].keys())\n",
    "                    if not p_attrs.issubset(rhs_attrs):\n",
    "                        raise GraphRewriteException(exceptions[\"remove_attrs_in_rhs_node\"](node_rhs))\n",
    "        \n",
    "        # Edges in RHS do NOT remove attributes that are in the corresponding P edge(s).\n",
    "        # Note that we ignore edges created by a merge here (they follow this rule automatically).\n",
    "        for s, t in self.rhs.edges():\n",
    "            if s not in self.nodes_to_merge().keys() and t not in self.nodes_to_merge().keys():\n",
    "                rhs_attrs = set(self.rhs.get_edge_data(s, t).keys())\n",
    "                s_origins, t_origins = self._keys_from_val(self._rev_p_rhs, s), self._keys_from_val(self._rev_p_rhs, t)\n",
    "                for s_origin in s_origins:\n",
    "                    for t_origin in t_origins:\n",
    "                        if (s_origin, t_origin) in self.p.edges():\n",
    "                            origin_attrs = set(self.p.get_edge_data(s_origin, t_origin).keys())\n",
    "                            if not origin_attrs.issubset(rhs_attrs):\n",
    "                                raise GraphRewriteException(exceptions[\"remove_attrs_in_rhs_edge\"](s,t))\n",
    "\n",
    "    def _validate_rule(self):\n",
    "        self._validate_lhs_p()\n",
    "        self._validate_rhs_p()\n",
    "        \n",
    "        clones = {item for clones_list in self.nodes_to_clone().values() for item in clones_list}\n",
    "        # validate cloned nodes in P have no attributes mentioned (all attributes are copied automatically)\n",
    "        for clone in clones:\n",
    "            if self.p.nodes(data=True)[clone] != {}:\n",
    "                raise GraphRewriteException(exceptions[\"attrs_in_cloned_node\"](clone))\n",
    "        \n",
    "        # validate cloned edges in P (edges with cloned endpoint) have no attributes mentioned\n",
    "        for s, t, attrs in self.p.edges(data=True):\n",
    "            if (s in clones or t in clones) and attrs != {}:\n",
    "                raise GraphRewriteException(exceptions[\"attrs_in_cloned_edge\"](s, t))\n",
    "\n",
    "    def _merge_node_attrs(self, rhs_node: NodeName, p_origins: list[NodeName]) -> dict:\n",
    "        \"\"\"Given a node in RHS that is a copy / a merge of one or more nodes in P,\n",
    "        and the P nodes which it copies / merges, returns the dictionary of attributes\n",
    "        in the new merged node in RHS.\n",
    "\n",
    "        Args:\n",
    "            rhs_node (NodeName): A node in RHS\n",
    "            p_origins (list[NodeName]): A list of P nodes which rhs_node merges.\n",
    "\n",
    "        Returns:\n",
    "            dict: A dictionary of attributes (keys and values) of the merged rhs node.\n",
    "        \"\"\"\n",
    "        merge_rhs_attrs = {}\n",
    "        for p_origin in p_origins:\n",
    "            new_rhs_attrs = {k: self.rhs.nodes(data=True)[rhs_node][k] for k in \\\n",
    "                                self._dict_key_difference(self.rhs.nodes(data=True)[rhs_node], \n",
    "                                                          self.p.nodes(data=True)[p_origin])}\n",
    "            merge_rhs_attrs = self._merge_dictionaries(merge_rhs_attrs, new_rhs_attrs)\n",
    "        return merge_rhs_attrs\n",
    "\n",
    "    def _merge_edge_attrs(self, rhs_edge: EdgeName, s_origins: list[NodeName], t_origins: list[NodeName]) -> dict:\n",
    "        merge_rhs_attrs = {}\n",
    "        for s_origin in s_origins:\n",
    "            for t_origin in t_origins:\n",
    "                if (s_origin, t_origin) in self.p.edges():\n",
    "                    new_rhs_attrs = {k: self.rhs.get_edge_data(*rhs_edge)[k] for k in \\\n",
    "                                        self._dict_key_difference(self.rhs.get_edge_data(*rhs_edge), \n",
    "                                                                  self.p.get_edge_data(s_origin, t_origin))}\n",
    "                    merge_rhs_attrs = self._merge_dictionaries(merge_rhs_attrs, new_rhs_attrs)\n",
    "        return merge_rhs_attrs\n",
    "\n",
    "    # The following functions are presented in the order of transformation.\n",
    "    def nodes_to_clone(self) -> dict[NodeName, set[NodeName]]:\n",
    "        \"\"\"Find all LHS nodes that should be cloned in P, and for each node, find all its P clones.\n",
    "\n",
    "        Returns:\n",
    "            dict[NodeName, set[NodeName]]:\n",
    "                A dictionary which maps each cloned node in LHS to a set\n",
    "                of all nodes in P which are its clones.\n",
    "        \"\"\"\n",
    "\n",
    "        # Find all LHS nodes which are mapped by more than one node in P (in the P->LHS Hom.)\n",
    "        return {lhs_node: self._rev_p_lhs[lhs_node] for lhs_node in self.lhs.nodes() \\\n",
    "                            if len(self._keys_from_val(self._rev_p_lhs, lhs_node)) > 1}\n",
    "\n",
    "    def nodes_to_remove(self) -> set[NodeName]:\n",
    "        \"\"\"Find all LHS nodes that should be removed.\n",
    "\n",
    "        Returns:\n",
    "            set[NodeName]: Nodes in LHS which should be removed.\n",
    "        \"\"\"\n",
    "\n",
    "        # Find all LHS nodes which are not mapped by any node in P (in the P->LHS Hom.)\n",
    "        return {lhs_node for lhs_node in self.lhs.nodes() if len(self._keys_from_val(self._rev_p_lhs, lhs_node)) == 0}\n",
    "\n",
    "    def edges_to_remove(self) -> set[EdgeName]:\n",
    "        \"\"\"Find all LHS edges that should be removed.\n",
    "\n",
    "        Note: Does not include edges which one of their endpoints was removed by the rule,\n",
    "        as during transformation, we begin by removing all removed nodes along with the connected edges.\n",
    "\n",
    "        Returns:\n",
    "            set[EdgeName]: Edges in LHS which should be removed.\n",
    "        \"\"\"\n",
    "        edges_to_remove = set()\n",
    "        for s, t in self.lhs.edges():\n",
    "            # If one of the edge endpoints was removed, the edge was removed automatically so we skip it here\n",
    "            if s not in self.nodes_to_remove() and t not in self.nodes_to_remove():\n",
    "                s_copies, t_copies = self._keys_from_val(self._rev_p_lhs, s), self._keys_from_val(self._rev_p_lhs, t)\n",
    "                for s_copy in s_copies:\n",
    "                    for t_copy in t_copies:\n",
    "                        # For each \"clone of edge (s,t)\" that shouldn't be in P, remove it\n",
    "                        if (s_copy, t_copy) not in self.p.edges():\n",
    "                            edges_to_remove.add((s_copy, t_copy))\n",
    "        return edges_to_remove\n",
    "\n",
    "    def node_attrs_to_remove(self) -> dict[NodeName, set]:\n",
    "        \"\"\"For each P node, find all attributes of its corresponding LHS node\n",
    "        which should be removed from it in P.\n",
    "\n",
    "        Returns:\n",
    "            dict[NodeName, set]: A dictionary from P nodes to attributes that should be\n",
    "                removed from their corresponding LHS nodes.\n",
    "        \"\"\"\n",
    "        attrs_to_remove = {}\n",
    "        for node_lhs in self.lhs.nodes():\n",
    "            if node_lhs not in self.nodes_to_clone().keys(): # cloned nodes do not remove attrs\n",
    "                p_copies = self._keys_from_val(self._rev_p_lhs, node_lhs)\n",
    "                for node_p in p_copies:\n",
    "                    # Find all attributes that are in the LHS node but not in the new P node\n",
    "                    diff_attrs = self._dict_key_difference(\n",
    "                        self.lhs.nodes(data=True)[node_lhs],\n",
    "                        self.p.nodes(data=True)[node_p]\n",
    "                    )\n",
    "                    if len(diff_attrs) != 0:\n",
    "                        # Remove all such attributes from the P node\n",
    "                        attrs_to_remove[node_p] = diff_attrs\n",
    "        return attrs_to_remove\n",
    "\n",
    "    def edge_attrs_to_remove(self) -> dict[EdgeName, set]:\n",
    "        \"\"\"For each P edge, find all attributes of its corresponding LHS edge\n",
    "        which should be removed from it in P.\n",
    "\n",
    "        Returns:\n",
    "            dict[EdgeName, set]: A dictionary from P edges to attributes that should be\n",
    "                removed from their corresponding LHS edges.\n",
    "        \"\"\"\n",
    "        attrs_to_remove = {}\n",
    "        for s, t in self.lhs.edges():\n",
    "            s_copies, t_copies = self._keys_from_val(self._rev_p_lhs, s), self._keys_from_val(self._rev_p_lhs, t)\n",
    "            for s_copy in s_copies:\n",
    "                for t_copy in t_copies:\n",
    "                    # For each \"clone of edge (s, t)\" that is in P\n",
    "                    if (s_copy, t_copy) in self.p.edges():\n",
    "                        # Find all attributes that are in the original LHS edge but not in the new one in P\n",
    "                        diff_attrs = self._dict_key_difference(\n",
    "                            self.lhs.get_edge_data(s, t),\n",
    "                            self.p.get_edge_data(s_copy, t_copy),\n",
    "                        )\n",
    "                        if len(diff_attrs) != 0:\n",
    "                            # Remove all such attributes\n",
    "                            attrs_to_remove[(s_copy, t_copy)] = diff_attrs\n",
    "        return attrs_to_remove\n",
    "\n",
    "    def nodes_to_merge(self) -> dict[NodeName, set[NodeName]]:\n",
    "        \"\"\"Find all RHS nodes which are a merge of nodes in P, and for each node, find all P nodes that merge into it.\n",
    "\n",
    "        Returns:\n",
    "            dict[NodeName, set[NodeName]]: \n",
    "                A dictionary which maps each node in RHS that is a merge of P nodes,\n",
    "                to a set of nodes in P which it merges.\n",
    "        \"\"\"\n",
    "\n",
    "        # Find all RHS nodes that are mapped by more than one node in P (in the P->RHS Hom.)\n",
    "        return {rhs_node: self._rev_p_rhs[rhs_node] for rhs_node in self.rhs.nodes() \\\n",
    "                            if len(self._keys_from_val(self._rev_p_rhs, rhs_node)) > 1}\n",
    "\n",
    "    def nodes_to_add(self) -> set[NodeName]:\n",
    "        \"\"\"Find all RHS nodes which should be added.\n",
    "\n",
    "        Note: Does not include nodes in RHS that are created as a merge of P nodes.\n",
    "\n",
    "        Returns:\n",
    "            set[NodeName]: Nodes which should be added to RHS.\n",
    "        \"\"\"\n",
    "\n",
    "        # Find all RHS nodes which are not mapped by any node in P (in the P->RHS Hom.)\n",
    "        return {rhs_node for rhs_node in self.rhs.nodes() if len(self._keys_from_val(self._rev_p_rhs, rhs_node)) == 0}\n",
    "\n",
    "    def edges_to_add(self) -> set[EdgeName]:\n",
    "        \"\"\"Find all RHS edges that should be added. \n",
    "\n",
    "        Note: Does not include edges added to merged nodes.\n",
    "\n",
    "        Returns:\n",
    "            set[EdgeName]: Edges which should be added to RHS.\n",
    "        \"\"\"\n",
    "        edges_to_add = set()\n",
    "        for s, t in self.rhs.edges():\n",
    "            # New edges from at least one new node (not including merged nodes)\n",
    "            if s in self.nodes_to_add() or t in self.nodes_to_add():\n",
    "                edges_to_add.add((s,t)) # surely a new edge\n",
    "            else:\n",
    "                s_origins, t_origins = self._keys_from_val(self._rev_p_rhs, s), self._keys_from_val(self._rev_p_rhs, t)\n",
    "                # New edges from existing P nodes\n",
    "                if all([(s_origin, t_origin) not in self.p.edges() for s_origin in s_origins for t_origin in t_origins]):\n",
    "                    edges_to_add.add((s,t))\n",
    "        return edges_to_add\n",
    "\n",
    "    def node_attrs_to_add(self) -> dict[NodeName, dict]:\n",
    "        \"\"\"For each RHS node, find all attributes (and values) of its corresponding P node(s)\n",
    "        which should be added to the RHS node.\n",
    "        \n",
    "        Returns:\n",
    "            dict[NodeName, dict]: A dictionary that maps RHS nodes to their added attributes and values.\n",
    "        \"\"\"\n",
    "        attrs_to_add = {}\n",
    "        for node_rhs in self.rhs.nodes():\n",
    "            if node_rhs in self.nodes_to_add():\n",
    "                rhs_attrs = self.rhs.nodes(data=True)[node_rhs]\n",
    "                if len(rhs_attrs) != 0:\n",
    "                    attrs_to_add[node_rhs] = rhs_attrs\n",
    "            else:\n",
    "                p_origins = self._keys_from_val(self._rev_p_rhs, node_rhs)\n",
    "                merged_p_attrs = self._merge_node_attrs(node_rhs, p_origins)\n",
    "                if len(merged_p_attrs) != 0:\n",
    "                    attrs_to_add[node_rhs] = merged_p_attrs\n",
    "        return attrs_to_add\n",
    "\n",
    "    def edge_attrs_to_add(self) -> dict[EdgeName, dict]:\n",
    "        \"\"\"For each RHS edge, find all attributes (and values) of its corresponding P edge(s)\n",
    "        which should be added to the RHS edge.\n",
    "\n",
    "        Returns:\n",
    "            dict[EdgeName, dict]: A dictionary that maps RHS edges to their added attributes and values.\n",
    "        \"\"\"\n",
    "        attrs_to_add = {}\n",
    "        for s, t in self.rhs.edges():\n",
    "            if s in self.nodes_to_add() or t in self.nodes_to_add():\n",
    "                rhs_attrs = self.rhs.get_edge_data(s, t)\n",
    "                if len(rhs_attrs) != 0:\n",
    "                    attrs_to_add[(s, t)] = rhs_attrs\n",
    "            else:\n",
    "                s_origins, t_origins = self._keys_from_val(self._rev_p_rhs, s), self._keys_from_val(self._rev_p_rhs, t)\n",
    "                merged_p_attrs = self._merge_edge_attrs((s, t), s_origins, t_origins)\n",
    "                if len(merged_p_attrs) != 0:\n",
    "                    attrs_to_add[(s, t)] = merged_p_attrs\n",
    "        return attrs_to_add\n"
   ]
  },
  {
   "attachments": {},
   "cell_type": "markdown",
   "metadata": {},
   "source": [
    "### Tests and Examples\n",
    "The following section overviews the different use cases of graph transformation, and the rules that the user should construct in order to execute them. Before we dive in, here are some test utilities:"
   ]
  },
  {
   "attachments": {},
   "cell_type": "markdown",
   "metadata": {},
   "source": [
    "#### Test Utils"
   ]
  },
  {
   "cell_type": "code",
   "execution_count": null,
   "metadata": {},
   "outputs": [],
   "source": [
    "def _assert_rule(lhs: DiGraph, p: DiGraph = None, rhs: DiGraph = None,\n",
    "                 error: str = None,\n",
    "                 nodes_clone: dict[NodeName, set[NodeName]] = {},\n",
    "                 nodes_remove: set[NodeName] = set(),\n",
    "                 edges_remove: set[EdgeName] = set(),\n",
    "                 node_attrs_remove: dict[NodeName, set] = {}, \n",
    "                 edge_attrs_remove: dict[EdgeName, set] = {}, \n",
    "                 nodes_merge: dict[NodeName, set[NodeName]] = {}, \n",
    "                 nodes_add: set[NodeName] = set(), \n",
    "                 edges_add: set[EdgeName] = set(),\n",
    "                 node_attrs_add: dict[NodeName, dict] = {}, \n",
    "                 edge_attrs_add: dict[EdgeName, dict] = {}):\n",
    "    try:\n",
    "        rule = Rule(lhs, p=p, rhs=rhs)\n",
    "        assert rule.nodes_to_clone() == nodes_clone\n",
    "        assert rule.nodes_to_remove() == nodes_remove\n",
    "        assert rule.edges_to_remove() == edges_remove\n",
    "        assert rule.node_attrs_to_remove() == node_attrs_remove\n",
    "        assert rule.edge_attrs_to_remove() == edge_attrs_remove\n",
    "        assert rule.nodes_to_merge() == nodes_merge\n",
    "        assert rule.nodes_to_add() == nodes_add\n",
    "        assert rule.edges_to_add() == edges_add\n",
    "        assert rule.node_attrs_to_add() == node_attrs_add\n",
    "        assert rule.edge_attrs_to_add() == edge_attrs_add\n",
    "        assert error == None\n",
    "    except GraphRewriteException as e:\n",
    "        assert e.message == error"
   ]
  },
  {
   "attachments": {},
   "cell_type": "markdown",
   "metadata": {},
   "source": [
    "#### Preserve and Remove (Without Attributes)"
   ]
  },
  {
   "attachments": {},
   "cell_type": "markdown",
   "metadata": {},
   "source": [
    "We begin by defining a simple LHS graph, a pattern without attributes at all:"
   ]
  },
  {
   "cell_type": "code",
   "execution_count": null,
   "metadata": {},
   "outputs": [
    {
     "data": {
      "image/png": "[encoded data removed]",
      "text/plain": [
       "<Figure size 640x480 with 1 Axes>"
      ]
     },
     "metadata": {},
     "output_type": "display_data"
    }
   ],
   "source": [
    "lhs = _create_graph(['A', 'B', 'C'], [('A','B'), ('A','C')])\n",
    "_plot_graph(lhs)"
   ]
  },
  {
   "attachments": {},
   "cell_type": "markdown",
   "metadata": {},
   "source": [
    "If we construct a rule without specifing P, then P defaults to a copy of LHS. If we don't specify RHS, then RHS defaults to a copy of P.\n",
    "That is, when constructing a rule without P or LHS, we preserve everything from LHS (P contains all LHS elements) and add nothing (no difference between P and RHS), or in other words - a rule which does not change a thing."
   ]
  },
  {
   "cell_type": "code",
   "execution_count": null,
   "metadata": {},
   "outputs": [],
   "source": [
    "_assert_rule(lhs)"
   ]
  },
  {
   "attachments": {},
   "cell_type": "markdown",
   "metadata": {},
   "source": [
    "As explained above, P defines which parts of the LHS we want to preserve in the transformation. Therefore, if something from LHS is missing in P, the rule infers that it should remove it.\n",
    "\n",
    "For example, if P contains all nodes of LHS but none of its edges, the rule marks all LHS edges as edges to remove:"
   ]
  },
  {
   "cell_type": "code",
   "execution_count": null,
   "metadata": {},
   "outputs": [],
   "source": [
    "p = _create_graph(['A', 'B', 'C'], [])\n",
    "_assert_rule(lhs, p=p, edges_remove={('A','B'), ('A','C')})"
   ]
  },
  {
   "attachments": {},
   "cell_type": "markdown",
   "metadata": {},
   "source": [
    "Surely, we can remove nodes in the same way. Note that when the transformation module removes a node, it also removes all the edges that are connected to it. Since in the transformation the removal of nodes is done before the removal of edges, whenever the rule finds a node that should be removed, it assumes (correctly) that the connected edges will be removed automatically and therefore, does not mark the connected edges as edges to remove.\n",
    "\n",
    "Here, the P graph is missing node $A$ (that is connected to edges $(A,B), (A,C)$) as well as all edges in LHS (which are coincidentely exactly the edges connected to $A$). Therefore, while the transformation results in the removal of these edges as well, the rule only marks the node for removal:"
   ]
  },
  {
   "cell_type": "code",
   "execution_count": null,
   "metadata": {},
   "outputs": [],
   "source": [
    "p = _create_graph(['B', 'C'], [])\n",
    "_assert_rule(lhs, p=p, nodes_remove={'A'})"
   ]
  },
  {
   "attachments": {},
   "cell_type": "markdown",
   "metadata": {},
   "source": [
    "However, if $P$ does not contain node $B$ and all edges of the graph, edge $(A,B)$ isn't marked for removal (automatically removed along with node $B$), while edge $(A,C)$ is marked for removal:"
   ]
  },
  {
   "cell_type": "code",
   "execution_count": null,
   "metadata": {},
   "outputs": [],
   "source": [
    "p = _create_graph(['A','C'], [])\n",
    "_assert_rule(lhs, p=p, nodes_remove={'B'}, edges_remove={('A','C')})"
   ]
  },
  {
   "attachments": {},
   "cell_type": "markdown",
   "metadata": {},
   "source": [
    "#### Clone Nodes"
   ]
  },
  {
   "attachments": {},
   "cell_type": "markdown",
   "metadata": {},
   "source": [
    "As explained in the beginning of this notebook, the combination of LHS and P allows **cloning** nodes. \n",
    "\n",
    "Assume that we want to clone an LHS node called $x$. In the P graph, we add a new node called $x*n$, where $n$ is some integer of the user's choosing that is destined to denote the number of the copy (though this is not enforced by the library). \n",
    "\n",
    "A P node with such a name is automatically inferred to be a clone of the LHS node $x$ (if no such node exists, an exception is raised), and the transformation module will clone its edges and attributes as expected.\n",
    "The Rule class identifies P nodes that are clones of LHS nodes, and creates a dictionary that maps LHS nodes to a set of its P clones (if there are any). The edges and attributes that are added by the cloning are not counted as added edges and attributes; The cloned node is not counted as an added node, but rather as a cloned one."
   ]
  },
  {
   "attachments": {},
   "cell_type": "markdown",
   "metadata": {},
   "source": [
    "Assume that we want to have 2 clones of node $C$ in P, named $C*1, C*2$ respectively. In LHS, node $C$ is connected to edge $(A,C)$; Therefore, the cloning process will add $C*1, C*2, (A,C*1)$ and $(A,C*2)$:"
   ]
  },
  {
   "cell_type": "code",
   "execution_count": null,
   "metadata": {},
   "outputs": [
    {
     "data": {
      "image/png": "[encoded data removed]",
      "text/plain": [
       "<Figure size 640x480 with 1 Axes>"
      ]
     },
     "metadata": {},
     "output_type": "display_data"
    }
   ],
   "source": [
    "p = _create_graph(['A', 'B', 'C', 'C*1', 'C*2'], [('A','B'), ('A','C'), ('A','C*1'), ('A', 'C*2')])\n",
    "_plot_graph(p)\n",
    "_assert_rule(lhs, p=p, nodes_clone={'C': {'C', 'C*1', 'C*2'}})"
   ]
  },
  {
   "attachments": {},
   "cell_type": "markdown",
   "metadata": {},
   "source": [
    "Note that in this example, we kept $C$ in the P graph, and it was counted as a clone of the LHS node $C$. If we decided to not keep $C$ in the P graph, we can not mention it (and its connected edges) in P. Note that in such a case, the rule does not count $C$ as a removed node or $(A,C)$ as a removed edge: As far as the rule is concerned, the P version of $C$ is just a clone of LHS'S $C$ which we didn't create here."
   ]
  },
  {
   "cell_type": "code",
   "execution_count": null,
   "metadata": {},
   "outputs": [
    {
     "data": {
      "image/png": "[encoded data removed]",
      "text/plain": [
       "<Figure size 640x480 with 1 Axes>"
      ]
     },
     "metadata": {},
     "output_type": "display_data"
    }
   ],
   "source": [
    "p = _create_graph(['A', 'B', 'C*1', 'C*2'], [('A','B'), ('A','C*1'), ('A', 'C*2')])\n",
    "_plot_graph(p)\n",
    "_assert_rule(lhs, p=p, nodes_clone={'C': {'C*1', 'C*2'}})"
   ]
  },
  {
   "attachments": {},
   "cell_type": "markdown",
   "metadata": {},
   "source": [
    "We can clone different nodes simultaniously, and new edges will be created accordingly (including edges that are between two clones of different nodes). Here we clone $A$ for 3 times (including the P node $A$) and $B$ for 2 times (same); Since LHS contains the edge $(A,B)$, we create here completely new edges such as $(A*5, B*9)$. Note that as explained, the copy number (the $5$ in $A*5$) must be a number but the library does not check that it is a valid clone number:"
   ]
  },
  {
   "cell_type": "code",
   "execution_count": null,
   "metadata": {},
   "outputs": [],
   "source": [
    "p = _create_graph(['A', 'B', 'A*3', 'A*5', 'C', 'B*9'], \n",
    "                  [('A','B'), ('A', 'B*9'), ('A*3', 'B'), ('A*3', 'B*9'), ('A*5', 'B'), ('A*5', 'B*9'), \n",
    "                   ('A', 'C'), ('A*3', 'C'), ('A*5', 'C')])\n",
    "_assert_rule(lhs, p=p, nodes_clone={'A': {'A', 'A*5', 'A*3'}, 'B': {'B*9', 'B'}})"
   ]
  },
  {
   "attachments": {},
   "cell_type": "markdown",
   "metadata": {},
   "source": [
    "Cloning can be combined with other operations. For example, clone $A$ and $B$ (both are cloned 2 times) and remove node $C$ (which is not a clone of anything, and therefore is counted as a removed node). Note that in the transformation module, the cloning is done before the nodes removal:"
   ]
  },
  {
   "cell_type": "code",
   "execution_count": null,
   "metadata": {},
   "outputs": [
    {
     "data": {
      "image/png": "[encoded data removed]",
      "text/plain": [
       "<Figure size 640x480 with 1 Axes>"
      ]
     },
     "metadata": {},
     "output_type": "display_data"
    }
   ],
   "source": [
    "p = _create_graph(['A', 'B', 'A*3', 'B*9'], \n",
    "                  [('A','B'), ('A', 'B*9'), ('A*3', 'B'), ('A*3', 'B*9')])\n",
    "_plot_graph(p)\n",
    "_assert_rule(lhs, p=p, nodes_clone={'A': {'A', 'A*3'}, 'B': {'B*9', 'B'}}, nodes_remove={'C'})"
   ]
  },
  {
   "attachments": {},
   "cell_type": "markdown",
   "metadata": {},
   "source": [
    "As explained above, when cloning a node, all of its edges are cloned as well. Therefore, if we construct P with a clone but do not mention all of the edges that should be created by the clone, the rule will consider the missing edges as removed edges. Here, for example, we clone $C$ but exclude cloning the $(A,C)$ edge for clone $C*1$:"
   ]
  },
  {
   "cell_type": "code",
   "execution_count": null,
   "metadata": {},
   "outputs": [
    {
     "data": {
      "image/png": "[encoded data removed]",
      "text/plain": [
       "<Figure size 640x480 with 1 Axes>"
      ]
     },
     "metadata": {},
     "output_type": "display_data"
    }
   ],
   "source": [
    "p = _create_graph(['A', 'B', 'C*1', 'C*2'], [('A','B'), ('A', 'C*2')])\n",
    "_plot_graph(p)\n",
    "_assert_rule(lhs, p=p, nodes_clone={'C': {'C*1', 'C*2'}}, edges_remove={('A','C*1')})"
   ]
  },
  {
   "attachments": {},
   "cell_type": "markdown",
   "metadata": {},
   "source": [
    "#### Preserve, Remove and Clone (With Attributes)"
   ]
  },
  {
   "attachments": {},
   "cell_type": "markdown",
   "metadata": {},
   "source": [
    "Our graphs might have attributes, and so - we might want to apply what we've covered so far (preserving, removing and cloning) to handle attributes as well. We begin by initializing an LHS pattern with some attributes (note that the attributes are not plotted):"
   ]
  },
  {
   "cell_type": "code",
   "execution_count": null,
   "metadata": {},
   "outputs": [
    {
     "data": {
      "image/png": "[encoded data removed]",
      "text/plain": [
       "<Figure size 640x480 with 1 Axes>"
      ]
     },
     "metadata": {},
     "output_type": "display_data"
    }
   ],
   "source": [
    "lhs = _create_graph(['A', ('B', {'attr_b': 5}), 'C'], [('A','B'), ('A','C', {'attr_ac': 10})])\n",
    "_plot_graph(lhs)"
   ]
  },
  {
   "attachments": {},
   "cell_type": "markdown",
   "metadata": {},
   "source": [
    "Say that we want to remove a LHS node / edge which has attributes. Just as the removal of a node automatically removed its connected edges without marking these edges as removed - The removal of a node / edge automatically removes its attributes with it, and the rule does not count these attributes as removed attributes. \n",
    "\n",
    "In this example, we remove node $B$ / edge $(A,C)$, both have attributes in LHS:"
   ]
  },
  {
   "cell_type": "code",
   "execution_count": null,
   "metadata": {},
   "outputs": [],
   "source": [
    "p = _create_graph(['A', 'C'], [('A','C', {'attr_ac': 10})])\n",
    "_assert_rule(lhs, p=p, nodes_remove={'B'})\n",
    "p = _create_graph(['A', ('B', {'attr_b': 5}), 'C'], [('A','B')])\n",
    "_assert_rule(lhs, p=p, edges_remove={('A','C')})"
   ]
  },
  {
   "attachments": {},
   "cell_type": "markdown",
   "metadata": {},
   "source": [
    "We can also remove attributes manualy, while keeping the containing node / edge. Just as in order to remove an LHS node we didn't mention it in P, we can remove a LHS attribute by not mentioning it in P. Here, we remove the attribute \"attr_b\" from $B$. The rule builds a dictionary that maps nodes to the names of the attributes removed from them:"
   ]
  },
  {
   "cell_type": "code",
   "execution_count": null,
   "metadata": {},
   "outputs": [],
   "source": [
    "p = _create_graph(['A', 'B', 'C'], [('A','B'), ('A','C', {'attr_ac': 10})])\n",
    "_assert_rule(lhs, p=p, node_attrs_remove={'B': {'attr_b'}})"
   ]
  },
  {
   "attachments": {},
   "cell_type": "markdown",
   "metadata": {},
   "source": [
    "If we clone a node with attributes, or a node that's connected to edges with attributes (as you well remember, edges connected to a cloned node are cloned as well), the attributes are cloned along with it - both attribute names and values.\n",
    "\n",
    "In our library, cloning a node / edge with attributes causes a clone of **all** of the contained attributes, and the user **is not able** to choose which of the attributes should be cloned. In order to avoid ambiguity, when constructing a P graph that clones a node / edge with attributes, for each of the clones, **the attributes should not be mentioned** (automatically they will all be cloned). A violation of this constraint will cause the Rule class to raise an exception:"
   ]
  },
  {
   "cell_type": "code",
   "execution_count": null,
   "metadata": {},
   "outputs": [],
   "source": [
    "p = _create_graph(['A', 'B', 'C', ('B*1', {'attr_b': 5})],\n",
    "                  [('A','B'), ('A','B*1'), ('A','C', {'attr_ac': 10})])\n",
    "_assert_rule(lhs, p=p, error=exceptions[\"attrs_in_cloned_node\"](\"B*1\"))\n",
    "\n",
    "p = _create_graph(['A', 'B', 'C', 'C*1'],\n",
    "                  [('A','B'), ('A','B*1'), ('A','C*1', {'attr_ac': 10})])\n",
    "_assert_rule(lhs, p=p, error=exceptions[\"attrs_in_cloned_edge\"](\"A\", \"C*1\"))"
   ]
  },
  {
   "attachments": {},
   "cell_type": "markdown",
   "metadata": {},
   "source": [
    "Here, we clone node $B$ as P nodes $B, B*1$ along with its attributes ```{attr_b: 5}```. Note how we do not mention the attributes of either $B, B*1$, and let the transformation module clone them by itself. The rule does not count these automatically-cloned attributes as added attributes:"
   ]
  },
  {
   "cell_type": "code",
   "execution_count": null,
   "metadata": {},
   "outputs": [],
   "source": [
    "p = _create_graph(['A', 'B', 'C', 'B*1'],\n",
    "                  [('A','B'), ('A','B*1'), ('A','C', {'attr_ac': 10})])\n",
    "_assert_rule(lhs, p=p, nodes_clone={'B': {'B', 'B*1'}})"
   ]
  },
  {
   "attachments": {},
   "cell_type": "markdown",
   "metadata": {},
   "source": [
    "#### Addition"
   ]
  },
  {
   "attachments": {},
   "cell_type": "markdown",
   "metadata": {},
   "source": [
    "We saw how we can use P to denote preservation, removal and cloning - with or without attributes - of LHS nodes. Up until now, RHS defaulted to a copy of P, denoting that we don't want to add anything to the graph. We will now overview the options RHS provides us. Begin by reseting LHS to be our initial, simple pattern without any attributes:"
   ]
  },
  {
   "cell_type": "code",
   "execution_count": null,
   "metadata": {},
   "outputs": [],
   "source": [
    "lhs = _create_graph(['A', 'B', 'C'], [('A','B'), ('A','C')])"
   ]
  },
  {
   "attachments": {},
   "cell_type": "markdown",
   "metadata": {},
   "source": [
    "Say we want to add a new node to our graph, name it $D$. The rule finds all nodes that appear in RHS but not in P, and marks them as added nodes. Here, P is not specified (and thus default to LHS), and so $D$ is the only new node:"
   ]
  },
  {
   "cell_type": "code",
   "execution_count": null,
   "metadata": {},
   "outputs": [],
   "source": [
    "rhs = _create_graph(['A', 'B', 'C', 'D'], [('A','B'), ('A','C')])\n",
    "_assert_rule(lhs, rhs=rhs, nodes_add={'D'})"
   ]
  },
  {
   "attachments": {},
   "cell_type": "markdown",
   "metadata": {},
   "source": [
    "The same can be done with edges. We can add edges that use nodes which existed in P, as we do here with the new edge $(B,C)$:"
   ]
  },
  {
   "cell_type": "code",
   "execution_count": null,
   "metadata": {},
   "outputs": [],
   "source": [
    "rhs = _create_graph(['A', 'B', 'C'], [('A','B'), ('A','C'), ('B','C')])\n",
    "_assert_rule(lhs, rhs=rhs, edges_add={('B','C')})"
   ]
  },
  {
   "attachments": {},
   "cell_type": "markdown",
   "metadata": {},
   "source": [
    "But we can also combine edges which use the new added nodes. Here, we combine the addition of a new node $D$, a new edge that uses it $(A,D)$ and a new edge that uses only P nodes $(B,C)$:"
   ]
  },
  {
   "cell_type": "code",
   "execution_count": null,
   "metadata": {},
   "outputs": [],
   "source": [
    "rhs = _create_graph(['A', 'B', 'C', 'D'], [('A','B'), ('A','D'), ('A','C'), ('B','C')])\n",
    "_assert_rule(lhs, rhs=rhs, nodes_add={'D'}, edges_add={('B','C'), ('A','D')})"
   ]
  },
  {
   "attachments": {},
   "cell_type": "markdown",
   "metadata": {},
   "source": [
    "The use of attributes in addition is very intuitive: Attributes that appear in RHS but not in P are considered as added attributes, including all attributes of any new node (excluding merges; we'll get to that shortly). \n",
    "\n",
    "For example, assume we update our LHS with an attribute added to edge $(A,C)$:"
   ]
  },
  {
   "cell_type": "code",
   "execution_count": null,
   "metadata": {},
   "outputs": [],
   "source": [
    "lhs = _create_graph(['A', 'B', 'C'], [('A','B'), ('A','C', {'attr_ac': 'ac'})])"
   ]
  },
  {
   "attachments": {},
   "cell_type": "markdown",
   "metadata": {},
   "source": [
    "If we add a new attribute for existing node $A$, new node $D$, existing edge $(A,B)$ and new edge $(A,D)$:"
   ]
  },
  {
   "cell_type": "code",
   "execution_count": null,
   "metadata": {},
   "outputs": [],
   "source": [
    "rhs = _create_graph([('A', {'attr_a': 'a'}), 'B', 'C', ('D', {'attr_d': 'd'})],\n",
    "                    [('A','B', {'attr_ab': 'ab'}), ('A','D', {'attr_ad': 'ad'}), ('A','C', {'attr_ac': 'ac'}), ('B','C')])\n",
    "_assert_rule(lhs, rhs=rhs, nodes_add={'D'}, edges_add={('A','D'), ('B','C')},\n",
    "             node_attrs_add={'A': {'attr_a': 'a'}, 'D': {'attr_d': 'd'}},\n",
    "             edge_attrs_add={('A','B'): {'attr_ab': 'ab'}, ('A','D'): {'attr_ad': 'ad'}})"
   ]
  },
  {
   "attachments": {},
   "cell_type": "markdown",
   "metadata": {},
   "source": [
    "#### Merge Nodes"
   ]
  },
  {
   "attachments": {},
   "cell_type": "markdown",
   "metadata": {},
   "source": [
    "As explained in the beginning of this notebook, the combination of P and RHS allows **merging** nodes.\n",
    "\n",
    "Assume that P contains nodes $x_1,...,x_k$, and that we want to replace them all with a single, merged node - merges all of their attributes and edges. In the RHS graph, we add a new node called $x_1 \\& x_2 \\& ... \\& x_k$. A RHS node with such a name is automatically inferred to be a merge of the P nodes $x_1,...,x_k$ (if any of them does not exist, an exception is raised), and the transformation module will handle the merging of the edges and attributes as expected.\n",
    "\n",
    "The Rule class identifies RHS nodes that are merges or P nodes, and creates a dictionary that maps RHS nodes to a set of P nodes which they merge (if there are any). The edges and attributes that are added by the merging are not counted as added edges and attributes; The nodes, edges and attributes that were removed (merged into the new node) are not marked as removed; The merged node is not counted as an added node, but rather as a merged one."
   ]
  },
  {
   "attachments": {},
   "cell_type": "markdown",
   "metadata": {},
   "source": [
    "For the basic, attribute-less examples, we return to our basic LHS (Which will also serve as P here):"
   ]
  },
  {
   "cell_type": "code",
   "execution_count": null,
   "metadata": {},
   "outputs": [],
   "source": [
    "lhs = _create_graph(['A', 'B', 'C'], [('A','B'), ('A','C')])"
   ]
  },
  {
   "attachments": {},
   "cell_type": "markdown",
   "metadata": {},
   "source": [
    "We begin with a simple example, where we want to merge nodes $B$ and $C$ into a new node called $B\\&C$. Note that in the resulting RHS graph, $B$ and $C$ do not exist anymore, and so are the connected edges $(A,B),(B,C)$. They were replace by the new merged node, and a new edge $(A,B\\&C)$ which merges the two original edges. Although we removed and added different edges and nodes here, none of them are marked as added or removed by the rule:"
   ]
  },
  {
   "cell_type": "code",
   "execution_count": null,
   "metadata": {},
   "outputs": [
    {
     "data": {
      "image/png": "[encoded data removed]",
      "text/plain": [
       "<Figure size 640x480 with 1 Axes>"
      ]
     },
     "metadata": {},
     "output_type": "display_data"
    }
   ],
   "source": [
    "rhs = _create_graph(['A', 'B&C'], [('A','B&C')])\n",
    "_plot_graph(rhs)\n",
    "_assert_rule(lhs, rhs=rhs, nodes_merge={'B&C': {'B','C'}})"
   ]
  },
  {
   "attachments": {},
   "cell_type": "markdown",
   "metadata": {},
   "source": [
    "If we merge nodes $A, B$, then the original edge $(A,B)$ is now replaced by $(A\\&B, A\\&B)$ - that is, a self loop:"
   ]
  },
  {
   "cell_type": "code",
   "execution_count": null,
   "metadata": {},
   "outputs": [
    {
     "data": {
      "image/png": "[encoded data removed]",
      "text/plain": [
       "<Figure size 640x480 with 1 Axes>"
      ]
     },
     "metadata": {},
     "output_type": "display_data"
    }
   ],
   "source": [
    "# Merge node A and B\n",
    "rhs = _create_graph(['A&B', 'C'], [('A&B','A&B'), ('A&B', 'C')])\n",
    "_plot_graph(rhs)\n",
    "_assert_rule(lhs, rhs=rhs, nodes_merge={'A&B': {'A','B'}})"
   ]
  },
  {
   "attachments": {},
   "cell_type": "markdown",
   "metadata": {},
   "source": [
    "We can merge more than two nodes into a new one. Here we do so with all three nodes in P, resulting in a single node with a self loop:"
   ]
  },
  {
   "cell_type": "code",
   "execution_count": null,
   "metadata": {},
   "outputs": [
    {
     "data": {
      "image/png": "[encoded data removed]",
      "text/plain": [
       "<Figure size 640x480 with 1 Axes>"
      ]
     },
     "metadata": {},
     "output_type": "display_data"
    }
   ],
   "source": [
    "# Merge node A, B and C\n",
    "rhs = _create_graph(['B&C&A'], [('B&C&A', 'B&C&A')])\n",
    "_plot_graph(rhs)\n",
    "_assert_rule(lhs, rhs=rhs, nodes_merge={'B&C&A': {'A','B','C'}})"
   ]
  },
  {
   "attachments": {},
   "cell_type": "markdown",
   "metadata": {},
   "source": [
    "Let's see how attributes behave when merging nodes and edges which contain them.\n",
    "\n",
    "In our library, merging a node / edge with attributes causes a merge of **all** of the contained attributes, similarily to the cloning process. Therefore, when merging, the merged node **should not mention the merged attributes** (automatically they will all be merged and added).\n",
    "\n",
    "Begin with a simple case: Given the basic LHS with some attributes:"
   ]
  },
  {
   "cell_type": "code",
   "execution_count": null,
   "metadata": {},
   "outputs": [],
   "source": [
    "lhs = _create_graph([('A', {'attr': 1}), 'B', 'C'], [('A','B'), ('A','C')])"
   ]
  },
  {
   "attachments": {},
   "cell_type": "markdown",
   "metadata": {},
   "source": [
    "We merge nodes $A,B$, where $A$ has a single attribute and $B$ has no attributes. Therefore, we expect the merged $A\\&B$ node to have this single attribute with the same value. Note that similarily to the behaviour of attributes in cloned nodes, the attributes added to the merged node by the merging process are not marked as added (and are not mentioned at all, as explained above):"
   ]
  },
  {
   "cell_type": "code",
   "execution_count": null,
   "metadata": {},
   "outputs": [],
   "source": [
    "rhs = _create_graph(['A&B', 'C'], [('A&B','A&B'), ('A&B','C')])\n",
    "_assert_rule(lhs, rhs=rhs, nodes_merge={'A&B': {'A','B'}})"
   ]
  },
  {
   "attachments": {},
   "cell_type": "markdown",
   "metadata": {},
   "source": [
    "Unlike cloning, merging **does** allow mentioning attributes in the merged node; The rule will read these attributes as new attributes which are added after the merging.\n",
    "For example, if we want to add a new attribute to the merged node $A\\&B$ after the merging, we do mention it in the RHS and the rule will identify it as an added attribute:"
   ]
  },
  {
   "cell_type": "code",
   "execution_count": null,
   "metadata": {},
   "outputs": [],
   "source": [
    "rhs = _create_graph([('A&B', {'attr2': 5}), 'C'], [('A&B','A&B'), ('A&B','C')])\n",
    "_assert_rule(lhs, rhs=rhs, nodes_merge={'A&B': {'A','B'}}, node_attrs_add={'A&B': {'attr2': 5}})"
   ]
  },
  {
   "attachments": {},
   "cell_type": "markdown",
   "metadata": {},
   "source": [
    "When the transformation will be executed, the resulting $A\\&B$ node will have both attributes.\n",
    "\n",
    "What if we want to override one of the merged attributes of $A\\&B$? In such a case, we mention the overriding attribute in RHS, and it will be marked as an added attribute."
   ]
  },
  {
   "cell_type": "code",
   "execution_count": null,
   "metadata": {},
   "outputs": [],
   "source": [
    "rhs = _create_graph([('A&B', {'attr': 5}), 'C'], [('A&B','A&B'), ('A&B','C')])\n",
    "_assert_rule(lhs, rhs=rhs, nodes_merge={'A&B': {'A','B'}}, node_attrs_add={'A&B': {'attr': 5}})"
   ]
  },
  {
   "attachments": {},
   "cell_type": "markdown",
   "metadata": {},
   "source": [
    "During transformation, first the merged node will inherit the original value of the attribute; Then, when adding new attributes to RHS, the new value of the attribute will override the old one."
   ]
  },
  {
   "attachments": {},
   "cell_type": "markdown",
   "metadata": {},
   "source": [
    "#### Combine it all"
   ]
  },
  {
   "attachments": {},
   "cell_type": "markdown",
   "metadata": {},
   "source": [
    "We will now do some overall tests, using multiple abilities of the Rule class, as the user will do with this library:"
   ]
  },
  {
   "attachments": {},
   "cell_type": "markdown",
   "metadata": {},
   "source": [
    "For the following LHS:"
   ]
  },
  {
   "cell_type": "code",
   "execution_count": null,
   "metadata": {},
   "outputs": [
    {
     "data": {
      "image/png": "[encoded data removed]",
      "text/plain": [
       "<Figure size 640x480 with 1 Axes>"
      ]
     },
     "metadata": {},
     "output_type": "display_data"
    }
   ],
   "source": [
    "lhs = _create_graph(['A', ('B', {'attr': 'b', 'attr2': 'b2'}), 'C'], [('A','B'), ('A','C')])\n",
    "_plot_graph(lhs)"
   ]
  },
  {
   "cell_type": "code",
   "execution_count": null,
   "metadata": {},
   "outputs": [
    {
     "data": {
      "image/png": "[encoded data removed]",
      "text/plain": [
       "<Figure size 640x480 with 1 Axes>"
      ]
     },
     "metadata": {},
     "output_type": "display_data"
    }
   ],
   "source": [
    "# Remove node B (with edges and attributes), add node D and connect it to C\n",
    "p = _create_graph(['A', 'C'], [('A', 'C')])\n",
    "rhs = _create_graph(['A', 'C', 'D'], [('A', 'C'), ('C', 'D')])\n",
    "_plot_graph(rhs)\n",
    "_assert_rule(lhs, p=p, rhs=rhs, nodes_remove={'B'}, nodes_add={'D'}, edges_add={('C','D')})"
   ]
  },
  {
   "cell_type": "code",
   "execution_count": null,
   "metadata": {},
   "outputs": [
    {
     "data": {
      "image/png": "[encoded data removed]",
      "text/plain": [
       "<Figure size 640x480 with 1 Axes>"
      ]
     },
     "metadata": {},
     "output_type": "display_data"
    }
   ],
   "source": [
    "# Remove node C (with edges), remove attribute 'attr' from B, clone A two times,\n",
    "# add node D, connect one of the clones to D, add attribute 'attr3' to B\n",
    "p = _create_graph([('B', {'attr2': 'b2'}), 'A*1', 'A*3'], [('A*1','B'), ('A*3','B')])\n",
    "rhs = _create_graph([('B', {'attr2': 'b2', 'attr3': 'b3'}), 'A*1', 'A*3', 'D'], [('A*1','B'), ('A*3','B'), ('D', 'A*3')])\n",
    "_plot_graph(rhs)\n",
    "_assert_rule(lhs, p=p, rhs=rhs, nodes_remove={'C'}, node_attrs_remove={'B': {'attr'}}, nodes_clone={'A': {'A*1', 'A*3'}},\n",
    "             nodes_add={'D'}, edges_add={('D','A*3')}, node_attrs_add={'B': {'attr3': 'b3'}})"
   ]
  },
  {
   "attachments": {},
   "cell_type": "markdown",
   "metadata": {},
   "source": [
    "#### Check Exceptions"
   ]
  },
  {
   "cell_type": "code",
   "execution_count": null,
   "metadata": {},
   "outputs": [],
   "source": []
  }
 ],
 "metadata": {
  "kernelspec": {
   "display_name": "python3",
   "language": "python",
   "name": "python3"
  }
 },
 "nbformat": 4,
 "nbformat_minor": 4
}
