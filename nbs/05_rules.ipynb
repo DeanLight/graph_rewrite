{
 "cells": [
  {
   "attachments": {},
   "cell_type": "markdown",
   "metadata": {},
   "source": [
    "# Rules"
   ]
  },
  {
   "cell_type": "code",
   "execution_count": null,
   "metadata": {},
   "outputs": [],
   "source": [
    "#| default_exp rules\n",
    "%load_ext autoreload\n",
    "%autoreload 2"
   ]
  },
  {
   "attachments": {},
   "cell_type": "markdown",
   "metadata": {},
   "source": [
    "### Overview\n",
    "..."
   ]
  },
  {
   "attachments": {},
   "cell_type": "markdown",
   "metadata": {},
   "source": [
    "### Requirements"
   ]
  },
  {
   "cell_type": "code",
   "execution_count": null,
   "metadata": {},
   "outputs": [],
   "source": [
    "#| export\n",
    "from networkx import DiGraph\n",
    "from graph_rewrite.match_class import *\n",
    "from typing import *\n",
    "from graph_rewrite.core import GraphRewriteException, NodeName, EdgeName, _create_graph, _plot_graph"
   ]
  },
  {
   "attachments": {},
   "cell_type": "markdown",
   "metadata": {},
   "source": [
    "### Rules Definition"
   ]
  },
  {
   "cell_type": "code",
   "execution_count": null,
   "metadata": {},
   "outputs": [],
   "source": [
    "#| export\n",
    "class Rule:\n",
    "    def __init__(self, lhs: DiGraph, p: DiGraph = None, rhs: DiGraph = None):\n",
    "        self.lhs = lhs\n",
    "        # self.p = p if p else DiGraph()\n",
    "        self.p = p if p else self.lhs.copy()\n",
    "        self.rhs = rhs if rhs else self.p.copy()\n",
    "        \n",
    "        self.p_to_lhs, self.p_to_rhs = {}, {}\n",
    "        self.merge_sym, self.clone_sym = '&', '*'\n",
    "        self._create_p_lhs_hom()\n",
    "        self._create_p_rhs_hom()\n",
    "\n",
    "        self.rev_p_lhs = self._reversed_dictionary(self.p_to_lhs)\n",
    "        self.rev_p_rhs = self._reversed_dictionary(self.p_to_rhs)\n",
    "        self._validate_rule()\n",
    "\n",
    "    # Utils\n",
    "    def _create_p_lhs_hom(self):\n",
    "        for p_node in self.p.nodes():\n",
    "            if self.clone_sym in str(p_node):\n",
    "                if len(str(p_node).split(self.clone_sym)) == 2:\n",
    "                    lhs_node, copy_num = str(p_node).split(self.clone_sym)\n",
    "                    if lhs_node not in self.lhs.nodes():\n",
    "                        raise GraphRewriteException(f\"Node {p_node} clones an non-existing node {lhs_node}.\")\n",
    "                    elif not copy_num.isnumeric():\n",
    "                        raise GraphRewriteException(f\"Node {p_node} clone id {copy_num} is illegal.\")\n",
    "                    else:\n",
    "                        self.p_to_lhs[p_node] = lhs_node\n",
    "                else:\n",
    "                    raise GraphRewriteException(f\"Node {p_node} has a bad formatted name.\")\n",
    "            elif p_node in self.lhs.nodes():\n",
    "                self.p_to_lhs[p_node] = p_node\n",
    "            else:\n",
    "                raise GraphRewriteException(f\"Node {p_node} in P does not exist in LHS.\")\n",
    "\n",
    "    def _create_p_rhs_hom(self):\n",
    "        for rhs_node in self.rhs.nodes():\n",
    "            if self.merge_sym in str(rhs_node):\n",
    "                if len(str(rhs_node).split(self.merge_sym)) > 1:\n",
    "                    p_nodes = str(rhs_node).split(self.merge_sym)\n",
    "                    if all([p_node in self.p.nodes() for p_node in p_nodes]):\n",
    "                        for p_node in p_nodes:\n",
    "                            self.p_to_rhs[p_node] = rhs_node\n",
    "                    else:\n",
    "                        raise GraphRewriteException(f\"Node {rhs_node} merges at least one non-existing P node.\")\n",
    "        for p_node in self.p.nodes():\n",
    "            if p_node not in self.p_to_rhs.keys():\n",
    "                if p_node in self.rhs.nodes():\n",
    "                    self.p_to_rhs[p_node] = p_node\n",
    "                else:\n",
    "                    raise GraphRewriteException(f\"Node {p_node} in P does not exist in RHS, nor merges into an RHS node.\")\n",
    "\n",
    "    def _reversed_dictionary(self, dictionary: dict) -> dict[Any, set]:\n",
    "        \"\"\"Given a dictionary, return a dictionary which maps every\n",
    "        value from the original dictionary to the set of keys \n",
    "        that are mapped to it.\n",
    "\n",
    "        E.g., for {1: 'a', 2: 'a', 3: 'b'}, the reversing function\n",
    "        returns {'a': {1,2}, 'b': {3}}.\n",
    "\n",
    "        Args:\n",
    "            dictionary (dict): A dictionary to reverse\n",
    "\n",
    "        Returns:\n",
    "            dict[Any, set]: A reversed dictionary as described\n",
    "        \"\"\"\n",
    "        rev_dict: dict[Any, set] = {}\n",
    "        for key, value in dictionary.items():\n",
    "            if value not in rev_dict:\n",
    "                rev_dict[value] = set()\n",
    "            rev_dict[value].add(key)\n",
    "        return rev_dict\n",
    "\n",
    "    def _keys_from_val(self, dictionary: dict[Any, set], key) -> set:\n",
    "        return dictionary[key] if key in dictionary else set()\n",
    "\n",
    "    def _dict_key_difference(self, dict1: dict, dict2: dict) -> set:\n",
    "        \"\"\"Given two dictionaries, find all keys that appear in the first dictionary\n",
    "        but not in the second one.\n",
    "\n",
    "        Args:\n",
    "            dict1 (dict): A dictionary\n",
    "            dict2 (dict): A dictionary\n",
    "\n",
    "        Returns:\n",
    "            set: A set of all keys that appear in the first dictionary but not in the second.\n",
    "        \"\"\"\n",
    "        return set(dict1.keys()) - set(dict2.keys())\n",
    "\n",
    "    def _validate_rule(self):\n",
    "        pass # TODO\n",
    "\n",
    "    # The following functions are presented in the order of transformation.\n",
    "    def nodes_to_clone(self) -> dict[NodeName, set[NodeName]]:\n",
    "        \"\"\"Find all nodes in LHS that should be cloned in P, and for each node, find all its clones.\n",
    "\n",
    "        These nodes are all nodes in LHS which are mapped by more than one node in P (in the P->LHS Hom.).\n",
    "        Each such node in P is a clone of the node in RHS which it maps.\n",
    "\n",
    "        Returns:\n",
    "            dict[NodeName, set[NodeName]]:\n",
    "                A dictionary which maps each cloned node in LHS to a set\n",
    "                of all nodes in P which are its clones.\n",
    "        \"\"\"\n",
    "        return {lhs_node: self.rev_p_lhs[lhs_node] for lhs_node in self.lhs.nodes() \\\n",
    "                            if len(self._keys_from_val(self.rev_p_lhs, lhs_node)) > 1}\n",
    "\n",
    "    def nodes_to_remove(self) -> set[NodeName]:\n",
    "        \"\"\"Find all nodes that should be removed.\n",
    "\n",
    "        These nodes are all nodes in LHS which are not mapped by any node in P (in the P->LHS Hom.).\n",
    "\n",
    "        Returns:\n",
    "            set[NodeName]: Nodes in LHS which should be removed.\n",
    "        \"\"\"\n",
    "        return {lhs_node for lhs_node in self.lhs.nodes() if len(self._keys_from_val(self.rev_p_lhs, lhs_node)) == 0}\n",
    "\n",
    "    def edges_to_remove(self) -> set[EdgeName]:\n",
    "        \"\"\"Find all edges that should be removed (other than edges connected to removed nodes).\n",
    "\n",
    "        These edges are all edges (s,t) in LHS, or edges (s',t') such that s', t' clone s, t in P respectively,\n",
    "        which are not in P.\n",
    "\n",
    "        Note that we do not include edges which one of their endpoints was removed by the rule,\n",
    "        as during transformation, we begin by removing all removed nodes along with the connected edges.\n",
    "\n",
    "        Returns:\n",
    "            set[EdgeName]: Edges in LHS which should be removed.\n",
    "        \"\"\"\n",
    "        edges_to_remove = set()\n",
    "        for s, t in self.lhs.edges():\n",
    "            s_copies, t_copies = self._keys_from_val(self.rev_p_lhs, s), self._keys_from_val(self.rev_p_lhs, t)\n",
    "            if len(s_copies) == 0 or len(t_copies) == 0: # one of the endpoints was removed\n",
    "                continue # don't count this edge\n",
    "            for s_copy in s_copies:\n",
    "                for t_copy in t_copies:\n",
    "                    if (s_copy, t_copy) not in self.p.edges():\n",
    "                        edges_to_remove.add((s_copy, t_copy))\n",
    "        return edges_to_remove\n",
    "\n",
    "    def node_attrs_to_remove(self) -> dict[NodeName, set]:\n",
    "        \"\"\"For each node in P, find all attributes of its corresponding LHS node\n",
    "        which should be removed from the P node.\n",
    "\n",
    "        For a pair (node_lhs, node_p), such that node_p is a copy of node_lhs in P,\n",
    "        these attributes are all attributes that appear in node_lhs but not in node_p.\n",
    "\n",
    "        Returns:\n",
    "            dict[NodeName, set]: A dictionary from P nodes to attributes that should be\n",
    "                removed from their corresponding LHS nodes.\n",
    "        \"\"\"\n",
    "        attrs_to_remove = {}\n",
    "        for node_lhs in self.lhs.nodes():\n",
    "            p_copies = self._keys_from_val(self.rev_p_lhs, node_lhs)\n",
    "            for node_p in p_copies:\n",
    "                diff_attrs = self._dict_key_difference(\n",
    "                    self.lhs.nodes(data=True)[node_lhs],\n",
    "                    self.p.nodes(data=True)[node_p]\n",
    "                )\n",
    "                if len(diff_attrs) != 0:\n",
    "                    attrs_to_remove[node_p] = diff_attrs\n",
    "        return attrs_to_remove\n",
    "\n",
    "    def edge_attrs_to_remove(self) -> dict[EdgeName, set]:\n",
    "        \"\"\"For each edge in P, find all attributes of its corresponding LHS edge\n",
    "        which should be removed from the P edge.\n",
    "\n",
    "        Returns:\n",
    "            dict[EdgeName, set]: A dictionary from P edges to attributes that should be\n",
    "                removed from their corresponding LHS edges.\n",
    "        \"\"\"\n",
    "        attrs_to_remove = {}\n",
    "        for s, t in self.lhs.edges():\n",
    "            s_copies, t_copies = self._keys_from_val(self.rev_p_lhs, s), self._keys_from_val(self.rev_p_lhs, t)\n",
    "            for s_copy in s_copies:\n",
    "                for t_copy in t_copies:\n",
    "                    if (s_copy, t_copy) in self.p.edges():\n",
    "                        diff_attrs = self._dict_key_difference(\n",
    "                            self.lhs.get_edge_data(s, t),\n",
    "                            self.p.get_edge_data(s_copy, t_copy),\n",
    "                        )\n",
    "                        if len(diff_attrs) != 0:\n",
    "                            attrs_to_remove[(s_copy, t_copy)] = diff_attrs\n",
    "        return attrs_to_remove\n",
    "\n",
    "    def nodes_to_merge(self) -> dict[NodeName, set[NodeName]]:\n",
    "        \"\"\"Find all nodes in RHS which are a merge of nodes in P, and for each node, find all P nodes that merge into it.\n",
    "\n",
    "        These nodes are all nodes in RHS which are mapped by more than one node in P (in the P->RHS Hom.).\n",
    "        That RHS node is the merge of all nodes in P that map to it.\n",
    "\n",
    "        Returns:\n",
    "            dict[NodeName, set[NodeName]]: \n",
    "                A dictionary which maps each node in RHS that is a merge of P nodes,\n",
    "                to a set of nodes in P which it merges.\n",
    "        \"\"\"\n",
    "        return {rhs_node: self.rev_p_rhs[rhs_node] for rhs_node in self.rhs.nodes() \\\n",
    "                            if len(self._keys_from_val(self.rev_p_rhs, rhs_node)) > 1}\n",
    "\n",
    "    def nodes_to_add(self) -> set[NodeName]:\n",
    "        \"\"\"Find all nodes which should be added.\n",
    "\n",
    "        These nodes are all nodes in RHS which are not mapped by any node in P (in the P->LHS Hom.).\n",
    "\n",
    "        Returns:\n",
    "            set[NodeName]: Nodes which should be added to RHS.\n",
    "        \"\"\"\n",
    "        return {rhs_node for rhs_node in self.rhs.nodes() if len(self._keys_from_val(self.rev_p_rhs, rhs_node)) == 0}\n",
    "\n",
    "    def edges_to_add(self) -> set[EdgeName]:\n",
    "        \"\"\"Find all edges that should be added.\n",
    "\n",
    "        These edges are all edges (s,t) in RHS that do not appear in P,\n",
    "        which are NOT edges (s,t) that were created by a merge.\n",
    "\n",
    "        Returns:\n",
    "            set[EdgeName]: Edges which should be added to RHS.\n",
    "        \"\"\"\n",
    "        edges_to_add = set()\n",
    "        for s, t in self.rhs.edges():\n",
    "            s_copies, t_copies = self._keys_from_val(self.rev_p_rhs, s), self._keys_from_val(self.rev_p_rhs, t)\n",
    "            if len(s_copies) == 0 or len(t_copies) == 0: # edge with new endpoint(s)\n",
    "                edges_to_add.add((s,t)) # surely a new edge\n",
    "            # Edges that were created by merging OR New edges from existing nodes\n",
    "            elif all([(s_copy, t_copy) not in self.p.edges() for s_copy in s_copies for t_copy in t_copies]):\n",
    "                edges_to_add.add((s,t))\n",
    "\n",
    "        return edges_to_add\n",
    "\n",
    "    def node_attrs_to_add(self) -> dict[NodeName, dict]:\n",
    "        \"\"\"For each node in RHS, find all attributes (and values) of its corresponding P node(s)\n",
    "        which should be added to the RHS node.\n",
    "\n",
    "        For each RHS node n, if n is an added node then these attributes (and values) are all attributes (and values) of n.\n",
    "        \n",
    "        NOTE: Otherwise, n is a merge of one or more nodes in P, then these attributes are the union of all\n",
    "        attributes of the merged nodes which do not appear in n. Their values are obtained by a dictionary merge,\n",
    "        on which we did not decide yet.\n",
    "\n",
    "        Returns:\n",
    "            dict[NodeName, dict]: A dictionary that maps nodes in RHS to their added attributes and values.\n",
    "        \"\"\"\n",
    "        #TODO: implement\n",
    "        return {}\n",
    "\n",
    "    def edge_attrs_to_add(self) -> dict[EdgeName, dict]:\n",
    "        #TODO: implement\n",
    "        return {}\n"
   ]
  },
  {
   "attachments": {},
   "cell_type": "markdown",
   "metadata": {},
   "source": [
    "### Tests"
   ]
  },
  {
   "attachments": {},
   "cell_type": "markdown",
   "metadata": {},
   "source": [
    "#### Test Utils"
   ]
  },
  {
   "cell_type": "code",
   "execution_count": null,
   "metadata": {},
   "outputs": [],
   "source": [
    "def _assert_rule(lhs: DiGraph, p: DiGraph = None, rhs: DiGraph = None,\n",
    "                nodes_clone: dict[NodeName, set[NodeName]] = {},\n",
    "                nodes_remove: set[NodeName] = set(),\n",
    "                edges_remove: set[EdgeName] = set(),\n",
    "                node_attrs_remove: dict[NodeName, set] = {}, \n",
    "                edge_attrs_remove: dict[EdgeName, set] = {}, \n",
    "                nodes_merge: dict[NodeName, set[NodeName]] = {}, \n",
    "                nodes_add: set[NodeName] = set(), \n",
    "                edges_add: set[EdgeName] = set(),\n",
    "                node_attrs_add: dict[NodeName, dict] = {}, \n",
    "                edge_attrs_add: dict[EdgeName, dict] = {}):\n",
    "    rule = Rule(lhs, p=p, rhs=rhs)\n",
    "\n",
    "    assert rule.nodes_to_clone() == nodes_clone\n",
    "    assert rule.nodes_to_remove() == nodes_remove\n",
    "    assert rule.edges_to_remove() == edges_remove\n",
    "    assert rule.node_attrs_to_remove() == node_attrs_remove\n",
    "    assert rule.edge_attrs_to_remove() == edge_attrs_remove\n",
    "    assert rule.nodes_to_merge() == nodes_merge\n",
    "    assert rule.nodes_to_add() == nodes_add\n",
    "    assert rule.edges_to_add() == edges_add\n",
    "    assert rule.node_attrs_to_add() == node_attrs_add\n",
    "    assert rule.edge_attrs_to_add() == edge_attrs_add"
   ]
  },
  {
   "attachments": {},
   "cell_type": "markdown",
   "metadata": {},
   "source": [
    "#### Tests"
   ]
  },
  {
   "attachments": {},
   "cell_type": "markdown",
   "metadata": {},
   "source": [
    "##### Preserve and Remove (Without Attributes)"
   ]
  },
  {
   "cell_type": "code",
   "execution_count": null,
   "metadata": {},
   "outputs": [
    {
     "data": {
      "image/png": "[encoded data removed]",
      "text/plain": [
       "<Figure size 640x480 with 1 Axes>"
      ]
     },
     "metadata": {},
     "output_type": "display_data"
    }
   ],
   "source": [
    "lhs = _create_graph(['A', 'B', 'C'], [('A','B'), ('A','C')])\n",
    "_plot_graph(lhs)"
   ]
  },
  {
   "cell_type": "code",
   "execution_count": null,
   "metadata": {},
   "outputs": [],
   "source": [
    "# Rule which does not change a thing\n",
    "_assert_rule(lhs)"
   ]
  },
  {
   "cell_type": "code",
   "execution_count": null,
   "metadata": {},
   "outputs": [],
   "source": [
    "# Remove all edges\n",
    "p = _create_graph(['A', 'B', 'C'], [])\n",
    "_assert_rule(lhs, p=p, edges_remove={('A','B'), ('A','C')})"
   ]
  },
  {
   "cell_type": "code",
   "execution_count": null,
   "metadata": {},
   "outputs": [],
   "source": [
    "# Remove node A (connected edges removed automatically and thus not counted)\n",
    "p = _create_graph(['B', 'C'], [])\n",
    "_assert_rule(lhs, p=p, nodes_remove={'A'})"
   ]
  },
  {
   "cell_type": "code",
   "execution_count": null,
   "metadata": {},
   "outputs": [],
   "source": [
    "# Remove node B (and connected edge), also remove (A,C)\n",
    "p = _create_graph(['A','C'], [])\n",
    "_assert_rule(lhs, p=p, nodes_remove={'B'}, edges_remove={('A','C')})"
   ]
  },
  {
   "attachments": {},
   "cell_type": "markdown",
   "metadata": {},
   "source": [
    "##### Clone Nodes"
   ]
  },
  {
   "cell_type": "code",
   "execution_count": null,
   "metadata": {},
   "outputs": [
    {
     "data": {
      "image/png": "[encoded data removed]",
      "text/plain": [
       "<Figure size 640x480 with 1 Axes>"
      ]
     },
     "metadata": {},
     "output_type": "display_data"
    }
   ],
   "source": [
    "# Clone node C (connected edges cloned automatically and not counted as added edges, same about added nodes)\n",
    "p = _create_graph(['A', 'B', 'C*1', 'C*2'], [('A','B'), ('A','C*1'), ('A', 'C*2')])\n",
    "_plot_graph(p)\n",
    "_assert_rule(lhs, p=p, nodes_clone={'C': {'C*1', 'C*2'}})"
   ]
  },
  {
   "cell_type": "code",
   "execution_count": null,
   "metadata": {},
   "outputs": [],
   "source": [
    "# Clone node A (3 copies) and B (2 copies)\n",
    "p = _create_graph(['A', 'B', 'A*3', 'A*5', 'C', 'B*9'], \n",
    "                  [('A','B'), ('A', 'B*9'), ('A*3', 'B'), ('A*3', 'B*9'), ('A*5', 'B'), ('A*5', 'B*9'), \n",
    "                   ('A', 'C'), ('A*3', 'C'), ('A*5', 'C')])\n",
    "_assert_rule(lhs, p=p, nodes_clone={'A': {'A', 'A*5', 'A*3'}, 'B': {'B*9', 'B'}})"
   ]
  },
  {
   "cell_type": "code",
   "execution_count": null,
   "metadata": {},
   "outputs": [
    {
     "data": {
      "image/png": "[encoded data removed]",
      "text/plain": [
       "<Figure size 640x480 with 1 Axes>"
      ]
     },
     "metadata": {},
     "output_type": "display_data"
    }
   ],
   "source": [
    "# Clone node A (2 copies) and B (2 copies), remove node C\n",
    "p = _create_graph(['A', 'B', 'A*3', 'B*9'], \n",
    "                  [('A','B'), ('A', 'B*9'), ('A*3', 'B'), ('A*3', 'B*9')])\n",
    "_plot_graph(p)\n",
    "_assert_rule(lhs, p=p, nodes_clone={'A': {'A', 'A*3'}, 'B': {'B*9', 'B'}}, nodes_remove={'C'})"
   ]
  },
  {
   "cell_type": "code",
   "execution_count": null,
   "metadata": {},
   "outputs": [
    {
     "data": {
      "image/png": "[encoded data removed]",
      "text/plain": [
       "<Figure size 640x480 with 1 Axes>"
      ]
     },
     "metadata": {},
     "output_type": "display_data"
    }
   ],
   "source": [
    "# Clone node C, exclude cloning the (A,C) edge for clone C*1\n",
    "p = _create_graph(['A', 'B', 'C*1', 'C*2'], [('A','B'), ('A', 'C*2')])\n",
    "_plot_graph(p)\n",
    "_assert_rule(lhs, p=p, nodes_clone={'C': {'C*1', 'C*2'}}, edges_remove={('A','C*1')})"
   ]
  },
  {
   "attachments": {},
   "cell_type": "markdown",
   "metadata": {},
   "source": [
    "##### Preserve, Remove and Clone (With Attributes)"
   ]
  },
  {
   "cell_type": "code",
   "execution_count": null,
   "metadata": {},
   "outputs": [],
   "source": [
    "lhs = _create_graph(['A', ('B', {'attr_b': 5}), 'C'], [('A','B'), ('A','C', {'attr_ac': 10})])"
   ]
  },
  {
   "cell_type": "code",
   "execution_count": null,
   "metadata": {},
   "outputs": [],
   "source": [
    "# Remove a node / edge with attributes (attributes are not counted as deleted)\n",
    "p = _create_graph(['A', 'C'], [('A','C', {'attr_ac': 10})])\n",
    "_assert_rule(lhs, p=p, nodes_remove={'B'})\n",
    "p = _create_graph(['A', ('B', {'attr_b': 5}), 'C'], [('A','B')])\n",
    "_assert_rule(lhs, p=p, edges_remove={('A','C')})"
   ]
  },
  {
   "cell_type": "code",
   "execution_count": null,
   "metadata": {},
   "outputs": [],
   "source": [
    "# Remove an attribute from B\n",
    "p = _create_graph(['A', 'B', 'C'], [('A','B'), ('A','C', {'attr_ac': 10})])\n",
    "_assert_rule(lhs, p=p, node_attrs_remove={'B': {'attr_b'}})"
   ]
  },
  {
   "cell_type": "code",
   "execution_count": null,
   "metadata": {},
   "outputs": [],
   "source": [
    "# Clone node B with attributes\n",
    "p = _create_graph(['A', ('B', {'attr_b': 5}), 'C', ('B*1', {'attr_b': 5})],\n",
    "                  [('A','B'), ('A','B*1'), ('A','C', {'attr_ac': 10})])\n",
    "_assert_rule(lhs, p=p, nodes_clone={'B': {'B', 'B*1'}})"
   ]
  },
  {
   "cell_type": "code",
   "execution_count": null,
   "metadata": {},
   "outputs": [],
   "source": [
    "# Update LHS with attribute for (A,B), then clone node B with attributes (shouldn't count edges)\n",
    "lhs = _create_graph(['A', ('B', {'attr_b': 5}), 'C'], [('A','B', {'attr_ab': 12}), ('A','C', {'attr_ac': 10})])\n",
    "p = _create_graph(['A', ('B', {'attr_b': 5}), 'C', ('B*1', {'attr_b': 5})],\n",
    "                  [('A','B', {'attr_ab': 12}), ('A','B*1', {'attr_ab': 12}), ('A','C', {'attr_ac': 10})])\n",
    "_assert_rule(lhs, p=p, nodes_clone={'B': {'B', 'B*1'}})"
   ]
  },
  {
   "attachments": {},
   "cell_type": "markdown",
   "metadata": {},
   "source": [
    "##### Add Nodes, Edges (Without Attributes)"
   ]
  },
  {
   "cell_type": "code",
   "execution_count": null,
   "metadata": {},
   "outputs": [],
   "source": [
    "lhs = _create_graph(['A', 'B', 'C'], [('A','B'), ('A','C')])"
   ]
  },
  {
   "cell_type": "code",
   "execution_count": null,
   "metadata": {},
   "outputs": [],
   "source": [
    "# Add a new node D\n",
    "rhs = _create_graph(['A', 'B', 'C', 'D'], [('A','B'), ('A','C')])\n",
    "_assert_rule(lhs, rhs=rhs, nodes_add={'D'})"
   ]
  },
  {
   "cell_type": "code",
   "execution_count": null,
   "metadata": {},
   "outputs": [],
   "source": [
    "# Add a new edge from existing nodes\n",
    "rhs = _create_graph(['A', 'B', 'C'], [('A','B'), ('A','C'), ('B','C')])\n",
    "_assert_rule(lhs, rhs=rhs, edges_add={('B','C')})"
   ]
  },
  {
   "cell_type": "code",
   "execution_count": null,
   "metadata": {},
   "outputs": [],
   "source": [
    "# Add a new node D, a new edge using D and a new edge from existing nodes (with attributes)\n",
    "rhs = _create_graph(['A', 'B', 'C', 'D'], [('A','B'), ('A','D'), ('A','C'), ('B','C')])\n",
    "_assert_rule(lhs, rhs=rhs, nodes_add={'D'}, edges_add={('B','C'), ('A','D')})"
   ]
  },
  {
   "attachments": {},
   "cell_type": "markdown",
   "metadata": {},
   "source": [
    "##### Merge Nodes"
   ]
  },
  {
   "cell_type": "code",
   "execution_count": null,
   "metadata": {},
   "outputs": [],
   "source": [
    "# Merge node B and C (don't count edges and nodes that were added/removed as a result)\n",
    "rhs = _create_graph(['A', 'B&C'], [('A','B&C')])\n",
    "_assert_rule(lhs, rhs=rhs, nodes_merge={'B&C': {'B','C'}})"
   ]
  },
  {
   "cell_type": "code",
   "execution_count": null,
   "metadata": {},
   "outputs": [],
   "source": [
    "# Merge node A and B\n",
    "rhs = _create_graph(['A&B', 'C'], [('A&B','A&B'), ('A&B', 'C')])\n",
    "_assert_rule(lhs, rhs=rhs, nodes_merge={'A&B': {'A','B'}})"
   ]
  },
  {
   "cell_type": "code",
   "execution_count": null,
   "metadata": {},
   "outputs": [],
   "source": [
    "# Merge node A, B and C\n",
    "rhs = _create_graph(['A&B&C'], [('A&B&C', 'A&B&C')])\n",
    "_assert_rule(lhs, rhs=rhs, nodes_merge={'A&B&C': {'A','B','C'}})"
   ]
  }
 ],
 "metadata": {
  "kernelspec": {
   "display_name": "python3",
   "language": "python",
   "name": "python3"
  }
 },
 "nbformat": 4,
 "nbformat_minor": 4
}
