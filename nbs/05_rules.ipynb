{
 "cells": [
  {
   "attachments": {},
   "cell_type": "markdown",
   "metadata": {},
   "source": [
    "# Rules"
   ]
  },
  {
   "cell_type": "code",
   "execution_count": null,
   "metadata": {},
   "outputs": [],
   "source": [
    "#| default_exp rules"
   ]
  },
  {
   "cell_type": "code",
   "execution_count": null,
   "metadata": {},
   "outputs": [
    {
     "name": "stdout",
     "output_type": "stream",
     "text": [
      "The autoreload extension is already loaded. To reload it, use:\n",
      "  %reload_ext autoreload\n"
     ]
    }
   ],
   "source": [
    "#| hide\n",
    "from nbdev.showdoc import show_doc\n",
    "%load_ext autoreload\n",
    "%autoreload 2"
   ]
  },
  {
   "attachments": {},
   "cell_type": "markdown",
   "metadata": {},
   "source": [
    "### Overview\n",
    "Up until now, we've covered the parsing and matching phases of graph transformation. The user provides specifications for 3 NetworkX graphs which, when combined, denote a single **rule** of graph transformation:\n",
    "\n",
    "1. **LHS** - A **pattern** graph which is searched in the input graph; For each match, we apply the transformation. Previous notebooks handled the way we use LHS Graphs to find matches in the graph.\n",
    "\n",
    "2. **P** (optional) - Denotes the parts of the pattern which we want to **preserve** during the transformation. Nodes, edges and attributes that we want to preserve from LHS appear in P as well; Anything that appears in the input graph but not in P is thus removed during the transformation. \n",
    "    - When combined with LHS, P can also denote the **cloning** of LHS nodes. In the context of this library, the cloning of a LHS node $n$ is the creation of a new node (that appears in P) which has the same attributes as $n$, and whose edges are clones of the edges connected to $n$ in LHS.\n",
    "\n",
    "3. **RHS** (optional) - Denotes the **interface of the graph after the transformation**. As a result, we can infer from it the nodes, edges and attributes that we add to the preserved parts, resulting in the final transformation. Nodes, edges and attributes that appear in RHS but not in P are added.\n",
    "    - When combined with P, RHS can also denote the **merging** of P nodes. In the context of this library, the merging of P nodes $x_1, ..., x_k$ is the creation of a new node (that appears in RHS) whose attributes and edges are the merge of the corresponding components in $x_1,...,x_k$.\n",
    "\n",
    "The following module defines the **Rule** class which, given these three graphs, allows finding the nodes/edges/attribute to add/remove/clone/merge as dictated by the rule. These findings will be used in the final module, which will finally execute the transformation itself."
   ]
  },
  {
   "attachments": {},
   "cell_type": "markdown",
   "metadata": {},
   "source": [
    "### Requirements"
   ]
  },
  {
   "cell_type": "code",
   "execution_count": null,
   "metadata": {},
   "outputs": [],
   "source": [
    "#| export\n",
    "from typing import *\n",
    "from networkx import DiGraph\n",
    "\n",
    "from graph_rewrite.core import GraphRewriteException, NodeName, EdgeName, _create_graph, draw\n",
    "from graph_rewrite.match_class import *\n",
    "from graph_rewrite.lhs import lhs_to_graph\n",
    "from graph_rewrite.p_rhs_parse import RenderFunc, p_to_graph, rhs_to_graph"
   ]
  },
  {
   "cell_type": "markdown",
   "metadata": {},
   "source": [
    "### Merge Policy\n",
    "One of the features our rules allow is merging nodes. Nodes which appear in P are merged into new RHS nodes, along with their attributes. This might cause an ambiguity when merging P nodes which share one or more attributes with the same name (but different values) - What should be the value of that attribute in the new merged RHS node?\n",
    "\n",
    "We offer two optional behaviors - policies for solving this conflict:\n",
    "1. **choose_last** (default) - if the merged nodes with the shared attribute are $x_1,...,x_n$, then the value of the attribute in the merged node will be that of $x_n$.\n",
    "2. **union** - if the merged node with the shared attribute are $x_1,...,x_n$, with the attribute values $v_1,...,v_n$ respectively, then the value of the attribute in the merged node will be $set(v_1,...,v_n)$."
   ]
  },
  {
   "cell_type": "code",
   "execution_count": null,
   "metadata": {},
   "outputs": [],
   "source": [
    "#| export\n",
    "class MergePolicy:\n",
    "    \"\"\"Static class for policies for solving conflicts when merging nodes with shared attributes.\n",
    "    \"\"\"\n",
    "    @staticmethod\n",
    "    def _merge_dicts(dict1: dict, dict2: dict, collision_policy: Callable[[Any, Any], Any]) -> dict:\n",
    "        \"\"\"A generic dictionary merger, which solves conflicts with a given collision policy.\n",
    "\n",
    "        Args:\n",
    "            dict1 (dict): A dictionary\n",
    "            dict2 (dict): A dictionary\n",
    "            collision_policy (Callable[[Any, Any], Any]): A function that recieves two values and returns a new value (for solving the conflict).\n",
    "\n",
    "        Returns:\n",
    "            dict: The merged dictionary according to the collision policy.\n",
    "        \"\"\"\n",
    "        merged = {}\n",
    "        for key in dict1.keys():\n",
    "            if key in dict2.keys():\n",
    "                merged[key] = collision_policy(dict1[key], dict2[key])\n",
    "            else:\n",
    "                merged[key] = dict1[key]\n",
    "        for key in dict2.keys():\n",
    "            if key not in dict1.keys():\n",
    "                merged[key] = dict2[key]\n",
    "        return merged\n",
    "    \n",
    "    @staticmethod\n",
    "    def choose_last(dict1: dict, dict2: dict) -> dict:\n",
    "        \"\"\"Merge two dictionaries, such that for each attribute x they share, its merged value is dict2[x].\n",
    "\n",
    "        Args:\n",
    "            dict1 (dict): A dictionary\n",
    "            dict2 (dict): A dictionary\n",
    "\n",
    "        Returns:\n",
    "            dict: The merged dictionary\n",
    "        \"\"\"\n",
    "        return MergePolicy._merge_dicts(dict1, dict2, lambda v1, v2: v2)\n",
    "    \n",
    "    @staticmethod\n",
    "    def union(dict1: dict, dict2: dict) -> dict:\n",
    "        \"\"\"Merge two dictionaries, such that for each attributbe x they share, its merged value is a list that contains both dict1[x] and dict2[x].\n",
    "\n",
    "        Args:\n",
    "            dict1 (dict): A dictionary\n",
    "            dict2 (dict): A dictionary\n",
    "\n",
    "        Returns:\n",
    "            dict: The merged dictionary.\n",
    "        \"\"\"\n",
    "        return MergePolicy._merge_dicts(dict1, dict2, \n",
    "                                           lambda v1, v2: [v1, v2])"
   ]
  },
  {
   "attachments": {},
   "cell_type": "markdown",
   "metadata": {},
   "source": [
    "### Rules Definition\n",
    "The following is the complete definition of the Rule class (and the exceptions it might raise)."
   ]
  },
  {
   "cell_type": "code",
   "execution_count": null,
   "metadata": {},
   "outputs": [],
   "source": [
    "#| export\n",
    "_exception_msgs = {\n",
    "    \"clone_non_existing\": lambda p_node, lhs_node: f\"Node {p_node} clones an non-existing node {lhs_node}.\",\n",
    "    \"clone_illegal_id\": lambda p_node, copy_num: f\"Node {p_node} clone id {copy_num} is illegal.\",\n",
    "    \"p_bad_format\": lambda p_node: f\"Node {p_node} has a bad formatted name.\",\n",
    "    \"p_not_in_lhs\": lambda p_node: f\"Node {p_node} in P does not exist in LHS.\",\n",
    "    \"p_edge_not_in_lhs\": lambda p_s, p_t: f\"Edge {(p_s, p_t)} in P does not exist (and doesn't clone any edge) in LHS.\",\n",
    "    \"rhs_illegal_name\": lambda rhs_node: f\"Node {rhs_node} merges at least one non-existing P node.\",\n",
    "    \"rhs_not_in_p\": lambda p_node: f\"Node {p_node} in P does not exist in RHS, nor merges into an RHS node.\",\n",
    "    \"add_attrs_in_p_node\": lambda p_node: f\"P node {p_node} cannot add attributes.\",\n",
    "    \"add_attrs_in_p_edge\": lambda s_copy, t_copy: f\"P edge ({s_copy},{t_copy}) cannot add attributes.\",\n",
    "    \"remove_attrs_in_rhs_node\": lambda rhs_node: f\"RHS node {rhs_node} cannot remove attributes.\",\n",
    "    \"remove_attrs_in_rhs_edge\": lambda s, t: f\"RHS edge ({s},{t}) cannot remove attributes.\",\n",
    "    \"attrs_in_cloned_node\": lambda p_node: f\"Cloned node {p_node} in P should not explicitly mention attributes\",\n",
    "    \"attrs_in_cloned_edge\": lambda s_copy, t_copy: f\"Cloned edge ({s_copy},{t_copy}) in P should not explicitly mention attributes\"\n",
    "}"
   ]
  },
  {
   "cell_type": "code",
   "execution_count": null,
   "metadata": {},
   "outputs": [],
   "source": [
    "#| export\n",
    "class Rule:\n",
    "    global _exception_msgs\n",
    "    \"\"\"A transformation rule, defined by 1-3 graphs:\n",
    "    - LHS - defines the pattern to search for in the graph. This includes both single nodes and collections patterns, and the match object to go over all nodes and edges in the match easily.\n",
    "    - P - defines what parts to preserve (and also defines clones).\n",
    "    - RHS - defines what parts to add (and also defines merges).\n",
    "    \"\"\"\n",
    "    def __init__(self, match: Match, single_nodes_lhs: DiGraph, collections_lhs: DiGraph = None, \n",
    "                 p: DiGraph = None, rhs: DiGraph = None,\n",
    "                 merge_policy = MergePolicy.choose_last):\n",
    "        self.match = match\n",
    "        self.single_nodes_lhs = single_nodes_lhs\n",
    "        self.collections_lhs = collections_lhs\n",
    "        self.lhs = self._create_lhs_graph()\n",
    "        self.p = p if p else self.lhs_p_copy(self.lhs)\n",
    "        self.rhs = rhs if rhs else self.p.copy()\n",
    "        self.merge_policy = merge_policy\n",
    "\n",
    "        self._p_to_lhs, self._p_to_rhs = {}, {}\n",
    "        self._merge_sym, self._clone_sym = '&', '*'\n",
    "        self._create_p_lhs_hom()\n",
    "        self._create_p_rhs_hom()\n",
    "\n",
    "        self._rev_p_lhs = self._reversed_dictionary(self._p_to_lhs)\n",
    "        self._rev_p_rhs = self._reversed_dictionary(self._p_to_rhs)\n",
    "        self._validate_rule()\n",
    "\n",
    "    # Utils\n",
    "    def _create_lhs_graph(self):\n",
    "        g = DiGraph()\n",
    "        for node in self.match.get_pattern_nodes():\n",
    "            g.add_node(node)\n",
    "            if self.match.is_single(node):\n",
    "                node_attrs = self.single_nodes_lhs.nodes[node]\n",
    "            else:\n",
    "                node_attrs = self.collections_lhs.nodes[node]\n",
    "            g.nodes[node].update(node_attrs)\n",
    "        for src, dst in self.match.get_pattern_edges():\n",
    "            g.add_edge(src, dst)\n",
    "            if self.match.is_single(src) and self.match.is_single(dst):\n",
    "                edge_attrs = self.single_nodes_lhs.edges[src, dst]\n",
    "            else:\n",
    "                edge_attrs = self.collections_lhs.edges[src, dst]\n",
    "            g.edges[src, dst].update(edge_attrs)\n",
    "        return g\n",
    "\n",
    "    def _create_p_lhs_hom(self):\n",
    "        \"\"\"Construct the homomorphism from P to LHS based on the rule.\n",
    "        Handles cloned nodes.\n",
    "        \"\"\"\n",
    "        for p_node in self.p.nodes():\n",
    "            # If the p_node contains the cloning symbol, then it's a clone. Extract the clone it denotes (if any)\n",
    "            if self._clone_sym in str(p_node):\n",
    "                if len(str(p_node).split(self._clone_sym)) == 2:\n",
    "                    lhs_node, copy_num = str(p_node).split(self._clone_sym)\n",
    "                    # Clones must have the format \"{node}*{copy_num}\" where node is in LHS, copy_num is a number\n",
    "                    if lhs_node not in self.lhs.nodes():\n",
    "                        raise GraphRewriteException(_exception_msgs[\"clone_non_existing\"](p_node, lhs_node))\n",
    "                    elif not copy_num.isnumeric():\n",
    "                        raise GraphRewriteException(_exception_msgs[\"clone_illegal_id\"](p_node, copy_num))\n",
    "                    else:\n",
    "                        # Map the clone p node to the cloned lhs node\n",
    "                        self._p_to_lhs[p_node] = lhs_node\n",
    "                # Clones must have the format \"{node}*{copy_num}\"\n",
    "                else:\n",
    "                    raise GraphRewriteException(_exception_msgs[\"p_bad_format\"](p_node))\n",
    "            # Else, p_node is a preservation of an lhs_node or a collection with the same name\n",
    "            elif p_node in self.lhs.nodes():\n",
    "                self._p_to_lhs[p_node] = p_node\n",
    "            # If it's neither, then the p_node is illegal (does not preserve / clone)\n",
    "            else:\n",
    "                raise GraphRewriteException(_exception_msgs[\"p_not_in_lhs\"](p_node))\n",
    "             \n",
    "    def _create_p_rhs_hom(self):\n",
    "        \"\"\"Construct the homomorphism from P to RHS based on the rule.\n",
    "        Handles merged nodes.\n",
    "        \"\"\"\n",
    "        for rhs_node in self.rhs.nodes():\n",
    "            # If the rhs_node has the merging symbol, then it's a merge. Extract the P nodes it merges (if any)\n",
    "            if self._merge_sym in str(rhs_node):\n",
    "                # Merged node must have the format \"{}&{}&...&{}\" where each argument is a P node\n",
    "                if len(str(rhs_node).split(self._merge_sym)) > 1:\n",
    "                    p_nodes = str(rhs_node).split(self._merge_sym)\n",
    "                    # Check that the merge refrences only existing p nodes\n",
    "                    if all([p_node in self.p.nodes() for p_node in p_nodes]):\n",
    "                        # If so, map each p_node to the new merged rhs node\n",
    "                        for p_node in p_nodes:\n",
    "                            self._p_to_rhs[p_node] = rhs_node \n",
    "                    else:\n",
    "                        raise GraphRewriteException(_exception_msgs[\"rhs_illegal_name\"](rhs_node))\n",
    "        for p_node in self.p.nodes():\n",
    "            # Every node in P must be mapped to its preserved RHS node, or to the node that merges it (this case is already handled at this point)\n",
    "            if p_node not in self._p_to_rhs.keys():\n",
    "                if p_node in self.rhs.nodes():\n",
    "                    self._p_to_rhs[p_node] = p_node\n",
    "                else:\n",
    "                    raise GraphRewriteException(_exception_msgs[\"rhs_not_in_p\"](p_node))\n",
    "\n",
    "    def _reversed_dictionary(self, dictionary: dict) -> dict[Any, set]:\n",
    "        \"\"\"Given a dictionary, return a dictionary which maps every\n",
    "        value from the original dictionary to the set of keys \n",
    "        that are mapped to it.\n",
    "\n",
    "        E.g., for {1: 'a', 2: 'a', 3: 'b'}, the reversing function\n",
    "        returns {'a': {1,2}, 'b': {3}}.\n",
    "\n",
    "        Args:\n",
    "            dictionary (dict): A dictionary to reverse\n",
    "\n",
    "        Returns:\n",
    "            dict[Any, set]: A reversed dictionary as described\n",
    "        \"\"\"\n",
    "        rev_dict: dict[Any, set] = {}\n",
    "        for key, value in dictionary.items():\n",
    "            if value not in rev_dict:\n",
    "                rev_dict[value] = set()\n",
    "            rev_dict[value].add(key)\n",
    "        return rev_dict\n",
    "\n",
    "    def _dict_difference(self, target: dict, other: dict) -> dict:\n",
    "        \"\"\"Given two dictionaries, create a new dictionary which \"subtracts\" the other dictionary from the target one:\n",
    "        For each key in target, if it does not appear in the other dictionary, or appears there with a different value,\n",
    "        then we map the key to the target value in the new dictionary. Otherwise, the key is not included in the new dictionary.\n",
    "\n",
    "        Args:\n",
    "            target (dict): A dictionary\n",
    "            other (dict): A dictionary to subtract from target\n",
    "\n",
    "        Returns:\n",
    "            dict: The difference dictionary as explained\n",
    "        \"\"\"\n",
    "        new_dict = {}\n",
    "        for key in target:\n",
    "            if key in other and target[key] != other[key]:\n",
    "                new_dict[key] = target[key]\n",
    "            elif key not in other:\n",
    "                new_dict[key] = target[key]\n",
    "        return new_dict\n",
    "    \n",
    "    def lhs_p_copy(self, G: DiGraph):\n",
    "        '''Copy a graph (specifically lhs graph), to the format of a p graph.\n",
    "        When the input p is None we choose p to be exactly the lhs, except the attributes are set to (None, None), to support \n",
    "        input of the shape NodeName[attribute1]-[attribute2]->NodeName2 with no need to specify the attribute value'''\n",
    "        H = DiGraph()\n",
    "        for node, attrs in G.nodes(data=True):\n",
    "            H.add_node(node, **{key: (None, None) for key in attrs})\n",
    "        for u, v, attrs in G.edges(data=True):\n",
    "            H.add_edge(u, v, **{key: (None, None) for key in attrs})\n",
    "\n",
    "        return H\n",
    "    \n",
    "    def format_value_attribute(self, d: dict):\n",
    "        '''Change an input dictionary of {attribute_name:(type,value)} format to {attribute_name:value} format\n",
    "        '''\n",
    "        return {key:d[key][1] for key in d}\n",
    "\n",
    "    # TODO: need to add a check that there are no contradictions caused by mapping the same input node to a single pattern node and a collection pattern node\n",
    "    # For example: \n",
    "    # 1. Removing an node/edge as the single pattern node, but keeping it as the collection pattern node, or vice versa\n",
    "    # 2. Removing an attribute from a node/edge in the single pattern node, but keeping it in the collection pattern node, or vice versa\n",
    "    def _validate_lhs_p(self):\n",
    "        \"\"\"Validates the LHS->P homomorphism, and raises appropriate exceptions if it's invalid.\n",
    "        \"\"\"\n",
    "        # We ensure that the attributes of the nodes and edges in P are a subset of the attributes of the corresponding nodes and edges in LHS.\n",
    "        # This is done to ensure that we don't add attributes to nodes or edges in P that are not present in the corresponding LHS nodes or edges.\n",
    "        \n",
    "        \n",
    "        lhs_nodes_attr_dict = {pattern_node: self.lhs.nodes[pattern_node] for pattern_node in self.lhs.nodes()}\n",
    "\n",
    "        for lhs_pattern_node in lhs_nodes_attr_dict:\n",
    "            lhs_attr_names = set(lhs_nodes_attr_dict[lhs_pattern_node].keys())\n",
    "            p_copies_of_node = self._rev_p_lhs.get(lhs_pattern_node, set())\n",
    "            for p_node in p_copies_of_node:\n",
    "                p_node_attr_names = set(self.p.nodes(data=True)[p_node].keys())\n",
    "                if not p_node_attr_names.issubset(lhs_attr_names):\n",
    "                    raise GraphRewriteException(_exception_msgs[\"add_attrs_in_p_node\"](p_node))\n",
    "\n",
    "        # We ensure that the attributes of the edges in P are a subset of the attributes of the corresponding edges in LHS.\n",
    "        # The reason for using *pattern_edge in the next line is to unpack the pattern_edge tuple into two variables\n",
    "        lhs_edges_attr_dict = {pattern_edge: self.lhs.get_edge_data(*pattern_edge) for pattern_edge in self.lhs.edges()}\n",
    "\n",
    "        for (src,dst) in lhs_edges_attr_dict:\n",
    "            lhs_attr_names = lhs_edges_attr_dict[(src, dst)]\n",
    "            p_copies_of_src, p_copies_of_dst = self._rev_p_lhs.get(src, set()), self._rev_p_lhs.get(dst, set())\n",
    "            for s_copy in p_copies_of_src:\n",
    "                for t_copy in p_copies_of_dst:\n",
    "                    if (s_copy, t_copy) in self.p.edges():\n",
    "                        p_attrs = set(self.p.get_edge_data(s_copy, t_copy).keys())\n",
    "                        if not p_attrs.issubset(lhs_attr_names):\n",
    "                            raise GraphRewriteException(_exception_msgs[\"add_attrs_in_p_edge\"](s_copy, t_copy))\n",
    "\n",
    "        # Edges in P must have a corresponding LHS edge\n",
    "        for p_s, p_t in self.p.edges():\n",
    "            if (self._p_to_lhs[p_s], self._p_to_lhs[p_t]) not in self.lhs.edges():\n",
    "                raise GraphRewriteException(_exception_msgs[\"p_edge_not_in_lhs\"](p_s, p_t))\n",
    "\n",
    "    # TODO: need to add a check that there are no contradictions caused by mapping the same input node to a single pattern node and a collection pattern node\n",
    "    # For example:\n",
    "    # 1. Adding an attribute to a node in the single pattern node, and also adding it in the collection pattern node\n",
    "    # 2. Assigning different values to the same attribute in the single pattern node and the collection pattern node\n",
    "    def _validate_rhs_p(self):\n",
    "        \"\"\"Validates the RHS->P homomorphism, and raises appropriate exceptions if it's invalid.\n",
    "        \"\"\"\n",
    "\n",
    "        # Nodes in RHS do NOT remove attributes that are in the corresponding P node(s).\n",
    "        # Note that we ignore merged nodes here (which follow this rule automatically).\n",
    "        for node_rhs in self.rhs.nodes():\n",
    "            if node_rhs not in self.nodes_to_merge().keys():\n",
    "                rhs_attrs = set(self.rhs.nodes(data=True)[node_rhs].keys())\n",
    "                p_origins = self._rev_p_rhs.get(node_rhs, set())\n",
    "                for node_p in p_origins:\n",
    "                    p_attrs = set(self.p.nodes(data=True)[node_p].keys())\n",
    "                    if not p_attrs.issubset(rhs_attrs):\n",
    "                        raise GraphRewriteException(_exception_msgs[\"remove_attrs_in_rhs_node\"](node_rhs))\n",
    "        \n",
    "        # Edges in RHS do NOT remove attributes that are in the corresponding P edge(s).\n",
    "        # Note that we ignore edges created by a merge here (they follow this rule automatically).\n",
    "        for s, t in self.rhs.edges():\n",
    "            if s not in self.nodes_to_merge().keys() and t not in self.nodes_to_merge().keys():\n",
    "                rhs_attrs = set(self.rhs.get_edge_data(s, t).keys())\n",
    "                s_origins, t_origins = self._rev_p_rhs.get(s, set()), self._rev_p_rhs.get(t, set())\n",
    "                for s_origin in s_origins:\n",
    "                    for t_origin in t_origins:\n",
    "                        if (s_origin, t_origin) in self.p.edges():\n",
    "                            origin_attrs = set(self.p.get_edge_data(s_origin, t_origin).keys())\n",
    "                            if not origin_attrs.issubset(rhs_attrs):\n",
    "                                raise GraphRewriteException(_exception_msgs[\"remove_attrs_in_rhs_edge\"](s,t))\n",
    "\n",
    "    def _validate_rule(self):\n",
    "        \"\"\"Validates the rule - that is, checking that the homomorphisms are valid, and that clones mentioned in the rule\n",
    "        are valid (if any exist).\n",
    "        \"\"\"\n",
    "\n",
    "        self._validate_lhs_p()\n",
    "        self._validate_rhs_p()\n",
    "        \n",
    "        clones = {item for clones_list in self.nodes_to_clone().values() for item in clones_list}\n",
    "        # validate cloned nodes in P have no attributes mentioned (all attributes are copied automatically)\n",
    "        for clone in clones:\n",
    "            if self.p.nodes(data=True)[clone] != {}:\n",
    "                raise GraphRewriteException(_exception_msgs[\"attrs_in_cloned_node\"](clone))\n",
    "        \n",
    "        # validate cloned edges in P (edges with cloned endpoint) have no attributes mentioned\n",
    "        for s, t, attrs in self.p.edges(data=True):\n",
    "            if (s in clones or t in clones) and attrs != {}:\n",
    "                raise GraphRewriteException(_exception_msgs[\"attrs_in_cloned_edge\"](s, t))\n",
    "\n",
    "    def _merge_node_attrs(self, rhs_node: NodeName, p_origins: list[NodeName]) -> dict:\n",
    "        \"\"\"Given a node in RHS that is a copy / a merge of one or more nodes in P,\n",
    "        and the P nodes which it copies / merges, returns the dictionary of new attributes\n",
    "        added to the merged node in RHS (That is, not including the attributes which stem from the merge, other than merged attributes which were overriden in RHS).\n",
    "\n",
    "        Args:\n",
    "            rhs_node (NodeName): A node in RHS\n",
    "            p_origins (list[NodeName]): A list of P nodes which rhs_node merges.\n",
    "\n",
    "        Returns:\n",
    "            dict: A dictionary of added attributes (keys and values) of the merged RHS node.\n",
    "        \"\"\"\n",
    "        merge_rhs_attrs = {}\n",
    "        for p_origin in p_origins:\n",
    "            new_rhs_attrs = self._dict_difference(self.rhs.nodes[rhs_node], self.p.nodes[p_origin])\n",
    "            new_rhs_attrs = self.format_value_attribute(new_rhs_attrs)\n",
    "            merge_rhs_attrs = self.merge_policy(merge_rhs_attrs, new_rhs_attrs)\n",
    "        return merge_rhs_attrs\n",
    "\n",
    "    def _merge_edge_attrs(self, rhs_edge: EdgeName, s_origins: list[NodeName], t_origins: list[NodeName]) -> dict:\n",
    "        \"\"\"Given an edge in RHS that is possibly a copy / a merge of one or more edges,\n",
    "        and the copies / merges of both its endpoints, returns the dictionary of new attributes\n",
    "        added to the merged edge in RHS (That is, not including the attributes which stem from the merge, other than merged attributes which were overriden in RHS).\n",
    "\n",
    "        Args:\n",
    "            rhs_edge (EdgeName): An edge in RHS\n",
    "            s_origins (list[NodeName]): A list of P nodes which the source endpoint of the edge merges.\n",
    "            t_origins (list[NodeName]): A list of P nodes which the target endpoint of the edge merges.\n",
    "\n",
    "        Returns:\n",
    "            dict: A dictionary of added attributes (keys and values) of the merged RHS edge.\n",
    "        \"\"\"\n",
    "        merge_rhs_attrs = {}\n",
    "        for s_origin in s_origins:\n",
    "            for t_origin in t_origins:\n",
    "                if (s_origin, t_origin) in self.p.edges():\n",
    "                    new_rhs_attrs = self._dict_difference(\n",
    "                        self.rhs.get_edge_data(*rhs_edge),\n",
    "                        self.p.get_edge_data(s_origin, t_origin)\n",
    "                    )\n",
    "                    new_rhs_attrs = self.format_value_attribute(new_rhs_attrs)\n",
    "                    merge_rhs_attrs = self.merge_policy(merge_rhs_attrs, new_rhs_attrs)\n",
    "        return merge_rhs_attrs\n",
    "\n",
    "    # The following functions are presented in the order of transformation.\n",
    "    def nodes_to_clone(self) -> dict[NodeName, set[NodeName]]:\n",
    "        \"\"\"Find all LHS nodes that should be cloned in P, and for each node, find all its P clones.\n",
    "\n",
    "        Returns:\n",
    "            dict[NodeName, set[NodeName]]:\n",
    "                A dictionary which maps each cloned node in LHS to a set\n",
    "                of all nodes in P which are its clones.\n",
    "        \"\"\"\n",
    "        # Find all LHS nodes which are mapped by more than one node in P (in the P->LHS Hom.)\n",
    "        return {lhs_node: self._rev_p_lhs[lhs_node] for lhs_node in self.lhs.nodes() \\\n",
    "                            if len(self._rev_p_lhs.get(lhs_node, set())) > 1}\n",
    "    \n",
    "    # TODO: Ensure there is no double deletion of nodes/edges or attributes because of mapping the same input node to a single pattern node and a collection pattern node\n",
    "    def nodes_to_remove(self) -> set[NodeName]:\n",
    "        \"\"\"Find all LHS nodes that should be removed.\n",
    "\n",
    "        Returns:\n",
    "            set[NodeName]: Nodes in LHS which should be removed.\n",
    "        \"\"\"\n",
    "        # Find all LHS nodes which are not mapped by any node in P (in the P->LHS Hom.)\n",
    "        return {lhs_node for lhs_node in self.lhs.nodes() if len(self._rev_p_lhs.get(lhs_node, set())) == 0}\n",
    "\n",
    "    def edges_to_remove(self) -> set[EdgeName]:\n",
    "        \"\"\"Find all P edges that should be removed.\n",
    "\n",
    "        Note: Does not include edges which one of their endpoints was removed by the rule,\n",
    "        as during transformation, we begin by removing all removed nodes along with the connected edges.\n",
    "\n",
    "        Returns:\n",
    "            set[EdgeName]: Edges in P which should be removed.\n",
    "        \"\"\"\n",
    "        edges_to_remove = set()\n",
    "        candidate_edges = list(self.lhs.edges())\n",
    "        for s, t in candidate_edges:\n",
    "            # If one of the edge endpoints was removed, the edge was removed automatically so we skip it here\n",
    "            if s not in self.nodes_to_remove() and t not in self.nodes_to_remove():\n",
    "                s_copies, t_copies = self._rev_p_lhs.get(s, set()), self._rev_p_lhs.get(t, set())\n",
    "                for s_copy in s_copies:\n",
    "                    for t_copy in t_copies:\n",
    "                        # For each \"clone of edge (s,t)\" that shouldn't be in P, remove it\n",
    "                        if (s_copy, t_copy) not in self.p.edges():\n",
    "                            edges_to_remove.add((s_copy, t_copy))\n",
    "        return edges_to_remove\n",
    "\n",
    "    def node_attrs_to_remove(self) -> dict[NodeName, set]:\n",
    "        \"\"\"For each P node, find all attributes of its corresponding LHS node\n",
    "        which should be removed from it in P.\n",
    "\n",
    "        Returns:\n",
    "            dict[NodeName, set]: A dictionary from P nodes to attributes that should be\n",
    "                removed from their corresponding LHS nodes.\n",
    "        \"\"\"\n",
    "        attrs_to_remove = {}\n",
    "        # Add LHS nodes_attr_to_remove\n",
    "        for node_lhs in self.lhs.nodes():\n",
    "            if node_lhs not in self.nodes_to_clone().keys(): # cloned nodes do not remove attrs\n",
    "                p_copies = self._rev_p_lhs.get(node_lhs, set())\n",
    "                for node_p in p_copies:\n",
    "                # Find all attributes that are in the LHS node but not in the new P node\n",
    "                    lhs_attrs = set(self.lhs.nodes[node_lhs].keys())\n",
    "                    p_attrs = set(self.p.nodes[node_p].keys())\n",
    "                    diff_attrs = lhs_attrs - p_attrs\n",
    "                    if len(diff_attrs) != 0:\n",
    "                        # Remove all such attributes from the P node\n",
    "                        attrs_to_remove[node_p] = diff_attrs\n",
    "\n",
    "        return attrs_to_remove\n",
    "    \n",
    "    def edge_attrs_to_remove(self) -> dict[EdgeName, set]:\n",
    "        \"\"\"For each P edge, find all attributes of its corresponding LHS edge\n",
    "        which should be removed from it in P.\n",
    "\n",
    "        Returns:\n",
    "            dict[EdgeName, set]: A dictionary from P edges to attributes that should be\n",
    "                removed from their corresponding LHS edges.\n",
    "        \"\"\"\n",
    "        attrs_to_remove = {}\n",
    "        for s, t in self.lhs.edges():\n",
    "            s_copies, t_copies = self._rev_p_lhs.get(s, set()), self._rev_p_lhs.get(t, set())\n",
    "            for s_copy in s_copies:\n",
    "                for t_copy in t_copies:\n",
    "                    # For each \"clone of edge (s, t)\" that is in P\n",
    "                    if (s_copy, t_copy) in self.p.edges():\n",
    "                        # Find all attribute names that are in the LHS edge but not in the new P edge\n",
    "                        lhs_attrs = set(self.lhs.get_edge_data(s, t).keys())\n",
    "                        p_attrs = set(self.p.get_edge_data(s_copy, t_copy).keys())\n",
    "                        diff_attrs = lhs_attrs - p_attrs\n",
    "                        if len(diff_attrs) != 0:\n",
    "                            # Remove all such attributes\n",
    "                            attrs_to_remove[(s_copy, t_copy)] = diff_attrs\n",
    "        return attrs_to_remove\n",
    "\n",
    "    def nodes_to_merge(self) -> dict[NodeName, set[NodeName]]:\n",
    "        \"\"\"Find all RHS nodes which are a merge of nodes in P, and for each node, find all P nodes that merge into it.\n",
    "\n",
    "        Returns:\n",
    "            dict[NodeName, set[NodeName]]: \n",
    "                A dictionary which maps each node in RHS that is a merge of P nodes,\n",
    "                to a set of nodes in P which it merges.\n",
    "        \"\"\"\n",
    "\n",
    "        # Find all RHS nodes that are mapped by more than one node in P (in the P->RHS Hom.)\n",
    "        return {rhs_node: self._rev_p_rhs[rhs_node] for rhs_node in self.rhs.nodes() \\\n",
    "                            if len(self._rev_p_rhs.get(rhs_node, set())) > 1}\n",
    "\n",
    "    def nodes_to_add(self) -> set[NodeName]:\n",
    "        \"\"\"Find all RHS nodes which should be added.\n",
    "\n",
    "        Note: Does not include nodes in RHS that are created as a merge of P nodes.\n",
    "\n",
    "        Returns:\n",
    "            set[NodeName]: Nodes which should be added to RHS.\n",
    "        \"\"\"\n",
    "\n",
    "        # Find all RHS nodes which are not mapped by any node in P (in the P->RHS Hom.)\n",
    "        return {rhs_node for rhs_node in self.rhs.nodes() if len(self._rev_p_rhs.get(rhs_node, set())) == 0}\n",
    "\n",
    "    def edges_to_add(self) -> set[EdgeName]:\n",
    "        \"\"\"Find all RHS edges that should be added. \n",
    "\n",
    "        Note: Does not include edges added to merged nodes.\n",
    "\n",
    "        Returns:\n",
    "            set[EdgeName]: Edges which should be added to RHS.\n",
    "        \"\"\"\n",
    "        edges_to_add = set()\n",
    "        for s, t in self.rhs.edges():\n",
    "            # New edges from at least one new node (not including merged nodes)\n",
    "            if s in self.nodes_to_add() or t in self.nodes_to_add():\n",
    "                edges_to_add.add((s,t)) # surely a new edge\n",
    "            else:\n",
    "                s_origins, t_origins = self._rev_p_rhs.get(s, set()), self._rev_p_rhs.get(t, set())\n",
    "                # New edges from existing P nodes\n",
    "                if all([(s_origin, t_origin) not in self.p.edges() for s_origin in s_origins for t_origin in t_origins]):\n",
    "                    edges_to_add.add((s,t))\n",
    "        return edges_to_add\n",
    "\n",
    "    # TODO: Ensure there is no double addition of attributes because of mapping the same input node to a single pattern node and a collection pattern node\n",
    "    def node_attrs_to_add(self) -> dict[NodeName, dict]:\n",
    "        \"\"\"For each RHS node, find all attributes (and values) of its corresponding P node(s)\n",
    "        which should be added to the RHS node.\n",
    "        \n",
    "        Returns:\n",
    "            dict[NodeName, dict]: A dictionary that maps RHS nodes to their added attributes and values.\n",
    "        \"\"\"\n",
    "        attrs_to_add = {}\n",
    "        # Add RHS node attributes to add\n",
    "        for node_rhs in self.rhs.nodes():\n",
    "            if node_rhs in self.nodes_to_add():\n",
    "                rhs_attrs = self.rhs.nodes(data=True)[node_rhs]\n",
    "                if len(rhs_attrs) != 0:\n",
    "                    attrs_to_add[node_rhs] = self.format_value_attribute(rhs_attrs)\n",
    "            else:\n",
    "                p_origins = self._rev_p_rhs.get(node_rhs, set())\n",
    "                merged_p_attrs = self._merge_node_attrs(node_rhs, p_origins)\n",
    "                if len(merged_p_attrs) != 0:\n",
    "                    attrs_to_add[node_rhs] = merged_p_attrs\n",
    "        return attrs_to_add\n",
    "\n",
    "    def edge_attrs_to_add(self) -> dict[EdgeName, dict]:\n",
    "        \"\"\"For each RHS edge, find all attributes (and values) of its corresponding P edge(s)\n",
    "        which should be added to the RHS edge.\n",
    "\n",
    "        Returns:\n",
    "            dict[EdgeName, dict]: A dictionary that maps RHS edges to their added attributes and values.\n",
    "        \"\"\"\n",
    "        attrs_to_add = {}\n",
    "        for s, t in self.rhs.edges():\n",
    "            if s in self.nodes_to_add() or t in self.nodes_to_add():\n",
    "                rhs_attrs = self.rhs.get_edge_data(s, t)\n",
    "                if len(rhs_attrs) != 0:\n",
    "                    attrs_to_add[(s, t)] = self.format_value_attribute(rhs_attrs)\n",
    "            else:\n",
    "                s_origins, t_origins = self._rev_p_rhs.get(s, set()), self._rev_p_rhs.get(t, set())\n",
    "                merged_p_attrs = self._merge_edge_attrs((s, t), s_origins, t_origins)\n",
    "                if len(merged_p_attrs) != 0:\n",
    "                    attrs_to_add[(s, t)] = merged_p_attrs\n",
    "        return attrs_to_add\n"
   ]
  },
  {
   "attachments": {},
   "cell_type": "markdown",
   "metadata": {},
   "source": [
    "### Tests and Examples\n",
    "The following section overviews the different use cases of graph transformation, and the rules that the user should construct in order to execute them. Before we dive in, here are some test utilities:"
   ]
  },
  {
   "attachments": {},
   "cell_type": "markdown",
   "metadata": {},
   "source": [
    "#### Test Utils"
   ]
  },
  {
   "cell_type": "code",
   "execution_count": null,
   "metadata": {},
   "outputs": [],
   "source": [
    "def _assert_rule(match: Match, single_nodes_lhs: DiGraph = None, collections_lhs: DiGraph = None, \n",
    "                 p: DiGraph = None, rhs: DiGraph = None, merge_policy = None,\n",
    "                 error: str = None,\n",
    "                 nodes_clone: dict[NodeName, set[NodeName]] = None,\n",
    "                 nodes_remove: set[NodeName] = None,\n",
    "                 edges_remove: set[EdgeName] = None,\n",
    "                 node_attrs_remove: dict[NodeName, set] = None, \n",
    "                 edge_attrs_remove: dict[EdgeName, set] = None, \n",
    "                 nodes_merge: dict[NodeName, set[NodeName]] = None, \n",
    "                 nodes_add: set[NodeName] = None, \n",
    "                 edges_add: set[EdgeName] = None,\n",
    "                 node_attrs_add: dict[NodeName, dict] = None, \n",
    "                 edge_attrs_add: dict[EdgeName, dict] = None):\n",
    "    merge_policy = merge_policy if merge_policy else MergePolicy.choose_last\n",
    "    nodes_clone = nodes_clone if nodes_clone else {}\n",
    "    nodes_remove = nodes_remove if nodes_remove else set()\n",
    "    edges_remove = edges_remove if edges_remove else set()\n",
    "    node_attrs_remove = node_attrs_remove if node_attrs_remove else {}\n",
    "    edge_attrs_remove = edge_attrs_remove if edge_attrs_remove else {}\n",
    "    nodes_merge = nodes_merge if nodes_merge else {}\n",
    "    nodes_add = nodes_add if nodes_add else set()\n",
    "    edges_add = edges_add if edges_add else set()\n",
    "    node_attrs_add = node_attrs_add if node_attrs_add else {}\n",
    "    edge_attrs_add = edge_attrs_add if edge_attrs_add else {}\n",
    "\n",
    "    try:\n",
    "        rule = Rule(match=match, single_nodes_lhs=single_nodes_lhs, collections_lhs=collections_lhs, p=p, rhs=rhs, merge_policy=merge_policy)\n",
    "        assert rule.nodes_to_clone() == nodes_clone\n",
    "        assert rule.nodes_to_remove() == nodes_remove\n",
    "        assert rule.edges_to_remove() == edges_remove\n",
    "        assert rule.node_attrs_to_remove() == node_attrs_remove\n",
    "        assert rule.edge_attrs_to_remove() == edge_attrs_remove\n",
    "        assert rule.nodes_to_merge() == nodes_merge\n",
    "        assert rule.nodes_to_add() == nodes_add\n",
    "        assert rule.edges_to_add() == edges_add\n",
    "        assert rule.node_attrs_to_add() == node_attrs_add\n",
    "        assert rule.edge_attrs_to_add() == edge_attrs_add\n",
    "        assert error == None\n",
    "    except GraphRewriteException as e:\n",
    "        assert e.message == error"
   ]
  },
  {
   "attachments": {},
   "cell_type": "markdown",
   "metadata": {},
   "source": [
    "#### Preserve and Remove (Without Attributes)"
   ]
  },
  {
   "attachments": {},
   "cell_type": "markdown",
   "metadata": {},
   "source": [
    "We begin by defining a simple LHS graph, a pattern without attributes at all:"
   ]
  },
  {
   "cell_type": "code",
   "execution_count": null,
   "metadata": {},
   "outputs": [],
   "source": [
    "from graph_rewrite.lhs import lhs_to_graph\n",
    "from graph_rewrite.matcher import find_matches\n",
    "from graph_rewrite.match_class import Match\n",
    "\n",
    "def _generate_match(input_graph: DiGraph, LHS: str, condition=lambda x: True, debug=False):\n",
    "    \"\"\"For testing purposes, generate a single match for a given input graph and LHS pattern.\n",
    "    It returns a single match that satisfies the condition.\n",
    "    \n",
    "    Args:\n",
    "        input_graph (DiGraph): The input graph\n",
    "        LHS (str): The LHS pattern\n",
    "        condition (Callable[[dict], bool], optional): A condition for the matches. Defaults to lambda x: True.\n",
    "        debug (bool, optional): Whether to print the match. Defaults to False.\n",
    "    \"\"\"\n",
    "\n",
    "    pattern, collection_pattern = lhs_to_graph(LHS)\n",
    "\n",
    "    matches = list(find_matches(input_graph, pattern, collection_pattern))\n",
    "\n",
    "    if len(matches) == 0:\n",
    "        raise ValueError(\"No matches found\")\n",
    "    \n",
    "    if debug:\n",
    "        print(matches[0])\n",
    "    \n",
    "    return matches[0]"
   ]
  },
  {
   "cell_type": "code",
   "execution_count": null,
   "metadata": {},
   "outputs": [
    {
     "data": {
      "text/html": [
       "<img src=\"https://mermaid.ink/img/CmZsb3djaGFydCBUQgpBWyJBCiJdCkJbIkIKIl0KQ1siQwoiXQpBIC0tPiBCCkEgLS0+IEMK\"/>"
      ],
      "text/plain": [
       "<IPython.core.display.Image object>"
      ]
     },
     "metadata": {},
     "output_type": "display_data"
    }
   ],
   "source": [
    "g, _ = lhs_to_graph(\"A->B,A->C\") \n",
    "draw(g)"
   ]
  },
  {
   "attachments": {},
   "cell_type": "markdown",
   "metadata": {},
   "source": [
    "If we construct a rule without specifing P, then P defaults to a copy of LHS. If we don't specify RHS, then RHS defaults to a copy of P.\n",
    "That is, when constructing a rule without P or RHS, we preserve everything from LHS (P contains all LHS elements) and add nothing (no difference between P and RHS), or in other words - a rule which does not change a thing."
   ]
  },
  {
   "cell_type": "code",
   "execution_count": null,
   "metadata": {},
   "outputs": [
    {
     "name": "stdout",
     "output_type": "stream",
     "text": [
      "{'A': {'A'}, 'B': {'C'}, 'C': {'B'}}\n"
     ]
    }
   ],
   "source": [
    "match = _generate_match(g, \"A->B,A->C\", debug=True)"
   ]
  },
  {
   "cell_type": "code",
   "execution_count": null,
   "metadata": {},
   "outputs": [],
   "source": [
    "_assert_rule(match, single_nodes_lhs=g)"
   ]
  },
  {
   "attachments": {},
   "cell_type": "markdown",
   "metadata": {},
   "source": [
    "As explained above, P defines which parts of the LHS we want to preserve in the transformation. Therefore, if something from LHS is missing in P, the rule infers that it should remove it.\n",
    "\n",
    "For example, if P contains all nodes of LHS but none of its edges, the rule marks all LHS edges as edges to remove:"
   ]
  },
  {
   "cell_type": "code",
   "execution_count": null,
   "metadata": {},
   "outputs": [],
   "source": [
    "p = p_to_graph(\"A,B,C\") \n",
    "_assert_rule(match, single_nodes_lhs=g, p=p, edges_remove={('A','B'), ('A','C')})"
   ]
  },
  {
   "attachments": {},
   "cell_type": "markdown",
   "metadata": {},
   "source": [
    "Surely, we can remove nodes in the same way. Note that when the transformation module removes a node, it also removes all the edges that are connected to it. Since in the transformation the removal of nodes is done before the removal of edges, whenever the rule finds a node that should be removed, it assumes (correctly) that the connected edges will be removed automatically and therefore, does not mark the connected edges as edges to remove.\n",
    "\n",
    "Here, the P graph is missing node $A$ (that is connected to edges $(A,B), (A,C)$) as well as all edges in LHS (which are coincidentely exactly the edges connected to $A$). Therefore, while the transformation results in the removal of these edges as well, the rule only marks the node for removal:"
   ]
  },
  {
   "cell_type": "code",
   "execution_count": null,
   "metadata": {},
   "outputs": [],
   "source": [
    "p = p_to_graph(\"B,C\") \n",
    "_assert_rule(match, single_nodes_lhs=g, p=p, nodes_remove={'A'})"
   ]
  },
  {
   "attachments": {},
   "cell_type": "markdown",
   "metadata": {},
   "source": [
    "However, if $P$ does not contain node $B$ and all edges of the graph, edge $(A,B)$ isn't marked for removal (automatically removed along with node $B$), while edge $(A,C)$ is marked for removal:"
   ]
  },
  {
   "cell_type": "code",
   "execution_count": null,
   "metadata": {},
   "outputs": [],
   "source": [
    "p = p_to_graph(\"A,C\")\n",
    "_assert_rule(match, single_nodes_lhs=g, p=p, nodes_remove={'B'}, edges_remove={('A','C')})"
   ]
  },
  {
   "attachments": {},
   "cell_type": "markdown",
   "metadata": {},
   "source": [
    "#### Clone Nodes"
   ]
  },
  {
   "attachments": {},
   "cell_type": "markdown",
   "metadata": {},
   "source": [
    "As explained in the beginning of this notebook, the combination of LHS and P allows **cloning** nodes. \n",
    "\n",
    "Assume that we want to clone an LHS node called $x$. In the P graph, we add a new node called $x*n$, where $n$ is some integer of the user's choosing that is destined to denote a unique number of the copy, and thus allows mutiple clones (though this notion of the copy number is not enforced by the library). \n",
    "\n",
    "A P node with such a name is automatically inferred to be a clone of the LHS node $x$ (if no such node exists, an exception is raised), and the transformation module will clone its edges and attributes as expected.\n",
    "The Rule class identifies P nodes that are clones of LHS nodes, and creates a dictionary that maps LHS nodes to a set of its P clones (if there are any). The edges and attributes that are added by the cloning are not counted as added edges and attributes; The cloned node is not counted as an added node, but rather as a cloned one."
   ]
  },
  {
   "attachments": {},
   "cell_type": "markdown",
   "metadata": {},
   "source": [
    "Assume that we want to have 2 clones of node $C$ in P, named $C*1, C*2$ respectively. In LHS, node $C$ is connected to edge $(A,C)$; Therefore, the cloning process will add $C*1, C*2, (A,C*1)$ and $(A,C*2)$:"
   ]
  },
  {
   "cell_type": "code",
   "execution_count": null,
   "metadata": {},
   "outputs": [
    {
     "data": {
      "text/html": [
       "<img src=\"https://mermaid.ink/img/CmZsb3djaGFydCBUQgpBWyJBCiJdCkJbIkIKIl0KQ1siQwoiXQpDKjFbIkMqMQoiXQpDKjJbIkMqMgoiXQpBIC0tPiBCCkEgLS0+IEMKQSAtLT4gQyoxCkEgLS0+IEMqMgo=\"/>"
      ],
      "text/plain": [
       "<IPython.core.display.Image object>"
      ]
     },
     "metadata": {},
     "output_type": "display_data"
    }
   ],
   "source": [
    "p = p_to_graph(\"A->B,A->C,A->C*1,A->C*2\") \n",
    "draw(p)\n",
    "_assert_rule(match, single_nodes_lhs=g, p=p, nodes_clone={'C': {'C', 'C*1', 'C*2'}})"
   ]
  },
  {
   "attachments": {},
   "cell_type": "markdown",
   "metadata": {},
   "source": [
    "Note that in this example, we kept $C$ in the P graph, and it was counted as a clone of the LHS node $C$. If we decided to not keep $C$ in the P graph, we can not mention it (and its connected edges) in P. Note that in such a case, the rule does not count $C$ as a removed node or $(A,C)$ as a removed edge: As far as the rule is concerned, the P version of $C$ is just a clone of LHS'S $C$ which we didn't create here."
   ]
  },
  {
   "cell_type": "code",
   "execution_count": null,
   "metadata": {},
   "outputs": [
    {
     "data": {
      "text/html": [
       "<img src=\"https://mermaid.ink/img/CmZsb3djaGFydCBUQgpBWyJBCiJdCkJbIkIKIl0KQyoxWyJDKjEKIl0KQyoyWyJDKjIKIl0KQSAtLT4gQgpBIC0tPiBDKjEKQSAtLT4gQyoyCg==\"/>"
      ],
      "text/plain": [
       "<IPython.core.display.Image object>"
      ]
     },
     "metadata": {},
     "output_type": "display_data"
    }
   ],
   "source": [
    "p = p_to_graph(\"A->B,A->C*1,A->C*2\") \n",
    "draw(p)\n",
    "_assert_rule(match, single_nodes_lhs=g, p=p, nodes_clone={'C': {'C*1', 'C*2'}})"
   ]
  },
  {
   "attachments": {},
   "cell_type": "markdown",
   "metadata": {},
   "source": [
    "We can clone different nodes simultaniously, and new edges will be created accordingly (including edges that are between two clones of different nodes). Here we clone $A$ for 3 times (including the P node $A$) and $B$ for 2 times (same); Since LHS contains the edge $(A,B)$, we create here completely new edges such as $(A*5, B*9)$. Note that as explained, the copy number (the $5$ in $A*5$) must be a number but the library does not check that it is a valid clone number:"
   ]
  },
  {
   "cell_type": "code",
   "execution_count": null,
   "metadata": {},
   "outputs": [],
   "source": [
    "p = p_to_graph(\"A->B, A->B*9, A*3->B, A*3->B*9, A*5->B, A*5->B*9, A->C, A*3->C, A*5->C\") \n",
    "_assert_rule(match, single_nodes_lhs=g, p=p, nodes_clone={'A': {'A', 'A*5', 'A*3'}, 'B': {'B*9', 'B'}})"
   ]
  },
  {
   "attachments": {},
   "cell_type": "markdown",
   "metadata": {},
   "source": [
    "Cloning can be combined with other operations. For example, clone $A$ and $B$ (both are cloned 2 times) and remove node $C$ (which is not a clone of anything, and therefore is counted as a removed node). Note that in the transformation module, the cloning is done before the nodes removal:"
   ]
  },
  {
   "cell_type": "code",
   "execution_count": null,
   "metadata": {},
   "outputs": [],
   "source": [
    "p = p_to_graph(\"A->B, A->B*9, A*3->B, A*3->B*9\")\n",
    "_assert_rule(match, single_nodes_lhs=g, p=p, nodes_clone={'A': {'A', 'A*3'}, 'B': {'B*9', 'B'}}, nodes_remove={'C'})"
   ]
  },
  {
   "attachments": {},
   "cell_type": "markdown",
   "metadata": {},
   "source": [
    "As explained above, when cloning a node, all of its edges are cloned as well. Therefore, if we construct P with a clone but do not mention all of the edges that should be created by the clone, the rule will consider the missing edges as removed edges. Here, for example, we clone $C$ but exclude cloning the $(A,C)$ edge for clone $C*1$:"
   ]
  },
  {
   "cell_type": "code",
   "execution_count": null,
   "metadata": {},
   "outputs": [
    {
     "data": {
      "text/html": [
       "<img src=\"https://mermaid.ink/img/CmZsb3djaGFydCBUQgpBWyJBCiJdCkJbIkIKIl0KQyoyWyJDKjIKIl0KQyoxWyJDKjEKIl0KQSAtLT4gQgpBIC0tPiBDKjIK\"/>"
      ],
      "text/plain": [
       "<IPython.core.display.Image object>"
      ]
     },
     "metadata": {},
     "output_type": "display_data"
    }
   ],
   "source": [
    "p = p_to_graph(\"A->B,A->C*2,C*1\") \n",
    "draw(p)\n",
    "_assert_rule(match, single_nodes_lhs=g, p=p, nodes_clone={'C': {'C*1', 'C*2'}}, edges_remove={('A','C*1')})"
   ]
  },
  {
   "attachments": {},
   "cell_type": "markdown",
   "metadata": {},
   "source": [
    "#### Preserve, Remove and Clone (With Attributes)"
   ]
  },
  {
   "attachments": {},
   "cell_type": "markdown",
   "metadata": {},
   "source": [
    "Our graphs might have attributes, and so - we might want to apply what we've covered so far (preserving, removing and cloning) to handle attributes as well. We begin by initializing an LHS pattern with some attributes (note that the attributes are not plotted):"
   ]
  },
  {
   "cell_type": "code",
   "execution_count": null,
   "metadata": {},
   "outputs": [
    {
     "data": {
      "text/html": [
       "<img src=\"https://mermaid.ink/img/CmZsb3djaGFydCBUQgpBWyJBCiJdCkJbIkIKYXR0ckI9NSJdCkNbIkMKIl0KQSAtLT4gQgpBIC0tPnwiYXR0ckFDPTEwInwgQwo=\"/>"
      ],
      "text/plain": [
       "<IPython.core.display.Image object>"
      ]
     },
     "metadata": {},
     "output_type": "display_data"
    }
   ],
   "source": [
    "g = _create_graph(\n",
    "    ['A','B','C'], [('A', 'B'),('A', 'C'),])\n",
    "g.nodes['B']['attrB'] = 5\n",
    "g.edges['A', 'C']['attrAC'] = 10\n",
    "draw(g)"
   ]
  },
  {
   "cell_type": "code",
   "execution_count": null,
   "metadata": {},
   "outputs": [
    {
     "name": "stdout",
     "output_type": "stream",
     "text": [
      "{'A': {'A'}, 'B': {'B'}, 'C': {'C'}}\n"
     ]
    }
   ],
   "source": [
    "match = _generate_match(g, \"A->B[attrB=5], A-[attrAC=10]->C\", debug=True)"
   ]
  },
  {
   "attachments": {},
   "cell_type": "markdown",
   "metadata": {},
   "source": [
    "Say that we want to remove a LHS node / edge which has attributes. Just as the removal of a node automatically removed its connected edges without marking these edges as removed - The removal of a node / edge automatically removes its attributes with it, and the rule does not count these attributes as removed attributes. \n",
    "\n",
    "In these examples, we remove node $B$ / edge $(A,C)$, both have attributes in LHS:"
   ]
  },
  {
   "cell_type": "code",
   "execution_count": null,
   "metadata": {},
   "outputs": [],
   "source": [
    "p = p_to_graph(\"A-[attrAC]->C\")\n",
    "_assert_rule(match, single_nodes_lhs=g, p=p, nodes_remove={'B'})\n",
    "p = p_to_graph(\"A->B[attrB],C\") \n",
    "_assert_rule(match, single_nodes_lhs=g, p=p, edges_remove={('A','C')})"
   ]
  },
  {
   "attachments": {},
   "cell_type": "markdown",
   "metadata": {},
   "source": [
    "We can also remove attributes manualy, while keeping the containing node / edge. Just as in order to remove an LHS node we didn't mention it in P, we can remove a LHS attribute by not mentioning it in P. Here, we remove the attribute \"attr_b\" from $B$. The rule builds a dictionary that maps nodes to the names of the attributes removed from them:"
   ]
  },
  {
   "cell_type": "code",
   "execution_count": null,
   "metadata": {},
   "outputs": [],
   "source": [
    "p = p_to_graph(\"A->B,A-[attrAC]->C\") \n",
    "_assert_rule(match, single_nodes_lhs=g, p=p, node_attrs_remove={'B': {'attrB'}})"
   ]
  },
  {
   "attachments": {},
   "cell_type": "markdown",
   "metadata": {},
   "source": [
    "If we clone a node with attributes, or a node that's connected to edges with attributes (as you well remember, edges connected to a cloned node are cloned as well), the attributes are cloned along with it - both attribute names and values.\n",
    "\n",
    "In our library, cloning a node / edge with attributes causes a clone of **all** of the contained attributes, and the user **is not able** to choose which of the attributes should be cloned. In order to avoid ambiguity, when constructing a P graph that clones a node / edge with attributes, for each of the clones, **the attributes should not be mentioned in P** (they will all be cloned automatically). A violation of this constraint will cause the Rule class to raise an exception:"
   ]
  },
  {
   "cell_type": "code",
   "execution_count": null,
   "metadata": {},
   "outputs": [],
   "source": [
    "p = p_to_graph(\"A,B,C,B*1[attrB]\") \n",
    "_assert_rule(match, single_nodes_lhs=g, p=p, error=_exception_msgs[\"attrs_in_cloned_node\"](\"B*1\"))\n",
    "\n",
    "p = p_to_graph(\"A->B, A->B*1, C, A-[attrAC]->C*1\") \n",
    "_assert_rule(match, single_nodes_lhs=g, p=p, error=_exception_msgs[\"attrs_in_cloned_edge\"](\"A\", \"C*1\"))"
   ]
  },
  {
   "attachments": {},
   "cell_type": "markdown",
   "metadata": {},
   "source": [
    "Here, we clone node $B$ as P nodes $B, B*1$ along with its attribute ```{attr_b: 5}```. Note how we do not mention the attributes of either $B, B*1$, and let the transformation module clone them by itself. The rule does not count these automatically-cloned attributes as added attributes:"
   ]
  },
  {
   "cell_type": "code",
   "execution_count": null,
   "metadata": {},
   "outputs": [],
   "source": [
    "p = p_to_graph(\"A->B, A->B*1, A-[attrAC]->C\") \n",
    "_assert_rule(match, single_nodes_lhs=g, p=p, nodes_clone={'B': {'B', 'B*1'}})"
   ]
  },
  {
   "attachments": {},
   "cell_type": "markdown",
   "metadata": {},
   "source": [
    "#### Addition"
   ]
  },
  {
   "attachments": {},
   "cell_type": "markdown",
   "metadata": {},
   "source": [
    "We saw how we can use P to denote preservation, removal and cloning - with or without attributes - of LHS nodes. Up until now, RHS defaulted to a copy of P, denoting that we don't want to add anything to the graph. We will now overview the options RHS provides us. Begin by reseting LHS to be our initial, simple pattern without any attributes:"
   ]
  },
  {
   "cell_type": "code",
   "execution_count": null,
   "metadata": {},
   "outputs": [
    {
     "data": {
      "text/html": [
       "<img src=\"https://mermaid.ink/img/CmZsb3djaGFydCBUQgpBWyJBCiJdCkJbIkIKIl0KQ1siQwoiXQpBIC0tPiBCCkEgLS0+IEMK\"/>"
      ],
      "text/plain": [
       "<IPython.core.display.Image object>"
      ]
     },
     "metadata": {},
     "output_type": "display_data"
    }
   ],
   "source": [
    "g = _create_graph(['A','B','C'], [('A', 'B'),('A', 'C'),])   \n",
    "draw(g)"
   ]
  },
  {
   "cell_type": "code",
   "execution_count": null,
   "metadata": {},
   "outputs": [
    {
     "name": "stdout",
     "output_type": "stream",
     "text": [
      "{'A': {'A'}, 'B': {'C'}, 'C': {'B'}}\n"
     ]
    }
   ],
   "source": [
    "match = _generate_match(g, \"A->B, A->C\", debug=True)"
   ]
  },
  {
   "attachments": {},
   "cell_type": "markdown",
   "metadata": {},
   "source": [
    "Say we want to add a new node to our graph, name it $D$. The rule finds all nodes that appear in RHS but not in P, and marks them as added nodes. Here, P is not specified (and thus default to LHS), and so $D$ is the only new node:"
   ]
  },
  {
   "cell_type": "code",
   "execution_count": null,
   "metadata": {},
   "outputs": [],
   "source": [
    "rhs = rhs_to_graph(\"A->B,A->C,D\", match = None, render_funcs={}) \n",
    "_assert_rule(match, single_nodes_lhs=g, rhs=rhs, nodes_add={'D'})"
   ]
  },
  {
   "attachments": {},
   "cell_type": "markdown",
   "metadata": {},
   "source": [
    "The same can be done with edges. We can add edges that use nodes which existed in P, as we do here with the new edge $(B,C)$:"
   ]
  },
  {
   "cell_type": "code",
   "execution_count": null,
   "metadata": {},
   "outputs": [
    {
     "data": {
      "text/html": [
       "<img src=\"https://mermaid.ink/img/CmZsb3djaGFydCBUQgpBWyJBCiJdCkJbIkIKIl0KQ1siQwoiXQpBIC0tPiBCCkEgLS0+IEMKQiAtLT4gQwo=\"/>"
      ],
      "text/plain": [
       "<IPython.core.display.Image object>"
      ]
     },
     "metadata": {},
     "output_type": "display_data"
    }
   ],
   "source": [
    "rhs = rhs_to_graph(\"A->B,A->C,B->C\", match = None, render_funcs={}) \n",
    "draw(rhs)\n",
    "_assert_rule(match, single_nodes_lhs=g, rhs=rhs, edges_add={('B','C')})"
   ]
  },
  {
   "attachments": {},
   "cell_type": "markdown",
   "metadata": {},
   "source": [
    "But we can also combine edges which use the new added nodes. Here, we combine the addition of a new node $D$, a new edge that uses it $(A,D)$ and a new edge that uses only P nodes $(B,C)$:"
   ]
  },
  {
   "cell_type": "code",
   "execution_count": null,
   "metadata": {},
   "outputs": [
    {
     "data": {
      "text/html": [
       "<img src=\"https://mermaid.ink/img/CmZsb3djaGFydCBUQgpBWyJBCiJdCkJbIkIKIl0KQ1siQwoiXQpEWyJECiJdCkEgLS0+IEIKQSAtLT4gQwpBIC0tPiBECkIgLS0+IEMK\"/>"
      ],
      "text/plain": [
       "<IPython.core.display.Image object>"
      ]
     },
     "metadata": {},
     "output_type": "display_data"
    }
   ],
   "source": [
    "rhs = rhs_to_graph(\"A->B->C,A->C,A->D\", match = None, render_funcs={}) \n",
    "draw(rhs)\n",
    "_assert_rule(match, single_nodes_lhs=g, rhs=rhs, nodes_add={'D'}, edges_add={('B','C'), ('A','D')})"
   ]
  },
  {
   "attachments": {},
   "cell_type": "markdown",
   "metadata": {},
   "source": [
    "The use of attributes in addition is very intuitive: Attributes that appear in RHS but not in P are considered as added attributes, including all attributes of any new node (excluding merges; we'll get to that shortly). \n",
    "\n",
    "For example, assume we update our LHS with an attribute added to edge $(A,C)$:"
   ]
  },
  {
   "cell_type": "code",
   "execution_count": null,
   "metadata": {},
   "outputs": [],
   "source": [
    "g = _create_graph(['A','B','C','D'], [('A', 'B'),('A', 'C', {'attrAC': \"ac\"}),('B','C'),('A','D')])   \n",
    "lhs, _ = lhs_to_graph(\"A->B,A-[attrAC=\\\"ac\\\"]->C, A->D\")\n",
    "match = _generate_match(g, \"A->B,A-[attrAC=\\\"ac\\\"]->C\")"
   ]
  },
  {
   "attachments": {},
   "cell_type": "markdown",
   "metadata": {},
   "source": [
    "If we add a new attribute for existing node $A$, new node $D$, existing edge $(A,B)$ and new edge $(A,D)$:"
   ]
  },
  {
   "cell_type": "code",
   "execution_count": null,
   "metadata": {},
   "outputs": [],
   "source": [
    "rhs = rhs_to_graph(\"A[attrA=\\\"a\\\"]-[attrAB=\\\"ab\\\"]->B->C, A-[attrAD=\\\"ad\\\"]->D[attrD=\\\"d\\\"], A-[attrAC=\\\"ac\\\"]->C\", match=None, render_funcs={}) \n",
    "_assert_rule(match, single_nodes_lhs=lhs, rhs=rhs, nodes_add={'D'}, edges_add={('A','D'), ('B','C')},\n",
    "             node_attrs_add={'A': {'attrA': 'a'}, 'D': {'attrD': 'd'}},\n",
    "             edge_attrs_add={('A','B'): {'attrAB': 'ab'}, ('A','D'): {'attrAD': 'ad'}, ('A', 'C'): {'attrAC': 'ac'}})"
   ]
  },
  {
   "attachments": {},
   "cell_type": "markdown",
   "metadata": {},
   "source": [
    "#### Merge Nodes"
   ]
  },
  {
   "attachments": {},
   "cell_type": "markdown",
   "metadata": {},
   "source": [
    "As explained in the beginning of this notebook, the combination of P and RHS allows **merging** nodes.\n",
    "\n",
    "Assume that P contains nodes $x_1,...,x_k$, and that we want to **replace** them all with a single, merged node - merges all of their attributes and edges. In the RHS graph, we add a new node called $x_1 \\& x_2 \\& ... \\& x_k$. A RHS node with such a name is automatically inferred to be a merge of the P nodes $x_1,...,x_k$ (if any of them does not exist in P, an exception is raised), and the transformation module will handle the merging of the edges and attributes as expected.\n",
    "\n",
    "The Rule class identifies RHS nodes that are merges of P nodes, and creates a dictionary that maps RHS nodes to a set of P nodes which they merge (if there are any). The edges and attributes that are added by the merging are not counted as added edges and attributes; The nodes, edges and attributes that were removed (merged into the new node) are not marked as removed; The merged node is not counted as an added node, but rather as a merged one."
   ]
  },
  {
   "attachments": {},
   "cell_type": "markdown",
   "metadata": {},
   "source": [
    "For the basic, attribute-less examples, we return to our basic LHS (Which will also serve as P here):"
   ]
  },
  {
   "cell_type": "code",
   "execution_count": null,
   "metadata": {},
   "outputs": [
    {
     "data": {
      "text/html": [
       "<img src=\"https://mermaid.ink/img/CmZsb3djaGFydCBUQgpBWyJBCiJdCkJbIkIKIl0KQ1siQwoiXQpBIC0tPiBCCkEgLS0+IEMK\"/>"
      ],
      "text/plain": [
       "<IPython.core.display.Image object>"
      ]
     },
     "metadata": {},
     "output_type": "display_data"
    }
   ],
   "source": [
    "g = _create_graph(['A','B','C'], [('A', 'B'),('A', 'C'),])\n",
    "draw(g)"
   ]
  },
  {
   "cell_type": "code",
   "execution_count": null,
   "metadata": {},
   "outputs": [
    {
     "name": "stdout",
     "output_type": "stream",
     "text": [
      "{'A': {'A'}, 'B': {'C'}, 'C': {'B'}}\n"
     ]
    }
   ],
   "source": [
    "match = _generate_match(g, \"A->B, A->C\", debug=True)"
   ]
  },
  {
   "attachments": {},
   "cell_type": "markdown",
   "metadata": {},
   "source": [
    "We begin with a simple example, where we want to merge nodes $B$ and $C$ into a new node called $B\\&C$. Note that in the resulting RHS graph, $B$ and $C$ do not exist anymore, and so are the connected edges $(A,B),(B,C)$. They were replace by the new merged node, and a new edge $(A,B\\&C)$ which merges the two original edges. Although we removed and added different edges and nodes here, none of them are marked as added or removed by the rule:"
   ]
  },
  {
   "cell_type": "code",
   "execution_count": null,
   "metadata": {},
   "outputs": [
    {
     "data": {
      "text/html": [
       "<img src=\"https://mermaid.ink/img/CmZsb3djaGFydCBUQgpBWyJBCiJdCkImQ1siQiZDCiJdCkEgLS0+IEImQwo=\"/>"
      ],
      "text/plain": [
       "<IPython.core.display.Image object>"
      ]
     },
     "metadata": {},
     "output_type": "display_data"
    }
   ],
   "source": [
    "rhs = rhs_to_graph(\"A->B&C\", match=None, render_funcs={})\n",
    "draw(rhs)\n",
    "_assert_rule(match, single_nodes_lhs=g, rhs=rhs, nodes_merge={'B&C': {'B','C'}})"
   ]
  },
  {
   "attachments": {},
   "cell_type": "markdown",
   "metadata": {},
   "source": [
    "If we merge nodes $A, B$, then the original edge $(A,B)$ is now replaced by $(A\\&B, A\\&B)$ - that is, a self loop:"
   ]
  },
  {
   "cell_type": "code",
   "execution_count": null,
   "metadata": {},
   "outputs": [
    {
     "data": {
      "text/html": [
       "<img src=\"https://mermaid.ink/img/CmZsb3djaGFydCBUQgpBJkJbIkEmQgoiXQpDWyJDCiJdCkEmQiAtLT4gQSZCCkEmQiAtLT4gQwo=\"/>"
      ],
      "text/plain": [
       "<IPython.core.display.Image object>"
      ]
     },
     "metadata": {},
     "output_type": "display_data"
    }
   ],
   "source": [
    "# Merge node A and B\n",
    "rhs = rhs_to_graph(\"A&B->A&B->C\", match=None, render_funcs={})\n",
    "draw(rhs)\n",
    "_assert_rule(match, single_nodes_lhs=g, rhs=rhs, nodes_merge={'A&B': {'A','B'}})"
   ]
  },
  {
   "attachments": {},
   "cell_type": "markdown",
   "metadata": {},
   "source": [
    "We can merge more than two nodes into a new one. Here we do so with all three nodes in P, resulting in a single node with a self loop:"
   ]
  },
  {
   "cell_type": "code",
   "execution_count": null,
   "metadata": {},
   "outputs": [
    {
     "data": {
      "text/html": [
       "<img src=\"https://mermaid.ink/img/CmZsb3djaGFydCBUQgpCJkMmQVsiQiZDJkEKIl0KQiZDJkEgLS0+IEImQyZBCg==\"/>"
      ],
      "text/plain": [
       "<IPython.core.display.Image object>"
      ]
     },
     "metadata": {},
     "output_type": "display_data"
    }
   ],
   "source": [
    "# Merge node A, B and C\n",
    "rhs = rhs_to_graph(\"B&C&A->B&C&A\", match=None, render_funcs={})\n",
    "draw(rhs)\n",
    "_assert_rule(match, single_nodes_lhs=g, rhs=rhs, nodes_merge={'B&C&A': {'A','B','C'}})"
   ]
  },
  {
   "attachments": {},
   "cell_type": "markdown",
   "metadata": {},
   "source": [
    "Let's see how attributes behave when merging nodes and edges which contain them.\n",
    "\n",
    "In our library, merging a node / edge with attributes causes a merge of **all** of the contained attributes, similarily to the cloning process. Therefore, when merging, the merged node **should not mention the merged attributes** (automatically they will all be merged and added).\n",
    "\n",
    "Begin with a simple case: Given the basic LHS with some attributes:"
   ]
  },
  {
   "cell_type": "code",
   "execution_count": null,
   "metadata": {},
   "outputs": [
    {
     "data": {
      "text/html": [
       "<img src=\"https://mermaid.ink/img/CmZsb3djaGFydCBUQgpBWyJBCmF0dHI9MSJdCkJbIkIKIl0KQ1siQwoiXQpBIC0tPiBDCkEgLS0+fCJhdHRyQUI9MiJ8IEIK\"/>"
      ],
      "text/plain": [
       "<IPython.core.display.Image object>"
      ]
     },
     "metadata": {},
     "output_type": "display_data"
    }
   ],
   "source": [
    "g= _create_graph(['A','B','C'], [('A', 'C'),('A', 'B')])\n",
    "g.nodes['A']['attr'] = 1\n",
    "g.edges['A', 'B']['attrAB']=2\n",
    "draw(g)\n"
   ]
  },
  {
   "cell_type": "code",
   "execution_count": null,
   "metadata": {},
   "outputs": [
    {
     "name": "stdout",
     "output_type": "stream",
     "text": [
      "{'A': {'A'}, 'C': {'C'}, 'B': {'B'}}\n"
     ]
    }
   ],
   "source": [
    "match = _generate_match(g, \"A[attr=1]->C,A-[attrAB=2]->B\", debug=True)"
   ]
  },
  {
   "attachments": {},
   "cell_type": "markdown",
   "metadata": {},
   "source": [
    "We merge nodes $A,B$, where $A$ has a single attribute and $B$ has no attributes. Therefore, we expect the merged $A\\&B$ node to have this single attribute with the same value. Note that similarily to the behaviour of attributes in cloned nodes, the attributes added to the merged node by the merging process are not marked as added (and are not mentioned at all, as explained above):"
   ]
  },
  {
   "cell_type": "code",
   "execution_count": null,
   "metadata": {},
   "outputs": [],
   "source": [
    "rhs = rhs_to_graph(\"A&B->A&B->C\", match=None, render_funcs={})\n",
    "_assert_rule(match, single_nodes_lhs=g, rhs=rhs, nodes_merge={'A&B': {'A','B'}})"
   ]
  },
  {
   "attachments": {},
   "cell_type": "markdown",
   "metadata": {},
   "source": [
    "Unlike cloning, merging **does** allow mentioning attributes in the merged node; The rule will read these attributes as new attributes which are added after the merging.\n",
    "For example, if we want to add a new attribute to the merged node $A\\&B$ after the merging, we do mention it in the RHS and the rule will identify it as an added attribute:"
   ]
  },
  {
   "cell_type": "code",
   "execution_count": null,
   "metadata": {},
   "outputs": [],
   "source": [
    "rhs = rhs_to_graph(\"A&B[attr2=2]-[attrAB2=\\\"ab\\\"]->A&B->C\", match=None, render_funcs={})\n",
    "_assert_rule(match, single_nodes_lhs=g, rhs=rhs, nodes_merge={'A&B': {'A','B'}}, node_attrs_add={'A&B': {'attr2': 2}},\n",
    "             edge_attrs_add={('A&B', 'A&B'): {'attrAB2': 'ab'}})"
   ]
  },
  {
   "attachments": {},
   "cell_type": "markdown",
   "metadata": {},
   "source": [
    "When the transformation will be executed, the resulting $A\\&B$ node will have both attributes.\n",
    "\n",
    "What if we want to override one of the merged attributes of $A\\&B$? In such a case, we mention the overriding attribute in RHS, and it will be marked as an added attribute."
   ]
  },
  {
   "cell_type": "code",
   "execution_count": null,
   "metadata": {},
   "outputs": [],
   "source": [
    "rhs = rhs_to_graph(\"A&B[attr=5]->A&B->C\", match=None, render_funcs={})\n",
    "_assert_rule(match, single_nodes_lhs=g, rhs=rhs, nodes_merge={'A&B': {'A','B'}}, node_attrs_add={'A&B': {'attr': 5}})"
   ]
  },
  {
   "attachments": {},
   "cell_type": "markdown",
   "metadata": {},
   "source": [
    "During transformation, first the merged node will inherit the original value of the attribute; Then, when adding new attributes to RHS, the new value of the attribute will override the old one."
   ]
  },
  {
   "cell_type": "markdown",
   "metadata": {},
   "source": [
    "Note that this allows a case where we merge two nodes with an attribute of the same name. What should the value of the attribute be in the merged node? Here's a problematic example case:"
   ]
  },
  {
   "cell_type": "code",
   "execution_count": null,
   "metadata": {},
   "outputs": [],
   "source": [
    "lhs, _ = lhs_to_graph(\"A[attr=\\\"a\\\"] -[attr2=\\\"ab\\\"]-> B[attr=\\\"b\\\"], A -[attr2=\\\"ac\\\"]-> C\") "
   ]
  },
  {
   "cell_type": "markdown",
   "metadata": {},
   "source": [
    "Our library provides a few built-in tie breakers, via the static **MergePolicy** Functions. The standard (and default) option is **choose_last**, which just picks the value of the last node in the list of P nodes merged into the new RHS node. A more advanced option, **union**, sets the value of the attribute in the merged node to be a list that contains the attribute values from all different P nodes merged into that RHS node.\n",
    "\n",
    "Since we check here only rules and not the graphs which they transform, we cannot test the merge policy here. Instead, it will be checked in the transform module."
   ]
  },
  {
   "attachments": {},
   "cell_type": "markdown",
   "metadata": {},
   "source": [
    "#### Combine it all"
   ]
  },
  {
   "attachments": {},
   "cell_type": "markdown",
   "metadata": {},
   "source": [
    "We will now do some a few last tests, using multiple abilities of the Rule class, as the user will do with this library:"
   ]
  },
  {
   "attachments": {},
   "cell_type": "markdown",
   "metadata": {},
   "source": [
    "For the following LHS:"
   ]
  },
  {
   "cell_type": "code",
   "execution_count": null,
   "metadata": {},
   "outputs": [
    {
     "data": {
      "text/html": [
       "<img src=\"https://mermaid.ink/img/CmZsb3djaGFydCBUQgpBWyJBCiJdCkJbIkIKYXR0cj0xLCBhdHRyMj0yIl0KQ1siQwoiXQpBIC0tPiBCCkEgLS0+IEMK\"/>"
      ],
      "text/plain": [
       "<IPython.core.display.Image object>"
      ]
     },
     "metadata": {},
     "output_type": "display_data"
    }
   ],
   "source": [
    "g = _create_graph(['A','B','C'], [('A', 'B'),('A','C')])\n",
    "g.nodes['B']['attr'] = 1\n",
    "g.nodes['B']['attr2'] = 2\n",
    "draw(g)\n"
   ]
  },
  {
   "cell_type": "code",
   "execution_count": null,
   "metadata": {},
   "outputs": [
    {
     "name": "stdout",
     "output_type": "stream",
     "text": [
      "{'A': {'A'}, 'B': {'B'}, 'C': {'C'}}\n"
     ]
    }
   ],
   "source": [
    "match = _generate_match(g, \"A->B[attr=1, attr2=2], A->C\", debug=True)"
   ]
  },
  {
   "cell_type": "code",
   "execution_count": null,
   "metadata": {},
   "outputs": [
    {
     "data": {
      "text/html": [
       "<img src=\"https://mermaid.ink/img/CmZsb3djaGFydCBUQgpBWyJBCiJdCkNbIkMKIl0KRFsiRAoiXQpBIC0tPiBDCkMgLS0+IEQK\"/>"
      ],
      "text/plain": [
       "<IPython.core.display.Image object>"
      ]
     },
     "metadata": {},
     "output_type": "display_data"
    }
   ],
   "source": [
    "# Remove node B (with edges and attributes), add node D and connect it to C\n",
    "p = p_to_graph(\"A->C\")\n",
    "rhs = rhs_to_graph(\"A->C->D\", match=None, render_funcs={})\n",
    "draw(rhs)\n",
    "_assert_rule(match, single_nodes_lhs=g, p=p, rhs=rhs, nodes_remove={'B'}, nodes_add={'D'}, edges_add={('C','D')})"
   ]
  },
  {
   "cell_type": "code",
   "execution_count": null,
   "metadata": {},
   "outputs": [
    {
     "data": {
      "text/html": [
       "<img src=\"https://mermaid.ink/img/CmZsb3djaGFydCBUQgpEWyJECiJdCkEqM1siQSozCiJdCkJbIkIKYXR0cjI9KE5vbmUsIE5vbmUpLCBhdHRyMz0oTm9uZSwgI3F1b3Q7YjMjcXVvdDspIl0KQSoxWyJBKjEKIl0KRCAtLT4gQSozCkEqMyAtLT4gQgpBKjEgLS0+IEIK\"/>"
      ],
      "text/plain": [
       "<IPython.core.display.Image object>"
      ]
     },
     "metadata": {},
     "output_type": "display_data"
    }
   ],
   "source": [
    "# Remove node C (with edges), remove attribute 'attr' from B, clone A two times,\n",
    "# add node D, connect one of the clones to D, add attribute 'attr3' to B\n",
    "p = p_to_graph(\"A*1->B, A*3->B[attr2]\") \n",
    "rhs = rhs_to_graph(\"D->A*3->B[attr2, attr3=\\\"b3\\\"], A*1->B\", match=None, render_funcs={}) \n",
    "draw(rhs)\n",
    "_assert_rule(match, single_nodes_lhs=g, p=p, rhs=rhs, nodes_remove={'C'}, node_attrs_remove={'B': {'attr'}}, nodes_clone={'A': {'A*1', 'A*3'}},\n",
    "             nodes_add={'D'}, edges_add={('D','A*3')}, node_attrs_add={'B': {'attr3': 'b3'}})"
   ]
  },
  {
   "cell_type": "code",
   "execution_count": null,
   "metadata": {},
   "outputs": [
    {
     "data": {
      "text/html": [
       "<img src=\"https://mermaid.ink/img/CmZsb3djaGFydCBUQgpBWyJBCiJdCkIqMSZCKjJbIkIqMSZCKjIKIl0KQ1siQwoiXQpBIC0tPiBCKjEmQioyCkEgLS0+IEMK\"/>"
      ],
      "text/plain": [
       "<IPython.core.display.Image object>"
      ]
     },
     "metadata": {},
     "output_type": "display_data"
    }
   ],
   "source": [
    "# Clone a node B, just to merge its clones back later\n",
    "p = p_to_graph(\"A->B*1, A->B*2, A->C\") \n",
    "rhs = rhs_to_graph(\"A->B*1&B*2, A->C\", match=None, render_funcs={}) \n",
    "draw(rhs)\n",
    "_assert_rule(match, single_nodes_lhs=g, p=p, rhs=rhs, nodes_clone={'B': {'B*1', 'B*2'}}, nodes_merge={'B*1&B*2': {'B*1', 'B*2'}})"
   ]
  },
  {
   "cell_type": "markdown",
   "metadata": {},
   "source": [
    "More integration testing will be done in the Transform module."
   ]
  },
  {
   "cell_type": "markdown",
   "metadata": {},
   "source": [
    "# Export"
   ]
  },
  {
   "cell_type": "code",
   "execution_count": null,
   "metadata": {},
   "outputs": [],
   "source": [
    "#|hide\n",
    "import nbdev; nbdev.nbdev_export()\n",
    "     "
   ]
  }
 ],
 "metadata": {
  "kernelspec": {
   "display_name": "python3",
   "language": "python",
   "name": "python3"
  }
 },
 "nbformat": 4,
 "nbformat_minor": 4
}
