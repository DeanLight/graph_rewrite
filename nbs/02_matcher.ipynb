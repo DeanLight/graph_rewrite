{
 "cells": [
  {
   "attachments": {},
   "cell_type": "markdown",
   "metadata": {},
   "source": [
    "# Matcher"
   ]
  },
  {
   "cell_type": "code",
   "execution_count": null,
   "metadata": {},
   "outputs": [],
   "source": [
    "#| default_exp matcher\n",
    "%load_ext autoreload\n",
    "%autoreload 2"
   ]
  },
  {
   "attachments": {},
   "cell_type": "markdown",
   "metadata": {},
   "source": [
    "### Overview\n",
    "The Parser outputs a DiGraph, defined by a pattern string (LHS). Nodes in the pattern graph have the same name as in the pattern string.\n",
    "\n",
    "The **Matcher** receives an input graph, along with the Parser-generated pattern graph. It finds LHS matches in the searched graph, and returns a list of dictionaries - each representing a single match - whose keys are the names of the pattern-defined nodes, and values are the names of the actual matching nodes in the searched graph.\n",
    "\n",
    "The list of mappings is returned by the Matcher's main function, **find_matches**."
   ]
  },
  {
   "attachments": {},
   "cell_type": "markdown",
   "metadata": {},
   "source": [
    "### Requirements"
   ]
  },
  {
   "cell_type": "code",
   "execution_count": null,
   "metadata": {},
   "outputs": [],
   "source": [
    "#| export\n",
    "from networkx import DiGraph\n",
    "from networkx.algorithms import isomorphism # check subgraph's isom.\n",
    "import itertools # iterating over all nodes\\edges combinations\n",
    "from typing import *"
   ]
  },
  {
   "attachments": {},
   "cell_type": "markdown",
   "metadata": {},
   "source": [
    "### Find Matches\n",
    "Given an input graph and a pattern graph, returns a list of mappings from pattern nodes to actual nodes, each representing a single match."
   ]
  },
  {
   "cell_type": "code",
   "execution_count": null,
   "metadata": {},
   "outputs": [],
   "source": [
    "#| export\n",
    "def find_matches(input: DiGraph, pattern: DiGraph) -> List[Dict[str, Hashable]]:\n",
    "    \"\"\"\n",
    "    Finds matches of a pattern graph inside an input graph, and returns mappings for each match.\n",
    "\n",
    "    Parameters\n",
    "    ----------\n",
    "    input:\n",
    "        A DiGraph to be scanned for finding pattern matches.\n",
    "    pattern:\n",
    "        A DiGraph representing a graph pattern, in the same format as the output of Parser module.\n",
    "\n",
    "    Returns\n",
    "    -------\n",
    "    A list of str->hashable dictionaries:\n",
    "        List of mappings from pattern nodes names to actual nodes names.\n",
    "    \"\"\"\n",
    "    def attributes_exist(original: dict, pattern: dict):\n",
    "        for attr_name, _ in pattern.items():\n",
    "            if attr_name not in original:\n",
    "                return False\n",
    "        return True\n",
    "\n",
    "    # Narrow down search space by removing irrelavant nodes\n",
    "    matching_nodes = set()\n",
    "    for (_, pattern_attr) in pattern.nodes(data=True):\n",
    "        for (graph_node, graph_attr) in input.nodes(data=True):\n",
    "            if attributes_exist(graph_attr, pattern_attr):\n",
    "                matching_nodes.add(graph_node)\n",
    "    reduced_input: DiGraph = input.subgraph(matching_nodes)\n",
    "\n",
    "    isom_matches = []\n",
    "    for sub_nodes in itertools.combinations(reduced_input.nodes, len(pattern.nodes)):\n",
    "        nodes_subg: DiGraph = reduced_input.subgraph(sub_nodes) # only the selected nodes and connected edges\n",
    "        for sub_edges in itertools.combinations(nodes_subg.edges(data=True), len(pattern.edges)): # subset of the connected edges\n",
    "            # Create a subgraph with selected edges and nodes\n",
    "            subg = DiGraph()\n",
    "            subg.add_nodes_from(list(nodes_subg.nodes(data=True)))\n",
    "            subg.add_edges_from(list(sub_edges))\n",
    "\n",
    "            # Find structural matches with the selected edges and nodes\n",
    "            matcher = isomorphism.DiGraphMatcher(pattern, subg)\n",
    "            for isom_mapping in matcher.isomorphisms_iter():\n",
    "                isom_matches.append((nodes_subg, isom_mapping))\n",
    "\n",
    "    # Find true matches among isoms (matche pattern's attributes)\n",
    "    true_matches = []\n",
    "    for (subgraph, mapping) in isom_matches:\n",
    "        is_match = True\n",
    "        # check nodes match\n",
    "        for (pattern_node, original_node) in mapping.items():\n",
    "            if not attributes_exist(subgraph.nodes[original_node], pattern.nodes[pattern_node]):\n",
    "                is_match = False\n",
    "                break\n",
    "        if not is_match:\n",
    "            continue\n",
    "\n",
    "        # check edges match\n",
    "        for edge in pattern.edges(data=True):\n",
    "            pattern_attr = edge[2]\n",
    "            original_attr = subgraph.edges[mapping[edge[0]], mapping[edge[1]]]\n",
    "            if not attributes_exist(original_attr, pattern_attr):\n",
    "                is_match = False\n",
    "                break\n",
    "        if is_match:\n",
    "            true_matches.append(mapping)\n",
    "\n",
    "    return true_matches"
   ]
  },
  {
   "attachments": {},
   "cell_type": "markdown",
   "metadata": {},
   "source": [
    "### Tests"
   ]
  },
  {
   "attachments": {},
   "cell_type": "markdown",
   "metadata": {},
   "source": [
    "#### Test Utils"
   ]
  },
  {
   "cell_type": "code",
   "execution_count": null,
   "metadata": {},
   "outputs": [],
   "source": [
    "def create_graph(nodes, edges):\n",
    "    g = DiGraph()\n",
    "    g.add_nodes_from(nodes)\n",
    "    g.add_edges_from(edges)\n",
    "    return g\n",
    "\n",
    "def test_match(input, pattern, expected):\n",
    "    res = find_matches(input, pattern)\n",
    "    for x in res:\n",
    "        if x not in expected:\n",
    "            return False  \n",
    "    for x in expected:\n",
    "        if x not in res:\n",
    "            return False\n",
    "    return True"
   ]
  },
  {
   "attachments": {},
   "cell_type": "markdown",
   "metadata": {},
   "source": [
    "#### Test Cases"
   ]
  },
  {
   "cell_type": "code",
   "execution_count": null,
   "metadata": {},
   "outputs": [],
   "source": [
    "# Simple graph tests\n",
    "input = create_graph(\n",
    "    ['A','B','C','D'], \n",
    "    [\n",
    "        ('A','B'),\n",
    "        ('A','C'),\n",
    "        ('A', 'A'),\n",
    "        ('C', 'C'),\n",
    "        ('A', 'C')\n",
    "    ]\n",
    ")\n",
    "\n",
    "pattern1 = create_graph(['X'], [('X', 'X')])\n",
    "assert test_match(input, pattern1, [{'X': 'A'}, {'X': 'C'}])\n",
    "assert test_match(input, pattern1, [{'X': 'C'}, {'X': 'A'}])\n",
    "assert not test_match(input, pattern1, [{'X': 'A'}])\n",
    "\n",
    "pattern2 = create_graph(['X', 'Y'], [('X', 'X')])\n",
    "assert test_match(input, pattern2, [{'X': 'A', 'Y': 'B'}, {'X': 'A', 'Y': 'C'}, {'X': 'A', 'Y': 'D'}, \n",
    "                                    {'X': 'C', 'Y': 'A'}, {'X': 'C', 'Y': 'B'}, {'X': 'C', 'Y': 'D'}])\n",
    "\n",
    "pattern3 = create_graph(['X', 'Y'], [('X', 'X'), ('X', 'Y')])\n",
    "assert test_match(input, pattern3, [{'X': 'A', 'Y': 'B'}, {'X': 'A', 'Y': 'C'}])\n",
    "\n",
    "pattern4 = create_graph(['X', 'Y'], [('X', 'X'), ('Y', 'X')])\n",
    "assert test_match(input, pattern4, [{'X': 'C', 'Y': 'A'}])\n",
    "\n",
    "pattern5 = create_graph(['X', 'Y'], [('X', 'X'), ('Y', 'X'), ('X', 'Y')])\n",
    "assert test_match(input, pattern5, [])\n",
    "\n",
    "pattern6 = create_graph(['1','2','3','4','5'], [])\n",
    "assert test_match(input, pattern6, [])\n",
    "\n",
    "input.add_edge('C', 'D')\n",
    "input.add_edge('D', 'A')\n",
    "pattern7 = create_graph(['X', 'Y', 'Z'], [('X', 'Y'), ('Y', 'Z')])\n",
    "assert test_match(input, pattern7, [{'X': 'A', 'Y': 'C', 'Z': 'D'},\n",
    "                                    {'X': 'C', 'Y': 'D', 'Z': 'A'},\n",
    "                                    {'X': 'D', 'Y': 'A', 'Z': 'C'},\n",
    "                                    {'X': 'D', 'Y': 'A', 'Z': 'B'}])\n"
   ]
  },
  {
   "cell_type": "code",
   "execution_count": null,
   "metadata": {},
   "outputs": [],
   "source": [
    "# POC: High number of nodes, solved with attribute filtering\n",
    "num_nodes = 100000\n",
    "\n",
    "input = create_graph(\n",
    "    [n for n in range(num_nodes)] + [(num_nodes+1, {'attr': 15}), (num_nodes+2, {'attr': 15})], \n",
    "    [\n",
    "        (num_nodes+1, num_nodes+2),\n",
    "        (2,4),\n",
    "        (3,1)\n",
    "    ]\n",
    ")\n",
    "\n",
    "pattern = create_graph([('X', {'attr': None}), ('Y', {'attr': None})], [('X', 'Y')])\n",
    "assert test_match(input, pattern, [{'X': num_nodes+1, 'Y': num_nodes+2}])"
   ]
  }
 ],
 "metadata": {
  "kernelspec": {
   "display_name": "python3",
   "language": "python",
   "name": "python3"
  },
  "language_info": {
   "codemirror_mode": {
    "name": "ipython",
    "version": 3
   },
   "file_extension": ".py",
   "mimetype": "text/x-python",
   "name": "python",
   "nbconvert_exporter": "python",
   "pygments_lexer": "ipython3",
   "version": "3.9.15"
  }
 },
 "nbformat": 4,
 "nbformat_minor": 2
}
