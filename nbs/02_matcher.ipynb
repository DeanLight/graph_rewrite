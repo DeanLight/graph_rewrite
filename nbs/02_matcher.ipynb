{
 "cells": [
  {
   "cell_type": "code",
   "execution_count": 4,
   "metadata": {},
   "outputs": [],
   "source": [
    "from networkx import DiGraph\n",
    "from networkx.algorithms import isomorphism # check subgraph's isom.\n",
    "import itertools # iterating over all nodes\\edges combinations\n",
    "from typing import *"
   ]
  },
  {
   "cell_type": "markdown",
   "metadata": {},
   "source": [
    "# Matcher\n",
    "The Parser outputs a list of DiGraphs, each defined by a pattern string(LHS), as follows:\n",
    "* **Named nodes** are included with the same names in the pattern graph.\n",
    "* **Named edges** (edges whose both endpoints are named) are included as well.\n",
    "* **Unnamed nodes and edges** are also included, with distinguishable special names. They are included in order to keep the pattern's structure, and are filtered in another module.\n",
    "* **Attributes** whose existence is enforced by the pattern, are included as attributes with some default value (as actual attribute values are not specified by pattern strings). Enforcement of certain values is done by a different module.\n",
    "\n",
    "The **Matcher** receives an input graph, along with a list of Parser-generated pattern graphs (all graphs are instances of DiGraph). It finds LHS matches in the searched graph, and returns a list of dictionaries - each representing a single match - whose keys are the names of the related pattern-defined nodes, and values are the names of the actual matching nodes in the searched graph, along with the related pattern graph.\n",
    "\n",
    "The list of mappings and pattern graphs returned by the Matcher's main function, **find_matches**, is used internally for the next modules."
   ]
  },
  {
   "cell_type": "markdown",
   "metadata": {},
   "source": [
    "## Checking Attributes\n",
    "Given the set of key-value attributes for a pattern node/edge and an actual node/edge, the following function checks whether the actual object contains all attributes whose existence is encforced by the pattern object. It is later used in order to find matches."
   ]
  },
  {
   "cell_type": "code",
   "execution_count": 5,
   "metadata": {},
   "outputs": [],
   "source": [
    "def attributes_exist(actual_attr: dict, pattern_attr: dict) -> bool:\n",
    "    # for attr_name in pattern_attr:\n",
    "    #   if actual_attr doesn't contain an attribute named attr_name:\n",
    "    #       return False, as actual object doesn't match the pattern\n",
    "    # if all attributes were found, return True\n",
    "    pass"
   ]
  },
  {
   "cell_type": "markdown",
   "metadata": {},
   "source": [
    "## Find Matches\n",
    "Given an input graph and a list of pattern graphs, return a list of tuples, each consists of a mapping from pattern nodes to actual nodes which matches one of the given patterns, along with the related pattern."
   ]
  },
  {
   "cell_type": "code",
   "execution_count": 6,
   "metadata": {},
   "outputs": [],
   "source": [
    "def find_matches(input: DiGraph, patterns_list: List[DiGraph]) -> List[Tuple[Dict[str, Hashable], DiGraph]]:\n",
    "    # initialize true_matches, an empty list\n",
    "\n",
    "    # for pattern in patterns_list:    \n",
    "        # 1) Narrow down the search space by removing irrelavant nodes\n",
    "        # initialize matching_nodes, an empty set\n",
    "        # for each pair of actual_node, pattern_node:\n",
    "        #   if attribute_exist(actual_node attributes, pattern_node attributes):\n",
    "        #       add actual_node to matching_nodes\n",
    "        # reduced_input = subgraph of input, consisting of matching_nodes an all edges connected to them\n",
    "\n",
    "        # 2) Find isomorphic matches (match pattern's structure ONLY)\n",
    "        # initialize isom_matches, an empty list\n",
    "        # for each possible set of nodes in reduced_input, of same size as number of nodes in pattern:\n",
    "        #      nodes_subg = subgraph of reduced_input, consisting only of the current set of nodes and connected edges\n",
    "        #      for each possible set of edges in nodes_subg, of same size as number of edges in pattern:\n",
    "        #           subg = a DiGraph consisting of current sets of nodes and edges\n",
    "        #           use isomorphism.DiGraphMatcher in order to find all isomorphisms from pattern to subg\n",
    "        #           for each isomorphism, add the mapping it defines along with the current nodes_subg to isom_matches\n",
    "\n",
    "        # 3) Find true matches among isomorphisms (match pattern's attributes)\n",
    "        # for every mapping, subgraph in isom_matches:\n",
    "        #   for every pattern_node, corresponding original_node in mapping:\n",
    "        #       if not attributes_exist(original_node attr in subgraph, pattern_node attr in pattern):\n",
    "        #           continue to next isom_match, as the current one doesn't match the pattern\n",
    "        #   for every pattern_edge, corresponding original_edge induced from the nodes in mapping:\n",
    "        #       if not attributes_exist(original_edge attr in subgraph, pattern_node attr in pattern):\n",
    "        #           continue to next isom_match for the same reason as above\n",
    "        #   if reached here, then we found a true match\n",
    "        #   add (mapping, pattern) to true_matches, and continue to next isom_match\n",
    "\n",
    "    # return true_matches\n",
    "    pass"
   ]
  }
 ],
 "metadata": {
  "kernelspec": {
   "display_name": "Python 3.6.3 64-bit",
   "language": "python",
   "name": "python3"
  },
  "language_info": {
   "codemirror_mode": {
    "name": "ipython",
    "version": 3
   },
   "file_extension": ".py",
   "mimetype": "text/x-python",
   "name": "python",
   "nbconvert_exporter": "python",
   "pygments_lexer": "ipython3",
   "version": "3.6.3"
  },
  "orig_nbformat": 4,
  "vscode": {
   "interpreter": {
    "hash": "f4e9cda46bb2d9d7fe6ecdff0f8336a934348bf06cb492f2f42f60739b3403b4"
   }
  }
 },
 "nbformat": 4,
 "nbformat_minor": 2
}
