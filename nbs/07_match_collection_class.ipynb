{
 "cells": [
  {
   "cell_type": "markdown",
   "metadata": {},
   "source": [
    "### MatchCollection class\n",
    "# Collections Feature"
   ]
  },
  {
   "cell_type": "code",
   "execution_count": null,
   "metadata": {},
   "outputs": [],
   "source": [
    "#| default_exp match_collection_class"
   ]
  },
  {
   "cell_type": "code",
   "execution_count": 1,
   "metadata": {},
   "outputs": [],
   "source": [
    "# Collections Feature\n",
    "\n",
    "#| hide\n",
    "from nbdev.showdoc import show_doc\n",
    "%load_ext autoreload\n",
    "%autoreload 2"
   ]
  },
  {
   "cell_type": "code",
   "execution_count": 2,
   "metadata": {},
   "outputs": [],
   "source": [
    "#| export\n",
    "\n",
    "# Collections Feature\n",
    "\n",
    "import networkx as nx\n",
    "from networkx import DiGraph\n",
    "from typing import *\n",
    "from graph_rewrite.core import _create_graph, draw, GraphRewriteException, NodeName, EdgeName\n",
    "from enum import Enum"
   ]
  },
  {
   "cell_type": "code",
   "execution_count": null,
   "metadata": {},
   "outputs": [],
   "source": [
    "#| export\n",
    "\n",
    "# Collections Feature\n",
    "\n",
    "# Define the Enum for CollectionType\n",
    "class CollectionType(Enum):\n",
    "    EDGES = \"edges\"\n",
    "    NODES = \"nodes\""
   ]
  },
  {
   "cell_type": "code",
   "execution_count": null,
   "metadata": {},
   "outputs": [],
   "source": [
    "#| export\n",
    "\n",
    "# Collections Feature\n",
    "\n",
    "# Define ItemName type which could be a DiGraph node or edge\n",
    "ItemName = Union[NodeName, EdgeName]"
   ]
  },
  {
   "cell_type": "code",
   "execution_count": null,
   "metadata": {},
   "outputs": [],
   "source": [
    "#| export\n",
    "\n",
    "# Collections Feature\n",
    "\n",
    "class MatchCollection:\n",
    "    def __init__(self, graph: DiGraph, CollectionName: str, type: CollectionType, items: List[ItemName], mapping={}):\n",
    "        self.graph = graph\n",
    "        self.CollectionName: str = CollectionName\n",
    "        self.type: CollectionType = type\n",
    "        self.items: List[ItemName] = items\n",
    "        self.mapping: Dict[ItemName, ItemName] = mapping\n",
    "\n",
    "    def __getitem__(self, attribute_name: str):\n",
    "        \"\"\"Returns a list of attributes from items in the collection.\n",
    "\n",
    "        Args:\n",
    "            attribute_name (str): The name of the attribute to retrieve from each item.\n",
    "\n",
    "        Returns:\n",
    "            List: A list of attribute values from the items.\n",
    "        \n",
    "        return [getattr(item, attribute_name) for item in self.items]\n",
    "        \"\"\"\n",
    "        \n",
    "        pass\n",
    "\n",
    "    def add_item(self, ItemName, graphItemName):\n",
    "        self.items.append(ItemName)\n",
    "        self.mapping[ItemName] = graphItemName\n",
    "\n",
    "    #TODO: add support for iterator over the items and/or a getter function for items if needed"
   ]
  }
 ],
 "metadata": {
  "kernelspec": {
   "display_name": "Python 3",
   "language": "python",
   "name": "python3"
  },
  "language_info": {
   "codemirror_mode": {
    "name": "ipython",
    "version": 3
   },
   "file_extension": ".py",
   "mimetype": "text/x-python",
   "name": "python",
   "nbconvert_exporter": "python",
   "pygments_lexer": "ipython3",
   "version": "3.10.12"
  }
 },
 "nbformat": 4,
 "nbformat_minor": 2
}
