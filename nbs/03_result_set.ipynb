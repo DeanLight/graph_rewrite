{
 "cells": [
  {
   "attachments": {},
   "cell_type": "markdown",
   "metadata": {},
   "source": [
    "# Result Set"
   ]
  },
  {
   "cell_type": "code",
   "execution_count": 12,
   "metadata": {},
   "outputs": [
    {
     "name": "stdout",
     "output_type": "stream",
     "text": [
      "The autoreload extension is already loaded. To reload it, use:\n",
      "  %reload_ext autoreload\n"
     ]
    }
   ],
   "source": [
    "#| default_exp result_set\n",
    "%load_ext autoreload\n",
    "%autoreload 2"
   ]
  },
  {
   "attachments": {},
   "cell_type": "markdown",
   "metadata": {},
   "source": [
    "### Overview\n",
    "The Matcher finds a list of mappings from LHS-pattern nodes' names to actual nodes' names. Each mapping represents a single match. \n",
    "\n",
    "Next, we convert this list of mappings into a **ResultSet**, a subview of the original graph, which allows users to get and set the attributes of the nodes and edges included in each match. It can be used also in order to filter matches and specify RHSs per match. This ResultSet is eventually returned to the user when rewrite is done, in order to allow imperative side effect as well as imperative changes to the graph."
   ]
  },
  {
   "attachments": {},
   "cell_type": "markdown",
   "metadata": {},
   "source": [
    "### Requirements"
   ]
  },
  {
   "cell_type": "code",
   "execution_count": 13,
   "metadata": {},
   "outputs": [],
   "source": [
    "#| export\n",
    "import networkx as nx\n",
    "from networkx import DiGraph\n",
    "from typing import *"
   ]
  },
  {
   "attachments": {},
   "cell_type": "markdown",
   "metadata": {},
   "source": [
    "### Utils\n",
    "Edge $(u,v)$ is represented in the ResultSet with the name \"u->v\"."
   ]
  },
  {
   "cell_type": "code",
   "execution_count": 14,
   "metadata": {},
   "outputs": [],
   "source": [
    "#| export\n",
    "def convert_to_edge_name(src: Hashable, dest: Hashable) -> str:\n",
    "    return f\"{src}->{dest}\""
   ]
  },
  {
   "attachments": {},
   "cell_type": "markdown",
   "metadata": {},
   "source": [
    "A node is anonymous if its name begins with '$'."
   ]
  },
  {
   "cell_type": "code",
   "execution_count": 15,
   "metadata": {},
   "outputs": [],
   "source": [
    "#| export\n",
    "def is_anonymous_node(node_name: Hashable) -> bool:\n",
    "    return len(node_name) >= 1 and node_name[0] == '$'"
   ]
  },
  {
   "attachments": {},
   "cell_type": "markdown",
   "metadata": {},
   "source": [
    "### Type Definitions"
   ]
  },
  {
   "attachments": {},
   "cell_type": "markdown",
   "metadata": {},
   "source": [
    "#### Match\n",
    "A **Match** is a subview of the original graph, limited to the nodes, edges and attributes specified in the pattern. It includes the original graph, dictionaries which map nodes/edges to their related attributes in the pattern, and the mapping from pattern nodes to real ones."
   ]
  },
  {
   "cell_type": "code",
   "execution_count": 16,
   "metadata": {},
   "outputs": [],
   "source": [
    "#| export\n",
    "class Match:\n",
    "    def __init__(self, graph: DiGraph, nodes: List[Hashable], edges: List[Tuple[Hashable, Hashable]], mapping: Dict[str, Hashable]):\n",
    "        self.graph: DiGraph = graph\n",
    "        self.__nodes: List[Hashable] = nodes\n",
    "        self.__edges: List[Tuple[Hashable, Hashable]] = edges\n",
    "        self.mapping: Dict[str, Hashable] = mapping\n",
    "\n",
    "    class DoesNotExist(Exception):\n",
    "        pass\n",
    "\n",
    "    def __get_node(self, pattern_node):\n",
    "        return self.graph.nodes[self.mapping[pattern_node]]\n",
    "\n",
    "    def __get_edge(self, pattern_src, pattern_dst):\n",
    "        if (pattern_src, pattern_dst) not in self.__edges:\n",
    "            raise self.DoesNotExist\n",
    "        return self.graph.edges[self.mapping[pattern_src], self.mapping[pattern_dst]]\n",
    "\n",
    "    def get_nodes(self):\n",
    "        return {pattern_node: self.__get_node(pattern_node) for pattern_node in self.__nodes}\n",
    "\n",
    "    def get_edges(self):\n",
    "        return {convert_to_edge_name(pattern_src, pattern_dest): self.__get_edge(pattern_src, pattern_dest) for (pattern_src, pattern_dest) in self.__edges}\n",
    "\n",
    "    def __getitem__(self, key: Hashable):\n",
    "        try:\n",
    "            if str(key).__contains__(\"->\") and len(str(key).split(\"->\")) == 2:\n",
    "                end_nodes = str(key).split(\"->\")\n",
    "                return self.__get_edge(end_nodes[0], end_nodes[1])\n",
    "            else:\n",
    "                return self.__get_node(key)\n",
    "        except:\n",
    "            raise self.DoesNotExist"
   ]
  },
  {
   "attachments": {},
   "cell_type": "markdown",
   "metadata": {},
   "source": [
    "#### ResultSet\n",
    "A **ResultSet** contains all matches."
   ]
  },
  {
   "cell_type": "code",
   "execution_count": 17,
   "metadata": {},
   "outputs": [],
   "source": [
    "#| export\n",
    "class ResultSet:\n",
    "    def __init__(self, matches: List[Match]):\n",
    "        self.__matches: List[Match] = matches\n",
    "\n",
    "    def __getitem__(self, index: int):\n",
    "        return self.__matches[index]\n",
    "    \n",
    "    def __len__(self):\n",
    "        return len(self.__matches)"
   ]
  },
  {
   "attachments": {},
   "cell_type": "markdown",
   "metadata": {},
   "source": [
    "### Convert list of mappings to a ResultSet"
   ]
  },
  {
   "cell_type": "code",
   "execution_count": 18,
   "metadata": {},
   "outputs": [],
   "source": [
    "#| export\n",
    "def mapping_to_match(input: DiGraph, pattern: DiGraph, mapping: Dict[str, Hashable]) -> Match:\n",
    "    nodes_list, edges_list = [], []\n",
    "    cleared_mapping = mapping.copy()\n",
    "\n",
    "    for pattern_node in mapping.keys():\n",
    "        if is_anonymous_node(pattern_node):\n",
    "            cleared_mapping.pop(pattern_node)\n",
    "            continue # as we don't want to include this node in the Match\n",
    "        nodes_list.append(pattern_node)\n",
    "\n",
    "    for (n1, n2) in pattern.edges:\n",
    "        if is_anonymous_node(n1) or is_anonymous_node(n2):\n",
    "            continue # as before\n",
    "        edges_list.append((n1, n2))\n",
    "\n",
    "    return Match(input, nodes_list, edges_list, cleared_mapping)"
   ]
  },
  {
   "cell_type": "code",
   "execution_count": 19,
   "metadata": {},
   "outputs": [],
   "source": [
    "#| export\n",
    "def mappings_to_results_set(input: DiGraph, pattern: DiGraph, mappings: List[Dict[str, Hashable]]) -> ResultSet:\n",
    "    matches = []\n",
    "\n",
    "    for mapping in mappings:\n",
    "      match = mapping_to_match(input, pattern, mapping)\n",
    "      matches.append(match)\n",
    "\n",
    "    return ResultSet(matches)"
   ]
  },
  {
   "attachments": {},
   "cell_type": "markdown",
   "metadata": {},
   "source": [
    "### Tests"
   ]
  },
  {
   "attachments": {},
   "cell_type": "markdown",
   "metadata": {},
   "source": [
    "#### Test Utils"
   ]
  },
  {
   "cell_type": "code",
   "execution_count": 20,
   "metadata": {},
   "outputs": [],
   "source": [
    "from graph_rewrite.matcher import find_matches\n",
    "\n",
    "def create_graph(nodes, edges):\n",
    "    g = DiGraph()\n",
    "    g.add_nodes_from(nodes)\n",
    "    g.add_edges_from(edges)\n",
    "    return g\n",
    "\n",
    "def get_result_set(input, pattern):\n",
    "    return mappings_to_results_set(input, pattern, find_matches(input, pattern))"
   ]
  },
  {
   "attachments": {},
   "cell_type": "markdown",
   "metadata": {},
   "source": [
    "#### Test Cases"
   ]
  },
  {
   "cell_type": "code",
   "execution_count": 21,
   "metadata": {},
   "outputs": [],
   "source": [
    "input = create_graph(\n",
    "    ['A','B','C','D'], \n",
    "    [\n",
    "        ('A','B'),\n",
    "        ('A','C'),\n",
    "        ('A', 'A'),\n",
    "        ('C', 'C'),\n",
    "        ('A', 'C')\n",
    "    ]\n",
    ")\n",
    "\n",
    "pattern = create_graph(['X'], [('X', 'X')])\n",
    "rs = get_result_set(input, pattern)\n",
    "rs[0]['X']['hello'] = 5\n",
    "assert input.nodes['A']['hello'] == 5\n",
    "rs[1]['X->X']['attr'] = \"hello my attr\"\n",
    "assert 'attr' in input.edges['C','C']\n",
    "assert input.edges['C','C']['attr'] == \"hello my attr\"\n",
    "assert 'attr' not in input.edges['A','A']"
   ]
  }
 ],
 "metadata": {
  "kernelspec": {
   "display_name": "python3",
   "language": "python",
   "name": "python3"
  },
  "language_info": {
   "codemirror_mode": {
    "name": "ipython",
    "version": 3
   },
   "file_extension": ".py",
   "mimetype": "text/x-python",
   "name": "python",
   "nbconvert_exporter": "python",
   "pygments_lexer": "ipython3",
   "version": "3.9.15"
  }
 },
 "nbformat": 4,
 "nbformat_minor": 2
}
