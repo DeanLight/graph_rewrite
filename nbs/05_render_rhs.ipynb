{
 "cells": [
  {
   "cell_type": "code",
   "execution_count": 1,
   "metadata": {},
   "outputs": [
    {
     "name": "stdout",
     "output_type": "stream",
     "text": [
      "Note: you may need to restart the kernel to use updated packages.\n"
     ]
    },
    {
     "name": "stderr",
     "output_type": "stream",
     "text": [
      "'c:\\Program' is not recognized as an internal or external command,\n",
      "operable program or batch file.\n"
     ]
    }
   ],
   "source": [
    "from typing import *\n",
    "\n",
    "%pip install jinja2\n",
    "from jinja2 import *"
   ]
  },
  {
   "cell_type": "markdown",
   "metadata": {},
   "source": [
    "# Render RHS\n",
    "The searching phase of rewrite is done, so now we have a filtered ResultSet which we'll use for the transformation part.\n",
    "\n",
    "Since we might want to change each matched graph a bit differently, depending on the actual values of its attributes, we allow the user to define his RHS in two possible ways:\n",
    "\n",
    "1) RHS is simply a string. In that case, each match will cause the same transformation, that will be independent of the actual attributes of the match.\n",
    "2) RHS is a **jinja2 Template**. In that case, the user will pass an **render_rhs** parameter to rewrite - a dictionary whose keys are names of templated arguments in RHS, and values are functions that for each Match return a new value (dependent on the current matches). For every match, we calculate the actual value that the functions specify for each template argument, and render the RHS accordingly, such that every match has its own specific RHS string."
   ]
  },
  {
   "cell_type": "code",
   "execution_count": 2,
   "metadata": {},
   "outputs": [],
   "source": [
    "RenderFunc = Callable[Match, str]"
   ]
  },
  {
   "cell_type": "markdown",
   "metadata": {},
   "source": [
    "### Render RHS strings\n",
    "Receives a filtered ResultSet, a RHS string\\template and a dictionary from strings to RenderFuncs. Returns a list of RHS rendered strings, whose indices are corresponding to those of the ResultSet. "
   ]
  },
  {
   "cell_type": "code",
   "execution_count": 3,
   "metadata": {},
   "outputs": [],
   "source": [
    "def render_rhs(result_set: ResultSet, rhs: Union[str, Template], render_func: Dict[str, RenderFunc]) -> List[str]:\n",
    "    # if type(rhs) != Template:\n",
    "    #   return [rhs] * length of result_set.matches, as rhs is already rendered\n",
    "\n",
    "    # initialize rendered_rhs, an empty list\n",
    "    # for match in result_set.matches:\n",
    "    #   cur_calc_args = {attr: render_func[attr](match) for attr in render_func.keys}\n",
    "    #   cur_rendered = rhs.render(cur_calculated_args)\n",
    "    #   append cur_rendered to rendered_rhs\n",
    "\n",
    "    # return rendered_rhs\n",
    "    pass"
   ]
  }
 ],
 "metadata": {
  "kernelspec": {
   "display_name": "Python 3",
   "language": "python",
   "name": "python3"
  },
  "language_info": {
   "codemirror_mode": {
    "name": "ipython",
    "version": 3
   },
   "file_extension": ".py",
   "mimetype": "text/x-python",
   "name": "python",
   "nbconvert_exporter": "python",
   "pygments_lexer": "ipython3",
   "version": "3.11.0 (main, Oct 25 2022, 14:13:24) [Clang 14.0.0 (clang-1400.0.29.202)]"
  },
  "orig_nbformat": 4,
  "vscode": {
   "interpreter": {
    "hash": "1a1af0ee75eeea9e2e1ee996c87e7a2b11a0bebd85af04bb136d915cefc0abce"
   }
  }
 },
 "nbformat": 4,
 "nbformat_minor": 2
}
