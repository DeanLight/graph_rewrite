{
 "cells": [
  {
   "attachments": {},
   "cell_type": "markdown",
   "metadata": {},
   "source": [
    "# Render RHS"
   ]
  },
  {
   "cell_type": "code",
   "execution_count": null,
   "metadata": {},
   "outputs": [],
   "source": [
    "#| default_exp render_rhs\n",
    "%load_ext autoreload\n",
    "%autoreload 2"
   ]
  },
  {
   "attachments": {},
   "cell_type": "markdown",
   "metadata": {},
   "source": [
    "### Overview\n",
    "The searching phase of rewrite is done, so now we have a filtered ResultSet which we'll use for the transformation part.\n",
    "Since we might want to change each matched graph a bit differently, depending on the actual values of its attributes, we allow the user to define a parameterized RHS string:\n",
    "\n",
    "For each placeholder in the string, the user writes \"{{name_of_placeholder}}\" inside the string.\n",
    "In this module, we wrap the string with jinja2's Template class and render the string with a dictionary, sent by the user to the rewrite function as **render_rhs** - a dictionary whose keys are names of templated arguments in RHS, and values are functions that receive a Match and return a new value (dependent on the current matches). For every match, we calculate the actual value that the functions specify for each template argument, and render the RHS accordingly, such that every match has its own specific RHS string."
   ]
  },
  {
   "attachments": {},
   "cell_type": "markdown",
   "metadata": {},
   "source": [
    "### Requirements"
   ]
  },
  {
   "cell_type": "code",
   "execution_count": null,
   "metadata": {},
   "outputs": [],
   "source": [
    "#| export\n",
    "from typing import *\n",
    "from jinja2 import Template\n",
    "from graph_rewrite.match_class import Match"
   ]
  },
  {
   "cell_type": "code",
   "execution_count": null,
   "metadata": {},
   "outputs": [],
   "source": [
    "#| export\n",
    "RenderFunc = Callable[[Match], str] # type of a function to render a parameter"
   ]
  },
  {
   "attachments": {},
   "cell_type": "markdown",
   "metadata": {},
   "source": [
    "### Render RHS strings\n",
    "Receives a filtered ResultSet, a RHS string (potentially with placeholders) and a dictionary from strings to RenderFuncs. Returns a list of RHS rendered strings, whose indices correspond to those of the ResultSet. "
   ]
  },
  {
   "cell_type": "code",
   "execution_count": null,
   "metadata": {},
   "outputs": [],
   "source": [
    "#| export\n",
    "def render_rhs(match_list: List[Match], rhs: str, render_funcs: Dict[str, RenderFunc]) -> List[str]:\n",
    "    template_rhs = Template(rhs)\n",
    "    rendered_rhs: List[str] = []\n",
    "    for match in match_list:\n",
    "        cur_calc_args = {attr: render_funcs[attr](match) for attr in render_funcs.keys()}\n",
    "        cur_rendered = template_rhs.render(cur_calc_args)\n",
    "        rendered_rhs.append(cur_rendered)\n",
    "    \n",
    "    return rendered_rhs"
   ]
  },
  {
   "attachments": {},
   "cell_type": "markdown",
   "metadata": {},
   "source": [
    "### Tests"
   ]
  },
  {
   "attachments": {},
   "cell_type": "markdown",
   "metadata": {},
   "source": [
    "#### Test Utils"
   ]
  },
  {
   "cell_type": "code",
   "execution_count": null,
   "metadata": {},
   "outputs": [],
   "source": [
    "# from networkx import DiGraph\n",
    "# from graph_rewrite.matcher import find_matches\n",
    "# from graph_rewrite.result_set import mappings_to_results_set\n",
    "\n",
    "# def create_graph(nodes, edges):\n",
    "#     g = DiGraph()\n",
    "#     g.add_nodes_from(nodes)\n",
    "#     g.add_edges_from(edges)\n",
    "#     return g\n",
    "\n",
    "# def get_result_set(input, pattern):\n",
    "#     return mappings_to_results_set(input, pattern, find_matches(input, pattern))"
   ]
  },
  {
   "attachments": {},
   "cell_type": "markdown",
   "metadata": {},
   "source": [
    "#### Test Cases"
   ]
  },
  {
   "cell_type": "code",
   "execution_count": null,
   "metadata": {},
   "outputs": [],
   "source": [
    "# input = create_graph(\n",
    "#     [('A', {'attr': 5}),'B',('C', {'attr': 10}),'D'],\n",
    "#     [\n",
    "#         ('A','B'),\n",
    "#         ('A','C'),\n",
    "#         ('A', 'A'),\n",
    "#         ('C', 'C'),\n",
    "#         ('A', 'C')\n",
    "#     ]\n",
    "# )\n",
    "# pattern = create_graph(['X'], [('X', 'X')])\n",
    "# rs = get_result_set(input, pattern)\n",
    "\n",
    "# rhs = \"my increased attr is {{val}}\"\n",
    "# render_dict = {\n",
    "#     \"val\": lambda match: match['X']['attr'] + 1\n",
    "# }\n",
    "\n",
    "# assert render_rhs(rs, rhs, render_dict) == ['my increased attr is 6', 'my increased attr is 11']"
   ]
  }
 ],
 "metadata": {
  "kernelspec": {
   "display_name": "python3",
   "language": "python",
   "name": "python3"
  }
 },
 "nbformat": 4,
 "nbformat_minor": 2
}
