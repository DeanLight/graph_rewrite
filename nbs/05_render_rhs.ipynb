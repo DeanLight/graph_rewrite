{
 "cells": [
  {
   "cell_type": "code",
   "execution_count": null,
   "metadata": {},
   "outputs": [],
   "source": [
    "from typing import *\n",
    "from jinja2 import *\n",
    "# here exmaple of import\n",
    "from graph_rewrite.matcher import Match"
   ]
  },
  {
   "cell_type": "markdown",
   "metadata": {},
   "source": [
    "# Render RHS\n",
    "The searching phase of rewrite is done, so now we have a filtered ResultSet which we'll use for the transformation part.\n",
    "\n",
    "Since we might want to change each matched graph a bit differently, depending on the actual values of its attributes, we allow the user to define his RHS in two possible ways:\n",
    "\n",
    "1) RHS is simply a string. In that case, each match will cause the same transformation, that will be independent of the actual attributes of the match.\n",
    "2) RHS is a **jinja2 Template**. In that case, the user will pass an **render_rhs** parameter to rewrite - a dictionary whose keys are names of templated arguments in RHS, and values are functions that for each Match return a new value (dependent on the current matches). For every match, we calculate the actual value that the functions specify for each template argument, and render the RHS accordingly, such that every match has its own specific RHS string."
   ]
  },
  {
   "cell_type": "code",
   "execution_count": null,
   "metadata": {},
   "outputs": [],
   "source": [
    "RenderFunc = Callable[Match, str]"
   ]
  },
  {
   "cell_type": "markdown",
   "metadata": {},
   "source": [
    "### Render RHS strings\n",
    "Receives a filtered ResultSet, a RHS string\\template and a dictionary from strings to RenderFuncs. Returns a list of RHS rendered strings, whose indices are corresponding to those of the ResultSet. "
   ]
  },
  {
   "cell_type": "code",
   "execution_count": null,
   "metadata": {},
   "outputs": [],
   "source": [
    "def render_rhs(result_set: ResultSet, rhs: Union[str, Template], render_func: Dict[str, RenderFunc]) -> List[str]:\n",
    "    # if type(rhs) != Template:\n",
    "    #   return [rhs] * length of result_set.matches, as rhs is already rendered\n",
    "\n",
    "    # initialize rendered_rhs, an empty list\n",
    "    # for match in result_set.matches:\n",
    "    #   cur_calc_args = {attr: render_func[attr](match) for attr in render_func.keys}\n",
    "    #   cur_rendered = rhs.render(cur_calculated_args)\n",
    "    #   append cur_rendered to rendered_rhs\n",
    "\n",
    "    # return rendered_rhs\n",
    "    pass"
   ]
  }
 ],
 "metadata": {
  "kernelspec": {
   "display_name": "python3",
   "language": "python",
   "name": "python3"
  }
 },
 "nbformat": 4,
 "nbformat_minor": 2
}
