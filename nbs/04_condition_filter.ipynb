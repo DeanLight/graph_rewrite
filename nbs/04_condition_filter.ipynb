{
 "cells": [
  {
   "attachments": {},
   "cell_type": "markdown",
   "metadata": {},
   "source": [
    "# Condition Filter"
   ]
  },
  {
   "cell_type": "code",
   "execution_count": null,
   "metadata": {},
   "outputs": [],
   "source": [
    "#| default_exp condition_filter\n",
    "%load_ext autoreload\n",
    "%autoreload 2"
   ]
  },
  {
   "attachments": {},
   "cell_type": "markdown",
   "metadata": {},
   "source": [
    "### Overview\n",
    "Thus far, the user searched for matches in the input graph that would match one of the LHS patterns he passed as parameter, and the matches found were converted to a ResultSet. \n",
    "\n",
    "Before these matches are passed to the transformation phase of rewrite, the user can filter matches based on a **Condition** function, which receives a Match instance, checks its attributes and returns a boolean value. \n",
    "If the condition function returned False for some pair, this match is then filtered by rewrite and will not be transformed in the next phase."
   ]
  },
  {
   "attachments": {},
   "cell_type": "markdown",
   "metadata": {},
   "source": [
    "### Requirements"
   ]
  },
  {
   "cell_type": "code",
   "execution_count": null,
   "metadata": {},
   "outputs": [],
   "source": [
    "#| export\n",
    "from graph_rewrite.result_set import Match, ResultSet\n",
    "from typing import *"
   ]
  },
  {
   "attachments": {},
   "cell_type": "markdown",
   "metadata": {},
   "source": [
    "### Filter Matches based on a Condition function\n",
    "Receives a ResultSet object and a Condition function, and returns a filtered ResultSet."
   ]
  },
  {
   "cell_type": "code",
   "execution_count": null,
   "metadata": {},
   "outputs": [],
   "source": [
    "#| export\n",
    "def filter_matches(unfiltered_results: ResultSet, condition: Callable[[Match], bool]) -> ResultSet:\n",
    "    return ResultSet([match for match in unfiltered_results if condition(match)])"
   ]
  },
  {
   "attachments": {},
   "cell_type": "markdown",
   "metadata": {},
   "source": [
    "### Tests"
   ]
  },
  {
   "attachments": {},
   "cell_type": "markdown",
   "metadata": {},
   "source": [
    "#### Test Utils"
   ]
  },
  {
   "cell_type": "code",
   "execution_count": null,
   "metadata": {},
   "outputs": [],
   "source": [
    "from networkx import DiGraph\n",
    "from graph_rewrite.matcher import find_matches\n",
    "from graph_rewrite.result_set import mappings_to_results_set\n",
    "\n",
    "def create_graph(nodes, edges):\n",
    "    g = DiGraph()\n",
    "    g.add_nodes_from(nodes)\n",
    "    g.add_edges_from(edges)\n",
    "    return g\n",
    "\n",
    "def get_result_set(input, pattern):\n",
    "    return mappings_to_results_set(input, pattern, find_matches(input, pattern))"
   ]
  },
  {
   "attachments": {},
   "cell_type": "markdown",
   "metadata": {},
   "source": [
    "#### Test Cases"
   ]
  },
  {
   "cell_type": "code",
   "execution_count": null,
   "metadata": {},
   "outputs": [],
   "source": [
    "input = create_graph(\n",
    "    [('A', {'attr': 5}),'B',('C', {'attr': 10}),'D'],\n",
    "    [\n",
    "        ('A','B'),\n",
    "        ('A','C'),\n",
    "        ('A', 'A'),\n",
    "        ('C', 'C'),\n",
    "        ('A', 'C')\n",
    "    ]\n",
    ")\n",
    "\n",
    "pattern = create_graph(['X'], [('X', 'X')])\n",
    "rs = get_result_set(input, pattern)\n",
    "rs_filtered = filter_matches(rs, lambda match: match['X']['attr'] > 5)\n",
    "\n",
    "assert rs_filtered[0]['X']['attr'] == 10\n",
    "rs_index = 0 if rs[0]['X']['attr'] == 10 else 1\n",
    "rs_filtered[0]['X']['attr'] = 0\n",
    "\n",
    "assert rs_filtered[0]['X']['attr'] == 0\n",
    "assert rs[rs_index]['X']['attr'] == 0\n",
    "assert rs[1 - rs_index]['X']['attr'] == 5\n",
    "assert len(filter_matches(rs, lambda match: match['X']['attr'] > 5)) == 0"
   ]
  }
 ],
 "metadata": {
  "kernelspec": {
   "display_name": "python3",
   "language": "python",
   "name": "python3"
  },
  "language_info": {
   "codemirror_mode": {
    "name": "ipython",
    "version": 3
   },
   "file_extension": ".py",
   "mimetype": "text/x-python",
   "name": "python",
   "nbconvert_exporter": "python",
   "pygments_lexer": "ipython3",
   "version": "3.9.15"
  }
 },
 "nbformat": 4,
 "nbformat_minor": 2
}
