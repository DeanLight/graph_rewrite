{
 "cells": [
  {
   "cell_type": "code",
   "execution_count": null,
   "metadata": {},
   "outputs": [],
   "source": [
    "from typing import *"
   ]
  },
  {
   "cell_type": "markdown",
   "metadata": {},
   "source": [
    "# Condition Filter\n",
    "Thus far, the user searched for matches in the input graph that would match one of the LHS patterns he passed as parameter, and the matches found were converted to a ResultSet. \n",
    "\n",
    "Before these matches are passed to the transformation phase of rewrite, the user can filter matches based on a **Condition** function, which receives a Match instance, checks its attributes and returns a boolean value. \n",
    "If the condition function returned False for some pair, this match is then filtered by rewrite and will not be transformed in the next phase."
   ]
  },
  {
   "cell_type": "code",
   "execution_count": null,
   "metadata": {},
   "outputs": [
    {
     "ename": "NameError",
     "evalue": "name 'Match' is not defined",
     "output_type": "error",
     "traceback": [
      "\u001b[1;31m---------------------------------------------------------------------------\u001b[0m",
      "\u001b[1;31mNameError\u001b[0m                                 Traceback (most recent call last)",
      "\u001b[1;32m<ipython-input-2-da10a8f185e0>\u001b[0m in \u001b[0;36m<module>\u001b[1;34m\u001b[0m\n\u001b[1;32m----> 1\u001b[1;33m \u001b[0mConditionFunc\u001b[0m \u001b[1;33m=\u001b[0m \u001b[0mCallable\u001b[0m\u001b[1;33m[\u001b[0m\u001b[0mMatch\u001b[0m\u001b[1;33m,\u001b[0m \u001b[0mbool\u001b[0m\u001b[1;33m]\u001b[0m\u001b[1;33m\u001b[0m\u001b[0m\n\u001b[0m",
      "\u001b[1;31mNameError\u001b[0m: name 'Match' is not defined"
     ]
    }
   ],
   "source": [
    "ConditionFunc = Callable[Match, bool]"
   ]
  },
  {
   "cell_type": "markdown",
   "metadata": {},
   "source": [
    "### Filter Matches based on a Condition function\n",
    "Receives a ResultSet object and a Condition function, and returns a filtered ResultSet."
   ]
  },
  {
   "cell_type": "code",
   "execution_count": null,
   "metadata": {},
   "outputs": [],
   "source": [
    "def filter_matches(unfiltered_results: ResultSet, condition: ConditionFunc) -> ResultSet:\n",
    "    # initialize new_matches, empty list\n",
    "\n",
    "    # for match in unfiltered_results.matches:\n",
    "    #   if condition(match):\n",
    "    #       add match to new_matches\n",
    "\n",
    "    # return ResultSet(new_matches)\n",
    "    pass"
   ]
  }
 ],
 "metadata": {
  "kernelspec": {
   "display_name": "python3",
   "language": "python",
   "name": "python3"
  }
 },
 "nbformat": 4,
 "nbformat_minor": 2
}
