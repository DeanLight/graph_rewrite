{
 "cells": [
  {
   "attachments": {},
   "cell_type": "markdown",
   "metadata": {},
   "source": [
    "# Match Class"
   ]
  },
  {
   "cell_type": "code",
   "execution_count": 52,
   "metadata": {},
   "outputs": [],
   "source": [
    "#| default_exp match_class"
   ]
  },
  {
   "cell_type": "code",
   "execution_count": 53,
   "metadata": {},
   "outputs": [
    {
     "name": "stdout",
     "output_type": "stream",
     "text": [
      "The autoreload extension is already loaded. To reload it, use:\n",
      "  %reload_ext autoreload\n"
     ]
    }
   ],
   "source": [
    "#| hide\n",
    "from nbdev.showdoc import show_doc\n",
    "%load_ext autoreload\n",
    "%autoreload 2"
   ]
  },
  {
   "cell_type": "code",
   "execution_count": 54,
   "metadata": {},
   "outputs": [],
   "source": [
    "from enum import Enum\n",
    "from itertools import product\n",
    "from collections import defaultdict"
   ]
  },
  {
   "attachments": {},
   "cell_type": "markdown",
   "metadata": {},
   "source": [
    "### Overview\n",
    "The following module defines the **Match class**, that will be used by the Matcher module later. This class provides a subview to the graph which we attempt to transform, and is created based on some match from the LHS pattern to a subgraph of the input graph (Further explanations on the meaning of matches are included in the next module).\n",
    "\n",
    "This subview is set such that read-write operations can be done on nodes and edges imperatively, based on their symbolic name (the node/edge they match in the pattern) rather than their actual name in the input graph. That is, we can access nodes and edges in the input graph which were matched to the pattern (and only them), by using their corresponding names in the pattern. \n",
    "\n",
    "For each match found, the user of the library will recieve its correpsonding Match object, which can be used for imperative side effects."
   ]
  },
  {
   "attachments": {},
   "cell_type": "markdown",
   "metadata": {},
   "source": [
    "### Requirements"
   ]
  },
  {
   "cell_type": "code",
   "execution_count": 55,
   "metadata": {},
   "outputs": [],
   "source": [
    "#| export\n",
    "import networkx as nx\n",
    "from networkx import DiGraph\n",
    "from typing import *\n",
    "from graph_rewrite.core import _create_graph, draw, GraphRewriteException, NodeName, EdgeName"
   ]
  },
  {
   "attachments": {},
   "cell_type": "markdown",
   "metadata": {},
   "source": [
    "### Example\n",
    "Assume that we have an input graph $G$:"
   ]
  },
  {
   "cell_type": "code",
   "execution_count": 56,
   "metadata": {},
   "outputs": [
    {
     "data": {
      "text/html": [
       "<img src=\"https://mermaid.ink/img/CmZsb3djaGFydCBUQgpBWyJBCiJdCkJbIkIKIl0KQ1siQwoiXQpEWyJECiJdCkVbIkUKIl0KQSAtLT4gQgpBIC0tPiBDCkQgLS0+IEUK\"/>"
      ],
      "text/plain": [
       "<IPython.core.display.Image object>"
      ]
     },
     "metadata": {},
     "output_type": "display_data"
    }
   ],
   "source": [
    "draw(_create_graph(['A','B','C','D','E'], [('A','B'), ('A','C'),('D','E')]))"
   ]
  },
  {
   "attachments": {},
   "cell_type": "markdown",
   "metadata": {},
   "source": [
    "And a pattern which looks like:"
   ]
  },
  {
   "cell_type": "code",
   "execution_count": 57,
   "metadata": {},
   "outputs": [
    {
     "data": {
      "text/html": [
       "<img src=\"https://mermaid.ink/img/CmZsb3djaGFydCBUQgoxWyIxCiJdCjJbIjIKIl0KM1siMwoiXQoxIC0tPiAyCjEgLS0+IDMK\"/>"
      ],
      "text/plain": [
       "<IPython.core.display.Image object>"
      ]
     },
     "metadata": {},
     "output_type": "display_data"
    }
   ],
   "source": [
    "draw(_create_graph(['1','2','3'], [('1','2'), ('1','3')]))"
   ]
  },
  {
   "attachments": {},
   "cell_type": "markdown",
   "metadata": {},
   "source": [
    "Intuitively, we can see that the pattern can be found in the input graph $G$, such that the pattern node $1$ corresponds to the graph node $A$, and the same goes for $2$ and $B$, $3$ and $C$. That mapping defines a match of the pattern in graph $G$ (We will dive into the definition of a match in the next module).\n",
    "\n",
    "The corresponding Match object will allows us, for example, changing an attribute of node $A$ in the input graph, by accessing the symbolic name $1$ (which matches to $A$) and setting it to some dictionary of attributes. Note that the user will be able to access this class only after the transformation is done - therefore, if the transformation removed $A$ from the graph, the user won't be able to access the symbolic name $1$ anymore."
   ]
  },
  {
   "attachments": {},
   "cell_type": "markdown",
   "metadata": {},
   "source": [
    "### Utils\n",
    "Edge $(u,v)$ is represented in a Match with the name \"u->v\"."
   ]
  },
  {
   "cell_type": "code",
   "execution_count": 58,
   "metadata": {},
   "outputs": [],
   "source": [
    "#| export\n",
    "def convert_to_edge_name(src: NodeName, dest: NodeName) -> str:\n",
    "    \"\"\"Given a pair of node names, source and destination, return the name of the edge\n",
    "    connecting the two in the format {src}->{dest}, which is the same format the parser\n",
    "    uses to create edges in the pattern graph.\n",
    "\n",
    "    Args:\n",
    "        src (NodeName): A node name\n",
    "        dest (NodeName): A node name\n",
    "\n",
    "    Returns:\n",
    "        str: A representative name for the edge (src, dest).\n",
    "    \"\"\"\n",
    "    return f\"{src}->{dest}\""
   ]
  },
  {
   "attachments": {},
   "cell_type": "markdown",
   "metadata": {},
   "source": [
    "A node is **anonymous** if its name begins with '_'. This notion allows us to define patters with anonymous nodes, whose existence we want to enforce, but which we do not use in the RHS part of the pattern and thus, can ignore them by not assigning any symbolic name to them."
   ]
  },
  {
   "cell_type": "code",
   "execution_count": 59,
   "metadata": {},
   "outputs": [],
   "source": [
    "#| export\n",
    "def is_anonymous_node(node_name: NodeName) -> bool:\n",
    "    \"\"\"Given a name of a node in the pattern graph, return true if it begins with '$',\n",
    "    which is the notion the parser uses to denote anonymous nodes.\n",
    "\n",
    "    Args:\n",
    "        node_name (NodeName): A node name in the pattern\n",
    "\n",
    "    Returns:\n",
    "        bool: Returns True if the node is anonymous, False otherwise.\n",
    "    \"\"\"\n",
    "    return len(node_name) >= 1 and node_name[0] == '_'"
   ]
  },
  {
   "cell_type": "code",
   "execution_count": 60,
   "metadata": {},
   "outputs": [],
   "source": [
    "#| export\n",
    "class NodeAttributeAccessor:\n",
    "    \"\"\"\n",
    "    This class acts as a wrapper for a set of nodes, allowing access to specific attributes.\n",
    "    \"\"\"\n",
    "    def __init__(self, nodes):\n",
    "        self.nodes = nodes\n",
    "\n",
    "    def __getitem__(self, attribute):\n",
    "        \"\"\"\n",
    "        Return a list of the requested attribute from each node in the set\n",
    "\n",
    "        Args:\n",
    "            attribute: The attribute to retrieve from each node\n",
    "\n",
    "        Returns:\n",
    "            List: A list of the requested attribute from each node in the set\n",
    "        \"\"\"\n",
    "        return [getattr(node, attribute) for node in self.nodes if hasattr(node, attribute)]\n",
    "\n",
    "class EdgeAttributeAccessor:\n",
    "    \"\"\"\n",
    "    This class acts as a wrapper for a set of edges, allowing access to specific attributes.\n",
    "    \"\"\"\n",
    "    def __init__(self, edges):\n",
    "        self.edges = edges\n",
    "\n",
    "    def __getitem__(self, attribute):\n",
    "        \"\"\"\n",
    "        Return a list of the requested attribute from each edge in the set\n",
    "\n",
    "        Args:\n",
    "            attribute: The attribute to retrieve from each edge\n",
    "\n",
    "        Returns:\n",
    "            List: A list of the requested attribute from each edge in the set\n",
    "        \"\"\"\n",
    "        return [getattr(edge, attribute) for edge in self.edges if hasattr(edge, attribute)]"
   ]
  },
  {
   "attachments": {},
   "cell_type": "markdown",
   "metadata": {},
   "source": [
    "### The Match Class"
   ]
  },
  {
   "attachments": {},
   "cell_type": "markdown",
   "metadata": {},
   "source": [
    "A **Match** is a subview of the original graph, limited to the nodes, edges and attributes specified in the pattern. It includes the original graph, dictionaries which map nodes/edges to their corresponding attributes in the pattern, and the mapping from pattern nodes to real ones."
   ]
  },
  {
   "cell_type": "code",
   "execution_count": 61,
   "metadata": {},
   "outputs": [],
   "source": [
    "#| export\n",
    "class Match:\n",
    "    \"\"\"Represents a single match of a pattern inside an input graph.\n",
    "     Provides a subview to a graph, limited to the nodes, edges and attributes specified in the pattern.\n",
    "    \"\"\"\n",
    "    def __init__(self, graph: DiGraph, nodes: List[NodeName], edges: List[EdgeName], \n",
    "                 mapping: Dict[NodeName, Set[NodeName]], collection_nodes: List[NodeName]):\n",
    "        self.graph: DiGraph = graph\n",
    "        self._nodes: List[NodeName] = nodes\n",
    "        self._edges: List[EdgeName] = edges\n",
    "        self.mapping: Dict[NodeName, Set[NodeName]] = mapping # Node names and edges can represent either single nodes or collections of nodes, so for each node name is mapped to a set of input nodes:\n",
    "        #TODO: Show Dean - I think it is needed to distinguish between single pattern nodes with a single match and a collection pattern node with a single match\n",
    "        # If we only check if there is only one input node, we can't distinguish between a single pattern node with a single match and a collection pattern node with a single match\n",
    "        self._collection_nodes: Set[NodeName] = set(collection_nodes)     \n",
    "    def _check_node_in_pattern(self, pattern_node: NodeName):\n",
    "        if not pattern_node in self._nodes:\n",
    "            raise GraphRewriteException(f\"Node {pattern_node} does not exist in the pattern\")\n",
    "        \n",
    "    def _check_edge_in_pattern(self, pattern_src: NodeName, pattern_dst: NodeName):\n",
    "        if not (pattern_src, pattern_dst) in self._edges:\n",
    "            raise GraphRewriteException(f\"Edge {(pattern_src, pattern_dst)} does not exist in the pattern\")\n",
    "    \n",
    "    def _is_collection(self, pattern_node: NodeName) -> bool:\n",
    "        return pattern_node in self._collection_nodes\n",
    "    \n",
    "    def __get_node(self, pattern_node):\n",
    "        \"\"\"\n",
    "        Returns the node or the collection of nodes mapped to the pattern node\n",
    "\n",
    "        Args:\n",
    "            pattern_node: The node in the pattern\n",
    "\n",
    "        Returns:\n",
    "            The node or the collection of nodes mapped to the pattern node\n",
    "        \"\"\"\n",
    "        self._check_node_in_pattern(pattern_node)\n",
    "        input_nodes = self.mapping[pattern_node]\n",
    "\n",
    "        if self._is_single(pattern_node):\n",
    "            return self.graph.nodes[list(input_nodes)[0]]\n",
    "        return [self.graph.nodes[input_node] for input_node in input_nodes]\n",
    "    \n",
    "    def __get_edge(self, pattern_src, pattern_dst):\n",
    "        \"\"\"\n",
    "        Returns the edge or the collection of edges mapped to the pattern edge\n",
    "\n",
    "        Args:\n",
    "            pattern_src: The source node in the pattern\n",
    "            pattern_dst: The destination node in the pattern\n",
    "\n",
    "        Returns:\n",
    "            The edge or the collection of edges mapped to the pattern edge\n",
    "        \"\"\"\n",
    "        self._check_edge_in_pattern(pattern_src, pattern_dst)\n",
    "        input_src_nodes = self.mapping[pattern_src]\n",
    "        input_dst_nodes = self.mapping[pattern_dst]\n",
    "        if self._is_collection(pattern_src) or self._is_collection(pattern_dst):\n",
    "            return [self.graph.edges[input_src_node, input_dst_node] for input_src_node, input_dst_node in product(input_src_nodes, input_dst_nodes)]\n",
    "        return self.graph.edges[list(input_src_nodes)[0], list(input_dst_nodes)[0]]\n",
    "    \n",
    "    def nodes(self):\n",
    "        return {pattern_node: self.__get_node(pattern_node) for pattern_node in self._nodes}        \n",
    "    \n",
    "    def edges(self):\n",
    "        return {convert_to_edge_name(pattern_src, pattern_dest): self.__get_edge(pattern_src, pattern_dest) for (pattern_src, pattern_dest) in self._edges}\n",
    "\n",
    "    def set_graph(self, graph: DiGraph):\n",
    "        self.graph = graph\n",
    "\n",
    "    def __eq__(self, other):\n",
    "        if type(other) is Match and len(other.mapping.items()) == len(self.mapping.items()):\n",
    "            return all([other.mapping.get(k) == v for k,v in self.mapping.items()])\n",
    "        return False\n",
    "\n",
    "    def __getitem__(self, key: Union[NodeName, str]):\n",
    "        \"\"\"\n",
    "        Returns the node/edge (single or collections) of the input graph, which was mapped by the key in the pattern during matching.\n",
    "        Supports nested access when the result is a set of nodes or edges (i.e. a collection).\n",
    "\n",
    "        Args:\n",
    "            key (Union[NodeName, str]): A symbolic name used by the pattern (for a node / edge)\n",
    "\n",
    "        Raises:\n",
    "            GraphRewriteException: If the key doesn't exist in the pattern, or is mapped to a node/edge\n",
    "            which does not exist anymore (due to removal by the transformation, for example).\n",
    "\n",
    "        Returns:\n",
    "            The corresponding node/edge of the input graph, or a list of 'name' attributes if requested.\n",
    "            If the result is a set of nodes or edges (if it is a collection), returns a NodeAttributeAccessor or EdgeAttributeAccessor respectively, \n",
    "            to allow access to specific attributes of each node/edge in the collection.\n",
    "        \"\"\"\n",
    "        try:\n",
    "            # Check if the key is for an edge (\"node1->node2\")\n",
    "            if str(key).__contains__(\"->\") and len(str(key).split(\"->\")) == 2:\n",
    "                end_nodes = str(key).split(\"->\")\n",
    "                edge_or_edges = self.__get_edge(end_nodes[0], end_nodes[1])\n",
    "                \n",
    "                if self._is_collection(end_nodes[0]) or self._is_collection(end_nodes[1]): # If the edge is connected to a collection of nodes\n",
    "                    return EdgeAttributeAccessor(edge_or_edges)\n",
    "                else: # Single edge\n",
    "                    return edge_or_edges\n",
    "            \n",
    "            # Otherwise, assume it's for a node\n",
    "            node_or_nodes = self.__get_node(key)\n",
    "            \n",
    "            # If the result is a set of nodes, return a NodeAttributeAccessor, that creates a list of attributes for each node in the set\n",
    "            if self._is_collection(key):\n",
    "                return NodeAttributeAccessor(node_or_nodes)\n",
    "            else: # Single node\n",
    "                return node_or_nodes\n",
    "        except:\n",
    "            raise GraphRewriteException(f\"The symbol {key} does not exist in the pattern, or it was removed from the graph\")\n",
    "        \n",
    "    def __str__(self):\n",
    "        return self.mapping.__str__()"
   ]
  },
  {
   "attachments": {},
   "cell_type": "markdown",
   "metadata": {},
   "source": [
    "### Create a Match\n",
    "This function will be used in the Matcher module, in order to convert a mapping from the pattern graph to the input graph into a corresponding instance of the Match class."
   ]
  },
  {
   "cell_type": "code",
   "execution_count": 62,
   "metadata": {},
   "outputs": [],
   "source": [
    "#| export\n",
    "def mapping_to_match(input: DiGraph, pattern: DiGraph, collections_pattern: DiGraph, mapping: Dict[NodeName, Set[NodeName]],\n",
    "                      node_type_mapping: Dict[NodeName,NodeType], filter: bool=True) -> Match:\n",
    "    \"\"\"Given a mapping, which denotes a match of the pattern in the input graph,\n",
    "    create a corresponding instance of the Match class.\n",
    "\n",
    "    Args:\n",
    "        input (DiGraph): An input graph\n",
    "        pattern (DiGraph): A pattern graph\n",
    "        mapping (Dict[NodeName, Set[NodeName]]): A mapping of nodes in the pattern to nodes in the input graph\n",
    "        node_type_mapping (Dict[NodeName, NodeType]): A mapping of nodes in the pattern to their type (single or collection)\n",
    "        filter (bool): If True, filter out anonymous nodes from the match\n",
    "\n",
    "    Returns:\n",
    "        Match: A corresponding instance of the Match class\n",
    "    \"\"\"\n",
    "    nodes_list = []\n",
    "    edges_list = []\n",
    "\n",
    "    cleared_mapping = mapping.copy()\n",
    "\n",
    "    for pattern_node in mapping.keys():\n",
    "        if filter and is_anonymous_node(pattern_node):\n",
    "            cleared_mapping.pop(pattern_node)\n",
    "            continue # as we don't want to include this node in the Match\n",
    "        nodes_list.append(pattern_node)\n",
    "\n",
    "    for (n1, n2) in pattern.edges:\n",
    "        if filter and (is_anonymous_node(n1) or is_anonymous_node(n2)):\n",
    "            continue # as before\n",
    "        edges_list.append((n1, n2))\n",
    "\n",
    "    return Match(input, nodes_list, edges_list, cleared_mapping, node_type_mapping)"
   ]
  },
  {
   "attachments": {},
   "cell_type": "markdown",
   "metadata": {},
   "source": [
    "### Tests\n",
    "We take the example graph and pattern described above, add a few attributes to the nodes and edges, and create a Match instance based on the single mapping:"
   ]
  },
  {
   "cell_type": "code",
   "execution_count": 63,
   "metadata": {},
   "outputs": [],
   "source": [
    "G = _create_graph(\n",
    "    [('A', {'name': 'A'}),('B', {'name': 'B'}),('C', {'name': 'C'}),('D', {'name': 'D'}),('E', {'name': 'E'})],\n",
    "    [('A','B', {'edge_attr': 10}), ('A','C'),('D','E')])\n",
    "pattern = _create_graph(['1','2','3'], [('1','2'), ('1','3')])\n",
    "# It has a single match, which is defined by the following mapping:\n",
    "mapping = {'1': {'A'}, '2': {'B'}, '3': {'C'}}\n",
    "node_type_mapping = {'1': NodeType.SINGLE, '2': NodeType.SINGLE, '3': NodeType.SINGLE}\n",
    "mapping_match = mapping_to_match(G, pattern, DiGraph(), mapping, node_type_mapping)"
   ]
  },
  {
   "attachments": {},
   "cell_type": "markdown",
   "metadata": {},
   "source": [
    "In graph $G$, each node has a single attribute - \"name\" - whose value is the node's name. Therefore, node $A$ has the attribute \"name\" with the value \"A\". We can access its attributes using the Match, by accessing the name of the corresponding matched node $1$:"
   ]
  },
  {
   "cell_type": "code",
   "execution_count": 64,
   "metadata": {},
   "outputs": [
    {
     "data": {
      "text/plain": [
       "{'name': 'A'}"
      ]
     },
     "execution_count": 64,
     "metadata": {},
     "output_type": "execute_result"
    }
   ],
   "source": [
    "assert mapping_match['1'] == {'name': 'A'}\n",
    "assert mapping_match['1']['name'] == 'A'\n",
    "mapping_match['1']"
   ]
  },
  {
   "attachments": {},
   "cell_type": "markdown",
   "metadata": {},
   "source": [
    "This indicates that as expected, pattern node $1$ is matched in this Match instance to the input graph node $A$, as that node is the only one in the graph whose \"name\" attribute is equal to \"A\"."
   ]
  },
  {
   "attachments": {},
   "cell_type": "markdown",
   "metadata": {},
   "source": [
    "We can access the edges similarly, by using the format {src}->{dst} for edge $(src, dst)$:"
   ]
  },
  {
   "cell_type": "code",
   "execution_count": 65,
   "metadata": {},
   "outputs": [
    {
     "data": {
      "text/plain": [
       "{'edge_attr': 10}"
      ]
     },
     "execution_count": 65,
     "metadata": {},
     "output_type": "execute_result"
    }
   ],
   "source": [
    "assert mapping_match['1->2'] == {'edge_attr': 10}\n",
    "mapping_match['1->2'] # accesses the attributes of the corresponding edge A->B in G"
   ]
  },
  {
   "attachments": {},
   "cell_type": "markdown",
   "metadata": {},
   "source": [
    "Say we want to add an attribute to $A$, we can change it in the same way using the Match:"
   ]
  },
  {
   "cell_type": "code",
   "execution_count": 66,
   "metadata": {},
   "outputs": [
    {
     "data": {
      "text/plain": [
       "{'name': 'A', 'attr': 5}"
      ]
     },
     "execution_count": 66,
     "metadata": {},
     "output_type": "execute_result"
    }
   ],
   "source": [
    "mapping_match['1']['attr'] = 5\n",
    "assert mapping_match['1'] == {'name': 'A', 'attr': 5}\n",
    "mapping_match['1']"
   ]
  },
  {
   "attachments": {},
   "cell_type": "markdown",
   "metadata": {},
   "source": [
    "And then see that the attributes of $A$ in the original graph $G$ have changed, as the Match is a subview of that graph, and so changes in the subview are reflected in $G$:"
   ]
  },
  {
   "cell_type": "code",
   "execution_count": 67,
   "metadata": {},
   "outputs": [
    {
     "data": {
      "text/plain": [
       "{'name': 'A', 'attr': 5}"
      ]
     },
     "execution_count": 67,
     "metadata": {},
     "output_type": "execute_result"
    }
   ],
   "source": [
    "assert G.nodes(data=True)['A'] == {'name': 'A', 'attr': 5}\n",
    "G.nodes(data=True)['A']"
   ]
  },
  {
   "attachments": {},
   "cell_type": "markdown",
   "metadata": {},
   "source": [
    "We can also modify existing attributes in the same way using the Match, and see those changes reflected in $G$"
   ]
  },
  {
   "cell_type": "code",
   "execution_count": 68,
   "metadata": {},
   "outputs": [
    {
     "data": {
      "text/plain": [
       "{'name': 'B*'}"
      ]
     },
     "execution_count": 68,
     "metadata": {},
     "output_type": "execute_result"
    }
   ],
   "source": [
    "mapping_match['2']['name'] = 'B*'\n",
    "assert mapping_match['2']['name'] == 'B*'\n",
    "assert G.nodes(data=True)['B']['name'] == 'B*'\n",
    "G.nodes(data=True)['B']"
   ]
  },
  {
   "attachments": {},
   "cell_type": "markdown",
   "metadata": {},
   "source": [
    "This also works in the reverse direction: changes in $G$ are reflected in the subview. Say that we set an attribute for edge $(A,B)$ in $G$, then that change would be reflected by accessing the edge '1->2' in the Match object that refers graph $G$:"
   ]
  },
  {
   "cell_type": "code",
   "execution_count": 69,
   "metadata": {},
   "outputs": [
    {
     "data": {
      "text/plain": [
       "{'edge_attr': 10, 'attr2': 20}"
      ]
     },
     "execution_count": 69,
     "metadata": {},
     "output_type": "execute_result"
    }
   ],
   "source": [
    "G.edges()[('A','B')]['attr2'] = 20\n",
    "assert mapping_match['1->2']['attr2'] == 20\n",
    "mapping_match['1->2']"
   ]
  },
  {
   "cell_type": "markdown",
   "metadata": {},
   "source": [
    "## Visualizing matches"
   ]
  },
  {
   "cell_type": "code",
   "execution_count": 70,
   "metadata": {},
   "outputs": [
    {
     "data": {
      "text/plain": [
       "([('A', {'name': 'A', 'attr': 5}),\n",
       "  ('B', {'name': 'B*'}),\n",
       "  ('C', {'name': 'C'}),\n",
       "  ('D', {'name': 'D'}),\n",
       "  ('E', {'name': 'E'})],\n",
       " [('A', 'B', {'edge_attr': 10, 'attr2': 20}), ('A', 'C', {}), ('D', 'E', {})])"
      ]
     },
     "execution_count": 70,
     "metadata": {},
     "output_type": "execute_result"
    }
   ],
   "source": [
    "list(G.nodes(data=True)),list(G.edges(data=True))"
   ]
  },
  {
   "cell_type": "code",
   "execution_count": 71,
   "metadata": {},
   "outputs": [
    {
     "data": {
      "text/plain": [
       "({'1': {'name': 'A', 'attr': 5}, '2': {'name': 'B*'}, '3': {'name': 'C'}},\n",
       " [('1', '2'), ('1', '3')])"
      ]
     },
     "execution_count": 71,
     "metadata": {},
     "output_type": "execute_result"
    }
   ],
   "source": [
    "mapping_match.nodes(),mapping_match._edges"
   ]
  },
  {
   "cell_type": "code",
   "execution_count": 72,
   "metadata": {},
   "outputs": [
    {
     "data": {
      "text/plain": [
       "{'1': {'A'}, '2': {'B'}, '3': {'C'}}"
      ]
     },
     "execution_count": 72,
     "metadata": {},
     "output_type": "execute_result"
    }
   ],
   "source": [
    "mapping_match.mapping"
   ]
  },
  {
   "cell_type": "code",
   "execution_count": 73,
   "metadata": {},
   "outputs": [],
   "source": [
    "# We want to color the nodes and edges that are part of the match in blue, and specify the name of the pattern node\n",
    "# Also, if more than one pattern node is mapped to the same input node, we want to color them in red, and specify the names of the pattern nodes\n",
    "# and also notify the user (as a warning/notification) \n",
    "# To do that, we need to use a reverse mapping, where the key is the input node and the value is the pattern node\n",
    "# TODO: Show Dean the idea in the meeting notes\n",
    "\n",
    "def draw_match(g, m, **kwargs):\n",
    "    g_copy = g.copy()\n",
    "    node_styles = {}\n",
    "    edge_styles = {}\n",
    "\n",
    "    # Reverse mapping with defaultdict for handling multiple pattern nodes per input node\n",
    "    # TODO: We still need to decide how to handle multiple pattern nodes per input node\n",
    "    reverse_mapping = defaultdict(list)\n",
    "    for pattern_node, input_nodes in m.mapping.items():\n",
    "        for input_node in input_nodes:\n",
    "            reverse_mapping[input_node].append(pattern_node)\n",
    "\n",
    "    # Handle node styling\n",
    "    for input_node, pattern_nodes in reverse_mapping.items():\n",
    "        if len(pattern_nodes) > 1: # Collection node\n",
    "            for pattern_node in pattern_nodes:\n",
    "                node_styles[input_node] = 'stroke:red,stroke-width:4px;'\n",
    "                g_copy.nodes[input_node]['label'] = f\"{pattern_node}_{input_node}\"\n",
    "            #TODO: remove the warning, we just want to see a list of all the pattern nodes that are mapped to the input node\n",
    "            print(f\"Warning: Node {input_node} is mapped to multiple pattern nodes: {pattern_nodes}\")\n",
    "        else: # Single node\n",
    "            node_styles[input_node] = 'stroke:blue,stroke-width:4px;'\n",
    "            g_copy.nodes[input_node]['label'] = pattern_nodes[0]\n",
    "\n",
    "    for u, v in m._edges:\n",
    "        edge_styles.update({(input_u, input_v): 'stroke:blue,stroke-width:4px;'\n",
    "                            for input_u, input_v in product(m.mapping.get(u, []), m.mapping.get(v, []))})\n",
    "\n",
    "    draw(g_copy, node_styles=node_styles, edge_styles=edge_styles, **kwargs)\n"
   ]
  },
  {
   "cell_type": "code",
   "execution_count": 74,
   "metadata": {},
   "outputs": [
    {
     "data": {
      "text/html": [
       "<img src=\"https://mermaid.ink/img/CmZsb3djaGFydCBUQgpBWyJBKDEpCm5hbWU9I3F1b3Q7QSNxdW90OywgYXR0cj01Il0Kc3R5bGUgQSBzdHJva2U6Ymx1ZSxzdHJva2Utd2lkdGg6NHB4OwpCWyJCKDIpCm5hbWU9I3F1b3Q7QiojcXVvdDsiXQpzdHlsZSBCIHN0cm9rZTpibHVlLHN0cm9rZS13aWR0aDo0cHg7CkNbIkMoMykKbmFtZT0jcXVvdDtDI3F1b3Q7Il0Kc3R5bGUgQyBzdHJva2U6Ymx1ZSxzdHJva2Utd2lkdGg6NHB4OwpEWyJECm5hbWU9I3F1b3Q7RCNxdW90OyJdCkVbIkUKbmFtZT0jcXVvdDtFI3F1b3Q7Il0KQSAtLT58ImVkZ2VfYXR0cj0xMCwgYXR0cjI9MjAifCBCCmxpbmtTdHlsZSAwIHN0cm9rZTpibHVlLHN0cm9rZS13aWR0aDo0cHg7CkEgLS0+IEMKbGlua1N0eWxlIDEgc3Ryb2tlOmJsdWUsc3Ryb2tlLXdpZHRoOjRweDsKRCAtLT4gRQo=\"/>"
      ],
      "text/plain": [
       "<IPython.core.display.Image object>"
      ]
     },
     "metadata": {},
     "output_type": "display_data"
    }
   ],
   "source": [
    "draw_match(G,mapping_match)"
   ]
  },
  {
   "cell_type": "markdown",
   "metadata": {},
   "source": [
    "# Export"
   ]
  },
  {
   "cell_type": "code",
   "execution_count": 75,
   "metadata": {},
   "outputs": [],
   "source": [
    "#|hide\n",
    "import nbdev; nbdev.nbdev_export()"
   ]
  }
 ],
 "metadata": {
  "kernelspec": {
   "display_name": "python3",
   "language": "python",
   "name": "python3"
  },
  "language_info": {
   "codemirror_mode": {
    "name": "ipython",
    "version": 3
   },
   "file_extension": ".py",
   "mimetype": "text/x-python",
   "name": "python",
   "nbconvert_exporter": "python",
   "pygments_lexer": "ipython3",
   "version": "3.10.12"
  }
 },
 "nbformat": 4,
 "nbformat_minor": 2
}
