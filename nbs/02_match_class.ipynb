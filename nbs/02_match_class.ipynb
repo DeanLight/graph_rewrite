{
 "cells": [
  {
   "attachments": {},
   "cell_type": "markdown",
   "metadata": {},
   "source": [
    "# Match Class"
   ]
  },
  {
   "cell_type": "code",
   "execution_count": 1,
   "metadata": {},
   "outputs": [],
   "source": [
    "#| default_exp match_class"
   ]
  },
  {
   "cell_type": "code",
   "execution_count": 2,
   "metadata": {},
   "outputs": [],
   "source": [
    "#| hide\n",
    "from nbdev.showdoc import show_doc\n",
    "%load_ext autoreload\n",
    "%autoreload 2"
   ]
  },
  {
   "attachments": {},
   "cell_type": "markdown",
   "metadata": {},
   "source": [
    "### Overview\n",
    "The following module defines the **Match class**, that will be used by the Matcher module later. This class provides a subview to the graph which we attempt to transform, and is created based on some match from the LHS pattern to a subgraph of the input graph (Further explanations on the meaning of matches are included in the next module).\n",
    "\n",
    "This subview is set such that read-write operations can be done on nodes and edges imperatively, based on their symbolic name (the node/edge they match in the pattern) rather than their actual name in the input graph. That is, we can access nodes and edges in the input graph which were matched to the pattern (and only them), by using their corresponding names in the pattern. \n",
    "\n",
    "For each match found, the user of the library will recieve its correpsonding Match object, which can be used for imperative side effects."
   ]
  },
  {
   "attachments": {},
   "cell_type": "markdown",
   "metadata": {},
   "source": [
    "### Requirements"
   ]
  },
  {
   "cell_type": "code",
   "execution_count": 3,
   "metadata": {},
   "outputs": [],
   "source": [
    "#| export\n",
    "import networkx as nx\n",
    "from networkx import DiGraph\n",
    "from typing import *\n",
    "from graph_rewrite.core import _create_graph, draw, GraphRewriteException, NodeName, EdgeName\n",
    "from itertools import product\n",
    "from collections import defaultdict\n",
    "import logging"
   ]
  },
  {
   "cell_type": "markdown",
   "metadata": {},
   "source": [
    "### Logger ###\n",
    "This logger is used for debugging purposes. \n",
    "As a default, it is printing warnings and errors on screen, but it can be configured to redirect the output to a file.\n",
    "It is used used in this module to warn regarding the use of the same input node for different pattetn nodes in the graph - which might happen while using the collection feature."
   ]
  },
  {
   "cell_type": "code",
   "execution_count": 4,
   "metadata": {},
   "outputs": [],
   "source": [
    "#| export\n",
    "logger = logging.getLogger(__name__)    "
   ]
  },
  {
   "attachments": {},
   "cell_type": "markdown",
   "metadata": {},
   "source": [
    "### Example\n",
    "Assume that we have an input graph $G$:"
   ]
  },
  {
   "cell_type": "code",
   "execution_count": 5,
   "metadata": {},
   "outputs": [
    {
     "data": {
      "text/html": [
       "<img src=\"https://mermaid.ink/img/CmZsb3djaGFydCBUQgpBWyJBCiJdCkJbIkIKIl0KQ1siQwoiXQpEWyJECiJdCkVbIkUKIl0KQSAtLT4gQgpBIC0tPiBDCkQgLS0+IEUK\"/>"
      ],
      "text/plain": [
       "<IPython.core.display.Image object>"
      ]
     },
     "metadata": {},
     "output_type": "display_data"
    }
   ],
   "source": [
    "draw(_create_graph(['A','B','C','D','E'], [('A','B'), ('A','C'),('D','E')]))"
   ]
  },
  {
   "attachments": {},
   "cell_type": "markdown",
   "metadata": {},
   "source": [
    "And a pattern which looks like:"
   ]
  },
  {
   "cell_type": "code",
   "execution_count": 6,
   "metadata": {},
   "outputs": [
    {
     "data": {
      "text/html": [
       "<img src=\"https://mermaid.ink/img/CmZsb3djaGFydCBUQgoxWyIxCiJdCjJbIjIKIl0KM1siMwoiXQoxIC0tPiAyCjEgLS0+IDMK\"/>"
      ],
      "text/plain": [
       "<IPython.core.display.Image object>"
      ]
     },
     "metadata": {},
     "output_type": "display_data"
    }
   ],
   "source": [
    "draw(_create_graph(['1','2','3'], [('1','2'), ('1','3')]))"
   ]
  },
  {
   "attachments": {},
   "cell_type": "markdown",
   "metadata": {},
   "source": [
    "Intuitively, we can see that the pattern can be found in the input graph $G$, such that the pattern node $1$ corresponds to the graph node $A$, and the same goes for $2$ and $B$, $3$ and $C$. That mapping defines a match of the pattern in graph $G$ (We will dive into the definition of a match in the next module).\n",
    "\n",
    "The corresponding Match object will allows us, for example, changing an attribute of node $A$ in the input graph, by accessing the symbolic name $1$ (which matches to $A$) and setting it to some dictionary of attributes. Note that the user will be able to access this class only after the transformation is done - therefore, if the transformation removed $A$ from the graph, the user won't be able to access the symbolic name $1$ anymore."
   ]
  },
  {
   "attachments": {},
   "cell_type": "markdown",
   "metadata": {},
   "source": [
    "### Utils\n",
    "Edge $(u,v)$ is represented in a Match with the name \"u->v\"."
   ]
  },
  {
   "cell_type": "code",
   "execution_count": 7,
   "metadata": {},
   "outputs": [],
   "source": [
    "#| export\n",
    "def _convert_to_edge_name(src: NodeName, dest: NodeName) -> str:\n",
    "    \"\"\"Given a pair of node names, source and destination, return the name of the edge\n",
    "    connecting the two in the format {src}->{dest}, which is the same format the parser\n",
    "    uses to create edges in the pattern graph.\n",
    "\n",
    "    Args:\n",
    "        src (NodeName): A node name\n",
    "        dest (NodeName): A node name\n",
    "\n",
    "    Returns:\n",
    "        str: A representative name for the edge (src, dest).\n",
    "    \"\"\"\n",
    "    return f\"{src}->{dest}\""
   ]
  },
  {
   "attachments": {},
   "cell_type": "markdown",
   "metadata": {},
   "source": [
    "A node is **anonymous** if its name begins with '_'. This notion allows us to define patters with anonymous nodes, whose existence we want to enforce, but which we do not use in the RHS part of the pattern and thus, can ignore them by not assigning any symbolic name to them."
   ]
  },
  {
   "cell_type": "code",
   "execution_count": 8,
   "metadata": {},
   "outputs": [],
   "source": [
    "#| export\n",
    "def is_anonymous_node(node_name: NodeName) -> bool:\n",
    "    \"\"\"Given a name of a node in the pattern graph, return true if it begins with '$',\n",
    "    which is the notion the parser uses to denote anonymous nodes.\n",
    "\n",
    "    Args:\n",
    "        node_name (NodeName): A node name in the pattern\n",
    "\n",
    "    Returns:\n",
    "        bool: Returns True if the node is anonymous, False otherwise.\n",
    "    \"\"\"\n",
    "    return len(node_name) >= 1 and node_name.startswith('_anonymous_node_')"
   ]
  },
  {
   "cell_type": "markdown",
   "metadata": {},
   "source": [
    "***Collection View***\n",
    "The NodeCollectionViewView and NodeCollectionView classes provide a way to retrieve the input nodes/edges mapped to a collection pattern node/edge, and their attributes."
   ]
  },
  {
   "cell_type": "code",
   "execution_count": 9,
   "metadata": {},
   "outputs": [],
   "source": [
    "#| export\n",
    "class NodeCollectionView:\n",
    "    \"\"\"\n",
    "    This class acts as a wrapper for a set of node names, allowing to get information about the nodes\n",
    "    matched to the collection pattern node in the input graph.\n",
    "    \"\"\"\n",
    "    def __init__(self, input_nodes):\n",
    "        \"\"\"\n",
    "        Initialize a NodeCollectionView object.\n",
    "\n",
    "        Args:\n",
    "            nodes (set): A set of Digraph node objects.\n",
    "        \"\"\"\n",
    "        self.input_nodes = input_nodes\n",
    "\n",
    "    def __getitem__(self, attribute):\n",
    "        \"\"\"\n",
    "        Return a list of the requested attribute from each node in the set.\n",
    "        If the attribute is not found in a node, it is not included in the result, and no warning is raised.\n",
    "\n",
    "        Args:\n",
    "            attribute (str): The attribute to retrieve from each node.\n",
    "\n",
    "        Returns:\n",
    "            List: A list of the requested attribute from each node in the set.\n",
    "\n",
    "        \"\"\"\n",
    "        result = []\n",
    "        for node in self.input_nodes:\n",
    "            if attribute in node:\n",
    "                result.append(node[attribute])\n",
    "        return result\n",
    "\n",
    "    def __str__(self):\n",
    "        \"\"\"\n",
    "        Return a user-friendly string representation of the NodeCollectionView object.\n",
    "        This will be used when calling print().\n",
    "        \"\"\"\n",
    "        node_names = [str(node) for node in self.input_nodes]\n",
    "        return f\"Collection nodes: {', '.join(node_names)}\"\n",
    "    \n",
    "    def _get_nodes(self):\n",
    "        \"\"\"\n",
    "        Return the nodes in the object.\n",
    "\n",
    "        Returns:\n",
    "            List: A list of the nodes in the object.\n",
    "        \"\"\"\n",
    "        return list(self.input_nodes)\n",
    "\n",
    "class EdgeCollectionView:\n",
    "    \"\"\"\n",
    "    This class acts as a wrapper for a set of edges, allowing to get information about the edges\n",
    "    matched to the collection pattern edge in the input graph.\n",
    "    \"\"\"\n",
    "    def __init__(self, input_edges):\n",
    "        \"\"\"\n",
    "        Initialize an EdgeCollectionView object.\n",
    "\n",
    "        Args:\n",
    "            edges (set): A set of edges.\n",
    "        \"\"\"\n",
    "        self.input_edges = input_edges\n",
    "\n",
    "    def __getitem__(self, attribute):\n",
    "        \"\"\"\n",
    "        Return a list of the requested attribute from each edge in the set.\n",
    "        If the attribute is not found in an edge, it is not included in the result, and no warning is raised.\n",
    "\n",
    "        Args:\n",
    "            attribute (str): The attribute to retrieve from each edge.\n",
    "\n",
    "        Returns:\n",
    "            List: A list of the requested attribute from each edge in the set.\n",
    "        \"\"\"\n",
    "        result = []\n",
    "        for edge in self.input_edges:\n",
    "            if attribute in edge:\n",
    "                result.append(edge[attribute])\n",
    "        return result\n",
    "\n",
    "    def __str__(self):\n",
    "        \"\"\"\n",
    "        Return a user-friendly string representation of the EdgeCollectionView object.\n",
    "        This will be used when calling print().\n",
    "        \"\"\"\n",
    "        edge_names = [str(edge) for edge in self.input_edges]  \n",
    "        return f\"Collection edges: {', '.join(edge_names)}\"\n",
    "    \n",
    "    def _get_edges(self):\n",
    "        \"\"\"\n",
    "        Return the edges in the object.\n",
    "\n",
    "        Returns:\n",
    "            List: A list of the edges in the object.\n",
    "        \"\"\"\n",
    "        return list(self.input_edges)"
   ]
  },
  {
   "attachments": {},
   "cell_type": "markdown",
   "metadata": {},
   "source": [
    "### The Match Class"
   ]
  },
  {
   "attachments": {},
   "cell_type": "markdown",
   "metadata": {},
   "source": [
    "A **Match** is a subview of the original graph, limited to the nodes, edges and attributes specified in the pattern. It includes the original graph, dictionaries which map nodes/edges to their corresponding attributes in the pattern, and the mapping from pattern nodes to real ones."
   ]
  },
  {
   "cell_type": "code",
   "execution_count": 10,
   "metadata": {},
   "outputs": [],
   "source": [
    "#| export\n",
    "\n",
    "class Match:\n",
    "    \"\"\"\n",
    "    Represents a single match of a pattern inside an input graph.\n",
    "    Provides a subview to a graph, limited to the nodes, edges, and attributes specified in the pattern.\n",
    "    \"\"\"\n",
    "    def __init__(self, input_graph: DiGraph, pattern_nodes: List[NodeName], single_nodes: set[NodeName], \n",
    "                 pattern_edges: List[EdgeName], mapping: Dict[NodeName, set[NodeName]], \n",
    "                 warn_on_collisions: bool = True):\n",
    "        \"\"\"\n",
    "        Initialize the Match object.\n",
    "\n",
    "        Args:\n",
    "            input_graph (DiGraph): The input graph.\n",
    "            pattern_nodes (List[NodeName]): The nodes in the pattern (including anonymous nodes).\n",
    "            single_nodes (Set[NodeName]): The single nodes in the pattern (including anonymous nodes).\n",
    "            pattern_edges (List[EdgeName]): The edges in the pattern (including anonymous edges).\n",
    "            mapping (Dict[NodeName, Set[NodeName]]): The mapping from pattern nodes to input graph nodes.\n",
    "            filter (bool): Whether to filter out anonymous nodes and edges from the match.\n",
    "            warn_on_collisions (bool): Whether to warn if there are collisions in the mapping.\n",
    "        \"\"\"\n",
    "        self.graph = input_graph\n",
    "        self._nodes = pattern_nodes\n",
    "        self._single_nodes = single_nodes\n",
    "        self._edges = pattern_edges\n",
    "        self.mapping = mapping\n",
    "        if warn_on_collisions:\n",
    "            self._check_for_collisions()\n",
    "\n",
    "    def _check_for_collisions(self) -> None:\n",
    "        \"\"\"\n",
    "        Check if there are any collisions in the mapping - i.e., if the same input node is mapped to multiple\n",
    "        pattern nodes. If there are, print a warning specifying the input nodes that are being mapped to multiple\n",
    "        pattern nodes.\n",
    "        \"\"\"\n",
    "        input_to_pattern_nodes = defaultdict(set)\n",
    "        for pattern_node in self._nodes:\n",
    "            for input_node in self.mapping[pattern_node]:\n",
    "                input_to_pattern_nodes[input_node].add(pattern_node)\n",
    "                if len(input_to_pattern_nodes[input_node]) > 1:\n",
    "                    logger.warning(f\"Input node {input_node} is mapped to multiple pattern nodes: {input_to_pattern_nodes[input_node]}\") \n",
    "        return \n",
    "                \n",
    "    def _check_node_in_pattern(self, pattern_node: NodeName):\n",
    "        \"\"\"Ensure that the pattern node exists in the pattern being matched.\"\"\"\n",
    "        if pattern_node not in self._nodes:\n",
    "            raise GraphRewriteException(f\"Node {pattern_node} does not exist in the pattern\")\n",
    "\n",
    "    def _check_edge_in_pattern(self, pattern_src: NodeName, pattern_dst: NodeName):\n",
    "        \"\"\"Ensure that the pattern edge exists in the pattern being matched.\"\"\"\n",
    "        if (pattern_src, pattern_dst) not in self._edges:\n",
    "            raise GraphRewriteException(f\"Edge {(pattern_src, pattern_dst)} does not exist in the pattern\")\n",
    "\n",
    "    def _check_node_in_graph(self, input_node: NodeName):\n",
    "        \"\"\"Ensure that the input node exists in the input graph.\"\"\"\n",
    "        if input_node not in self.graph.nodes:\n",
    "            raise GraphRewriteException(f\"Node {input_node} does not exist in the input graph\")\n",
    "\n",
    "    def _check_edge_in_graph(self, input_src: NodeName, input_dst: NodeName):\n",
    "        \"\"\"Ensure that the input edge exists in the input graph.\"\"\"\n",
    "        if (input_src, input_dst) not in self.graph.edges:\n",
    "            raise GraphRewriteException(f\"Edge {(input_src, input_dst)} does not exist in the input graph\")\n",
    "\n",
    "    def is_single(self, pattern_node: NodeName) -> bool:\n",
    "        \"\"\"Check if the pattern node requires an single.\"\"\"\n",
    "        return pattern_node in self._single_nodes\n",
    "\n",
    "    def __get_node(self, pattern_node):\n",
    "        \"\"\"\n",
    "        Returns the node or the collection of nodes mapped to the pattern node.\n",
    "\n",
    "        Args:\n",
    "            pattern_node: The node in the pattern.\n",
    "\n",
    "        Returns:\n",
    "            The node or the collection of nodes mapped to the pattern node.\n",
    "        \"\"\"\n",
    "        if pattern_node == '_':\n",
    "            raise GraphRewriteException(\"Anonymous nodes cannot be accessed directly\")\n",
    "\n",
    "        self._check_node_in_pattern(pattern_node)\n",
    "        input_nodes = list(self.mapping[pattern_node])\n",
    "\n",
    "        # Ensure all input nodes exist in the graph\n",
    "        for input_node in input_nodes:\n",
    "            self._check_node_in_graph(input_node)\n",
    "\n",
    "        # Return the single matched node if it's a single node\n",
    "        if self.is_single(pattern_node):\n",
    "            return self.graph.nodes[input_nodes[0]]\n",
    "\n",
    "        # Otherwise, return the collection of nodes\n",
    "        return [self.graph.nodes[input_node] for input_node in input_nodes]\n",
    "\n",
    "    def __get_edge(self, pattern_src, pattern_dst):\n",
    "        \"\"\"\n",
    "        Returns the edge or the collection of edges mapped to the pattern edge.\n",
    "\n",
    "        Args:\n",
    "            pattern_src: The source node in the pattern.\n",
    "            pattern_dst: The destination node in the pattern.\n",
    "\n",
    "        Returns:\n",
    "            The edge (if both source and destination nodes are single nodes) or collection of edges (if collections).\n",
    "        \"\"\"\n",
    "        self._check_edge_in_pattern(pattern_src, pattern_dst)\n",
    "        input_src_nodes = self.mapping[pattern_src]\n",
    "        input_dst_nodes = self.mapping[pattern_dst]\n",
    "\n",
    "        # Return the single edge if both source and destination nodes are single nodes\n",
    "        if self.is_single(pattern_src) and self.is_single(pattern_dst):\n",
    "            input_src_node = list(input_src_nodes)[0]\n",
    "            input_dst_node = list(input_dst_nodes)[0]\n",
    "            self._check_edge_in_graph(input_src_node, input_dst_node)\n",
    "            return self.graph.edges[(input_src_node, input_dst_node)]\n",
    "\n",
    "        input_edges = []\n",
    "        for (src, dst) in product(input_src_nodes, input_dst_nodes):\n",
    "            if self.graph.has_edge(src, dst):\n",
    "                input_edges.append(self.graph.edges[(src, dst)])  # Add matching edge to the collection\n",
    "\n",
    "        if not input_edges:\n",
    "            raise GraphRewriteException(f\"No edges found between {pattern_src} and {pattern_dst}.\")\n",
    "        return input_edges\n",
    "\n",
    "    def set_graph(self, graph: DiGraph):\n",
    "        \"\"\"Update the graph associated with this match.\"\"\"\n",
    "        self.graph = graph\n",
    "\n",
    "    def remove_anonymous_nodes_and_edges(self):\n",
    "        \"\"\"Remove anonymous nodes and edges from the match.\"\"\"\n",
    "        for node in list(self._nodes): # Use list() to avoid modifying the set while iterating\n",
    "            if is_anonymous_node(node):\n",
    "                self._nodes.remove(node)\n",
    "\n",
    "        for edge in list(self._edges): # Use list() to avoid modifying the set while iterating\n",
    "            if is_anonymous_node(edge[0]) or is_anonymous_node(edge[1]):\n",
    "                self._edges.remove(edge)\n",
    "\n",
    "        for node in list(self.mapping.keys()):\n",
    "            if is_anonymous_node(node):\n",
    "                self.mapping.pop(node)\n",
    "\n",
    "    def __eq__(self, other):\n",
    "        \"\"\"Check if two matches are equal based on their node mappings.\"\"\"\n",
    "        if isinstance(other, Match) and len(other.mapping) == len(self.mapping):\n",
    "            return all(other.mapping.get(k) == v for k, v in self.mapping.items())\n",
    "        return False\n",
    "\n",
    "    def __getitem__(self, key: Union[NodeName, str]):\n",
    "        \"\"\"\n",
    "        Access the node or edge (single or collection) from the input graph based on the pattern.\n",
    "\n",
    "        Args:\n",
    "            key (Union[NodeName, str]): The pattern node or edge name to access.\n",
    "\n",
    "        Returns:\n",
    "            The corresponding node(s) or edge(s).\n",
    "        \"\"\"\n",
    "        try:\n",
    "            # Handle edges (using the \"node1->node2\" format)\n",
    "            if \"->\" in str(key) and len(str(key).split(\"->\")) == 2:\n",
    "                src, dst = key.split(\"->\")\n",
    "                edge_or_edges = self.__get_edge(src, dst)\n",
    "\n",
    "                if self.is_single(src) and self.is_single(dst):\n",
    "                    return edge_or_edges\n",
    "                return EdgeCollectionView(edge_or_edges)  # set of edges\n",
    "\n",
    "            # Handle nodes\n",
    "            node_or_nodes = self.__get_node(key)\n",
    "\n",
    "            if self.is_single(key):\n",
    "                return node_or_nodes\n",
    "            return NodeCollectionView(node_or_nodes)  # set of nodes\n",
    "\n",
    "        except KeyError:\n",
    "            raise GraphRewriteException(f\"The symbol {key} does not exist in the pattern, or it was removed from the graph\")\n",
    "\n",
    "    def __str__(self):\n",
    "        \"\"\"Return a string representation of the match's node mapping.\"\"\"\n",
    "        return str(self.mapping)\n",
    "    \n",
    "    def get_pattern_nodes(self):\n",
    "        \"\"\"Return the pattern nodes.\"\"\"\n",
    "        return self._nodes\n",
    "    \n",
    "    def get_pattern_edges(self):\n",
    "        \"\"\"Return the pattern edges.\"\"\"\n",
    "        return self._edges"
   ]
  },
  {
   "attachments": {},
   "cell_type": "markdown",
   "metadata": {},
   "source": [
    "### Create a Match\n",
    "This function will be used in the Matcher module, in order to convert a mapping from the pattern graph to the input graph into a corresponding instance of the Match class."
   ]
  },
  {
   "cell_type": "code",
   "execution_count": 11,
   "metadata": {},
   "outputs": [],
   "source": [
    "#| export\n",
    "def mapping_to_match(input_graph: DiGraph, single_pattern: DiGraph, collections_pattern: DiGraph, \n",
    "                     mapping: Dict[NodeName, Set[NodeName]], warn_on_collisions: bool=True) -> Match:\n",
    "    \"\"\"\n",
    "    Convert a given mapping (which represents a match between the pattern and the input graph) \n",
    "    into an instance of the Match class, which provides a subgraph view based on nodes and edges.\n",
    "\n",
    "    Args:\n",
    "        input_graph (DiGraph): The input graph where matches are found.\n",
    "        single_pattern (DiGraph): A pattern graph representing nodes that require an single in the input graph.\n",
    "        collections_pattern (DiGraph): A pattern graph representing nodes that match multiple input nodes (collections).\n",
    "        mapping (Dict[NodeName, Set[NodeName]]): The mapping of pattern nodes to corresponding input graph nodes.\n",
    "        filter (bool): If True, anonymous nodes (those starting with '_') are excluded from the match.\n",
    "\n",
    "    Returns:\n",
    "        Match: An instance of the Match class representing the match for the given mapping.\n",
    "    \"\"\"\n",
    "\n",
    "    pattern_nodes = list(mapping.keys())\n",
    "\n",
    "    single_nodes = set(single_pattern.nodes)\n",
    "\n",
    "    pattern_edges = list(set(single_pattern.edges) | set(collections_pattern.edges))\n",
    "\n",
    "    return Match(input_graph, pattern_nodes, single_nodes, pattern_edges, mapping, warn_on_collisions)"
   ]
  },
  {
   "attachments": {},
   "cell_type": "markdown",
   "metadata": {},
   "source": [
    "### Tests\n",
    "We take the example graph and pattern described above, add a few attributes to the nodes and edges, and create a Match instance based on the single mapping:"
   ]
  },
  {
   "cell_type": "code",
   "execution_count": 12,
   "metadata": {},
   "outputs": [],
   "source": [
    "# Define the input graph G with nodes a, b, c, d, e (will be reffereed to as input nodes)\n",
    "G = _create_graph(\n",
    "    [('a', {'name': 'a'}), ('b', {'name': 'b'}), ('c', {'name': 'c'}), ('d', {'name': 'd'}), ('e', {'name': 'e'})],\n",
    "    [('a', 'b', {'edge_attr': 10}), ('a', 'c'), ('d', 'e')]\n",
    ")\n",
    "\n",
    "# Define the pattern graph with nodes x, y, z (will be reffereed to as pattern nodes)\n",
    "pattern = _create_graph(['x', 'y', 'z'], [('x', 'y'), ('x', 'z')])\n",
    "\n",
    "# The match mapping for the pattern in G\n",
    "mapping = {'x': {'a'}, 'y': {'b'}, 'z': {'c'}}\n",
    "single_nodes = ['x', 'y', 'z']  # Set of pattern nodes that need singlees (we did't use collections in this example)\n",
    "\n",
    "# Create a match object\n",
    "mapping_match = mapping_to_match(G, pattern, DiGraph(), mapping, single_nodes)\n",
    "\n",
    "assert mapping_match['x']['name'] == 'a'  # Verify that the pattern node x is mapped to the input node a \n",
    "assert mapping_match['y']['name'] == 'b'  # Verify that the pattern node y is mapped to the input node b\n",
    "assert mapping_match['z']['name'] == 'c'  # Verify that the pattern node z is mapped to the input node c\n"
   ]
  },
  {
   "attachments": {},
   "cell_type": "markdown",
   "metadata": {},
   "source": [
    "In graph $G$, each node has a single attribute \"name\" whose value is the node's name. Therefore, node $a$ has the attribute \"name\" with the value \"a\". We can access its attributes using the Match, by accessing the name of the corresponding matched node $x$:"
   ]
  },
  {
   "cell_type": "code",
   "execution_count": 13,
   "metadata": {},
   "outputs": [
    {
     "name": "stdout",
     "output_type": "stream",
     "text": [
      "{'name': 'a'}\n"
     ]
    }
   ],
   "source": [
    "assert mapping_match['x'] == {'name': 'a'}\n",
    "assert mapping_match['x']['name'] == 'a'\n",
    "print(mapping_match['x'])"
   ]
  },
  {
   "attachments": {},
   "cell_type": "markdown",
   "metadata": {},
   "source": [
    "This indicates that as expected, pattern node $x$ is matched in this Match instance to the input graph node $a$, as that node is the only one in the graph whose \"name\" attribute is equal to \"a\"."
   ]
  },
  {
   "attachments": {},
   "cell_type": "markdown",
   "metadata": {},
   "source": [
    "We can access the edges similarly, by using the format {src}->{dst} for edge $(src, dst)$:"
   ]
  },
  {
   "cell_type": "code",
   "execution_count": 14,
   "metadata": {},
   "outputs": [
    {
     "name": "stdout",
     "output_type": "stream",
     "text": [
      "{'edge_attr': 10}\n"
     ]
    }
   ],
   "source": [
    "assert mapping_match['x->y'] == {'edge_attr': 10}\n",
    "print(mapping_match['x->y'])  # Accesses the attributes of the corresponding edge a->b in G"
   ]
  },
  {
   "attachments": {},
   "cell_type": "markdown",
   "metadata": {},
   "source": [
    "Say we want to add an attribute to $a$, we can change it in the same way using the Match:"
   ]
  },
  {
   "cell_type": "code",
   "execution_count": 15,
   "metadata": {},
   "outputs": [
    {
     "data": {
      "text/plain": [
       "{'name': 'a', 'attr': 5}"
      ]
     },
     "execution_count": 15,
     "metadata": {},
     "output_type": "execute_result"
    }
   ],
   "source": [
    "mapping_match['x']['attr'] = 5\n",
    "assert mapping_match['x'] == {'name': 'a', 'attr': 5}\n",
    "mapping_match['x']"
   ]
  },
  {
   "attachments": {},
   "cell_type": "markdown",
   "metadata": {},
   "source": [
    "And then see that the attributes of $a$ in the original graph $G$ have changed, as the Match is a subview of that graph, and so changes in the subview are reflected in $G$:"
   ]
  },
  {
   "cell_type": "code",
   "execution_count": 16,
   "metadata": {},
   "outputs": [
    {
     "data": {
      "text/plain": [
       "{'name': 'a', 'attr': 5}"
      ]
     },
     "execution_count": 16,
     "metadata": {},
     "output_type": "execute_result"
    }
   ],
   "source": [
    "assert G.nodes(data=True)['a'] == {'name': 'a', 'attr': 5}\n",
    "G.nodes(data=True)['a']"
   ]
  },
  {
   "attachments": {},
   "cell_type": "markdown",
   "metadata": {},
   "source": [
    "We can also modify existing attributes in the same way using the Match, and see those changes reflected in $G$"
   ]
  },
  {
   "cell_type": "code",
   "execution_count": 17,
   "metadata": {},
   "outputs": [
    {
     "data": {
      "text/plain": [
       "{'name': 'B*'}"
      ]
     },
     "execution_count": 17,
     "metadata": {},
     "output_type": "execute_result"
    }
   ],
   "source": [
    "mapping_match['y']['name'] = 'B*'\n",
    "assert mapping_match['y']['name'] == 'B*'\n",
    "assert G.nodes(data=True)['b']['name'] == 'B*'\n",
    "G.nodes(data=True)['b']"
   ]
  },
  {
   "attachments": {},
   "cell_type": "markdown",
   "metadata": {},
   "source": [
    "This also works in the reverse direction: changes in $G$ are reflected in the subview. Say that we set an attribute for edge $(a,b)$ in $G$, then that change would be reflected by accessing the edge 'x->y' in the Match object that refers graph $G$:"
   ]
  },
  {
   "cell_type": "code",
   "execution_count": 18,
   "metadata": {},
   "outputs": [
    {
     "data": {
      "text/plain": [
       "{'edge_attr': 10, 'attr2': 20}"
      ]
     },
     "execution_count": 18,
     "metadata": {},
     "output_type": "execute_result"
    }
   ],
   "source": [
    "G.edges()[('a','b')]['attr2'] = 20\n",
    "assert mapping_match['x->y']['attr2'] == 20\n",
    "mapping_match['x->y']"
   ]
  },
  {
   "cell_type": "markdown",
   "metadata": {},
   "source": [
    "## Visualizing matches"
   ]
  },
  {
   "cell_type": "code",
   "execution_count": 19,
   "metadata": {},
   "outputs": [
    {
     "data": {
      "text/plain": [
       "([('a', {'name': 'a', 'attr': 5}),\n",
       "  ('b', {'name': 'B*'}),\n",
       "  ('c', {'name': 'c'}),\n",
       "  ('d', {'name': 'd'}),\n",
       "  ('e', {'name': 'e'})],\n",
       " [('a', 'b', {'edge_attr': 10, 'attr2': 20}), ('a', 'c', {}), ('d', 'e', {})])"
      ]
     },
     "execution_count": 19,
     "metadata": {},
     "output_type": "execute_result"
    }
   ],
   "source": [
    "list(G.nodes(data=True)),list(G.edges(data=True))"
   ]
  },
  {
   "cell_type": "code",
   "execution_count": 20,
   "metadata": {},
   "outputs": [
    {
     "data": {
      "text/plain": [
       "{'x': {'a'}, 'y': {'b'}, 'z': {'c'}}"
      ]
     },
     "execution_count": 20,
     "metadata": {},
     "output_type": "execute_result"
    }
   ],
   "source": [
    "mapping_match.mapping"
   ]
  },
  {
   "cell_type": "code",
   "execution_count": 21,
   "metadata": {},
   "outputs": [],
   "source": [
    "#| export\n",
    "def draw_match(g, m, **kwargs):\n",
    "    \"\"\"\n",
    "    Draw the input graph with the nodes and edges that are part of the match highlighted.\n",
    "    \n",
    "    Args:\n",
    "        g (DiGraph): The input graph to draw.\n",
    "        m (Match): The match object representing the nodes and edges to highlight.\n",
    "        **kwargs: Additional keyword arguments to pass to the draw function\n",
    "\n",
    "    Returns:\n",
    "        None\n",
    "    \"\"\"\n",
    "    g_copy = g.copy()\n",
    "    node_styles = {}\n",
    "    edge_styles = {}\n",
    "\n",
    "    # Reverse mapping with defaultdict for handling multiple pattern nodes per input node\n",
    "    reverse_mapping = defaultdict(list)\n",
    "    for pattern_node, input_nodes in m.mapping.items():\n",
    "        for input_node in input_nodes:\n",
    "            reverse_mapping[input_node].append(pattern_node)\n",
    "\n",
    "    # Handle node styling\n",
    "    for input_node, pattern_nodes in reverse_mapping.items():\n",
    "        if len(pattern_nodes) > 1: # Collection node\n",
    "            for pattern_node in pattern_nodes:\n",
    "                node_styles[input_node] = 'stroke:red,stroke-width:4px;'\n",
    "                g_copy.nodes[input_node]['label'] = f\"{pattern_node}_{input_node}\"\n",
    "        else: # Single node\n",
    "            node_styles[input_node] = 'stroke:blue,stroke-width:4px;'\n",
    "            g_copy.nodes[input_node]['label'] = pattern_nodes[0]\n",
    "\n",
    "    for u, v in m._edges:\n",
    "        edge_styles.update({(input_u, input_v): 'stroke:blue,stroke-width:4px;'\n",
    "                            for input_u, input_v in product(m.mapping.get(u, []), m.mapping.get(v, []))})\n",
    "\n",
    "    draw(g_copy, node_styles=node_styles, edge_styles=edge_styles, **kwargs)\n"
   ]
  },
  {
   "cell_type": "code",
   "execution_count": 22,
   "metadata": {},
   "outputs": [
    {
     "data": {
      "text/html": [
       "<img src=\"https://mermaid.ink/img/CmZsb3djaGFydCBUQgphWyJhKHgpCm5hbWU9I3F1b3Q7YSNxdW90OywgYXR0cj01Il0Kc3R5bGUgYSBzdHJva2U6Ymx1ZSxzdHJva2Utd2lkdGg6NHB4OwpiWyJiKHkpCm5hbWU9I3F1b3Q7QiojcXVvdDsiXQpzdHlsZSBiIHN0cm9rZTpibHVlLHN0cm9rZS13aWR0aDo0cHg7CmNbImMoeikKbmFtZT0jcXVvdDtjI3F1b3Q7Il0Kc3R5bGUgYyBzdHJva2U6Ymx1ZSxzdHJva2Utd2lkdGg6NHB4OwpkWyJkCm5hbWU9I3F1b3Q7ZCNxdW90OyJdCmVbImUKbmFtZT0jcXVvdDtlI3F1b3Q7Il0KYSAtLT58ImVkZ2VfYXR0cj0xMCwgYXR0cjI9MjAifCBiCmxpbmtTdHlsZSAwIHN0cm9rZTpibHVlLHN0cm9rZS13aWR0aDo0cHg7CmEgLS0+IGMKbGlua1N0eWxlIDEgc3Ryb2tlOmJsdWUsc3Ryb2tlLXdpZHRoOjRweDsKZCAtLT4gZQo=\"/>"
      ],
      "text/plain": [
       "<IPython.core.display.Image object>"
      ]
     },
     "metadata": {},
     "output_type": "display_data"
    }
   ],
   "source": [
    "draw_match(G,mapping_match)"
   ]
  },
  {
   "cell_type": "markdown",
   "metadata": {},
   "source": [
    "Collections Feature Tests "
   ]
  },
  {
   "cell_type": "markdown",
   "metadata": {},
   "source": [
    "Test #1:"
   ]
  },
  {
   "cell_type": "code",
   "execution_count": 23,
   "metadata": {},
   "outputs": [],
   "source": [
    "# Define the input graph G: a -> b, b -> c, b -> d\n",
    "G = _create_graph(\n",
    "    [('a', {'name': 'a'}), ('b', {'name': 'b'}), ('c', {'name': 'c'}), ('d', {'name': 'd'})],\n",
    "    [('a', 'b', {'edge_attr': 5}), ('b', 'c'), ('b', 'd')]\n",
    ")\n",
    "\n",
    "# Define the single pattern: x -> y\n",
    "single_pattern = _create_graph(['x', 'y'], [('x', 'y')])  # 'x' -> 'y' single\n",
    "\n",
    "# Define the collection pattern: y -> z (collection where y points to multiple nodes)\n",
    "collections_pattern = _create_graph(['y', 'z'], [('y', 'z')])  # 'y' matches multiple nodes\n",
    "\n",
    "# In this case:\n",
    "# - 'x' matches node 'a' (single),\n",
    "# - 'y' matches node 'b' (single and part of a collection),\n",
    "# - 'z' matches nodes 'c' and 'd' (collection).\n",
    "mapping = {'x': {'a'}, 'y': {'b'}, 'z': {'c', 'd'}}\n",
    "single_nodes = {'x'}  # Only 'x' is an single, 'y' and 'z' form a collection\n",
    "\n",
    "# Create the match object\n",
    "collection_match = mapping_to_match(G, single_pattern, collections_pattern, mapping, single_nodes)"
   ]
  },
  {
   "cell_type": "code",
   "execution_count": 24,
   "metadata": {},
   "outputs": [
    {
     "name": "stdout",
     "output_type": "stream",
     "text": [
      "Full mapping:  {'x': {'a'}, 'y': {'b'}, 'z': {'c', 'd'}}\n"
     ]
    }
   ],
   "source": [
    "# Print the full mapping to see if 'z' is correctly mapped to 'c' and 'd'\n",
    "print(\"Full mapping: \", collection_match.mapping)"
   ]
  },
  {
   "cell_type": "code",
   "execution_count": 25,
   "metadata": {},
   "outputs": [
    {
     "name": "stdout",
     "output_type": "stream",
     "text": [
      "{'name': 'a'}\n",
      "a\n"
     ]
    }
   ],
   "source": [
    "# Test that 'x' is singlely matched to node 'a'\n",
    "print(collection_match['x']) \n",
    "assert collection_match['x']['name'] == 'a'\n",
    "print(collection_match['x']['name'])  # Should print 'a'"
   ]
  },
  {
   "cell_type": "code",
   "execution_count": 26,
   "metadata": {},
   "outputs": [
    {
     "name": "stdout",
     "output_type": "stream",
     "text": [
      "{'name': 'b'}\n",
      "b\n"
     ]
    }
   ],
   "source": [
    "# Test that 'y' is part of the collection and matched to node 'b'\n",
    "print(collection_match['y'])\n",
    "assert collection_match['y']['name'] == 'b'\n",
    "print(collection_match['y']['name'])  # Should print 'b'"
   ]
  },
  {
   "cell_type": "code",
   "execution_count": 27,
   "metadata": {},
   "outputs": [
    {
     "name": "stdout",
     "output_type": "stream",
     "text": [
      "Collection nodes: {'name': 'c'}, {'name': 'd'}\n",
      "['c', 'd']\n"
     ]
    }
   ],
   "source": [
    "# Test that 'z' is part of the collection and matched to nodes 'c' and 'd'\n",
    "print(collection_match['z'])\n",
    "assert set(collection_match['z']['name']) == {'c', 'd'}  # Check using set comparison to account for order\n",
    "print(collection_match['z']['name'])  # Should print ['c', 'd'] in any order"
   ]
  },
  {
   "cell_type": "markdown",
   "metadata": {},
   "source": [
    "Test #2:"
   ]
  },
  {
   "cell_type": "code",
   "execution_count": 28,
   "metadata": {},
   "outputs": [],
   "source": [
    "# Define the input graph: a -> b -> c, a -> d, b -> d\n",
    "G = _create_graph(\n",
    "    [('a', {'name': 'a'}), ('b', {'name': 'b'}), ('c', {'name': 'c'}), ('d', {'name': 'd'})],\n",
    "    [('a','b'), ('a','d'), ('b','d', {'name': '(b,d)'}), ('b','c', {'name': '(b,c)'})]\n",
    ")"
   ]
  },
  {
   "cell_type": "code",
   "execution_count": 29,
   "metadata": {},
   "outputs": [],
   "source": [
    "# Define the single pattern: x -> y\n",
    "single_pattern = _create_graph(['x', 'y'], [('x', 'y')])\n",
    "\n",
    "# Define the collection pattern: y -> z (where z forms multiple edges)\n",
    "collections_pattern = _create_graph(['y', 'z'], [('y', 'z')])\n",
    "\n",
    "# In this case:\n",
    "# - 'x' matches node 'a' (single),\n",
    "# - 'y' matches node 'b' (single),\n",
    "# - 'z' matches nodes 'c' and 'd' (collection of edges).\n",
    "mapping = {'x': {'a'}, 'y': {'b'}, 'z': {'c', 'd'}}\n",
    "single_nodes = {'x', 'y'}  # 'x' and 'y' are singlees, 'z' forms a collection of edges\n",
    "\n",
    "# Create the match object\n",
    "edge_collection_match = mapping_to_match(G, single_pattern, collections_pattern, mapping, single_nodes)"
   ]
  },
  {
   "cell_type": "code",
   "execution_count": 30,
   "metadata": {},
   "outputs": [
    {
     "name": "stdout",
     "output_type": "stream",
     "text": [
      "a\n"
     ]
    }
   ],
   "source": [
    "# Test that 'x' matches node 'a'\n",
    "assert edge_collection_match['x']['name'] == 'a'\n",
    "print(edge_collection_match['x']['name'])  # Should print 'a'"
   ]
  },
  {
   "cell_type": "code",
   "execution_count": 31,
   "metadata": {},
   "outputs": [
    {
     "name": "stdout",
     "output_type": "stream",
     "text": [
      "b\n"
     ]
    }
   ],
   "source": [
    "# Test that 'y' matches node 'b'\n",
    "assert edge_collection_match['y']['name'] == 'b'\n",
    "print(edge_collection_match['y']['name'])  # Should print 'b'"
   ]
  },
  {
   "cell_type": "code",
   "execution_count": 32,
   "metadata": {},
   "outputs": [
    {
     "name": "stdout",
     "output_type": "stream",
     "text": [
      "Collection edges: {'name': '(b,c)'}, {'name': '(b,d)'}\n"
     ]
    }
   ],
   "source": [
    "# Test that 'z' matches nodes 'c' and 'd' as a collection of edges\n",
    "print(edge_collection_match['y->z']) "
   ]
  },
  {
   "cell_type": "code",
   "execution_count": 33,
   "metadata": {},
   "outputs": [
    {
     "name": "stdout",
     "output_type": "stream",
     "text": [
      "['(b,c)', '(b,d)']\n"
     ]
    }
   ],
   "source": [
    "#This is true if we don't have any attribute for the edge, and we decide not to throw an exception\n",
    "assert set(edge_collection_match['y->z']['name']) == {'(b,c)', '(b,d)'}  # Check using set comparison to account for order\n",
    "print(edge_collection_match['y->z']['name'])  # Should print ['(b,c)', '(b,d)'] in any order"
   ]
  },
  {
   "cell_type": "markdown",
   "metadata": {},
   "source": [
    "# Export"
   ]
  },
  {
   "cell_type": "code",
   "execution_count": 34,
   "metadata": {},
   "outputs": [],
   "source": [
    "#|hide\n",
    "import nbdev; nbdev.nbdev_export()"
   ]
  }
 ],
 "metadata": {
  "kernelspec": {
   "display_name": "Python 3",
   "language": "python",
   "name": "python3"
  },
  "language_info": {
   "codemirror_mode": {
    "name": "ipython",
    "version": 3
   },
   "file_extension": ".py",
   "mimetype": "text/x-python",
   "name": "python",
   "nbconvert_exporter": "python",
   "pygments_lexer": "ipython3",
   "version": "3.9.6"
  }
 },
 "nbformat": 4,
 "nbformat_minor": 2
}
