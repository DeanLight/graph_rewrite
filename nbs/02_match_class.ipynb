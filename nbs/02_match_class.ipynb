{
 "cells": [
  {
   "attachments": {},
   "cell_type": "markdown",
   "metadata": {},
   "source": [
    "# Match Class"
   ]
  },
  {
   "cell_type": "code",
   "execution_count": 169,
   "metadata": {},
   "outputs": [],
   "source": [
    "#| default_exp match_class"
   ]
  },
  {
   "cell_type": "code",
   "execution_count": 170,
   "metadata": {},
   "outputs": [
    {
     "name": "stdout",
     "output_type": "stream",
     "text": [
      "The autoreload extension is already loaded. To reload it, use:\n",
      "  %reload_ext autoreload\n"
     ]
    }
   ],
   "source": [
    "#| hide\n",
    "from nbdev.showdoc import show_doc\n",
    "%load_ext autoreload\n",
    "%autoreload 2"
   ]
  },
  {
   "cell_type": "code",
   "execution_count": null,
   "metadata": {},
   "outputs": [],
   "source": [
    "from enum import Enum"
   ]
  },
  {
   "attachments": {},
   "cell_type": "markdown",
   "metadata": {},
   "source": [
    "### Overview\n",
    "The following module defines the **Match class**, that will be used by the Matcher module later. This class provides a subview to the graph which we attempt to transform, and is created based on some match from the LHS pattern to a subgraph of the input graph (Further explanations on the meaning of matches are included in the next module).\n",
    "\n",
    "This subview is set such that read-write operations can be done on nodes and edges imperatively, based on their symbolic name (the node/edge they match in the pattern) rather than their actual name in the input graph. That is, we can access nodes and edges in the input graph which were matched to the pattern (and only them), by using their corresponding names in the pattern. \n",
    "\n",
    "For each match found, the user of the library will recieve its correpsonding Match object, which can be used for imperative side effects."
   ]
  },
  {
   "attachments": {},
   "cell_type": "markdown",
   "metadata": {},
   "source": [
    "### Requirements"
   ]
  },
  {
   "cell_type": "code",
   "execution_count": 171,
   "metadata": {},
   "outputs": [],
   "source": [
    "#| export\n",
    "import networkx as nx\n",
    "from networkx import DiGraph\n",
    "from typing import *\n",
    "from graph_rewrite.core import _create_graph, draw, GraphRewriteException, NodeName, EdgeName"
   ]
  },
  {
   "attachments": {},
   "cell_type": "markdown",
   "metadata": {},
   "source": [
    "### Example\n",
    "Assume that we have an input graph $G$:"
   ]
  },
  {
   "cell_type": "code",
   "execution_count": 172,
   "metadata": {},
   "outputs": [
    {
     "data": {
      "text/html": [
       "<img src=\"https://mermaid.ink/img/CmZsb3djaGFydCBUQgpBWyJBCiJdCkJbIkIKIl0KQ1siQwoiXQpEWyJECiJdCkVbIkUKIl0KQSAtLT4gQgpBIC0tPiBDCkQgLS0+IEUK\"/>"
      ],
      "text/plain": [
       "<IPython.core.display.Image object>"
      ]
     },
     "metadata": {},
     "output_type": "display_data"
    }
   ],
   "source": [
    "draw(_create_graph(['A','B','C','D','E'], [('A','B'), ('A','C'),('D','E')]))"
   ]
  },
  {
   "attachments": {},
   "cell_type": "markdown",
   "metadata": {},
   "source": [
    "And a pattern which looks like:"
   ]
  },
  {
   "cell_type": "code",
   "execution_count": 173,
   "metadata": {},
   "outputs": [
    {
     "data": {
      "text/html": [
       "<img src=\"https://mermaid.ink/img/CmZsb3djaGFydCBUQgoxWyIxCiJdCjJbIjIKIl0KM1siMwoiXQoxIC0tPiAyCjEgLS0+IDMK\"/>"
      ],
      "text/plain": [
       "<IPython.core.display.Image object>"
      ]
     },
     "metadata": {},
     "output_type": "display_data"
    }
   ],
   "source": [
    "draw(_create_graph(['1','2','3'], [('1','2'), ('1','3')]))"
   ]
  },
  {
   "attachments": {},
   "cell_type": "markdown",
   "metadata": {},
   "source": [
    "Intuitively, we can see that the pattern can be found in the input graph $G$, such that the pattern node $1$ corresponds to the graph node $A$, and the same goes for $2$ and $B$, $3$ and $C$. That mapping defines a match of the pattern in graph $G$ (We will dive into the definition of a match in the next module).\n",
    "\n",
    "The corresponding Match object will allows us, for example, changing an attribute of node $A$ in the input graph, by accessing the symbolic name $1$ (which matches to $A$) and setting it to some dictionary of attributes. Note that the user will be able to access this class only after the transformation is done - therefore, if the transformation removed $A$ from the graph, the user won't be able to access the symbolic name $1$ anymore."
   ]
  },
  {
   "attachments": {},
   "cell_type": "markdown",
   "metadata": {},
   "source": [
    "### Utils\n",
    "Edge $(u,v)$ is represented in a Match with the name \"u->v\"."
   ]
  },
  {
   "cell_type": "code",
   "execution_count": 174,
   "metadata": {},
   "outputs": [],
   "source": [
    "#| export\n",
    "def convert_to_edge_name(src: NodeName, dest: NodeName) -> str:\n",
    "    \"\"\"Given a pair of node names, source and destination, return the name of the edge\n",
    "    connecting the two in the format {src}->{dest}, which is the same format the parser\n",
    "    uses to create edges in the pattern graph.\n",
    "\n",
    "    Args:\n",
    "        src (NodeName): A node name\n",
    "        dest (NodeName): A node name\n",
    "\n",
    "    Returns:\n",
    "        str: A representative name for the edge (src, dest).\n",
    "    \"\"\"\n",
    "    return f\"{src}->{dest}\""
   ]
  },
  {
   "attachments": {},
   "cell_type": "markdown",
   "metadata": {},
   "source": [
    "A node is **anonymous** if its name begins with '_'. This notion allows us to define patters with anonymous nodes, whose existence we want to enforce, but which we do not use in the RHS part of the pattern and thus, can ignore them by not assigning any symbolic name to them."
   ]
  },
  {
   "cell_type": "code",
   "execution_count": 175,
   "metadata": {},
   "outputs": [],
   "source": [
    "#| export\n",
    "def is_anonymous_node(node_name: NodeName) -> bool:\n",
    "    \"\"\"Given a name of a node in the pattern graph, return true if it begins with '$',\n",
    "    which is the notion the parser uses to denote anonymous nodes.\n",
    "\n",
    "    Args:\n",
    "        node_name (NodeName): A node name in the pattern\n",
    "\n",
    "    Returns:\n",
    "        bool: Returns True if the node is anonymous, False otherwise.\n",
    "    \"\"\"\n",
    "    return len(node_name) >= 1 and node_name[0] == '_'"
   ]
  },
  {
   "attachments": {},
   "cell_type": "markdown",
   "metadata": {},
   "source": [
    "### The Match Class"
   ]
  },
  {
   "attachments": {},
   "cell_type": "markdown",
   "metadata": {},
   "source": [
    "A **Match** is a subview of the original graph, limited to the nodes, edges and attributes specified in the pattern. It includes the original graph, dictionaries which map nodes/edges to their corresponding attributes in the pattern, and the mapping from pattern nodes to real ones."
   ]
  },
  {
   "cell_type": "code",
   "execution_count": 176,
   "metadata": {},
   "outputs": [],
   "source": [
    "#| export\n",
    "class NodeType(Enum):\n",
    "    \"\"\"Enum of the different types of nodes in the pattern graph.\n",
    "    \"\"\"\n",
    "    SINGLE = 1\n",
    "    COLLECTION = 2\n",
    "\n",
    "class Match:\n",
    "    \"\"\"Represents a single match of a pattern inside an input graph.\n",
    "     Provides a subview to a graph, limited to the nodes, edges and attributes specified in the pattern.\n",
    "    \"\"\"\n",
    "    def __init__(self, graph: DiGraph, nodes: List[NodeName], edges: List[EdgeName], \n",
    "                 mapping: Dict[NodeName, Set[NodeName]], node_type_mapping: Dict[NodeName, NodeType]):\n",
    "        self.graph: DiGraph = graph\n",
    "        self._nodes: List[NodeName] = nodes\n",
    "        self._edges: List[EdgeName] = edges\n",
    "        \n",
    "        # Node names and edges can represent either single nodes or collections of nodes, \n",
    "        # so for each node name is mapped to a set of input nodes:\n",
    "        self.mapping: Dict[NodeName, Set[NodeName]] = {k: {v} for k,v in mapping.items()}\n",
    "        self.node_type_mapping: Dict[NodeName, NodeType] = NodeType\n",
    "    \n",
    "    # A function that checks if the node is valid and raises an exception if it is not\n",
    "    def check_node_in_pattern(self, pattern_node: NodeName):\n",
    "        if not pattern_node in self._nodes:\n",
    "            raise GraphRewriteException(f\"Node {pattern_node} does not exist in the pattern\")\n",
    "        \n",
    "    # A function that checks if the edge is valid and raises an exception if it is not\n",
    "    def check_edge_in_pattern(self, pattern_src: NodeName, pattern_dst: NodeName):\n",
    "        if not (pattern_src, pattern_dst) in self._edges:\n",
    "            raise GraphRewriteException(f\"Edge {(pattern_src, pattern_dst)} does not exist in the pattern\")\n",
    "        \n",
    "             \n",
    "    # Two boolean functions that checks if the pattern node is a single node or a collection of nodes\n",
    "    def is_collection(self, pattern_node: NodeName) -> bool:\n",
    "        return self.node_type_mapping[pattern_node] == NodeType.COLLECTION\n",
    "\n",
    "    def is_single(self, pattern_node: NodeName) -> bool:\n",
    "        return self.node_type_mapping[pattern_node] == NodeType.SINGLE\n",
    "    \n",
    "    # Returns the node or the collection of nodes mapped to the pattern node\n",
    "    # If the node is a single node, we return the single node that is mapped to it, otherwise we return a set of nodes\n",
    "    def __get_node(self, pattern_node):\n",
    "        self.check_node_in_pattern(pattern_node)\n",
    "        if self.is_single(pattern_node):\n",
    "            return self.graph.nodes[list(self.mapping[pattern_node])[0]]\n",
    "        else:\n",
    "            return [self.graph.nodes[node] for node in self.mapping[pattern_node]]\n",
    "    \n",
    "    # Returns the edge or the collection of edges mapped to the pattern edge\n",
    "    # If the edge is between two single nodes, we return the edge itself, otherwise we return a set of edges\n",
    "    def __get_edge(self, pattern_src, pattern_dst):\n",
    "        self.check_edge_in_pattern(pattern_src, pattern_dst)\n",
    "        src = self.mapping[pattern_src]\n",
    "        dst = self.mapping[pattern_dst]\n",
    "        if self.is_single(pattern_src) and self.is_single(pattern_dst):\n",
    "            return self.graph.edges[src, dst]\n",
    "        else:\n",
    "            return [self.graph.edges[src, dst] for src in src for dst in dst]\n",
    "    \n",
    "    def nodes(self):\n",
    "        return {pattern_node: self.__get_node(pattern_node) for pattern_node in self._nodes}        \n",
    "    \n",
    "    def edges(self):\n",
    "        return {convert_to_edge_name(pattern_src, pattern_dest): self.__get_edge(pattern_src, pattern_dest) for (pattern_src, pattern_dest) in self._edges}\n",
    "\n",
    "    def set_graph(self, graph: DiGraph):\n",
    "        self.graph = graph\n",
    "\n",
    "    def __eq__(self, other):\n",
    "        if type(other) is Match and len(other.mapping.items()) == len(self.mapping.items()):\n",
    "            return all([other.mapping.get(k) == v for k,v in self.mapping.items()])\n",
    "        return False\n",
    "\n",
    "    def __getitem__(self, key: Union[NodeName, str]):\n",
    "        \"\"\"Returns the node / edge of the input graph, which was mapped by the key in the pattern during matching.\n",
    "\n",
    "        Args:\n",
    "            key (Union[NodeName, str]): A symbolic name used by the pattern (for a node / edge)\n",
    "\n",
    "        Raises:\n",
    "            GraphRewriteException: If the key doesn't exist in the pattern, or is mapped to a node / edge\n",
    "            which does not exist anymore (due to removal by the transformation, for example).\n",
    "\n",
    "        Returns:\n",
    "            The corresponding node / edge of the input graph\n",
    "        \"\"\"\n",
    "        try:\n",
    "            if str(key).__contains__(\"->\") and len(str(key).split(\"->\")) == 2:\n",
    "                end_nodes = str(key).split(\"->\")\n",
    "                return self.__get_edge(end_nodes[0], end_nodes[1])\n",
    "            else:\n",
    "                return self.__get_node(key)\n",
    "        except:\n",
    "            raise GraphRewriteException(f\"The symbol {key} does not exist in the pattern, or it was removed from the graph\")\n",
    "        \n",
    "    def __str__(self):\n",
    "        return self.mapping.__str__()"
   ]
  },
  {
   "attachments": {},
   "cell_type": "markdown",
   "metadata": {},
   "source": [
    "### Create a Match\n",
    "This function will be used in the Matcher module, in order to convert a mapping from the pattern graph to the input graph into a corresponding instance of the Match class."
   ]
  },
  {
   "cell_type": "code",
   "execution_count": 177,
   "metadata": {},
   "outputs": [],
   "source": [
    "#| export\n",
    "def mapping_to_match(input: DiGraph, pattern: DiGraph, collections_pattern: DiGraph, mapping: Dict[NodeName, Set[NodeName]],\n",
    "                      node_type_mapping: Dict[NodeName,NodeType], filter: bool=True) -> Match:\n",
    "    \"\"\"Given a mapping, which denotes a match of the pattern in the input graph,\n",
    "    create a corresponding instance of the Match class.\n",
    "\n",
    "    Args:\n",
    "        input (DiGraph): An input graph\n",
    "        pattern (DiGraph): A pattern graph\n",
    "        mapping (Dict[NodeName, NodeName]): A mapping of nodes in the pattern to nodes in the input graph\n",
    "        node_type_mapping (Dict[NodeName, NodeType]): A mapping of nodes in the pattern to their type (single or collection)\n",
    "        filter (bool): If True, filter out anonymous nodes from the match\n",
    "\n",
    "    Returns:\n",
    "        Match: A corresponding instance of the Match class\n",
    "    \"\"\"\n",
    "    nodes_list, edges_list = [], []\n",
    "    cleared_mapping = mapping.copy()\n",
    "\n",
    "    for pattern_node in mapping.keys():\n",
    "        if filter and is_anonymous_node(pattern_node):\n",
    "            cleared_mapping.pop(pattern_node)\n",
    "            continue # as we don't want to include this node in the Match\n",
    "        nodes_list.append(pattern_node)\n",
    "\n",
    "    for (n1, n2) in pattern.edges:\n",
    "        if filter and (is_anonymous_node(n1) or is_anonymous_node(n2)):\n",
    "            continue # as before\n",
    "        edges_list.append((n1, n2))\n",
    "\n",
    "    return Match(input, nodes_list, edges_list, cleared_mapping, node_type_mapping)"
   ]
  },
  {
   "attachments": {},
   "cell_type": "markdown",
   "metadata": {},
   "source": [
    "### Tests\n",
    "We take the example graph and pattern described above, add a few attributes to the nodes and edges, and create a Match instance based on the single mapping:"
   ]
  },
  {
   "cell_type": "code",
   "execution_count": 178,
   "metadata": {},
   "outputs": [],
   "source": [
    "G = _create_graph(\n",
    "    [('A', {'name': 'A'}),('B', {'name': 'B'}),('C', {'name': 'C'}),('D', {'name': 'D'}),('E', {'name': 'E'})],\n",
    "    [('A','B', {'edge_attr': 10}), ('A','C'),('D','E')])\n",
    "pattern = _create_graph(['1','2','3'], [('1','2'), ('1','3')])\n",
    "# It has a single match, which is defined by the following mapping:\n",
    "mapping = {'1': 'A', '2': 'B', '3': 'C'}\n",
    "mapping_match = mapping_to_match(G, pattern, DiGraph(), mapping, {})"
   ]
  },
  {
   "attachments": {},
   "cell_type": "markdown",
   "metadata": {},
   "source": [
    "In graph $G$, each node has a single attribute - \"name\" - whose value is the node's name. Therefore, node $A$ has the attribute \"name\" with the value \"A\". We can access its attributes using the Match, by accessing the name of the corresponding matched node $1$:"
   ]
  },
  {
   "cell_type": "code",
   "execution_count": 179,
   "metadata": {},
   "outputs": [
    {
     "data": {
      "text/plain": [
       "{'name': 'A'}"
      ]
     },
     "execution_count": 179,
     "metadata": {},
     "output_type": "execute_result"
    }
   ],
   "source": [
    "assert mapping_match['1'] == {'name': 'A'}\n",
    "assert mapping_match['1']['name'] == 'A'\n",
    "mapping_match['1']"
   ]
  },
  {
   "attachments": {},
   "cell_type": "markdown",
   "metadata": {},
   "source": [
    "This indicates that as expected, pattern node $1$ is matched in this Match instance to the input graph node $A$, as that node is the only one in the graph whose \"name\" attribute is equal to \"A\"."
   ]
  },
  {
   "attachments": {},
   "cell_type": "markdown",
   "metadata": {},
   "source": [
    "We can access the edges similarly, by using the format {src}->{dst} for edge $(src, dst)$:"
   ]
  },
  {
   "cell_type": "code",
   "execution_count": 180,
   "metadata": {},
   "outputs": [
    {
     "data": {
      "text/plain": [
       "{'edge_attr': 10}"
      ]
     },
     "execution_count": 180,
     "metadata": {},
     "output_type": "execute_result"
    }
   ],
   "source": [
    "assert mapping_match['1->2'] == {'edge_attr': 10}\n",
    "mapping_match['1->2'] # accesses the attributes of the corresponding edge A->B in G"
   ]
  },
  {
   "attachments": {},
   "cell_type": "markdown",
   "metadata": {},
   "source": [
    "Say we want to add an attribute to $A$, we can change it in the same way using the Match:"
   ]
  },
  {
   "cell_type": "code",
   "execution_count": 181,
   "metadata": {},
   "outputs": [
    {
     "data": {
      "text/plain": [
       "{'name': 'A', 'attr': 5}"
      ]
     },
     "execution_count": 181,
     "metadata": {},
     "output_type": "execute_result"
    }
   ],
   "source": [
    "mapping_match['1']['attr'] = 5\n",
    "assert mapping_match['1'] == {'name': 'A', 'attr': 5}\n",
    "mapping_match['1']"
   ]
  },
  {
   "attachments": {},
   "cell_type": "markdown",
   "metadata": {},
   "source": [
    "And then see that the attributes of $A$ in the original graph $G$ have changed, as the Match is a subview of that graph, and so changes in the subview are reflected in $G$:"
   ]
  },
  {
   "cell_type": "code",
   "execution_count": 182,
   "metadata": {},
   "outputs": [
    {
     "data": {
      "text/plain": [
       "{'name': 'A', 'attr': 5}"
      ]
     },
     "execution_count": 182,
     "metadata": {},
     "output_type": "execute_result"
    }
   ],
   "source": [
    "assert G.nodes(data=True)['A'] == {'name': 'A', 'attr': 5}\n",
    "G.nodes(data=True)['A']"
   ]
  },
  {
   "attachments": {},
   "cell_type": "markdown",
   "metadata": {},
   "source": [
    "We can also modify existing attributes in the same way using the Match, and see those changes reflected in $G$"
   ]
  },
  {
   "cell_type": "code",
   "execution_count": 183,
   "metadata": {},
   "outputs": [
    {
     "data": {
      "text/plain": [
       "{'name': 'B*'}"
      ]
     },
     "execution_count": 183,
     "metadata": {},
     "output_type": "execute_result"
    }
   ],
   "source": [
    "mapping_match['2']['name'] = 'B*'\n",
    "assert mapping_match['2']['name'] == 'B*'\n",
    "assert G.nodes(data=True)['B']['name'] == 'B*'\n",
    "G.nodes(data=True)['B']"
   ]
  },
  {
   "attachments": {},
   "cell_type": "markdown",
   "metadata": {},
   "source": [
    "This also works in the reverse direction: changes in $G$ are reflected in the subview. Say that we set an attribute for edge $(A,B)$ in $G$, then that change would be reflected by accessing the edge '1->2' in the Match object that refers graph $G$:"
   ]
  },
  {
   "cell_type": "code",
   "execution_count": 184,
   "metadata": {},
   "outputs": [
    {
     "data": {
      "text/plain": [
       "{'edge_attr': 10, 'attr2': 20}"
      ]
     },
     "execution_count": 184,
     "metadata": {},
     "output_type": "execute_result"
    }
   ],
   "source": [
    "G.edges()[('A','B')]['attr2'] = 20\n",
    "assert mapping_match['1->2']['attr2'] == 20\n",
    "mapping_match['1->2']"
   ]
  },
  {
   "cell_type": "markdown",
   "metadata": {},
   "source": [
    "## Visualizing matches"
   ]
  },
  {
   "cell_type": "code",
   "execution_count": 185,
   "metadata": {},
   "outputs": [
    {
     "data": {
      "text/plain": [
       "([('A', {'name': 'A', 'attr': 5}),\n",
       "  ('B', {'name': 'B*'}),\n",
       "  ('C', {'name': 'C'}),\n",
       "  ('D', {'name': 'D'}),\n",
       "  ('E', {'name': 'E'})],\n",
       " [('A', 'B', {'edge_attr': 10, 'attr2': 20}), ('A', 'C', {}), ('D', 'E', {})])"
      ]
     },
     "execution_count": 185,
     "metadata": {},
     "output_type": "execute_result"
    }
   ],
   "source": [
    "list(G.nodes(data=True)),list(G.edges(data=True))"
   ]
  },
  {
   "cell_type": "code",
   "execution_count": 186,
   "metadata": {},
   "outputs": [
    {
     "data": {
      "text/plain": [
       "({'1': {'name': 'A', 'attr': 5}, '2': {'name': 'B*'}, '3': {'name': 'C'}},\n",
       " [('1', '2'), ('1', '3')])"
      ]
     },
     "execution_count": 186,
     "metadata": {},
     "output_type": "execute_result"
    }
   ],
   "source": [
    "mapping_match.nodes(),mapping_match._edges"
   ]
  },
  {
   "cell_type": "code",
   "execution_count": 187,
   "metadata": {},
   "outputs": [
    {
     "data": {
      "text/plain": [
       "{'1': 'A', '2': 'B', '3': 'C'}"
      ]
     },
     "execution_count": 187,
     "metadata": {},
     "output_type": "execute_result"
    }
   ],
   "source": [
    "mapping_match.mapping"
   ]
  },
  {
   "cell_type": "code",
   "execution_count": 188,
   "metadata": {},
   "outputs": [],
   "source": [
    "#| export\n",
    "# Old, for reference\n",
    "def draw_match(g,m,**kwargs):\n",
    "    g_copy = g.copy()\n",
    "    node_styles={}\n",
    "    edge_styles={}\n",
    "    for name_in_m,name_in_g in m.mapping.items():\n",
    "        g_copy.nodes[name_in_g]['label']=name_in_m\n",
    "        node_styles[name_in_g] = 'stroke:red,stroke-width:4px;'\n",
    "    for u,v in m._edges:\n",
    "        edge_styles[m.mapping[u],m.mapping[v]]='stroke:red,stroke-width:4px;'\n",
    "    for name_in_m, collection in m.collection_mapping.items():\n",
    "        for i, name_in_g in enumerate(collection):\n",
    "            g_copy.nodes[name_in_g]['label']= (name_in_m + \"_\" + str(i))\n",
    "            node_styles[name_in_g] = 'stroke:red,stroke-width:4px;'  \n",
    "\n",
    "    draw(g_copy,node_styles=node_styles,edge_styles=edge_styles,**kwargs)"
   ]
  },
  {
   "cell_type": "code",
   "execution_count": 215,
   "metadata": {},
   "outputs": [
    {
     "data": {
      "text/html": [
       "<img src=\"https://mermaid.ink/img/CmZsb3djaGFydCBUQgpBWyJBKDFfMCkKbmFtZT0jcXVvdDtBI3F1b3Q7LCBhdHRyPTUiXQpzdHlsZSBBIHN0cm9rZTpyZWQsc3Ryb2tlLXdpZHRoOjRweDsKQlsiQigyXzEpCm5hbWU9I3F1b3Q7QiojcXVvdDsiXQpzdHlsZSBCIHN0cm9rZTpyZWQsc3Ryb2tlLXdpZHRoOjRweDsKQ1siQygyXzApCm5hbWU9I3F1b3Q7QyNxdW90OyJdCnN0eWxlIEMgc3Ryb2tlOnJlZCxzdHJva2Utd2lkdGg6NHB4OwpEWyJEKDFfMSkKbmFtZT0jcXVvdDtEI3F1b3Q7Il0Kc3R5bGUgRCBzdHJva2U6cmVkLHN0cm9rZS13aWR0aDo0cHg7CkVbIkUoMl8yKQpuYW1lPSNxdW90O0UjcXVvdDsiXQpzdHlsZSBFIHN0cm9rZTpyZWQsc3Ryb2tlLXdpZHRoOjRweDsKQSAtLT58ImVkZ2VfYXR0cj0xMCwgYXR0cjI9MjAifCBCCkEgLS0+IEMKRCAtLT4gRQo=\"/>"
      ],
      "text/plain": [
       "<IPython.core.display.Image object>"
      ]
     },
     "metadata": {},
     "output_type": "display_data"
    }
   ],
   "source": [
    "draw_match(G,mapping_match)"
   ]
  },
  {
   "cell_type": "code",
   "execution_count": 217,
   "metadata": {},
   "outputs": [
    {
     "name": "stdout",
     "output_type": "stream",
     "text": [
      "Drawing the regular pattern in red:\n"
     ]
    },
    {
     "data": {
      "text/html": [
       "<img src=\"https://mermaid.ink/img/CmZsb3djaGFydCBUQgpBWyJBKDEpCiJdCnN0eWxlIEEgc3Ryb2tlOnJlZCxzdHJva2Utd2lkdGg6NHB4OwpCWyJCKDIpCiJdCnN0eWxlIEIgc3Ryb2tlOnJlZCxzdHJva2Utd2lkdGg6NHB4OwpDWyJDKDMpCiJdCnN0eWxlIEMgc3Ryb2tlOnJlZCxzdHJva2Utd2lkdGg6NHB4OwpEWyJECiJdCkVbIkUKIl0KQSAtLT4gQgpsaW5rU3R5bGUgMCBzdHJva2U6cmVkLHN0cm9rZS13aWR0aDo0cHg7CkEgLS0+IEMKbGlua1N0eWxlIDEgc3Ryb2tlOnJlZCxzdHJva2Utd2lkdGg6NHB4OwpEIC0tPiBFCg==\"/>"
      ],
      "text/plain": [
       "<IPython.core.display.Image object>"
      ]
     },
     "metadata": {},
     "output_type": "display_data"
    },
    {
     "name": "stdout",
     "output_type": "stream",
     "text": [
      "Drawing the collections in blue:\n"
     ]
    },
    {
     "data": {
      "text/html": [
       "<img src=\"https://mermaid.ink/img/CmZsb3djaGFydCBUQgpBWyJBKDEpCiJdCnN0eWxlIEEgc3Ryb2tlOmJsdWUsc3Ryb2tlLXdpZHRoOjRweDsKQlsiQigyKQoiXQpzdHlsZSBCIHN0cm9rZTpibHVlLHN0cm9rZS13aWR0aDo0cHg7CkNbIkMoMikKIl0Kc3R5bGUgQyBzdHJva2U6Ymx1ZSxzdHJva2Utd2lkdGg6NHB4OwpEWyJEKDEpCiJdCnN0eWxlIEQgc3Ryb2tlOmJsdWUsc3Ryb2tlLXdpZHRoOjRweDsKRVsiRSgyKQoiXQpzdHlsZSBFIHN0cm9rZTpibHVlLHN0cm9rZS13aWR0aDo0cHg7CkEgLS0+IEIKbGlua1N0eWxlIDAgc3Ryb2tlOmJsdWUsc3Ryb2tlLXdpZHRoOjRweDsKQSAtLT4gQwpsaW5rU3R5bGUgMSBzdHJva2U6Ymx1ZSxzdHJva2Utd2lkdGg6NHB4OwpEIC0tPiBFCmxpbmtTdHlsZSAyIHN0cm9rZTpibHVlLHN0cm9rZS13aWR0aDo0cHg7Cg==\"/>"
      ],
      "text/plain": [
       "<IPython.core.display.Image object>"
      ]
     },
     "metadata": {},
     "output_type": "display_data"
    }
   ],
   "source": [
    "# Updated version\n",
    "# We want to color the nodes and edges that are part of the match in blue, and specify the name of the pattern node\n",
    "# Also, if more than one pattern node is mapped to the same input node, we want to color them in red, and specify the names of the pattern nodes\n",
    "# and also notify the user (as a warning/notification) \n",
    "# To do that, we need to use a reverse mapping, where the key is the input node and the value is the pattern node\n",
    "# TODO: make sure the semantics support this and that it makes sense mathematically \n",
    "def draw_match_v2(g, m, **kwargs):\n",
    "    g_copy = g.copy()\n",
    "    node_styles = {}\n",
    "    edge_styles = {}\n",
    "    reverse_mapping = {input_node: pattern_node for pattern_node, input_nodes in m.mapping.items() for input_node in input_nodes}\n",
    "    for input_node, pattern_node in reverse_mapping.items():\n",
    "        if len(reverse_mapping[input_node]) > 1:\n",
    "            node_styles[input_node] = 'stroke:red,stroke-width:4px;'\n",
    "            g_copy.nodes[input_node]['label'] = f\"{pattern_node}_{input_node}\"\n",
    "            print(f\"Warning: Node {input_node} is mapped to multiple pattern nodes: {reverse_mapping[input_node]}\")\n",
    "        else:\n",
    "            node_styles[input_node] = 'stroke:blue,stroke-width:4px;'\n",
    "            g_copy.nodes[input_node]['label'] = pattern_node\n",
    "    for u, v in m._edges:\n",
    "        edge_styles[m.mapping[u], m.mapping[v]] = 'stroke:blue,stroke-width:4px;'\n",
    "    draw(g_copy, node_styles=node_styles, edge_styles=edge_styles, **kwargs)"
   ]
  },
  {
   "cell_type": "markdown",
   "metadata": {},
   "source": [
    "# Export"
   ]
  },
  {
   "cell_type": "code",
   "execution_count": 218,
   "metadata": {},
   "outputs": [
    {
     "ename": "",
     "evalue": "",
     "output_type": "error",
     "traceback": [
      "\u001b[1;31mThe Kernel crashed while executing code in the current cell or a previous cell. \n",
      "\u001b[1;31mPlease review the code in the cell(s) to identify a possible cause of the failure. \n",
      "\u001b[1;31mClick <a href='https://aka.ms/vscodeJupyterKernelCrash'>here</a> for more info. \n",
      "\u001b[1;31mView Jupyter <a href='command:jupyter.viewOutput'>log</a> for further details."
     ]
    }
   ],
   "source": [
    "#|hide\n",
    "import nbdev; nbdev.nbdev_export()"
   ]
  }
 ],
 "metadata": {
  "kernelspec": {
   "display_name": "python3",
   "language": "python",
   "name": "python3"
  },
  "language_info": {
   "codemirror_mode": {
    "name": "ipython",
    "version": 3
   },
   "file_extension": ".py",
   "mimetype": "text/x-python",
   "name": "python",
   "nbconvert_exporter": "python",
   "pygments_lexer": "ipython3",
   "version": "3.10.12"
  }
 },
 "nbformat": 4,
 "nbformat_minor": 2
}
