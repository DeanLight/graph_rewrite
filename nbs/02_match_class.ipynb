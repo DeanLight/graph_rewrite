{
 "cells": [
  {
   "attachments": {},
   "cell_type": "markdown",
   "metadata": {},
   "source": [
    "# Match Class"
   ]
  },
  {
   "cell_type": "code",
   "execution_count": null,
   "metadata": {},
   "outputs": [],
   "source": [
    "#| default_exp match_class\n",
    "%load_ext autoreload\n",
    "%autoreload 2"
   ]
  },
  {
   "attachments": {},
   "cell_type": "markdown",
   "metadata": {},
   "source": [
    "### Overview\n",
    "The following module defines the **Match class**, that will be used by the Matcher module later. This class provides a subview to the graph which we attempt to transform, and is created based on some match from the LHS pattern to a subgraph of the input graph (Further explanations on the meaning of matches are included in the next module).\n",
    "\n",
    "This subview is set such that read-write operations can be done on nodes and edges imperatively, based on their symbolic name (the node/edge they match in the pattern) rather than their actual name in the input graph. That is, we can access nodes and edges in the input graph which were matched to the pattern (and only them), by using their corresponding names in the pattern. \n",
    "\n",
    "For each match found, the user of the library will recieve its correpsonding Match object, which can be used for imperative side effects."
   ]
  },
  {
   "attachments": {},
   "cell_type": "markdown",
   "metadata": {},
   "source": [
    "### Requirements"
   ]
  },
  {
   "cell_type": "code",
   "execution_count": null,
   "metadata": {},
   "outputs": [],
   "source": [
    "#| export\n",
    "import networkx as nx\n",
    "from networkx import DiGraph\n",
    "from typing import *\n",
    "from graph_rewrite.core import _create_graph, _plot_graph, GraphRewriteException, NodeName, EdgeName"
   ]
  },
  {
   "attachments": {},
   "cell_type": "markdown",
   "metadata": {},
   "source": [
    "### Example\n",
    "Assume that we have an input graph $G$:"
   ]
  },
  {
   "cell_type": "code",
   "execution_count": null,
   "metadata": {},
   "outputs": [
    {
     "data": {
      "image/png": "[encoded data removed]",
      "text/plain": [
       "<Figure size 640x480 with 1 Axes>"
      ]
     },
     "metadata": {},
     "output_type": "display_data"
    }
   ],
   "source": [
    "_plot_graph(_create_graph(['A','B','C'], [('A','B'), ('A','C')]))"
   ]
  },
  {
   "attachments": {},
   "cell_type": "markdown",
   "metadata": {},
   "source": [
    "And a pattern which looks exactly the same, with different (symbolic) names:"
   ]
  },
  {
   "cell_type": "code",
   "execution_count": null,
   "metadata": {},
   "outputs": [
    {
     "data": {
      "image/png": "[encoded data removed]",
      "text/plain": [
       "<Figure size 640x480 with 1 Axes>"
      ]
     },
     "metadata": {},
     "output_type": "display_data"
    }
   ],
   "source": [
    "_plot_graph(_create_graph(['1','2','3'], [('1','2'), ('1','3')]))"
   ]
  },
  {
   "attachments": {},
   "cell_type": "markdown",
   "metadata": {},
   "source": [
    "Intuitively, we can see that the pattern can be found in the input graph $G$, such that the pattern node $1$ corresponds to the graph node $A$, and the same goes for $2$ and $B$, $3$ and $C$. That mapping defines a match of the pattern in graph $G$ (We will dive into the definition of a match in the next module).\n",
    "\n",
    "The corresponding Match object will allows us, for example, changing an attribute of node $A$ in the input graph, by accessing the symbolic name $1$ (which matches to $A$) and setting it to some dictionary of attributes. Note that the user will be able to access this class only after the transformation is done - therefore, if the transformation removed $A$ from the graph, the user won't be able to access the symbolic name $1$ anymore."
   ]
  },
  {
   "attachments": {},
   "cell_type": "markdown",
   "metadata": {},
   "source": [
    "### Utils\n",
    "Edge $(u,v)$ is represented in a Match with the name \"u->v\"."
   ]
  },
  {
   "cell_type": "code",
   "execution_count": null,
   "metadata": {},
   "outputs": [],
   "source": [
    "#| export\n",
    "def convert_to_edge_name(src: NodeName, dest: NodeName) -> str:\n",
    "    \"\"\"Given a pair of node names, source and destination, return the name of the edge\n",
    "    connecting the two in the format {src}->{dest}, which is the same format the parser\n",
    "    uses to create edges in the pattern graph.\n",
    "\n",
    "    Args:\n",
    "        src (NodeName): A node name\n",
    "        dest (NodeName): A node name\n",
    "\n",
    "    Returns:\n",
    "        str: A representative name for the edge (src, dest).\n",
    "    \"\"\"\n",
    "    return f\"{src}->{dest}\""
   ]
  },
  {
   "attachments": {},
   "cell_type": "markdown",
   "metadata": {},
   "source": [
    "A node is **anonymous** if its name begins with '_'. This notion allows us to define patters with anonymous nodes, whose existence we want to enforce, but which we do not use in the RHS part of the pattern and thus, can ignore them by not assigning any symbolic name to them."
   ]
  },
  {
   "cell_type": "code",
   "execution_count": null,
   "metadata": {},
   "outputs": [],
   "source": [
    "#| export\n",
    "def is_anonymous_node(node_name: NodeName) -> bool:\n",
    "    \"\"\"Given a name of a node in the pattern graph, return true if it begins with '$',\n",
    "    which is the notion the parser uses to denote anonymous nodes.\n",
    "\n",
    "    Args:\n",
    "        node_name (NodeName): A node name in the pattern\n",
    "\n",
    "    Returns:\n",
    "        bool: Returns True if the node is anonymous, False otherwise.\n",
    "    \"\"\"\n",
    "    return len(node_name) >= 1 and node_name[0] == '_'"
   ]
  },
  {
   "attachments": {},
   "cell_type": "markdown",
   "metadata": {},
   "source": [
    "### The Match Class"
   ]
  },
  {
   "attachments": {},
   "cell_type": "markdown",
   "metadata": {},
   "source": [
    "A **Match** is a subview of the original graph, limited to the nodes, edges and attributes specified in the pattern. It includes the original graph, dictionaries which map nodes/edges to their corresponding attributes in the pattern, and the mapping from pattern nodes to real ones."
   ]
  },
  {
   "cell_type": "code",
   "execution_count": null,
   "metadata": {},
   "outputs": [],
   "source": [
    "#| export\n",
    "class Match:\n",
    "    \"\"\"Represents a single match of a pattern inside an input graph.\n",
    "     Provides a subview to a graph, limited to the nodes, edges and attributes specified in the pattern.\n",
    "    \"\"\"\n",
    "    def __init__(self, graph: DiGraph, nodes: List[NodeName], edges: List[EdgeName], mapping: Dict[NodeName, NodeName]):\n",
    "        self.graph: DiGraph = graph\n",
    "        self.__nodes: List[NodeName] = nodes\n",
    "        self.__edges: List[EdgeName] = edges\n",
    "        self.mapping: Dict[NodeName, NodeName] = mapping\n",
    "\n",
    "    def __get_node(self, pattern_node):\n",
    "        if pattern_node not in self.__nodes:\n",
    "            raise GraphRewriteException(f\"Node {pattern_node} does not exist in the pattern\")\n",
    "        return self.graph.nodes[self.mapping[pattern_node]]\n",
    "\n",
    "    def __get_edge(self, pattern_src, pattern_dst):\n",
    "        if (pattern_src, pattern_dst) not in self.__edges:\n",
    "            raise GraphRewriteException(f\"Edge {(pattern_src, pattern_dst)} does not exist in the pattern\")\n",
    "        return self.graph.edges[self.mapping[pattern_src], self.mapping[pattern_dst]]\n",
    "\n",
    "    def nodes(self):\n",
    "        return {pattern_node: self.__get_node(pattern_node) for pattern_node in self.__nodes}\n",
    "\n",
    "    def edges(self):\n",
    "        return {convert_to_edge_name(pattern_src, pattern_dest): self.__get_edge(pattern_src, pattern_dest) for (pattern_src, pattern_dest) in self.__edges}\n",
    "\n",
    "    def __eq__(self, other):\n",
    "        if type(other) is Match and len(other.mapping.items()) == len(self.mapping.items()):\n",
    "            return all([other.mapping.get(k) == v for k,v in self.mapping.items()])\n",
    "        return False\n",
    "\n",
    "    def __getitem__(self, key: Union[NodeName, str]):\n",
    "        \"\"\"Returns the node / edge of the input graph, which was mapped by the key in the pattern during matching.\n",
    "\n",
    "        Args:\n",
    "            key (Union[NodeName, str]): A symbolic name used by the pattern (for a node / edge)\n",
    "\n",
    "        Raises:\n",
    "            GraphRewriteException: If the key doesn't exist in the pattern, or is mapped to a node / edge\n",
    "            which does not exist anymore (due to removal by the transformation, for example).\n",
    "\n",
    "        Returns:\n",
    "            The corresponding node / edge of the input graph\n",
    "        \"\"\"\n",
    "        try:\n",
    "            if str(key).__contains__(\"->\") and len(str(key).split(\"->\")) == 2:\n",
    "                end_nodes = str(key).split(\"->\")\n",
    "                return self.__get_edge(end_nodes[0], end_nodes[1])\n",
    "            else:\n",
    "                return self.__get_node(key)\n",
    "        except:\n",
    "            raise GraphRewriteException(f\"The symbol {key} does not exist in the pattern, or it was removed from the graph\")\n",
    "        \n",
    "    def __str__(self):\n",
    "        return self.mapping.__str__()"
   ]
  },
  {
   "attachments": {},
   "cell_type": "markdown",
   "metadata": {},
   "source": [
    "### Create a Match\n",
    "This function will be used in the Matcher module, in order to convert a mapping from the pattern graph to the input graph into a corresponding instance of the Match class."
   ]
  },
  {
   "cell_type": "code",
   "execution_count": null,
   "metadata": {},
   "outputs": [],
   "source": [
    "#| export\n",
    "def mapping_to_match(input: DiGraph, pattern: DiGraph, mapping: Dict[NodeName, NodeName], filter: bool=True) -> Match:\n",
    "    \"\"\"Given a mapping, which denotes a match of the pattern in the input graph,\n",
    "    create a corresponding instance of the Match class.\n",
    "\n",
    "    Args:\n",
    "        input (DiGraph): An input graph\n",
    "        pattern (DiGraph): A pattern graph\n",
    "        mapping (Dict[NodeName, NodeName]): A mapping from nodes in the pattern graph to nodes in the input graph, \n",
    "        that denotes a single match between the two.\n",
    "        filter (bool, optional): If True, filter anonymous nodes and edges. Defaults to True.\n",
    "\n",
    "    Returns:\n",
    "        Match: A corresponding instance of the Match class\n",
    "    \"\"\"\n",
    "    nodes_list, edges_list = [], []\n",
    "    cleared_mapping = mapping.copy()\n",
    "\n",
    "    for pattern_node in mapping.keys():\n",
    "        if filter and is_anonymous_node(pattern_node):\n",
    "            cleared_mapping.pop(pattern_node)\n",
    "            continue # as we don't want to include this node in the Match\n",
    "        nodes_list.append(pattern_node)\n",
    "\n",
    "    for (n1, n2) in pattern.edges:\n",
    "        if filter and (is_anonymous_node(n1) or is_anonymous_node(n2)):\n",
    "            continue # as before\n",
    "        edges_list.append((n1, n2))\n",
    "\n",
    "    return Match(input, nodes_list, edges_list, cleared_mapping)"
   ]
  },
  {
   "attachments": {},
   "cell_type": "markdown",
   "metadata": {},
   "source": [
    "### Tests\n",
    "We take the example graph and pattern described above, add a few attributes to the nodes and edges, and create a Match instance based on the single mapping:"
   ]
  },
  {
   "cell_type": "code",
   "execution_count": null,
   "metadata": {},
   "outputs": [],
   "source": [
    "G = _create_graph(\n",
    "    [('A', {'name': 'A'}),('B', {'name': 'B'}),('C', {'name': 'C'})],\n",
    "    [('A','B', {'edge_attr': 10}), ('A','C')])\n",
    "pattern = _create_graph(['1','2','3'], [('1','2'), ('1','3')])\n",
    "# It has a single match, which is defined by the following mapping:\n",
    "mapping = {'1': 'A', '2': 'B', '3': 'C'}\n",
    "mapping_match = mapping_to_match(G, pattern, mapping)"
   ]
  },
  {
   "attachments": {},
   "cell_type": "markdown",
   "metadata": {},
   "source": [
    "In graph $G$, each node has a single attribute - \"name\" - whose value is the node's name. Therefore, node $A$ has the attribute \"name\" with the value \"A\". We can access its attributes using the Match, by accessing the name of the corresponding matched node $1$:"
   ]
  },
  {
   "cell_type": "code",
   "execution_count": null,
   "metadata": {},
   "outputs": [
    {
     "data": {
      "text/plain": [
       "{'name': 'A'}"
      ]
     },
     "execution_count": null,
     "metadata": {},
     "output_type": "execute_result"
    }
   ],
   "source": [
    "assert mapping_match['1'] == {'name': 'A'}\n",
    "assert mapping_match['1']['name'] == 'A'\n",
    "mapping_match['1']"
   ]
  },
  {
   "attachments": {},
   "cell_type": "markdown",
   "metadata": {},
   "source": [
    "This indicates that as expected, pattern node $1$ is matched in this Match instance to the input graph node $A$, as that node is the only one in the graph whose \"name\" attribute is equal to \"A\"."
   ]
  },
  {
   "attachments": {},
   "cell_type": "markdown",
   "metadata": {},
   "source": [
    "We can access the edges similarly, by using the format {src}->{dst} for edge $(src, dst)$:"
   ]
  },
  {
   "cell_type": "code",
   "execution_count": null,
   "metadata": {},
   "outputs": [
    {
     "data": {
      "text/plain": [
       "{'edge_attr': 10}"
      ]
     },
     "execution_count": null,
     "metadata": {},
     "output_type": "execute_result"
    }
   ],
   "source": [
    "assert mapping_match['1->2'] == {'edge_attr': 10}\n",
    "mapping_match['1->2'] # accesses the attributes of the corresponding edge A->B in G"
   ]
  },
  {
   "attachments": {},
   "cell_type": "markdown",
   "metadata": {},
   "source": [
    "Say we want to add an attribute to $A$, we can change it in the same way using the Match:"
   ]
  },
  {
   "cell_type": "code",
   "execution_count": null,
   "metadata": {},
   "outputs": [
    {
     "data": {
      "text/plain": [
       "{'name': 'A', 'attr': 5}"
      ]
     },
     "execution_count": null,
     "metadata": {},
     "output_type": "execute_result"
    }
   ],
   "source": [
    "mapping_match['1']['attr'] = 5\n",
    "assert mapping_match['1'] == {'name': 'A', 'attr': 5}\n",
    "mapping_match['1']"
   ]
  },
  {
   "attachments": {},
   "cell_type": "markdown",
   "metadata": {},
   "source": [
    "And then see that the attributes of $A$ in the original graph $G$ have changed, as the Match is a subview of that graph, and so changes in the subview are reflected in $G$:"
   ]
  },
  {
   "cell_type": "code",
   "execution_count": null,
   "metadata": {},
   "outputs": [
    {
     "data": {
      "text/plain": [
       "{'name': 'A', 'attr': 5}"
      ]
     },
     "execution_count": null,
     "metadata": {},
     "output_type": "execute_result"
    }
   ],
   "source": [
    "assert G.nodes(data=True)['A'] == {'name': 'A', 'attr': 5}\n",
    "G.nodes(data=True)['A']"
   ]
  },
  {
   "attachments": {},
   "cell_type": "markdown",
   "metadata": {},
   "source": [
    "We can also modify existing attributes in the same way using the Match, and see those changes reflected in $G$"
   ]
  },
  {
   "cell_type": "code",
   "execution_count": null,
   "metadata": {},
   "outputs": [
    {
     "data": {
      "text/plain": [
       "{'name': 'B*'}"
      ]
     },
     "execution_count": null,
     "metadata": {},
     "output_type": "execute_result"
    }
   ],
   "source": [
    "mapping_match['2']['name'] = 'B*'\n",
    "assert mapping_match['2']['name'] == 'B*'\n",
    "assert G.nodes(data=True)['B']['name'] == 'B*'\n",
    "G.nodes(data=True)['B']"
   ]
  },
  {
   "attachments": {},
   "cell_type": "markdown",
   "metadata": {},
   "source": [
    "This also works in the reverse direction: changes in $G$ are reflected in the subview. Say that we set an attribute for edge $(A,B)$ in $G$, then that change would be reflected by accessing the edge '1->2' in the Match object that refers graph $G$:"
   ]
  },
  {
   "cell_type": "code",
   "execution_count": null,
   "metadata": {},
   "outputs": [
    {
     "data": {
      "text/plain": [
       "{'edge_attr': 10, 'attr2': 20}"
      ]
     },
     "execution_count": null,
     "metadata": {},
     "output_type": "execute_result"
    }
   ],
   "source": [
    "G.edges()[('A','B')]['attr2'] = 20\n",
    "assert mapping_match['1->2']['attr2'] == 20\n",
    "mapping_match['1->2']"
   ]
  }
 ],
 "metadata": {
  "kernelspec": {
   "display_name": "python3",
   "language": "python",
   "name": "python3"
  }
 },
 "nbformat": 4,
 "nbformat_minor": 2
}
