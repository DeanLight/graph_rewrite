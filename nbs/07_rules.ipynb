{
 "cells": [
  {
   "attachments": {},
   "cell_type": "markdown",
   "metadata": {},
   "source": [
    "# Rules"
   ]
  },
  {
   "cell_type": "code",
   "execution_count": null,
   "metadata": {},
   "outputs": [],
   "source": [
    "#| default_exp rules\n",
    "%load_ext autoreload\n",
    "%autoreload 2"
   ]
  },
  {
   "attachments": {},
   "cell_type": "markdown",
   "metadata": {},
   "source": [
    "### Overview\n",
    "..."
   ]
  },
  {
   "attachments": {},
   "cell_type": "markdown",
   "metadata": {},
   "source": [
    "### Requirements"
   ]
  },
  {
   "cell_type": "code",
   "execution_count": null,
   "metadata": {},
   "outputs": [
    {
     "ename": "ImportError",
     "evalue": "cannot import name 'GraphRewriteException' from 'graph_rewrite.core' (/home/jovyan/graph_rewrite/graph_rewrite/core.py)",
     "output_type": "error",
     "traceback": [
      "\u001b[0;31m---------------------------------------------------------------------------\u001b[0m",
      "\u001b[0;31mImportError\u001b[0m                               Traceback (most recent call last)",
      "Cell \u001b[0;32mIn[6], line 5\u001b[0m\n\u001b[1;32m      3\u001b[0m \u001b[39mfrom\u001b[39;00m \u001b[39mgraph_rewrite\u001b[39;00m\u001b[39m.\u001b[39;00m\u001b[39mresult_set\u001b[39;00m \u001b[39mimport\u001b[39;00m \u001b[39m*\u001b[39m\n\u001b[1;32m      4\u001b[0m \u001b[39mfrom\u001b[39;00m \u001b[39mtyping\u001b[39;00m \u001b[39mimport\u001b[39;00m \u001b[39m*\u001b[39m\n\u001b[0;32m----> 5\u001b[0m \u001b[39mfrom\u001b[39;00m \u001b[39mgraph_rewrite\u001b[39;00m\u001b[39m.\u001b[39;00m\u001b[39mcore\u001b[39;00m \u001b[39mimport\u001b[39;00m GraphRewriteException\n",
      "\u001b[0;31mImportError\u001b[0m: cannot import name 'GraphRewriteException' from 'graph_rewrite.core' (/home/jovyan/graph_rewrite/graph_rewrite/core.py)"
     ]
    }
   ],
   "source": [
    "#| export\n",
    "from networkx import DiGraph\n",
    "from graph_rewrite.result_set import *\n",
    "from typing import *\n",
    "from graph_rewrite.core import GraphRewriteException"
   ]
  },
  {
   "attachments": {},
   "cell_type": "markdown",
   "metadata": {},
   "source": [
    "### Rules Definition"
   ]
  },
  {
   "attachments": {},
   "cell_type": "markdown",
   "metadata": {},
   "source": [
    "#### Components\n",
    "A **rule** is defined by 3 DiGraphs and 2 dictionaries:\n",
    "\n",
    "1. LHS - defines the pattern to match.\n",
    "\n",
    "2. P _(optional)_ - Preserved interface (including clones). When not passed, defaults to a LHS copy.\n",
    "\n",
    "3. RHS _(optional)_ - Final interface (including merges). When not passed, defaults to a P copy.\n",
    "\n",
    "4. P $\\rightarrow$ LHS Homomorphism - Defines which parts from LHS should be preserved. Default to the identity homomorphism. Allows the following:\n",
    "    - *Clone Nodes* - If some node in LHS is mapped by two (or more) node in P, then that node is cloned. That is: a new node is added to the input graph with the a new name, its attributes are the copied from the original, it's connected (both ways) to the same nodes as the original, and the attributes of the edges are copied from the original edges as well.\n",
    "    - *Remove Nodes* - If a node in LHS is not mapped by any node in P, then it is removed (the connected edges still remain).\n",
    "    - *Preserve Nodes* - If a node in LHS is mapped by one node in P, then it is preserved.    \n",
    "    - *Remove Edges* - If an LHS edge does not appear in P (or one of its endpoints does not appear in P), then it is removed.\n",
    "    - *Remove Node Attributes* - If an LHS node is preserved in P, and it has attributes in LHS that do not appear in P, then these attributes are removed.\n",
    "    - *Remove Edge Attributes* - If an LHS edge is preserved in P, and it has attributes in LHS that do not appear in P, then these attributes are removed.\n",
    "     \n",
    "5. P $\\rightarrow$ RHS Homomorphism - Defines which parts in RHS should be added to P. Default to the identity homomorphism. Allows the following:\n",
    "    - *Merge Nodes* - If two (or more) nodes in P are mapped to the same node in RHS, then these nodes are merged into that node in RHS. That is: The nodes in the input graph that are represented by the merged P nodes are removed from the input graph, a new node is added to the input graph with the connected edges of both merged notes (look out for self loops) and their merged attributes.\n",
    "    - *Add Nodes* - If a node in RHS is not mapped by any node in P, then it is added.\n",
    "    - *Preservation* - If a node in P is mapped by one node in RHS, then it is preserved.    \n"
   ]
  },
  {
   "attachments": {},
   "cell_type": "markdown",
   "metadata": {},
   "source": [
    "### Rule Class\n",
    "A rule, in the context of this module, is defined by three DiGraphs for the LHS, RHS and P components of the transformation.\n",
    "We follow the conventions of previous libraries in defining the following two maps:\n",
    "\n",
    "1. **A map from P to LHS**, which defines the nodes, edges and attributes existing in LHS which will (or will not) be preserved in the transformation. That is, a node/edge/attribute in LHS will be preserved if there's an equivalent object mapped to it in P. This notion does not only allow *preserving and deleting objects*, but also allows *cloning* (e.g., two nodes in P mapped to the same node in LHS define a cloning of that LHS node).\n",
    "\n",
    "2. **A map from P to RHS**, which defines the nodes, edges and attributes that will be *added* to P in the transformation. That is, a node in RHS that is not mapped by any node in P is added to P. This notion also allows *merging* (e.g., two nodes in P mapped to the same node in RHS define a merge of the two P nodes).\n",
    "\n",
    "The Rule class contains utility functions for extracting the different groups of nodes, edges and attribute that are about to be preserved / changed during the transformation. This class will be later used during the rewriting."
   ]
  },
  {
   "cell_type": "code",
   "execution_count": null,
   "metadata": {},
   "outputs": [],
   "source": [
    "#| export\n",
    "class Rule:\n",
    "    def __init__(self, lhs: DiGraph, rhs: DiGraph = DiGraph(), p: DiGraph = DiGraph()):\n",
    "        self.lhs = lhs\n",
    "        self.rhs = rhs\n",
    "        self.p = p\n",
    "        \n",
    "\n",
    "        self.p_to_lhs, self.p_to_rhs = {}, {}\n",
    "        self.merge_sym, self.clone_sym = '&', '*'\n",
    "        self._create_hom()\n",
    "\n",
    "\n",
    "\n",
    "    def _create_hom(self):\n",
    "        \"\"\"\n",
    "        Create a homomorphism from g1 to g2 as identity functions.\n",
    "        That is, preserve everything / don't clone / don't merge.\n",
    "        \"\"\"\n",
    "        # p->lhs - check for clones\n",
    "        # for p_node in self.p.nodes():\n",
    "        #     node_split = p_node.split(self.clone_sym)\n",
    "\n",
    "        #     # Check if the p-node is a clone of a lhs-node\n",
    "        #     if len(node_split) == 2:\n",
    "        #         cloned_lhs_node = node_split[0]\n",
    "        #         if cloned_lhs_node in self.lhs.nodes():\n",
    "        #             self.p_to_lhs[p_node] = cloned_lhs_node\n",
    "        #         else:\n",
    "        #             raise GraphRewriteException(\n",
    "        #                 f\"In P, node \\\"{p_node}\\\" suggests a clone of a non-existing LHS node \\\"{cloned_lhs_node}\\\"\"\n",
    "        #             )\n",
    "\n",
    "        #     # \n",
    "        #     elif p_node in self.lhs.nodes():\n",
    "                \n",
    "        \n",
    "\n",
    "        # hom = {}\n",
    "        # for node in g1.nodes():\n",
    "        #     if node in g2.nodes():\n",
    "        #         hom[node] = node # identity\n",
    "        # return hom\n",
    "\n",
    "    def nodes_to_add(self):\n",
    "        pass\n",
    "\n",
    "    def edges_to_add(self):\n",
    "        pass\n",
    "\n",
    "    def nodes_to_remove(self):\n",
    "        pass\n",
    "\n",
    "    def edges_to_remove(self):\n",
    "        pass\n",
    "\n",
    "    def nodes_to_clone(self):\n",
    "        pass\n",
    "\n",
    "    def nodes_to_merge(self):\n",
    "        pass"
   ]
  },
  {
   "attachments": {},
   "cell_type": "markdown",
   "metadata": {},
   "source": [
    "### Tests"
   ]
  },
  {
   "attachments": {},
   "cell_type": "markdown",
   "metadata": {},
   "source": [
    "#### Test Utils"
   ]
  },
  {
   "cell_type": "code",
   "execution_count": null,
   "metadata": {},
   "outputs": [],
   "source": []
  },
  {
   "attachments": {},
   "cell_type": "markdown",
   "metadata": {},
   "source": [
    "#### Test Cases"
   ]
  },
  {
   "cell_type": "code",
   "execution_count": null,
   "metadata": {},
   "outputs": [],
   "source": []
  }
 ],
 "metadata": {
  "kernelspec": {
   "display_name": "python3",
   "language": "python",
   "name": "python3"
  }
 },
 "nbformat": 4,
 "nbformat_minor": 4
}
