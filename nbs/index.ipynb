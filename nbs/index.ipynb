{
 "cells": [
  {
   "attachments": {},
   "cell_type": "markdown",
   "metadata": {},
   "source": [
    "# README\n",
    "\n",
    "## installation and development\n",
    "\n",
    "```bash\n",
    "#Install package given a conda environment with python>3.9\n",
    "git clone https://github.com/DeanLight/graph_rewrite\n",
    "cd graph_rewrite\n",
    "pip install -e .\n",
    "\n",
    "```\n",
    "\n",
    "For docker development/usage\n",
    "```bash\n",
    "cd graph_rewrite\n",
    "# build container\n",
    "docker-compose build\n",
    "\n",
    "# spin up the container\n",
    "docker-compose up\n",
    "\n",
    "# get a bash terminal on a spun up container\n",
    "docker-compose exec main bash\n",
    "\n",
    "# spin up and get a bash terminal (closing it will close the container)\n",
    "docker-compose run main bash\n",
    "\n",
    "```"
   ]
  },
  {
   "attachments": {},
   "cell_type": "markdown",
   "metadata": {},
   "source": []
  }
 ],
 "metadata": {},
 "nbformat": 4,
 "nbformat_minor": 2
}
