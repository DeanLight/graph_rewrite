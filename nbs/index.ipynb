{
 "cells": [
  {
   "attachments": {},
   "cell_type": "markdown",
   "metadata": {},
   "source": [
    "# README"
   ]
  },
  {
   "attachments": {},
   "cell_type": "markdown",
   "metadata": {},
   "source": [
    "```bash\n",
    "#Install package given a conda environment with python>3.9\n",
    "git clone https://github.com/DeanLight/graph_rewrite\n",
    "cd graph_rewrite\n",
    "pip install -e .\n",
    "\n",
    "```\n",
    "\n",
    "For docker development/usage\n",
    "```bash\n",
    "cd graph_rewrite\n",
    "# build container\n",
    "docker-compose build\n",
    "\n",
    "# spin up the container\n",
    "docker-compose up\n",
    "\n",
    "```"
   ]
  }
 ],
 "metadata": {},
 "nbformat": 4,
 "nbformat_minor": 2
}
